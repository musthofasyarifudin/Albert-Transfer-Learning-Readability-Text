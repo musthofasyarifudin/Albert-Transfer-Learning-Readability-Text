{
 "cells": [
  {
   "cell_type": "code",
   "execution_count": 23,
   "id": "29b46fcf",
   "metadata": {
    "ExecuteTime": {
     "end_time": "2021-06-23T04:57:42.865847Z",
     "start_time": "2021-06-23T04:57:41.067540Z"
    }
   },
   "outputs": [],
   "source": [
    "import tensorflow as tf \n",
    "import tensorflow_hub as hub\n",
    "import tensorflow_text\n",
    "\n",
    "import pandas as pd\n",
    "import numpy as np\n",
    "\n",
    "import nltk\n",
    "from nltk.corpus import stopwords\n",
    "from nltk.tokenize import word_tokenize \n",
    "import re\n",
    "import string\n",
    "\n",
    "from sklearn.model_selection import KFold\n",
    "from sklearn.model_selection import train_test_split\n",
    "from sklearn.metrics import r2_score, mean_squared_error\n",
    "\n",
    "from official.nlp import optimization\n",
    "\n",
    "import matplotlib.pyplot as plt"
   ]
  },
  {
   "cell_type": "code",
   "execution_count": 2,
   "id": "fb09c83e",
   "metadata": {
    "ExecuteTime": {
     "end_time": "2021-06-23T03:47:31.505359Z",
     "start_time": "2021-06-23T03:47:30.990574Z"
    }
   },
   "outputs": [],
   "source": [
    "path =  \"E:/LOMBA/Kaggle/Comp/Coommon readilbility/\"\n",
    "train = pd.read_csv(path + 'train.csv')\n",
    "test = pd.read_csv(path + 'test.csv')\n",
    "sample_submission = pd.read_csv(path + 'sample_submission.csv')\n",
    "\n",
    "STOPWORDS = set(stopwords.words(\"english\"))\n",
    "def text_cleaning(text):\n",
    "    text_clean = \" \".join([word for word in word_tokenize(text) if not word in STOPWORDS])\n",
    "    text = re.sub(\"\\s+\",\" \", text_clean) # remove extra spaces\n",
    "    text = ''.join([k for k in text if k not in string.punctuation]) # remove punctuation\n",
    "    text = re.sub('[^A-Za-z0-9]+', ' ', str(text)).strip() # remove unnecessary literals and Perform Case Normalization\n",
    "    text = ''.join([i for i in text if not i.isdigit()])\n",
    "    return text\n",
    "\n",
    "target = train.target.to_numpy()\n",
    "text = train.excerpt.to_numpy()\n"
   ]
  },
  {
   "cell_type": "code",
   "execution_count": 3,
   "id": "365cba76",
   "metadata": {
    "ExecuteTime": {
     "end_time": "2021-06-23T03:47:35.529527Z",
     "start_time": "2021-06-23T03:47:31.507367Z"
    }
   },
   "outputs": [],
   "source": [
    "txt_clean = []\n",
    "for word in text:\n",
    "  txt_clean.append(text_cleaning(word))"
   ]
  },
  {
   "cell_type": "code",
   "execution_count": 4,
   "id": "7486709e",
   "metadata": {
    "ExecuteTime": {
     "end_time": "2021-06-23T03:47:35.575564Z",
     "start_time": "2021-06-23T03:47:35.531426Z"
    }
   },
   "outputs": [
    {
     "data": {
      "text/plain": [
       "(2267,)"
      ]
     },
     "execution_count": 4,
     "metadata": {},
     "output_type": "execute_result"
    }
   ],
   "source": [
    "train_x, test_x, train_y, test_y = train_test_split(txt_clean, target, test_size=0.2, shuffle=True, random_state=42)\n",
    "np.array(train_x).shape"
   ]
  },
  {
   "cell_type": "code",
   "execution_count": 5,
   "id": "107af32d",
   "metadata": {
    "ExecuteTime": {
     "end_time": "2021-06-23T03:47:51.695838Z",
     "start_time": "2021-06-23T03:47:35.577561Z"
    }
   },
   "outputs": [],
   "source": [
    "text_input = tf.keras.layers.Input(shape=(), dtype=tf.string)\n",
    "preprocessor = hub.KerasLayer(\n",
    "    \"http://tfhub.dev/tensorflow/albert_en_preprocess/3\")\n",
    "encoder_inputs = preprocessor(text_input)\n",
    "encoder = hub.KerasLayer(\n",
    "    \"https://tfhub.dev/tensorflow/albert_en_large/3\",\n",
    "    trainable=True)\n",
    "outputs = encoder(encoder_inputs)\n",
    "pooled_output = outputs[\"pooled_output\"]      # [batch_size, 1024].\n",
    "sequence_output = outputs[\"sequence_output\"]"
   ]
  },
  {
   "cell_type": "code",
   "execution_count": 9,
   "id": "3fddd6d3",
   "metadata": {
    "ExecuteTime": {
     "end_time": "2021-06-23T03:48:44.967454Z",
     "start_time": "2021-06-23T03:48:38.501921Z"
    }
   },
   "outputs": [],
   "source": [
    "text_input = tf.keras.layers.Input(shape=(), dtype=tf.string)\n",
    "preprocessor = hub.KerasLayer(\n",
    "    \"http://tfhub.dev/tensorflow/albert_en_preprocess/3\")\n",
    "encoder_inputs = preprocessor(text_input)\n",
    "encoder = hub.KerasLayer(\n",
    "    \"https://tfhub.dev/tensorflow/albert_en_base/3\",\n",
    "    trainable=True)\n",
    "outputs = encoder(encoder_inputs)\n",
    "pooled_output = outputs[\"pooled_output\"]      # [batch_size, 768].\n",
    "sequence_output = outputs[\"sequence_output\"]"
   ]
  },
  {
   "cell_type": "code",
   "execution_count": 10,
   "id": "d0406dde",
   "metadata": {
    "ExecuteTime": {
     "end_time": "2021-06-23T03:48:46.935626Z",
     "start_time": "2021-06-23T03:48:46.928618Z"
    }
   },
   "outputs": [],
   "source": [
    "def albert_large_model():\n",
    "    text_input = tf.keras.layers.Input(shape=(), dtype=tf.string)\n",
    "    encoder_inputs = preprocessor(text_input)\n",
    "    outputs = encoder(encoder_inputs)\n",
    "    pooled_output = outputs[\"pooled_output\"]    \n",
    "    net = tf.keras.layers.Dropout(0.1)(pooled_output)\n",
    "    net = tf.keras.layers.Dense(10, activation=\"relu\")(net)\n",
    "    net = tf.keras.layers.Dense(1, name='regressor')(net)\n",
    "    model = tf.keras.models.Model(inputs=text_input, outputs=net, name=\"large_albert\")\n",
    "    return model"
   ]
  },
  {
   "cell_type": "code",
   "execution_count": 11,
   "id": "f3279c61",
   "metadata": {
    "ExecuteTime": {
     "end_time": "2021-06-23T03:48:47.357045Z",
     "start_time": "2021-06-23T03:48:47.243922Z"
    }
   },
   "outputs": [
    {
     "name": "stdout",
     "output_type": "stream",
     "text": [
      "Model: \"large_albert\"\n",
      "__________________________________________________________________________________________________\n",
      "Layer (type)                    Output Shape         Param #     Connected to                     \n",
      "==================================================================================================\n",
      "input_4 (InputLayer)            [(None,)]            0                                            \n",
      "__________________________________________________________________________________________________\n",
      "keras_layer_2 (KerasLayer)      {'input_word_ids': ( 0           input_4[0][0]                    \n",
      "__________________________________________________________________________________________________\n",
      "keras_layer_3 (KerasLayer)      {'encoder_outputs':  11683584    keras_layer_2[1][0]              \n",
      "                                                                 keras_layer_2[1][1]              \n",
      "                                                                 keras_layer_2[1][2]              \n",
      "__________________________________________________________________________________________________\n",
      "dropout_1 (Dropout)             (None, 768)          0           keras_layer_3[1][13]             \n",
      "__________________________________________________________________________________________________\n",
      "dense_1 (Dense)                 (None, 10)           7690        dropout_1[0][0]                  \n",
      "__________________________________________________________________________________________________\n",
      "regressor (Dense)               (None, 1)            11          dense_1[0][0]                    \n",
      "==================================================================================================\n",
      "Total params: 11,691,285\n",
      "Trainable params: 11,691,285\n",
      "Non-trainable params: 0\n",
      "__________________________________________________________________________________________________\n"
     ]
    }
   ],
   "source": [
    "large_albert = albert_large_model()\n",
    "large_albert.summary()"
   ]
  },
  {
   "cell_type": "code",
   "execution_count": 13,
   "id": "62e16b51",
   "metadata": {
    "ExecuteTime": {
     "end_time": "2021-06-23T03:48:51.860754Z",
     "start_time": "2021-06-23T03:48:51.855752Z"
    }
   },
   "outputs": [],
   "source": [
    "epochs = 5\n",
    "batch_size = 32\n",
    "steps_per_epoch = round(len(train_x)//batch_size)\n",
    "num_train_steps = steps_per_epoch * epochs\n",
    "num_warmup_steps = int(0.1*num_train_steps)\n",
    "\n",
    "init_lr = 3e-5\n",
    "optimizer = optimization.create_optimizer(init_lr=init_lr,\n",
    "                                          num_train_steps=num_train_steps,\n",
    "                                          num_warmup_steps=num_warmup_steps,\n",
    "                                          optimizer_type='adamw')"
   ]
  },
  {
   "cell_type": "code",
   "execution_count": 14,
   "id": "c401a0b9",
   "metadata": {
    "ExecuteTime": {
     "end_time": "2021-06-23T03:48:52.171485Z",
     "start_time": "2021-06-23T03:48:52.154346Z"
    }
   },
   "outputs": [],
   "source": [
    "callbacks = tf.keras.callbacks.EarlyStopping(\n",
    "    monitor='val_root_mean_squared_error', min_delta=0.0001, patience=0, verbose=0,\n",
    "    mode='min')"
   ]
  },
  {
   "cell_type": "code",
   "execution_count": 15,
   "id": "2848de9b",
   "metadata": {
    "ExecuteTime": {
     "end_time": "2021-06-23T03:48:52.532872Z",
     "start_time": "2021-06-23T03:48:52.510884Z"
    }
   },
   "outputs": [],
   "source": [
    "large_albert.compile(optimizer=optimizer,\n",
    "                         loss=\"mean_squared_error\",\n",
    "                         metrics=tf.keras.metrics.RootMeanSquaredError())"
   ]
  },
  {
   "cell_type": "code",
   "execution_count": 32,
   "id": "c1e4f04e",
   "metadata": {
    "ExecuteTime": {
     "end_time": "2021-06-23T06:15:36.459213Z",
     "start_time": "2021-06-23T05:27:12.190214Z"
    }
   },
   "outputs": [
    {
     "name": "stdout",
     "output_type": "stream",
     "text": [
      "Epoch 1/3\n",
      "71/71 [==============================] - 942s 13s/step - loss: 0.1478 - root_mean_squared_error: 0.3845 - val_loss: 0.3159 - val_root_mean_squared_error: 0.5620\n",
      "Epoch 2/3\n",
      "71/71 [==============================] - 982s 14s/step - loss: 0.1255 - root_mean_squared_error: 0.3543 - val_loss: 0.3159 - val_root_mean_squared_error: 0.5620\n",
      "Epoch 3/3\n",
      "71/71 [==============================] - 981s 14s/step - loss: 0.1281 - root_mean_squared_error: 0.3578 - val_loss: 0.3159 - val_root_mean_squared_error: 0.5620\n"
     ]
    }
   ],
   "source": [
    "history = large_albert.fit(x=np.array(train_x),\n",
    "                y=train_y,\n",
    "                validation_data=(np.array(test_x), test_y),\n",
    "                epochs=3,\n",
    "                batch_size= batch_size)\n"
   ]
  },
  {
   "cell_type": "code",
   "execution_count": 19,
   "id": "b9a69d29",
   "metadata": {
    "ExecuteTime": {
     "end_time": "2021-06-23T04:30:57.969974Z",
     "start_time": "2021-06-23T04:29:51.513337Z"
    }
   },
   "outputs": [
    {
     "name": "stdout",
     "output_type": "stream",
     "text": [
      "18/18 [==============================] - 66s 4s/step - loss: 0.3824 - root_mean_squared_error: 0.6184\n"
     ]
    },
    {
     "data": {
      "text/plain": [
       "[0.3823857307434082, 0.618373453617096]"
      ]
     },
     "execution_count": 19,
     "metadata": {},
     "output_type": "execute_result"
    }
   ],
   "source": [
    "large_albert.evaluate(np.array(test_x), test_y)"
   ]
  },
  {
   "cell_type": "code",
   "execution_count": 21,
   "id": "0863d9f5",
   "metadata": {
    "ExecuteTime": {
     "end_time": "2021-06-23T04:57:32.487788Z",
     "start_time": "2021-06-23T04:56:21.403195Z"
    }
   },
   "outputs": [
    {
     "name": "stdout",
     "output_type": "stream",
     "text": [
      "18/18 [==============================] - 71s 4s/step - loss: 0.3200 - root_mean_squared_error: 0.5657\n"
     ]
    },
    {
     "data": {
      "text/plain": [
       "[0.32000213861465454, 0.5656872987747192]"
      ]
     },
     "execution_count": 21,
     "metadata": {},
     "output_type": "execute_result"
    }
   ],
   "source": [
    "large_albert.evaluate(np.array(test_x), test_y)"
   ]
  },
  {
   "cell_type": "code",
   "execution_count": 34,
   "id": "b0b26891",
   "metadata": {
    "ExecuteTime": {
     "end_time": "2021-06-23T06:24:39.337236Z",
     "start_time": "2021-06-23T06:23:29.315234Z"
    }
   },
   "outputs": [
    {
     "name": "stdout",
     "output_type": "stream",
     "text": [
      "18/18 [==============================] - 70s 4s/step - loss: 0.3159 - root_mean_squared_error: 0.5620\n"
     ]
    },
    {
     "data": {
      "text/plain": [
       "[0.31586602330207825, 0.5620195865631104]"
      ]
     },
     "execution_count": 34,
     "metadata": {},
     "output_type": "execute_result"
    }
   ],
   "source": [
    "large_albert.evaluate(np.array(test_x), test_y)"
   ]
  },
  {
   "cell_type": "code",
   "execution_count": 33,
   "id": "b237abe2",
   "metadata": {
    "ExecuteTime": {
     "end_time": "2021-06-23T06:20:57.031583Z",
     "start_time": "2021-06-23T06:20:48.318568Z"
    }
   },
   "outputs": [
    {
     "name": "stderr",
     "output_type": "stream",
     "text": [
      "WARNING:absl:Found untraced functions such as restored_function_body, restored_function_body, restored_function_body, restored_function_body, restored_function_body while saving (showing 5 of 90). These functions will not be directly callable after loading.\n"
     ]
    },
    {
     "name": "stdout",
     "output_type": "stream",
     "text": [
      "INFO:tensorflow:Assets written to: saved_model/3\\assets\n"
     ]
    },
    {
     "name": "stderr",
     "output_type": "stream",
     "text": [
      "INFO:tensorflow:Assets written to: saved_model/3\\assets\n"
     ]
    }
   ],
   "source": [
    "large_albert.save(\"saved_model/3\")"
   ]
  },
  {
   "cell_type": "code",
   "execution_count": 44,
   "id": "bc3160c4",
   "metadata": {
    "ExecuteTime": {
     "end_time": "2021-06-23T06:29:58.984845Z",
     "start_time": "2021-06-23T06:29:58.117251Z"
    }
   },
   "outputs": [],
   "source": [
    "large_albert.save(\"saved_model/albert_base.h5\", save_traces=True)"
   ]
  },
  {
   "cell_type": "code",
   "execution_count": 39,
   "id": "1b741b9f",
   "metadata": {
    "ExecuteTime": {
     "end_time": "2021-06-23T06:26:29.593050Z",
     "start_time": "2021-06-23T06:26:29.579052Z"
    }
   },
   "outputs": [
    {
     "data": {
      "text/plain": [
       "'2.5.0'"
      ]
     },
     "execution_count": 39,
     "metadata": {},
     "output_type": "execute_result"
    }
   ],
   "source": [
    "tf.__version__"
   ]
  },
  {
   "cell_type": "code",
   "execution_count": 43,
   "id": "cf9b8830",
   "metadata": {
    "ExecuteTime": {
     "end_time": "2021-06-23T06:28:09.255576Z",
     "start_time": "2021-06-23T06:28:02.665578Z"
    }
   },
   "outputs": [
    {
     "data": {
      "text/plain": [
       "<tensorflow.python.keras.engine.functional.Functional at 0x2755ea85550>"
      ]
     },
     "execution_count": 43,
     "metadata": {},
     "output_type": "execute_result"
    }
   ],
   "source": [
    "tf.keras.models.load_model(\n",
    "    \"saved_model/3\", custom_objects={\"AdamWeightDecay\": optimizer}\n",
    ")"
   ]
  },
  {
   "cell_type": "code",
   "execution_count": 47,
   "id": "f52d44ff",
   "metadata": {
    "ExecuteTime": {
     "end_time": "2021-06-23T06:30:45.830132Z",
     "start_time": "2021-06-23T06:30:45.807167Z"
    }
   },
   "outputs": [
    {
     "ename": "TypeError",
     "evalue": "load_model() got an unexpected keyword argument 'save_traces'",
     "output_type": "error",
     "traceback": [
      "\u001b[1;31m---------------------------------------------------------------------------\u001b[0m",
      "\u001b[1;31mTypeError\u001b[0m                                 Traceback (most recent call last)",
      "\u001b[1;32m<ipython-input-47-3b87ece7b917>\u001b[0m in \u001b[0;36m<module>\u001b[1;34m\u001b[0m\n\u001b[0;32m      1\u001b[0m tf.keras.models.load_model(\n\u001b[1;32m----> 2\u001b[1;33m    \"saved_model/albert_base.h5\", save_traces=True)\n\u001b[0m",
      "\u001b[1;31mTypeError\u001b[0m: load_model() got an unexpected keyword argument 'save_traces'"
     ]
    }
   ],
   "source": [
    "tf.keras.models.load_model(\n",
    "   \"saved_model/albert_base.h5\")"
   ]
  },
  {
   "cell_type": "code",
   "execution_count": null,
   "id": "a049ed11",
   "metadata": {},
   "outputs": [],
   "source": []
  }
 ],
 "metadata": {
  "kernelspec": {
   "display_name": "Python 3",
   "language": "python",
   "name": "python3"
  },
  "language_info": {
   "codemirror_mode": {
    "name": "ipython",
    "version": 3
   },
   "file_extension": ".py",
   "mimetype": "text/x-python",
   "name": "python",
   "nbconvert_exporter": "python",
   "pygments_lexer": "ipython3",
   "version": "3.7.3"
  },
  "toc": {
   "base_numbering": 1,
   "nav_menu": {},
   "number_sections": true,
   "sideBar": true,
   "skip_h1_title": false,
   "title_cell": "Table of Contents",
   "title_sidebar": "Contents",
   "toc_cell": false,
   "toc_position": {},
   "toc_section_display": true,
   "toc_window_display": false
  }
 },
 "nbformat": 4,
 "nbformat_minor": 5
}
