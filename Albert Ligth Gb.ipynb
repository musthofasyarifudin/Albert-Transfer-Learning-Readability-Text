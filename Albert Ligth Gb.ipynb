{
 "cells": [
  {
   "cell_type": "code",
   "execution_count": 1,
   "metadata": {},
   "outputs": [],
   "source": [
    "#tensorflow==2.2.0\n",
    "#tensorflow_hub=0.8.0\n",
    "#sentencepiece==0.1.91\n",
    "#tqdm==4.47.0\n",
    "#seaborn==0.10.1\n",
    "#numpy==1.19.0"
   ]
  },
  {
   "cell_type": "code",
   "execution_count": 98,
   "metadata": {
    "ExecuteTime": {
     "end_time": "2021-06-22T10:04:04.969849Z",
     "start_time": "2021-06-22T10:04:04.950824Z"
    }
   },
   "outputs": [],
   "source": [
    "import tensorflow as tf \n",
    "import tensorflow_hub as hub\n",
    "import sentencepiece as spm\n",
    "import six\n",
    "\n",
    "from functools import wraps\n",
    "import time\n",
    "from tqdm import tqdm\n",
    "import matplotlib.pyplot as plt\n",
    "import numpy as np\n",
    "import seaborn as sns\n",
    "\n",
    "import numpy as np\n",
    "import pandas as pd\n",
    "\n",
    "from nltk.corpus import stopwords\n",
    "from nltk.tokenize import word_tokenize \n",
    "import re\n",
    "import string"
   ]
  },
  {
   "cell_type": "code",
   "execution_count": 99,
   "metadata": {
    "ExecuteTime": {
     "end_time": "2021-06-22T10:04:05.530369Z",
     "start_time": "2021-06-22T10:04:05.524336Z"
    }
   },
   "outputs": [
    {
     "data": {
      "text/plain": [
       "'0.9.0'"
      ]
     },
     "execution_count": 99,
     "metadata": {},
     "output_type": "execute_result"
    }
   ],
   "source": [
    "hub.__version__"
   ]
  },
  {
   "cell_type": "code",
   "execution_count": 100,
   "metadata": {
    "ExecuteTime": {
     "end_time": "2021-06-22T10:04:06.141782Z",
     "start_time": "2021-06-22T10:04:06.123786Z"
    }
   },
   "outputs": [],
   "source": [
    "def timethis(func):\n",
    "   @wraps(func)\n",
    "   def wrapper(*args, **kwargs):\n",
    "       start = time.time()\n",
    "       result = func(*args, **kwargs)\n",
    "       end = time.time()\n",
    "       print(func.__name__, end-start)\n",
    "       return result\n",
    "   return wrapper\n"
   ]
  },
  {
   "cell_type": "code",
   "execution_count": 101,
   "metadata": {
    "ExecuteTime": {
     "end_time": "2021-06-22T10:04:09.175209Z",
     "start_time": "2021-06-22T10:04:06.637072Z"
    }
   },
   "outputs": [],
   "source": [
    "# mkdir albert_en_base\n",
    "# mkdir 1\n",
    "# wget https://tfhub.dev/tensorflow/albert_en_base/1https://tfhub.dev/tensorflow/albert_en_base/1\n",
    "# tar-xzf albert_en_base_1.tar.gztar-xzf albert_en_base_1.tar.gz\n",
    "# rm -rf albert_en_base_1.tar.gzrm -rf albert_en_base_1.tar.gz\n",
    "albert_layer = hub.KerasLayer(\"albert_en_base/1\", trainable=False)"
   ]
  },
  {
   "cell_type": "code",
   "execution_count": 102,
   "metadata": {
    "ExecuteTime": {
     "end_time": "2021-06-22T10:04:09.191228Z",
     "start_time": "2021-06-22T10:04:09.177072Z"
    }
   },
   "outputs": [],
   "source": [
    "#Referred from https://github.com/tensorflow/models/blob/master/official/nlp/bert/tokenization.pyhttps://github.com/tensorflow/models/blob/master/official/nlp/bert/tokenization.py\n",
    "def printable_text(text):\n",
    "  \"\"\"Returns text encoded in a way suitable for print or `tf.logging`.\"\"\"\n",
    "  if isinstance(text, str):\n",
    "    return text\n",
    "  elif isinstance(text, bytes):\n",
    "    return text.decode(\"utf-8\", \"ignore\")\n",
    "  else:\n",
    "    raise ValueError(\"Unsupported string type: %s\" % (type(text)))\n",
    "\n",
    "def encode_pieces(sp_model, text, sample=False):\n",
    "  \"\"\"Segements text into pieces.\n",
    "  Args:\n",
    "    sp_model: A spm.SentencePieceProcessor object.\n",
    "    text: The input text to be segemented.\n",
    "    sample: Whether to randomly sample a segmentation output or return a\n",
    "      deterministic one.\n",
    "  Returns:\n",
    "    A list of token pieces.\n",
    "  \"\"\"\n",
    "  if not sample:\n",
    "    pieces = sp_model.EncodeAsPieces(text)\n",
    "  else:\n",
    "    pieces = sp_model.SampleEncodeAsPieces(text, 64, 0.1)\n",
    "  new_pieces = []\n",
    "  for piece in pieces:\n",
    "    piece = printable_text(piece)\n",
    "    if len(piece) > 1 and piece[-1] == \",\" and piece[-2].isdigit():\n",
    "      cur_pieces = sp_model.EncodeAsPieces(piece[:-1].replace(\n",
    "          SPIECE_UNDERLINE, \"\"))\n",
    "      if piece[0] != SPIECE_UNDERLINE and cur_pieces[0][0] == SPIECE_UNDERLINE:\n",
    "        if len(cur_pieces[0]) == 1:\n",
    "          cur_pieces = cur_pieces[1:]\n",
    "        else:\n",
    "          cur_pieces[0] = cur_pieces[0][1:]\n",
    "      cur_pieces.append(piece[-1])\n",
    "      new_pieces.extend(cur_pieces)\n",
    "    else:\n",
    "      new_pieces.append(piece)\n",
    "\n",
    "  return new_pieces"
   ]
  },
  {
   "cell_type": "code",
   "execution_count": 103,
   "metadata": {
    "ExecuteTime": {
     "end_time": "2021-06-22T10:04:10.562385Z",
     "start_time": "2021-06-22T10:04:10.547351Z"
    }
   },
   "outputs": [],
   "source": [
    "@timethis\n",
    "class FullSentencePieceTokenizer(object):\n",
    "  \"\"\"Runs end-to-end sentence piece tokenization.\n",
    "  The interface of this class is intended to keep the same as above\n",
    "  `FullTokenizer` class for easier usage.\n",
    "  \"\"\"\n",
    "\n",
    "  def __init__(self, sp_model_file):\n",
    "    \"\"\"Inits FullSentencePieceTokenizer.\n",
    "    Args:\n",
    "      sp_model_file: The path to the sentence piece model file.\n",
    "    \"\"\"\n",
    "    self.sp_model = spm.SentencePieceProcessor()\n",
    "    self.sp_model.Load(sp_model_file)\n",
    "    self.vocab = {\n",
    "        self.sp_model.IdToPiece(i): i\n",
    "        for i in six.moves.range(self.sp_model.GetPieceSize())\n",
    "    }\n",
    "\n",
    "  def tokenize(self, text):\n",
    "    \"\"\"Tokenizes text into pieces.\"\"\"\n",
    "    return encode_pieces(self.sp_model, text)\n",
    "\n",
    "  def convert_tokens_to_ids(self, tokens):\n",
    "    \"\"\"Converts a list of tokens to a list of ids.\"\"\"\n",
    "    return [self.sp_model.PieceToId(printable_text(token)) for token in tokens]\n",
    "\n",
    "  def convert_ids_to_tokens(self, ids):\n",
    "    \"\"\"Converts a list of ids ot a list of tokens.\"\"\"\n",
    "    return [self.sp_model.IdToPiece(id_) for id_ in ids]"
   ]
  },
  {
   "cell_type": "code",
   "execution_count": 104,
   "metadata": {
    "ExecuteTime": {
     "end_time": "2021-06-22T10:04:11.186466Z",
     "start_time": "2021-06-22T10:04:11.167463Z"
    }
   },
   "outputs": [],
   "source": [
    "def get_ids(tokens, tokenizer, max_seq_length):\n",
    "    \"\"\"Token ids from Tokenizer vocab\"\"\"\n",
    "    token_ids = tokenizer.convert_tokens_to_ids(tokens,)\n",
    "    input_ids = token_ids + [0] * (max_seq_length-len(token_ids))\n",
    "    return input_ids"
   ]
  },
  {
   "cell_type": "code",
   "execution_count": 105,
   "metadata": {
    "ExecuteTime": {
     "end_time": "2021-06-22T10:04:11.684127Z",
     "start_time": "2021-06-22T10:04:11.667124Z"
    }
   },
   "outputs": [],
   "source": [
    "def get_masks(tokens, max_seq_length):\n",
    "    return [1]*len(tokens) + [0] * (max_seq_length - len(tokens))"
   ]
  },
  {
   "cell_type": "code",
   "execution_count": 106,
   "metadata": {
    "ExecuteTime": {
     "end_time": "2021-06-22T10:04:12.056815Z",
     "start_time": "2021-06-22T10:04:12.046815Z"
    }
   },
   "outputs": [],
   "source": [
    "def get_segments(tokens, max_seq_length):\n",
    "    \"\"\"Segments: 0 for the first sequence, 1 for the second\"\"\"\n",
    "    segments = []\n",
    "    current_segment_id = 0\n",
    "    for token in tokens:\n",
    "        segments.append(current_segment_id)\n",
    "        if token == \"[SEP]\":\n",
    "            current_segment_id = 1\n",
    "    return segments + [0] * (max_seq_length - len(tokens))"
   ]
  },
  {
   "cell_type": "code",
   "execution_count": 107,
   "metadata": {
    "ExecuteTime": {
     "end_time": "2021-06-22T10:04:12.571513Z",
     "start_time": "2021-06-22T10:04:12.560514Z"
    }
   },
   "outputs": [],
   "source": [
    "sentence = \"I am amazed\""
   ]
  },
  {
   "cell_type": "code",
   "execution_count": 108,
   "metadata": {
    "ExecuteTime": {
     "end_time": "2021-06-22T10:04:13.257471Z",
     "start_time": "2021-06-22T10:04:13.155416Z"
    },
    "tags": []
   },
   "outputs": [
    {
     "name": "stdout",
     "output_type": "stream",
     "text": [
      "FullSentencePieceTokenizer 0.08099794387817383\n"
     ]
    }
   ],
   "source": [
    "sp_model_file = albert_layer.resolved_object.sp_model_file.asset_path.numpy()\n",
    "tokenizer = FullSentencePieceTokenizer(sp_model_file)"
   ]
  },
  {
   "cell_type": "code",
   "execution_count": 109,
   "metadata": {
    "ExecuteTime": {
     "end_time": "2021-06-22T10:04:13.785556Z",
     "start_time": "2021-06-22T10:04:13.767554Z"
    }
   },
   "outputs": [],
   "source": [
    "stokens = tokenizer.tokenize(sentence)"
   ]
  },
  {
   "cell_type": "code",
   "execution_count": 110,
   "metadata": {
    "ExecuteTime": {
     "end_time": "2021-06-22T10:04:14.157035Z",
     "start_time": "2021-06-22T10:04:14.154033Z"
    }
   },
   "outputs": [],
   "source": [
    "MAX_LEN = 20"
   ]
  },
  {
   "cell_type": "code",
   "execution_count": 111,
   "metadata": {
    "ExecuteTime": {
     "end_time": "2021-06-22T10:04:14.500028Z",
     "start_time": "2021-06-22T10:04:14.490040Z"
    }
   },
   "outputs": [],
   "source": [
    "stokens = stokens[:MAX_LEN]\n",
    "stokens = [\"[CLS]\"] + stokens + [\"[SEP]\"]"
   ]
  },
  {
   "cell_type": "code",
   "execution_count": 112,
   "metadata": {
    "ExecuteTime": {
     "end_time": "2021-06-22T10:04:14.953422Z",
     "start_time": "2021-06-22T10:04:14.945447Z"
    }
   },
   "outputs": [
    {
     "data": {
      "text/plain": [
       "['[CLS]', '▁', 'I', '▁am', '▁amazed', '[SEP]']"
      ]
     },
     "execution_count": 112,
     "metadata": {},
     "output_type": "execute_result"
    }
   ],
   "source": [
    "stokens"
   ]
  },
  {
   "cell_type": "code",
   "execution_count": 113,
   "metadata": {
    "ExecuteTime": {
     "end_time": "2021-06-22T10:04:15.452312Z",
     "start_time": "2021-06-22T10:04:15.436312Z"
    }
   },
   "outputs": [],
   "source": [
    "MAX_LEN = 100\n",
    "MAX_SEQ_LEN= MAX_LEN + 2"
   ]
  },
  {
   "cell_type": "code",
   "execution_count": 114,
   "metadata": {
    "ExecuteTime": {
     "end_time": "2021-06-22T10:04:16.139056Z",
     "start_time": "2021-06-22T10:04:16.129057Z"
    }
   },
   "outputs": [],
   "source": [
    "ids = get_ids(stokens, tokenizer, MAX_SEQ_LEN)\n",
    "masks = get_masks(stokens, MAX_SEQ_LEN)\n",
    "segments = get_segments(stokens, MAX_SEQ_LEN)"
   ]
  },
  {
   "cell_type": "code",
   "execution_count": 115,
   "metadata": {
    "ExecuteTime": {
     "end_time": "2021-06-22T10:04:16.481728Z",
     "start_time": "2021-06-22T10:04:16.465710Z"
    }
   },
   "outputs": [
    {
     "data": {
      "text/plain": [
       "[2,\n",
       " 13,\n",
       " 1,\n",
       " 589,\n",
       " 17378,\n",
       " 3,\n",
       " 0,\n",
       " 0,\n",
       " 0,\n",
       " 0,\n",
       " 0,\n",
       " 0,\n",
       " 0,\n",
       " 0,\n",
       " 0,\n",
       " 0,\n",
       " 0,\n",
       " 0,\n",
       " 0,\n",
       " 0,\n",
       " 0,\n",
       " 0,\n",
       " 0,\n",
       " 0,\n",
       " 0,\n",
       " 0,\n",
       " 0,\n",
       " 0,\n",
       " 0,\n",
       " 0,\n",
       " 0,\n",
       " 0,\n",
       " 0,\n",
       " 0,\n",
       " 0,\n",
       " 0,\n",
       " 0,\n",
       " 0,\n",
       " 0,\n",
       " 0,\n",
       " 0,\n",
       " 0,\n",
       " 0,\n",
       " 0,\n",
       " 0,\n",
       " 0,\n",
       " 0,\n",
       " 0,\n",
       " 0,\n",
       " 0,\n",
       " 0,\n",
       " 0,\n",
       " 0,\n",
       " 0,\n",
       " 0,\n",
       " 0,\n",
       " 0,\n",
       " 0,\n",
       " 0,\n",
       " 0,\n",
       " 0,\n",
       " 0,\n",
       " 0,\n",
       " 0,\n",
       " 0,\n",
       " 0,\n",
       " 0,\n",
       " 0,\n",
       " 0,\n",
       " 0,\n",
       " 0,\n",
       " 0,\n",
       " 0,\n",
       " 0,\n",
       " 0,\n",
       " 0,\n",
       " 0,\n",
       " 0,\n",
       " 0,\n",
       " 0,\n",
       " 0,\n",
       " 0,\n",
       " 0,\n",
       " 0,\n",
       " 0,\n",
       " 0,\n",
       " 0,\n",
       " 0,\n",
       " 0,\n",
       " 0,\n",
       " 0,\n",
       " 0,\n",
       " 0,\n",
       " 0,\n",
       " 0,\n",
       " 0,\n",
       " 0,\n",
       " 0,\n",
       " 0,\n",
       " 0,\n",
       " 0,\n",
       " 0]"
      ]
     },
     "execution_count": 115,
     "metadata": {},
     "output_type": "execute_result"
    }
   ],
   "source": [
    "ids"
   ]
  },
  {
   "cell_type": "code",
   "execution_count": 116,
   "metadata": {
    "ExecuteTime": {
     "end_time": "2021-06-22T10:04:16.780278Z",
     "start_time": "2021-06-22T10:04:16.760279Z"
    }
   },
   "outputs": [
    {
     "data": {
      "text/plain": [
       "[1,\n",
       " 1,\n",
       " 1,\n",
       " 1,\n",
       " 1,\n",
       " 1,\n",
       " 0,\n",
       " 0,\n",
       " 0,\n",
       " 0,\n",
       " 0,\n",
       " 0,\n",
       " 0,\n",
       " 0,\n",
       " 0,\n",
       " 0,\n",
       " 0,\n",
       " 0,\n",
       " 0,\n",
       " 0,\n",
       " 0,\n",
       " 0,\n",
       " 0,\n",
       " 0,\n",
       " 0,\n",
       " 0,\n",
       " 0,\n",
       " 0,\n",
       " 0,\n",
       " 0,\n",
       " 0,\n",
       " 0,\n",
       " 0,\n",
       " 0,\n",
       " 0,\n",
       " 0,\n",
       " 0,\n",
       " 0,\n",
       " 0,\n",
       " 0,\n",
       " 0,\n",
       " 0,\n",
       " 0,\n",
       " 0,\n",
       " 0,\n",
       " 0,\n",
       " 0,\n",
       " 0,\n",
       " 0,\n",
       " 0,\n",
       " 0,\n",
       " 0,\n",
       " 0,\n",
       " 0,\n",
       " 0,\n",
       " 0,\n",
       " 0,\n",
       " 0,\n",
       " 0,\n",
       " 0,\n",
       " 0,\n",
       " 0,\n",
       " 0,\n",
       " 0,\n",
       " 0,\n",
       " 0,\n",
       " 0,\n",
       " 0,\n",
       " 0,\n",
       " 0,\n",
       " 0,\n",
       " 0,\n",
       " 0,\n",
       " 0,\n",
       " 0,\n",
       " 0,\n",
       " 0,\n",
       " 0,\n",
       " 0,\n",
       " 0,\n",
       " 0,\n",
       " 0,\n",
       " 0,\n",
       " 0,\n",
       " 0,\n",
       " 0,\n",
       " 0,\n",
       " 0,\n",
       " 0,\n",
       " 0,\n",
       " 0,\n",
       " 0,\n",
       " 0,\n",
       " 0,\n",
       " 0,\n",
       " 0,\n",
       " 0,\n",
       " 0,\n",
       " 0,\n",
       " 0,\n",
       " 0,\n",
       " 0]"
      ]
     },
     "execution_count": 116,
     "metadata": {},
     "output_type": "execute_result"
    }
   ],
   "source": [
    "masks"
   ]
  },
  {
   "cell_type": "code",
   "execution_count": 117,
   "metadata": {
    "ExecuteTime": {
     "end_time": "2021-06-22T10:04:17.199688Z",
     "start_time": "2021-06-22T10:04:17.185702Z"
    }
   },
   "outputs": [
    {
     "data": {
      "text/plain": [
       "[0,\n",
       " 0,\n",
       " 0,\n",
       " 0,\n",
       " 0,\n",
       " 0,\n",
       " 0,\n",
       " 0,\n",
       " 0,\n",
       " 0,\n",
       " 0,\n",
       " 0,\n",
       " 0,\n",
       " 0,\n",
       " 0,\n",
       " 0,\n",
       " 0,\n",
       " 0,\n",
       " 0,\n",
       " 0,\n",
       " 0,\n",
       " 0,\n",
       " 0,\n",
       " 0,\n",
       " 0,\n",
       " 0,\n",
       " 0,\n",
       " 0,\n",
       " 0,\n",
       " 0,\n",
       " 0,\n",
       " 0,\n",
       " 0,\n",
       " 0,\n",
       " 0,\n",
       " 0,\n",
       " 0,\n",
       " 0,\n",
       " 0,\n",
       " 0,\n",
       " 0,\n",
       " 0,\n",
       " 0,\n",
       " 0,\n",
       " 0,\n",
       " 0,\n",
       " 0,\n",
       " 0,\n",
       " 0,\n",
       " 0,\n",
       " 0,\n",
       " 0,\n",
       " 0,\n",
       " 0,\n",
       " 0,\n",
       " 0,\n",
       " 0,\n",
       " 0,\n",
       " 0,\n",
       " 0,\n",
       " 0,\n",
       " 0,\n",
       " 0,\n",
       " 0,\n",
       " 0,\n",
       " 0,\n",
       " 0,\n",
       " 0,\n",
       " 0,\n",
       " 0,\n",
       " 0,\n",
       " 0,\n",
       " 0,\n",
       " 0,\n",
       " 0,\n",
       " 0,\n",
       " 0,\n",
       " 0,\n",
       " 0,\n",
       " 0,\n",
       " 0,\n",
       " 0,\n",
       " 0,\n",
       " 0,\n",
       " 0,\n",
       " 0,\n",
       " 0,\n",
       " 0,\n",
       " 0,\n",
       " 0,\n",
       " 0,\n",
       " 0,\n",
       " 0,\n",
       " 0,\n",
       " 0,\n",
       " 0,\n",
       " 0,\n",
       " 0,\n",
       " 0,\n",
       " 0,\n",
       " 0,\n",
       " 0]"
      ]
     },
     "execution_count": 117,
     "metadata": {},
     "output_type": "execute_result"
    }
   ],
   "source": [
    "segments"
   ]
  },
  {
   "cell_type": "code",
   "execution_count": 118,
   "metadata": {
    "ExecuteTime": {
     "end_time": "2021-06-22T10:04:17.650062Z",
     "start_time": "2021-06-22T10:04:17.639038Z"
    }
   },
   "outputs": [],
   "source": [
    "#@timethis\n",
    "def create_single_input(sentence, MAX_LEN, MAX_SEQ_LEN):\n",
    "    stokens = tokenizer.tokenize(sentence)\n",
    "    stokens = stokens[:MAX_LEN]\n",
    "    stokens = [\"[CLS]\"] + stokens + [\"[SEP]\"]\n",
    "\n",
    "    ids = get_ids(stokens, tokenizer, MAX_SEQ_LEN)\n",
    "    masks = get_masks(stokens, MAX_SEQ_LEN)\n",
    "    segments = get_segments(stokens, MAX_SEQ_LEN)\n",
    "\n",
    "    return ids,masks,segments"
   ]
  },
  {
   "cell_type": "code",
   "execution_count": 119,
   "metadata": {
    "ExecuteTime": {
     "end_time": "2021-06-22T10:04:18.642779Z",
     "start_time": "2021-06-22T10:04:18.629747Z"
    }
   },
   "outputs": [
    {
     "data": {
      "text/plain": [
       "['▁the',\n",
       " '▁body',\n",
       " '▁is',\n",
       " '▁made',\n",
       " '▁of',\n",
       " '▁metallic',\n",
       " 'a',\n",
       " '▁and',\n",
       " '▁deliver',\n",
       " 'i',\n",
       " '▁high',\n",
       " '▁tension']"
      ]
     },
     "execution_count": 119,
     "metadata": {},
     "output_type": "execute_result"
    }
   ],
   "source": [
    "stokens = tokenizer.tokenize(\"the body is made of metallica and deliveri high tension\")\n",
    "stokens"
   ]
  },
  {
   "cell_type": "code",
   "execution_count": 120,
   "metadata": {
    "ExecuteTime": {
     "end_time": "2021-06-22T10:04:19.890613Z",
     "start_time": "2021-06-22T10:04:19.873614Z"
    }
   },
   "outputs": [],
   "source": [
    "max_seq_length = MAX_SEQ_LEN"
   ]
  },
  {
   "cell_type": "code",
   "execution_count": 121,
   "metadata": {
    "ExecuteTime": {
     "end_time": "2021-06-22T10:04:20.699235Z",
     "start_time": "2021-06-22T10:04:20.683199Z"
    }
   },
   "outputs": [],
   "source": [
    "@timethis\n",
    "def get_model():\n",
    "    input_word_ids = tf.keras.layers.Input(shape=(MAX_SEQ_LEN,), dtype=tf.int32,\n",
    "                                       name=\"input_word_ids\")\n",
    "    input_mask = tf.keras.layers.Input(shape=(MAX_SEQ_LEN,), dtype=tf.int32,\n",
    "                                   name=\"input_mask\")\n",
    "    segment_ids = tf.keras.layers.Input(shape=(MAX_SEQ_LEN,), dtype=tf.int32,\n",
    "                                    name=\"segment_ids\")\n",
    "    pooled_output, sequence_output = albert_layer([input_word_ids, input_mask, segment_ids])\n",
    "    model = tf.keras.models.Model(inputs=[input_word_ids, input_mask, segment_ids], outputs=[pooled_output, sequence_output])\n",
    "    \n",
    "    return model\n"
   ]
  },
  {
   "cell_type": "code",
   "execution_count": 122,
   "metadata": {
    "ExecuteTime": {
     "end_time": "2021-06-22T10:04:21.943384Z",
     "start_time": "2021-06-22T10:04:21.870384Z"
    },
    "tags": []
   },
   "outputs": [
    {
     "name": "stdout",
     "output_type": "stream",
     "text": [
      "get_model 0.07103276252746582\n"
     ]
    }
   ],
   "source": [
    "albert_model = get_model()"
   ]
  },
  {
   "cell_type": "code",
   "execution_count": 123,
   "metadata": {
    "ExecuteTime": {
     "end_time": "2021-06-22T10:04:22.659791Z",
     "start_time": "2021-06-22T10:04:22.646791Z"
    },
    "tags": []
   },
   "outputs": [
    {
     "name": "stdout",
     "output_type": "stream",
     "text": [
      "Model: \"model_4\"\n",
      "__________________________________________________________________________________________________\n",
      "Layer (type)                    Output Shape         Param #     Connected to                     \n",
      "==================================================================================================\n",
      "input_word_ids (InputLayer)     [(None, 102)]        0                                            \n",
      "__________________________________________________________________________________________________\n",
      "input_mask (InputLayer)         [(None, 102)]        0                                            \n",
      "__________________________________________________________________________________________________\n",
      "segment_ids (InputLayer)        [(None, 102)]        0                                            \n",
      "__________________________________________________________________________________________________\n",
      "keras_layer_1 (KerasLayer)      [(None, 768), (None, 11683584    input_word_ids[0][0]             \n",
      "                                                                 input_mask[0][0]                 \n",
      "                                                                 segment_ids[0][0]                \n",
      "==================================================================================================\n",
      "Total params: 11,683,584\n",
      "Trainable params: 0\n",
      "Non-trainable params: 11,683,584\n",
      "__________________________________________________________________________________________________\n"
     ]
    }
   ],
   "source": [
    "albert_model.summary()"
   ]
  },
  {
   "cell_type": "code",
   "execution_count": 124,
   "metadata": {
    "ExecuteTime": {
     "end_time": "2021-06-22T10:04:26.005660Z",
     "start_time": "2021-06-22T10:04:25.859659Z"
    }
   },
   "outputs": [
    {
     "data": {
      "image/png": "[encoded data removed]",
      "text/plain": [
       "<IPython.core.display.Image object>"
      ]
     },
     "execution_count": 124,
     "metadata": {},
     "output_type": "execute_result"
    }
   ],
   "source": [
    "from tensorflow.keras.utils import plot_model\n",
    "plot_model(albert_model)"
   ]
  },
  {
   "cell_type": "code",
   "execution_count": 126,
   "metadata": {
    "ExecuteTime": {
     "end_time": "2021-06-22T10:04:41.554315Z",
     "start_time": "2021-06-22T10:04:41.539319Z"
    }
   },
   "outputs": [],
   "source": [
    "s = \"This is a nice sentence.\"\n",
    "def get_albert_vec(s):\n",
    "    stokens = tokenizer.tokenize(s)\n",
    "    stokens = [\"[CLS]\"] + stokens + [\"[SEP]\"]\n",
    "    ids = get_ids(stokens, tokenizer, MAX_SEQ_LEN)\n",
    "    masks = get_masks(stokens, MAX_SEQ_LEN)\n",
    "    segments = get_segments(stokens, MAX_SEQ_LEN)\n",
    "    input_ids = np.asarray(ids, dtype=np.int32).reshape(1,102)\n",
    "    input_masks = np.asarray(masks, dtype=np.int32).reshape(1,102)\n",
    "    input_segments = np.asarray(segments, dtype=np.int32).reshape(1,102)\n",
    "    return input_ids, input_masks, input_segments\n",
    "input_ids, input_masks, input_segments = get_albert_vec(s)"
   ]
  },
  {
   "cell_type": "code",
   "execution_count": 127,
   "metadata": {
    "ExecuteTime": {
     "end_time": "2021-06-22T10:04:43.002415Z",
     "start_time": "2021-06-22T10:04:42.321526Z"
    },
    "tags": []
   },
   "outputs": [
    {
     "name": "stdout",
     "output_type": "stream",
     "text": [
      "Wall time: 666 ms\n"
     ]
    },
    {
     "data": {
      "text/plain": [
       "(1, 768)"
      ]
     },
     "execution_count": 127,
     "metadata": {},
     "output_type": "execute_result"
    }
   ],
   "source": [
    "%%time\n",
    "pool_embs, word_embs = albert_model.predict(\n",
    "    [[input_ids, input_masks, input_segments]]\n",
    ")\n",
    "pool_embs.shape"
   ]
  },
  {
   "cell_type": "code",
   "execution_count": 128,
   "metadata": {
    "ExecuteTime": {
     "end_time": "2021-06-22T10:04:49.245212Z",
     "start_time": "2021-06-22T10:04:49.226214Z"
    }
   },
   "outputs": [
    {
     "data": {
      "text/plain": [
       "(1, 102, 768)"
      ]
     },
     "execution_count": 128,
     "metadata": {},
     "output_type": "execute_result"
    }
   ],
   "source": [
    "word_embs.shape"
   ]
  },
  {
   "cell_type": "code",
   "execution_count": 163,
   "metadata": {
    "ExecuteTime": {
     "end_time": "2021-06-22T10:24:32.581501Z",
     "start_time": "2021-06-22T10:24:32.562517Z"
    }
   },
   "outputs": [],
   "source": [
    "#@timethis\n",
    "def create_input_array(sentences):\n",
    "    input_ids, input_masks, input_segments = [], [], []\n",
    "\n",
    "    for sentence in tqdm(sentences,position=0, leave=True):\n",
    "        ids,masks,segments=create_single_input(sentence,MAX_LEN, MAX_SEQ_LEN)\n",
    "        input_ids.append(ids)\n",
    "        input_masks.append(masks)\n",
    "        input_segments.append(segments)\n",
    "\n",
    "    return [tf.constant(input_ids, dtype=np.int32), \n",
    "            tf.constant(input_masks, dtype=np.int32), \n",
    "            tf.constant(input_segments, dtype=np.int32)]"
   ]
  },
  {
   "cell_type": "code",
   "execution_count": 50,
   "metadata": {
    "ExecuteTime": {
     "end_time": "2021-06-22T09:47:52.407319Z",
     "start_time": "2021-06-22T09:47:52.387318Z"
    }
   },
   "outputs": [],
   "source": [
    "def plot_similarity(labels, features, rotation):\n",
    "  corr = np.inner(features, features)\n",
    "  print(corr)\n",
    "  sns.set(font_scale=1.2)\n",
    "  g = sns.heatmap(\n",
    "      corr,\n",
    "      xticklabels=labels,\n",
    "      yticklabels=labels,\n",
    "      vmin=0.5,\n",
    "      vmax=1,\n",
    "      cmap=\"YlOrRd\")\n",
    "  g.set_xticklabels(labels, rotation=rotation)\n",
    "  g.set_title(\"Semantic Textual Similarity\")\n",
    "\n",
    "def run_and_plot(messages_):\n",
    "    tmp_ip = create_input_array(messages_)\n",
    "    message_embeddings_, _  = albert_model.predict(tmp_ip)\n",
    "    message_embeddings_  = tf.nn.l2_normalize(message_embeddings_, axis=1)\n",
    "    print (message_embeddings_.shape)\n",
    "    plot_similarity(messages_, message_embeddings_, 90)"
   ]
  },
  {
   "cell_type": "code",
   "execution_count": 73,
   "metadata": {
    "ExecuteTime": {
     "end_time": "2021-06-22T03:52:03.724075Z",
     "start_time": "2021-06-22T03:52:03.125125Z"
    },
    "tags": []
   },
   "outputs": [
    {
     "name": "stderr",
     "output_type": "stream",
     "text": [
      "100%|████████████████████████████████████████████████████████████████████████████████████████████| 8/8 [00:00<?, ?it/s]\n"
     ]
    },
    {
     "name": "stdout",
     "output_type": "stream",
     "text": [
      "(8, 768)\n",
      "[[0.9999999  0.92385906 0.89913684 0.7740363  0.9198971  0.6788113\n",
      "  0.88972926 0.7068915 ]\n",
      " [0.92385906 0.9999999  0.9521428  0.74929893 0.986135   0.6410569\n",
      "  0.82340205 0.66704774]\n",
      " [0.89913684 0.9521428  1.0000001  0.8435346  0.9495057  0.70469445\n",
      "  0.8452057  0.72506654]\n",
      " [0.7740363  0.74929893 0.8435346  1.0000001  0.7775345  0.89348006\n",
      "  0.8876196  0.9009372 ]\n",
      " [0.9198971  0.986135   0.9495057  0.7775345  1.         0.6890658\n",
      "  0.8533199  0.7074714 ]\n",
      " [0.6788113  0.6410569  0.70469445 0.89348006 0.6890658  1.\n",
      "  0.886397   0.9852171 ]\n",
      " [0.88972926 0.82340205 0.8452057  0.8876196  0.8533199  0.886397\n",
      "  1.         0.90300155]\n",
      " [0.7068915  0.66704774 0.72506654 0.9009372  0.7074714  0.9852171\n",
      "  0.90300155 1.        ]]\n"
     ]
    },
    {
     "data": {
      "image/png": "[encoded data removed]",
      "text/plain": [
       "<Figure size 432x288 with 2 Axes>"
      ]
     },
     "metadata": {},
     "output_type": "display_data"
    }
   ],
   "source": [
    "sentences = [\n",
    "    # Smartphones\n",
    "    \"I like my phone\",\n",
    "    \"My phone is not good.\",\n",
    "    \n",
    "    # Weather\n",
    "    \"Recently a lot of hurricanes have hit the US\",\n",
    "    \"Global warming is real\",\n",
    "    \n",
    "    # Asking about age\n",
    "    \"How old are you?\",\n",
    "    \"what is your age?\",\n",
    "    \n",
    "    #how your school doing\n",
    "    'what with your school',\n",
    "    \"are you doing fine?\"\n",
    "]\n",
    "run_and_plot(sentences)"
   ]
  },
  {
   "cell_type": "code",
   "execution_count": 49,
   "metadata": {
    "ExecuteTime": {
     "end_time": "2021-06-22T03:43:33.333430Z",
     "start_time": "2021-06-22T03:43:33.314429Z"
    },
    "tags": []
   },
   "outputs": [
    {
     "name": "stderr",
     "output_type": "stream",
     "text": [
      "100%|████████████████████████████████████████████████████████████████████████████████████████████| 6/6 [00:00<?, ?it/s]"
     ]
    },
    {
     "name": "stdout",
     "output_type": "stream",
     "text": [
      "Wall time: 3.01 ms\n"
     ]
    },
    {
     "name": "stderr",
     "output_type": "stream",
     "text": [
      "\n"
     ]
    }
   ],
   "source": [
    "%%time\n",
    "ip = create_input_array(sentences)"
   ]
  },
  {
   "cell_type": "code",
   "execution_count": 50,
   "metadata": {
    "ExecuteTime": {
     "end_time": "2021-06-22T03:43:36.615434Z",
     "start_time": "2021-06-22T03:43:36.235540Z"
    },
    "tags": []
   },
   "outputs": [
    {
     "name": "stdout",
     "output_type": "stream",
     "text": [
      "Wall time: 373 ms\n"
     ]
    }
   ],
   "source": [
    "%%time\n",
    "pool_embs, all_embs = albert_model.predict(\n",
    "    ip\n",
    ")"
   ]
  },
  {
   "cell_type": "code",
   "execution_count": 51,
   "metadata": {
    "ExecuteTime": {
     "end_time": "2021-06-22T03:43:40.358837Z",
     "start_time": "2021-06-22T03:43:40.342811Z"
    }
   },
   "outputs": [
    {
     "data": {
      "text/plain": [
       "['I like my phone',\n",
       " 'My phone is not good.',\n",
       " 'Recently a lot of hurricanes have hit the US',\n",
       " 'Global warming is real',\n",
       " 'How old are you?',\n",
       " 'what is your age?']"
      ]
     },
     "execution_count": 51,
     "metadata": {},
     "output_type": "execute_result"
    }
   ],
   "source": [
    "sentences"
   ]
  },
  {
   "cell_type": "code",
   "execution_count": 52,
   "metadata": {
    "ExecuteTime": {
     "end_time": "2021-06-22T03:43:42.624678Z",
     "start_time": "2021-06-22T03:43:42.615679Z"
    }
   },
   "outputs": [],
   "source": [
    "normalized_embedding  = tf.nn.l2_normalize(pool_embs, axis=1)"
   ]
  },
  {
   "cell_type": "code",
   "execution_count": 53,
   "metadata": {
    "ExecuteTime": {
     "end_time": "2021-06-22T03:43:44.886493Z",
     "start_time": "2021-06-22T03:43:44.880491Z"
    }
   },
   "outputs": [
    {
     "data": {
      "text/plain": [
       "array([[0.9999999 , 0.92385906, 0.89913684, 0.7740363 , 0.9198971 ,\n",
       "        0.6788113 ],\n",
       "       [0.92385906, 0.9999999 , 0.9521428 , 0.74929893, 0.9861351 ,\n",
       "        0.6410569 ],\n",
       "       [0.89913684, 0.9521428 , 1.0000001 , 0.8435346 , 0.9495058 ,\n",
       "        0.70469445],\n",
       "       [0.7740363 , 0.74929893, 0.8435346 , 1.0000001 , 0.7775346 ,\n",
       "        0.89348006],\n",
       "       [0.9198971 , 0.9861351 , 0.9495058 , 0.7775346 , 1.0000002 ,\n",
       "        0.68906593],\n",
       "       [0.6788113 , 0.6410569 , 0.70469445, 0.89348006, 0.68906593,\n",
       "        1.        ]], dtype=float32)"
      ]
     },
     "execution_count": 53,
     "metadata": {},
     "output_type": "execute_result"
    }
   ],
   "source": [
    "np.inner(normalized_embedding, normalized_embedding)"
   ]
  },
  {
   "cell_type": "code",
   "execution_count": 54,
   "metadata": {
    "ExecuteTime": {
     "end_time": "2021-06-22T03:43:50.683797Z",
     "start_time": "2021-06-22T03:43:50.663791Z"
    }
   },
   "outputs": [
    {
     "data": {
      "text/plain": [
       "TensorShape([6, 768])"
      ]
     },
     "execution_count": 54,
     "metadata": {},
     "output_type": "execute_result"
    }
   ],
   "source": [
    "normalized_embedding.shape"
   ]
  },
  {
   "cell_type": "code",
   "execution_count": 56,
   "metadata": {
    "ExecuteTime": {
     "end_time": "2021-06-22T03:44:22.064497Z",
     "start_time": "2021-06-22T03:44:22.054460Z"
    }
   },
   "outputs": [
    {
     "data": {
      "text/plain": [
       "array([[0.9999999 , 0.92385906, 0.89913684, 0.7740363 , 0.9198971 ,\n",
       "        0.6788113 ],\n",
       "       [0.92385906, 0.9999999 , 0.9521428 , 0.74929893, 0.9861351 ,\n",
       "        0.6410569 ],\n",
       "       [0.89913684, 0.9521428 , 1.0000001 , 0.8435346 , 0.9495058 ,\n",
       "        0.70469445],\n",
       "       [0.7740363 , 0.74929893, 0.8435346 , 1.0000001 , 0.7775346 ,\n",
       "        0.89348006],\n",
       "       [0.9198971 , 0.9861351 , 0.9495058 , 0.7775346 , 1.0000002 ,\n",
       "        0.68906593],\n",
       "       [0.6788113 , 0.6410569 , 0.70469445, 0.89348006, 0.68906593,\n",
       "        1.        ]], dtype=float32)"
      ]
     },
     "execution_count": 56,
     "metadata": {},
     "output_type": "execute_result"
    }
   ],
   "source": [
    "np.inner(normalized_embedding, normalized_embedding)"
   ]
  },
  {
   "cell_type": "code",
   "execution_count": 57,
   "metadata": {
    "ExecuteTime": {
     "end_time": "2021-06-22T03:44:23.820186Z",
     "start_time": "2021-06-22T03:44:23.802187Z"
    }
   },
   "outputs": [],
   "source": [
    "sim_mat = np.inner(normalized_embedding, normalized_embedding)"
   ]
  },
  {
   "cell_type": "code",
   "execution_count": 59,
   "metadata": {
    "ExecuteTime": {
     "end_time": "2021-06-22T03:44:27.473638Z",
     "start_time": "2021-06-22T03:44:27.459639Z"
    }
   },
   "outputs": [
    {
     "data": {
      "text/plain": [
       "(1, 22, 768)"
      ]
     },
     "execution_count": 59,
     "metadata": {},
     "output_type": "execute_result"
    }
   ],
   "source": [
    "word_embs.shape"
   ]
  },
  {
   "cell_type": "code",
   "execution_count": 60,
   "metadata": {
    "ExecuteTime": {
     "end_time": "2021-06-22T03:44:28.593090Z",
     "start_time": "2021-06-22T03:44:28.577086Z"
    }
   },
   "outputs": [
    {
     "data": {
      "text/plain": [
       "(1, 768)"
      ]
     },
     "execution_count": 60,
     "metadata": {},
     "output_type": "execute_result"
    }
   ],
   "source": [
    "pool_embs.shape"
   ]
  },
  {
   "cell_type": "code",
   "execution_count": 139,
   "metadata": {
    "ExecuteTime": {
     "end_time": "2021-06-22T10:14:09.353808Z",
     "start_time": "2021-06-22T10:14:09.293271Z"
    }
   },
   "outputs": [],
   "source": [
    "path = \"E:/LOMBA/Kaggle/Comp/Coommon readilbility/\"\n",
    "train = pd.read_csv(path + 'train.csv')\n",
    "test = pd.read_csv(path + 'test.csv')\n",
    "sample_submission = pd.read_csv(path + 'sample_submission.csv')"
   ]
  },
  {
   "cell_type": "code",
   "execution_count": 140,
   "metadata": {
    "ExecuteTime": {
     "end_time": "2021-06-22T10:14:10.438636Z",
     "start_time": "2021-06-22T10:14:10.421600Z"
    }
   },
   "outputs": [],
   "source": [
    "STOPWORDS = set(stopwords.words(\"english\"))\n",
    "def text_cleaning(text):\n",
    "    text_clean = \" \".join([word for word in word_tokenize(text) if not word in STOPWORDS])\n",
    "    text = re.sub(\"\\s+\",\" \", text_clean) # remove extra spaces\n",
    "    text = ''.join([k for k in text if k not in string.punctuation]) # remove punctuation\n",
    "    text = re.sub('[^A-Za-z0-9]+', ' ', str(text).lower()).strip() # remove unnecessary literals and Perform Case Normalization\n",
    "    text = ''.join([i for i in text if not i.isdigit()])\n",
    "    return text"
   ]
  },
  {
   "cell_type": "code",
   "execution_count": 141,
   "metadata": {
    "ExecuteTime": {
     "end_time": "2021-06-22T10:14:11.729292Z",
     "start_time": "2021-06-22T10:14:11.723292Z"
    }
   },
   "outputs": [],
   "source": [
    "target = train.target.to_numpy()\n",
    "text = train.excerpt.to_numpy()"
   ]
  },
  {
   "cell_type": "code",
   "execution_count": 142,
   "metadata": {
    "ExecuteTime": {
     "end_time": "2021-06-22T10:14:15.965899Z",
     "start_time": "2021-06-22T10:14:12.158902Z"
    }
   },
   "outputs": [],
   "source": [
    "txt_clean = []\n",
    "for sentence_ in text:\n",
    "    clean_txt = text_cleaning(sentence_)\n",
    "    txt_clean.append(clean_txt)"
   ]
  },
  {
   "cell_type": "code",
   "execution_count": 129,
   "metadata": {
    "ExecuteTime": {
     "end_time": "2021-06-22T10:05:01.692289Z",
     "start_time": "2021-06-22T10:05:01.689253Z"
    }
   },
   "outputs": [],
   "source": [
    "def proprocess_albert(sentence_list):\n",
    "    ip = create_input_array(sentence_list)\n",
    "    pool_embs, all_embs = albert_model.predict(ip)\n",
    "    print (pool_embs.shape, all_embs.shape)\n",
    "    normalized_embedding  = tf.nn.l2_normalize(pool_embs, axis=1)\n",
    "    return all_embs"
   ]
  },
  {
   "cell_type": "code",
   "execution_count": 130,
   "metadata": {
    "ExecuteTime": {
     "end_time": "2021-06-22T10:08:05.061642Z",
     "start_time": "2021-06-22T10:05:03.141351Z"
    }
   },
   "outputs": [
    {
     "name": "stderr",
     "output_type": "stream",
     "text": [
      "100%|████████████████████████████████████████████████████████████████████████████| 2834/2834 [00:00<00:00, 3507.30it/s]\n"
     ]
    },
    {
     "ename": "KeyboardInterrupt",
     "evalue": "",
     "output_type": "error",
     "traceback": [
      "\u001b[1;31m---------------------------------------------------------------------------\u001b[0m",
      "\u001b[1;31mKeyboardInterrupt\u001b[0m                         Traceback (most recent call last)",
      "\u001b[1;32m<ipython-input-130-dd5596fd62f8>\u001b[0m in \u001b[0;36m<module>\u001b[1;34m\u001b[0m\n\u001b[1;32m----> 1\u001b[1;33m \u001b[0membed_albert\u001b[0m \u001b[1;33m=\u001b[0m \u001b[0mproprocess_albert\u001b[0m\u001b[1;33m(\u001b[0m\u001b[0mtxt_clean\u001b[0m\u001b[1;33m)\u001b[0m\u001b[1;33m\u001b[0m\u001b[1;33m\u001b[0m\u001b[0m\n\u001b[0m",
      "\u001b[1;32m<ipython-input-129-e1be7b7a17dd>\u001b[0m in \u001b[0;36mproprocess_albert\u001b[1;34m(sentence_list)\u001b[0m\n\u001b[0;32m      1\u001b[0m \u001b[1;32mdef\u001b[0m \u001b[0mproprocess_albert\u001b[0m\u001b[1;33m(\u001b[0m\u001b[0msentence_list\u001b[0m\u001b[1;33m)\u001b[0m\u001b[1;33m:\u001b[0m\u001b[1;33m\u001b[0m\u001b[1;33m\u001b[0m\u001b[0m\n\u001b[0;32m      2\u001b[0m     \u001b[0mip\u001b[0m \u001b[1;33m=\u001b[0m \u001b[0mcreate_input_array\u001b[0m\u001b[1;33m(\u001b[0m\u001b[0msentence_list\u001b[0m\u001b[1;33m)\u001b[0m\u001b[1;33m\u001b[0m\u001b[1;33m\u001b[0m\u001b[0m\n\u001b[1;32m----> 3\u001b[1;33m     \u001b[0mpool_embs\u001b[0m\u001b[1;33m,\u001b[0m \u001b[0mall_embs\u001b[0m \u001b[1;33m=\u001b[0m \u001b[0malbert_model\u001b[0m\u001b[1;33m.\u001b[0m\u001b[0mpredict\u001b[0m\u001b[1;33m(\u001b[0m\u001b[0mip\u001b[0m\u001b[1;33m)\u001b[0m\u001b[1;33m\u001b[0m\u001b[1;33m\u001b[0m\u001b[0m\n\u001b[0m\u001b[0;32m      4\u001b[0m     \u001b[0mprint\u001b[0m \u001b[1;33m(\u001b[0m\u001b[0mpool_embs\u001b[0m\u001b[1;33m.\u001b[0m\u001b[0mshape\u001b[0m\u001b[1;33m,\u001b[0m \u001b[0mall_embs\u001b[0m\u001b[1;33m.\u001b[0m\u001b[0mshape\u001b[0m\u001b[1;33m)\u001b[0m\u001b[1;33m\u001b[0m\u001b[1;33m\u001b[0m\u001b[0m\n\u001b[0;32m      5\u001b[0m     \u001b[0mnormalized_embedding\u001b[0m  \u001b[1;33m=\u001b[0m \u001b[0mtf\u001b[0m\u001b[1;33m.\u001b[0m\u001b[0mnn\u001b[0m\u001b[1;33m.\u001b[0m\u001b[0ml2_normalize\u001b[0m\u001b[1;33m(\u001b[0m\u001b[0mpool_embs\u001b[0m\u001b[1;33m,\u001b[0m \u001b[0maxis\u001b[0m\u001b[1;33m=\u001b[0m\u001b[1;36m1\u001b[0m\u001b[1;33m)\u001b[0m\u001b[1;33m\u001b[0m\u001b[1;33m\u001b[0m\u001b[0m\n",
      "\u001b[1;32m~\\Anaconda3\\lib\\site-packages\\tensorflow\\python\\keras\\engine\\training.py\u001b[0m in \u001b[0;36mpredict\u001b[1;34m(self, x, batch_size, verbose, steps, callbacks, max_queue_size, workers, use_multiprocessing)\u001b[0m\n\u001b[0;32m   1725\u001b[0m           \u001b[1;32mfor\u001b[0m \u001b[0mstep\u001b[0m \u001b[1;32min\u001b[0m \u001b[0mdata_handler\u001b[0m\u001b[1;33m.\u001b[0m\u001b[0msteps\u001b[0m\u001b[1;33m(\u001b[0m\u001b[1;33m)\u001b[0m\u001b[1;33m:\u001b[0m\u001b[1;33m\u001b[0m\u001b[1;33m\u001b[0m\u001b[0m\n\u001b[0;32m   1726\u001b[0m             \u001b[0mcallbacks\u001b[0m\u001b[1;33m.\u001b[0m\u001b[0mon_predict_batch_begin\u001b[0m\u001b[1;33m(\u001b[0m\u001b[0mstep\u001b[0m\u001b[1;33m)\u001b[0m\u001b[1;33m\u001b[0m\u001b[1;33m\u001b[0m\u001b[0m\n\u001b[1;32m-> 1727\u001b[1;33m             \u001b[0mtmp_batch_outputs\u001b[0m \u001b[1;33m=\u001b[0m \u001b[0mself\u001b[0m\u001b[1;33m.\u001b[0m\u001b[0mpredict_function\u001b[0m\u001b[1;33m(\u001b[0m\u001b[0miterator\u001b[0m\u001b[1;33m)\u001b[0m\u001b[1;33m\u001b[0m\u001b[1;33m\u001b[0m\u001b[0m\n\u001b[0m\u001b[0;32m   1728\u001b[0m             \u001b[1;32mif\u001b[0m \u001b[0mdata_handler\u001b[0m\u001b[1;33m.\u001b[0m\u001b[0mshould_sync\u001b[0m\u001b[1;33m:\u001b[0m\u001b[1;33m\u001b[0m\u001b[1;33m\u001b[0m\u001b[0m\n\u001b[0;32m   1729\u001b[0m               \u001b[0mcontext\u001b[0m\u001b[1;33m.\u001b[0m\u001b[0masync_wait\u001b[0m\u001b[1;33m(\u001b[0m\u001b[1;33m)\u001b[0m\u001b[1;33m\u001b[0m\u001b[1;33m\u001b[0m\u001b[0m\n",
      "\u001b[1;32m~\\Anaconda3\\lib\\site-packages\\tensorflow\\python\\eager\\def_function.py\u001b[0m in \u001b[0;36m__call__\u001b[1;34m(self, *args, **kwds)\u001b[0m\n\u001b[0;32m    887\u001b[0m \u001b[1;33m\u001b[0m\u001b[0m\n\u001b[0;32m    888\u001b[0m       \u001b[1;32mwith\u001b[0m \u001b[0mOptionalXlaContext\u001b[0m\u001b[1;33m(\u001b[0m\u001b[0mself\u001b[0m\u001b[1;33m.\u001b[0m\u001b[0m_jit_compile\u001b[0m\u001b[1;33m)\u001b[0m\u001b[1;33m:\u001b[0m\u001b[1;33m\u001b[0m\u001b[1;33m\u001b[0m\u001b[0m\n\u001b[1;32m--> 889\u001b[1;33m         \u001b[0mresult\u001b[0m \u001b[1;33m=\u001b[0m \u001b[0mself\u001b[0m\u001b[1;33m.\u001b[0m\u001b[0m_call\u001b[0m\u001b[1;33m(\u001b[0m\u001b[1;33m*\u001b[0m\u001b[0margs\u001b[0m\u001b[1;33m,\u001b[0m \u001b[1;33m**\u001b[0m\u001b[0mkwds\u001b[0m\u001b[1;33m)\u001b[0m\u001b[1;33m\u001b[0m\u001b[1;33m\u001b[0m\u001b[0m\n\u001b[0m\u001b[0;32m    890\u001b[0m \u001b[1;33m\u001b[0m\u001b[0m\n\u001b[0;32m    891\u001b[0m       \u001b[0mnew_tracing_count\u001b[0m \u001b[1;33m=\u001b[0m \u001b[0mself\u001b[0m\u001b[1;33m.\u001b[0m\u001b[0mexperimental_get_tracing_count\u001b[0m\u001b[1;33m(\u001b[0m\u001b[1;33m)\u001b[0m\u001b[1;33m\u001b[0m\u001b[1;33m\u001b[0m\u001b[0m\n",
      "\u001b[1;32m~\\Anaconda3\\lib\\site-packages\\tensorflow\\python\\eager\\def_function.py\u001b[0m in \u001b[0;36m_call\u001b[1;34m(self, *args, **kwds)\u001b[0m\n\u001b[0;32m    922\u001b[0m       \u001b[1;31m# In this case we have not created variables on the first call. So we can\u001b[0m\u001b[1;33m\u001b[0m\u001b[1;33m\u001b[0m\u001b[1;33m\u001b[0m\u001b[0m\n\u001b[0;32m    923\u001b[0m       \u001b[1;31m# run the first trace but we should fail if variables are created.\u001b[0m\u001b[1;33m\u001b[0m\u001b[1;33m\u001b[0m\u001b[1;33m\u001b[0m\u001b[0m\n\u001b[1;32m--> 924\u001b[1;33m       \u001b[0mresults\u001b[0m \u001b[1;33m=\u001b[0m \u001b[0mself\u001b[0m\u001b[1;33m.\u001b[0m\u001b[0m_stateful_fn\u001b[0m\u001b[1;33m(\u001b[0m\u001b[1;33m*\u001b[0m\u001b[0margs\u001b[0m\u001b[1;33m,\u001b[0m \u001b[1;33m**\u001b[0m\u001b[0mkwds\u001b[0m\u001b[1;33m)\u001b[0m\u001b[1;33m\u001b[0m\u001b[1;33m\u001b[0m\u001b[0m\n\u001b[0m\u001b[0;32m    925\u001b[0m       \u001b[1;32mif\u001b[0m \u001b[0mself\u001b[0m\u001b[1;33m.\u001b[0m\u001b[0m_created_variables\u001b[0m\u001b[1;33m:\u001b[0m\u001b[1;33m\u001b[0m\u001b[1;33m\u001b[0m\u001b[0m\n\u001b[0;32m    926\u001b[0m         raise ValueError(\"Creating variables on a non-first call to a function\"\n",
      "\u001b[1;32m~\\Anaconda3\\lib\\site-packages\\tensorflow\\python\\eager\\function.py\u001b[0m in \u001b[0;36m__call__\u001b[1;34m(self, *args, **kwargs)\u001b[0m\n\u001b[0;32m   3022\u001b[0m        filtered_flat_args) = self._maybe_define_function(args, kwargs)\n\u001b[0;32m   3023\u001b[0m     return graph_function._call_flat(\n\u001b[1;32m-> 3024\u001b[1;33m         filtered_flat_args, captured_inputs=graph_function.captured_inputs)  # pylint: disable=protected-access\n\u001b[0m\u001b[0;32m   3025\u001b[0m \u001b[1;33m\u001b[0m\u001b[0m\n\u001b[0;32m   3026\u001b[0m   \u001b[1;33m@\u001b[0m\u001b[0mproperty\u001b[0m\u001b[1;33m\u001b[0m\u001b[1;33m\u001b[0m\u001b[0m\n",
      "\u001b[1;32m~\\Anaconda3\\lib\\site-packages\\tensorflow\\python\\eager\\function.py\u001b[0m in \u001b[0;36m_call_flat\u001b[1;34m(self, args, captured_inputs, cancellation_manager)\u001b[0m\n\u001b[0;32m   1959\u001b[0m       \u001b[1;31m# No tape is watching; skip to running the function.\u001b[0m\u001b[1;33m\u001b[0m\u001b[1;33m\u001b[0m\u001b[1;33m\u001b[0m\u001b[0m\n\u001b[0;32m   1960\u001b[0m       return self._build_call_outputs(self._inference_function.call(\n\u001b[1;32m-> 1961\u001b[1;33m           ctx, args, cancellation_manager=cancellation_manager))\n\u001b[0m\u001b[0;32m   1962\u001b[0m     forward_backward = self._select_forward_and_backward_functions(\n\u001b[0;32m   1963\u001b[0m         \u001b[0margs\u001b[0m\u001b[1;33m,\u001b[0m\u001b[1;33m\u001b[0m\u001b[1;33m\u001b[0m\u001b[0m\n",
      "\u001b[1;32m~\\Anaconda3\\lib\\site-packages\\tensorflow\\python\\eager\\function.py\u001b[0m in \u001b[0;36mcall\u001b[1;34m(self, ctx, args, cancellation_manager)\u001b[0m\n\u001b[0;32m    594\u001b[0m               \u001b[0minputs\u001b[0m\u001b[1;33m=\u001b[0m\u001b[0margs\u001b[0m\u001b[1;33m,\u001b[0m\u001b[1;33m\u001b[0m\u001b[1;33m\u001b[0m\u001b[0m\n\u001b[0;32m    595\u001b[0m               \u001b[0mattrs\u001b[0m\u001b[1;33m=\u001b[0m\u001b[0mattrs\u001b[0m\u001b[1;33m,\u001b[0m\u001b[1;33m\u001b[0m\u001b[1;33m\u001b[0m\u001b[0m\n\u001b[1;32m--> 596\u001b[1;33m               ctx=ctx)\n\u001b[0m\u001b[0;32m    597\u001b[0m         \u001b[1;32melse\u001b[0m\u001b[1;33m:\u001b[0m\u001b[1;33m\u001b[0m\u001b[1;33m\u001b[0m\u001b[0m\n\u001b[0;32m    598\u001b[0m           outputs = execute.execute_with_cancellation(\n",
      "\u001b[1;32m~\\Anaconda3\\lib\\site-packages\\tensorflow\\python\\eager\\execute.py\u001b[0m in \u001b[0;36mquick_execute\u001b[1;34m(op_name, num_outputs, inputs, attrs, ctx, name)\u001b[0m\n\u001b[0;32m     58\u001b[0m     \u001b[0mctx\u001b[0m\u001b[1;33m.\u001b[0m\u001b[0mensure_initialized\u001b[0m\u001b[1;33m(\u001b[0m\u001b[1;33m)\u001b[0m\u001b[1;33m\u001b[0m\u001b[1;33m\u001b[0m\u001b[0m\n\u001b[0;32m     59\u001b[0m     tensors = pywrap_tfe.TFE_Py_Execute(ctx._handle, device_name, op_name,\n\u001b[1;32m---> 60\u001b[1;33m                                         inputs, attrs, num_outputs)\n\u001b[0m\u001b[0;32m     61\u001b[0m   \u001b[1;32mexcept\u001b[0m \u001b[0mcore\u001b[0m\u001b[1;33m.\u001b[0m\u001b[0m_NotOkStatusException\u001b[0m \u001b[1;32mas\u001b[0m \u001b[0me\u001b[0m\u001b[1;33m:\u001b[0m\u001b[1;33m\u001b[0m\u001b[1;33m\u001b[0m\u001b[0m\n\u001b[0;32m     62\u001b[0m     \u001b[1;32mif\u001b[0m \u001b[0mname\u001b[0m \u001b[1;32mis\u001b[0m \u001b[1;32mnot\u001b[0m \u001b[1;32mNone\u001b[0m\u001b[1;33m:\u001b[0m\u001b[1;33m\u001b[0m\u001b[1;33m\u001b[0m\u001b[0m\n",
      "\u001b[1;31mKeyboardInterrupt\u001b[0m: "
     ]
    }
   ],
   "source": [
    "embed_albert = proprocess_albert(txt_clean)"
   ]
  },
  {
   "cell_type": "code",
   "execution_count": 95,
   "metadata": {
    "ExecuteTime": {
     "end_time": "2021-06-22T09:58:19.163279Z",
     "start_time": "2021-06-22T09:58:19.145243Z"
    }
   },
   "outputs": [
    {
     "data": {
      "text/plain": [
       "(2834, 768)"
      ]
     },
     "execution_count": 95,
     "metadata": {},
     "output_type": "execute_result"
    }
   ],
   "source": [
    "n = []\n",
    "for x in range(0, 22):\n",
    "    n = ((embed_albert[:, x, :]))\n",
    "n.shape"
   ]
  },
  {
   "cell_type": "code",
   "execution_count": 93,
   "metadata": {
    "ExecuteTime": {
     "end_time": "2021-06-22T09:57:39.467016Z",
     "start_time": "2021-06-22T09:57:39.451021Z"
    }
   },
   "outputs": [
    {
     "data": {
      "text/plain": [
       "-0.015551242"
      ]
     },
     "execution_count": 93,
     "metadata": {},
     "output_type": "execute_result"
    }
   ],
   "source": [
    "b"
   ]
  },
  {
   "cell_type": "code",
   "execution_count": 73,
   "metadata": {
    "ExecuteTime": {
     "end_time": "2021-06-22T09:53:20.658866Z",
     "start_time": "2021-06-22T09:53:20.645864Z"
    }
   },
   "outputs": [],
   "source": [
    "embed_albert = embed_albert[:, 0, :]"
   ]
  },
  {
   "cell_type": "code",
   "execution_count": 74,
   "metadata": {
    "ExecuteTime": {
     "end_time": "2021-06-22T09:53:20.802981Z",
     "start_time": "2021-06-22T09:53:20.661867Z"
    }
   },
   "outputs": [],
   "source": [
    "import lightgbm as lgb\n",
    "\n",
    "from sklearn.model_selection import KFold\n",
    "from sklearn.model_selection import train_test_split\n",
    "from sklearn.metrics import r2_score, mean_squared_error"
   ]
  },
  {
   "cell_type": "code",
   "execution_count": 75,
   "metadata": {
    "ExecuteTime": {
     "end_time": "2021-06-22T09:53:20.896096Z",
     "start_time": "2021-06-22T09:53:20.803834Z"
    }
   },
   "outputs": [
    {
     "name": "stdout",
     "output_type": "stream",
     "text": [
      "(2834, 768)\n",
      "(2834,)\n"
     ]
    }
   ],
   "source": [
    "print (embed_albert.shape)\n",
    "print (target.shape)"
   ]
  },
  {
   "cell_type": "code",
   "execution_count": 76,
   "metadata": {
    "ExecuteTime": {
     "end_time": "2021-06-22T09:53:27.457901Z",
     "start_time": "2021-06-22T09:53:27.442892Z"
    }
   },
   "outputs": [],
   "source": [
    "train_x, test_x, train_y, test_y = train_test_split(np.array(embed_albert), target, test_size=0.1, shuffle=True, random_state=99)"
   ]
  },
  {
   "cell_type": "code",
   "execution_count": 81,
   "metadata": {
    "ExecuteTime": {
     "end_time": "2021-06-22T09:54:02.521816Z",
     "start_time": "2021-06-22T09:54:02.510782Z"
    }
   },
   "outputs": [],
   "source": [
    "#parameter settings\n",
    "params = {'boosting_type': 'gbdt',\n",
    " 'metrics': 'rmse',\n",
    " 'objective': 'regression',\n",
    " 'seed': 99,\n",
    " 'learning_rate': 0.01,\n",
    " 'n_jobs': -1,\n",
    " 'verbose': -1}\n",
    "pred = np.zeros(test.shape[0])"
   ]
  },
  {
   "cell_type": "code",
   "execution_count": 82,
   "metadata": {
    "ExecuteTime": {
     "end_time": "2021-06-22T09:54:02.879452Z",
     "start_time": "2021-06-22T09:54:02.861455Z"
    }
   },
   "outputs": [],
   "source": [
    "fold = KFold(5, shuffle=True, random_state=42)\n",
    "cv = list(fold.split(np.array(embed_albert), target))"
   ]
  },
  {
   "cell_type": "code",
   "execution_count": 83,
   "metadata": {
    "ExecuteTime": {
     "end_time": "2021-06-22T09:55:17.453598Z",
     "start_time": "2021-06-22T09:54:03.324196Z"
    }
   },
   "outputs": [
    {
     "name": "stdout",
     "output_type": "stream",
     "text": [
      "Training until validation scores don't improve for 100 rounds\n",
      "Early stopping, best iteration is:\n",
      "[1385]\ttraining's rmse: 0.0799242\tvalid_1's rmse: 0.77407\n",
      "Training until validation scores don't improve for 100 rounds\n",
      "Early stopping, best iteration is:\n",
      "[752]\ttraining's rmse: 0.212427\tvalid_1's rmse: 0.7595\n",
      "Training until validation scores don't improve for 100 rounds\n",
      "Early stopping, best iteration is:\n",
      "[793]\ttraining's rmse: 0.195463\tvalid_1's rmse: 0.795396\n",
      "Training until validation scores don't improve for 100 rounds\n"
     ]
    },
    {
     "ename": "KeyboardInterrupt",
     "evalue": "",
     "output_type": "error",
     "traceback": [
      "\u001b[1;31m---------------------------------------------------------------------------\u001b[0m",
      "\u001b[1;31mKeyboardInterrupt\u001b[0m                         Traceback (most recent call last)",
      "\u001b[1;32m<ipython-input-83-0be0dee6d06b>\u001b[0m in \u001b[0;36m<module>\u001b[1;34m\u001b[0m\n\u001b[0;32m     10\u001b[0m     \u001b[1;31m# Training\u001b[0m\u001b[1;33m\u001b[0m\u001b[1;33m\u001b[0m\u001b[1;33m\u001b[0m\u001b[0m\n\u001b[0;32m     11\u001b[0m     model = lgb.train(params, train_set, num_boost_round=10000, early_stopping_rounds=100,\n\u001b[1;32m---> 12\u001b[1;33m                       valid_sets=[train_set, val_set], verbose_eval=-1)\n\u001b[0m\u001b[0;32m     13\u001b[0m \u001b[1;33m\u001b[0m\u001b[0m\n\u001b[0;32m     14\u001b[0m     \u001b[0my_pred\u001b[0m \u001b[1;33m=\u001b[0m \u001b[0mmodel\u001b[0m\u001b[1;33m.\u001b[0m\u001b[0mpredict\u001b[0m\u001b[1;33m(\u001b[0m\u001b[0mx_va\u001b[0m\u001b[1;33m)\u001b[0m\u001b[1;33m\u001b[0m\u001b[1;33m\u001b[0m\u001b[0m\n",
      "\u001b[1;32m~\\Anaconda3\\lib\\site-packages\\lightgbm\\engine.py\u001b[0m in \u001b[0;36mtrain\u001b[1;34m(params, train_set, num_boost_round, valid_sets, valid_names, fobj, feval, init_model, feature_name, categorical_feature, early_stopping_rounds, evals_result, verbose_eval, learning_rates, keep_training_booster, callbacks)\u001b[0m\n\u001b[0;32m    247\u001b[0m                                     evaluation_result_list=None))\n\u001b[0;32m    248\u001b[0m \u001b[1;33m\u001b[0m\u001b[0m\n\u001b[1;32m--> 249\u001b[1;33m         \u001b[0mbooster\u001b[0m\u001b[1;33m.\u001b[0m\u001b[0mupdate\u001b[0m\u001b[1;33m(\u001b[0m\u001b[0mfobj\u001b[0m\u001b[1;33m=\u001b[0m\u001b[0mfobj\u001b[0m\u001b[1;33m)\u001b[0m\u001b[1;33m\u001b[0m\u001b[1;33m\u001b[0m\u001b[0m\n\u001b[0m\u001b[0;32m    250\u001b[0m \u001b[1;33m\u001b[0m\u001b[0m\n\u001b[0;32m    251\u001b[0m         \u001b[0mevaluation_result_list\u001b[0m \u001b[1;33m=\u001b[0m \u001b[1;33m[\u001b[0m\u001b[1;33m]\u001b[0m\u001b[1;33m\u001b[0m\u001b[1;33m\u001b[0m\u001b[0m\n",
      "\u001b[1;32m~\\Anaconda3\\lib\\site-packages\\lightgbm\\basic.py\u001b[0m in \u001b[0;36mupdate\u001b[1;34m(self, train_set, fobj)\u001b[0m\n\u001b[0;32m   2643\u001b[0m             _safe_call(_LIB.LGBM_BoosterUpdateOneIter(\n\u001b[0;32m   2644\u001b[0m                 \u001b[0mself\u001b[0m\u001b[1;33m.\u001b[0m\u001b[0mhandle\u001b[0m\u001b[1;33m,\u001b[0m\u001b[1;33m\u001b[0m\u001b[1;33m\u001b[0m\u001b[0m\n\u001b[1;32m-> 2645\u001b[1;33m                 ctypes.byref(is_finished)))\n\u001b[0m\u001b[0;32m   2646\u001b[0m             \u001b[0mself\u001b[0m\u001b[1;33m.\u001b[0m\u001b[0m__is_predicted_cur_iter\u001b[0m \u001b[1;33m=\u001b[0m \u001b[1;33m[\u001b[0m\u001b[1;32mFalse\u001b[0m \u001b[1;32mfor\u001b[0m \u001b[0m_\u001b[0m \u001b[1;32min\u001b[0m \u001b[0mrange\u001b[0m\u001b[1;33m(\u001b[0m\u001b[0mself\u001b[0m\u001b[1;33m.\u001b[0m\u001b[0m__num_dataset\u001b[0m\u001b[1;33m)\u001b[0m\u001b[1;33m]\u001b[0m\u001b[1;33m\u001b[0m\u001b[1;33m\u001b[0m\u001b[0m\n\u001b[0;32m   2647\u001b[0m             \u001b[1;32mreturn\u001b[0m \u001b[0mis_finished\u001b[0m\u001b[1;33m.\u001b[0m\u001b[0mvalue\u001b[0m \u001b[1;33m==\u001b[0m \u001b[1;36m1\u001b[0m\u001b[1;33m\u001b[0m\u001b[1;33m\u001b[0m\u001b[0m\n",
      "\u001b[1;31mKeyboardInterrupt\u001b[0m: "
     ]
    }
   ],
   "source": [
    "rmses = []\n",
    "for tr_idx, val_idx in cv: \n",
    "\n",
    "    x_tr, x_va = np.array(embed_albert)[tr_idx], np.array(embed_albert)[val_idx]\n",
    "    y_tr, y_va = target[tr_idx], target[val_idx]\n",
    "        \n",
    "    train_set = lgb.Dataset(x_tr, y_tr)\n",
    "    val_set = lgb.Dataset(x_va, y_va, reference=train_set)\n",
    "        \n",
    "    # Training\n",
    "    model = lgb.train(params, train_set, num_boost_round=10000, early_stopping_rounds=100,\n",
    "                      valid_sets=[train_set, val_set], verbose_eval=-1)\n",
    "        \n",
    "    y_pred = model.predict(x_va)\n",
    "    rmse =  np.sqrt(mean_squared_error(y_va, y_pred))\n",
    "    rmses.append(rmse)\n",
    "\n",
    "        \n",
    "print(\"\\n\", \"Mean Fold RMSE:\", np.mean(rmses))   \n",
    "pd.Series(model.predict(x_va)).hist()\n"
   ]
  },
  {
   "cell_type": "markdown",
   "metadata": {},
   "source": [
    "# Albert Base Train Model"
   ]
  },
  {
   "cell_type": "code",
   "execution_count": 170,
   "metadata": {
    "ExecuteTime": {
     "end_time": "2021-06-22T10:29:47.305664Z",
     "start_time": "2021-06-22T10:29:47.227520Z"
    }
   },
   "outputs": [],
   "source": [
    "import tensorflow_text as text "
   ]
  },
  {
   "cell_type": "code",
   "execution_count": 171,
   "metadata": {
    "ExecuteTime": {
     "end_time": "2021-06-22T10:30:13.821910Z",
     "start_time": "2021-06-22T10:30:06.773266Z"
    }
   },
   "outputs": [],
   "source": [
    "albert_layer_train = hub.KerasLayer(\"albert_en_base/1\", trainable=True)\n",
    "preprocessor = hub.KerasLayer(\"https://tfhub.dev/tensorflow/albert_en_preprocess/3\")"
   ]
  },
  {
   "cell_type": "code",
   "execution_count": 135,
   "metadata": {
    "ExecuteTime": {
     "end_time": "2021-06-22T10:10:21.624690Z",
     "start_time": "2021-06-22T10:10:21.611691Z"
    }
   },
   "outputs": [
    {
     "name": "stdout",
     "output_type": "stream",
     "text": [
      "Model: \"model_albert_trainable\"\n",
      "__________________________________________________________________________________________________\n",
      "Layer (type)                    Output Shape         Param #     Connected to                     \n",
      "==================================================================================================\n",
      "input_word_ids (InputLayer)     [(None, 102)]        0                                            \n",
      "__________________________________________________________________________________________________\n",
      "input_mask (InputLayer)         [(None, 102)]        0                                            \n",
      "__________________________________________________________________________________________________\n",
      "segment_ids (InputLayer)        [(None, 102)]        0                                            \n",
      "__________________________________________________________________________________________________\n",
      "keras_layer_3 (KerasLayer)      [(None, 768), (None, 11683584    input_word_ids[0][0]             \n",
      "                                                                 input_mask[0][0]                 \n",
      "                                                                 segment_ids[0][0]                \n",
      "__________________________________________________________________________________________________\n",
      "dropout_1 (Dropout)             (None, 768)          0           keras_layer_3[0][0]              \n",
      "__________________________________________________________________________________________________\n",
      "classifier (Dense)              (None, 1)            769         dropout_1[0][0]                  \n",
      "==================================================================================================\n",
      "Total params: 11,684,353\n",
      "Trainable params: 11,684,353\n",
      "Non-trainable params: 0\n",
      "__________________________________________________________________________________________________\n"
     ]
    }
   ],
   "source": [
    "def albert_base_model():\n",
    "    input_word_ids = tf.keras.layers.Input(shape=(MAX_SEQ_LEN,), dtype=tf.int32,\n",
    "                                       name=\"input_word_ids\")\n",
    "    input_mask = tf.keras.layers.Input(shape=(MAX_SEQ_LEN,), dtype=tf.int32,\n",
    "                                   name=\"input_mask\")\n",
    "    segment_ids = tf.keras.layers.Input(shape=(MAX_SEQ_LEN,), dtype=tf.int32,\n",
    "                                    name=\"segment_ids\")\n",
    "    pooled_output, sequence_output = albert_layer_train([input_word_ids, input_mask, segment_ids])\n",
    "    \n",
    "    net = tf.keras.layers.Dropout(0.1)(pooled_output)\n",
    "    net = tf.keras.layers.Dense(1, activation=None, name='classifier')(net)\n",
    "    model = tf.keras.models.Model(inputs=[input_word_ids, input_mask, segment_ids], outputs=net, name=\"model_albert_trainable\")\n",
    "    return model\n",
    "albert_model = albert_base_model()\n",
    "albert_model.summary()"
   ]
  },
  {
   "cell_type": "code",
   "execution_count": 136,
   "metadata": {
    "ExecuteTime": {
     "end_time": "2021-06-22T10:11:10.594899Z",
     "start_time": "2021-06-22T10:11:10.449981Z"
    }
   },
   "outputs": [
    {
     "data": {
      "image/png": "[encoded data removed]",
      "text/plain": [
       "<IPython.core.display.Image object>"
      ]
     },
     "execution_count": 136,
     "metadata": {},
     "output_type": "execute_result"
    }
   ],
   "source": [
    "plot_model(albert_model)"
   ]
  },
  {
   "cell_type": "code",
   "execution_count": 137,
   "metadata": {
    "ExecuteTime": {
     "end_time": "2021-06-22T10:13:09.751447Z",
     "start_time": "2021-06-22T10:13:09.701446Z"
    }
   },
   "outputs": [],
   "source": [
    "loss = \"mean_squared_error\"\n",
    "metrics = tf.keras.metrics.RootMeanSquaredError()"
   ]
  },
  {
   "cell_type": "code",
   "execution_count": 168,
   "metadata": {
    "ExecuteTime": {
     "end_time": "2021-06-22T10:26:13.660174Z",
     "start_time": "2021-06-22T10:26:13.646139Z"
    }
   },
   "outputs": [],
   "source": [
    "def create_single_input(sentence, MAX_LEN, MAX_SEQ_LEN):\n",
    "    stokens = tokenizer.tokenize(sentence)\n",
    "    stokens = stokens[:MAX_LEN]\n",
    "    stokens = [\"[CLS]\"] + stokens + [\"[SEP]\"]\n",
    "\n",
    "    ids = get_ids(stokens, tokenizer, MAX_SEQ_LEN)\n",
    "    masks = get_masks(stokens, MAX_SEQ_LEN)\n",
    "    segments = get_segments(stokens, MAX_SEQ_LEN)\n",
    "\n",
    "    return ids,masks,segments"
   ]
  },
  {
   "cell_type": "code",
   "execution_count": 169,
   "metadata": {
    "ExecuteTime": {
     "end_time": "2021-06-22T10:26:22.917529Z",
     "start_time": "2021-06-22T10:26:22.898523Z"
    }
   },
   "outputs": [],
   "source": [
    "def create_input_array(sentences):\n",
    "    input_ids, input_masks, input_segments = [], [], []\n",
    "\n",
    "    for sentence in tqdm(sentences,position=0, leave=True):\n",
    "        ids,masks,segments=create_single_input(sentence,MAX_LEN, MAX_SEQ_LEN)\n",
    "        input_ids.append(ids)\n",
    "        input_masks.append(masks)\n",
    "        input_segments.append(segments)\n",
    "\n",
    "    return [tf.constant(input_ids, dtype=np.int32), \n",
    "            tf.constant(input_masks, dtype=np.int32), \n",
    "            tf.constant(input_segments, dtype=np.int32)]"
   ]
  },
  {
   "cell_type": "code",
   "execution_count": 164,
   "metadata": {
    "ExecuteTime": {
     "end_time": "2021-06-22T10:24:43.221453Z",
     "start_time": "2021-06-22T10:24:42.469406Z"
    }
   },
   "outputs": [
    {
     "name": "stderr",
     "output_type": "stream",
     "text": [
      "100%|████████████████████████████████████████████████████████████████████████████| 2834/2834 [00:00<00:00, 3952.42it/s]\n"
     ]
    },
    {
     "data": {
      "text/plain": [
       "(3, 2834, 102)"
      ]
     },
     "execution_count": 164,
     "metadata": {},
     "output_type": "execute_result"
    }
   ],
   "source": [
    "def albert_tokenizer(sentence_list):\n",
    "    ip = create_input_array(sentence_list)\n",
    "    return ip\n",
    "tokenizer_txt = np.array(albert_tokenizer(txt_clean))\n",
    "(tokenizer_txt).shape"
   ]
  },
  {
   "cell_type": "code",
   "execution_count": 143,
   "metadata": {
    "ExecuteTime": {
     "end_time": "2021-06-22T10:14:32.551505Z",
     "start_time": "2021-06-22T10:14:32.547490Z"
    }
   },
   "outputs": [],
   "source": [
    "train_x, test_x, train_y, test_y = train_test_split(txt_clean, target, test_size=0.1, shuffle=True, random_state=99)"
   ]
  },
  {
   "cell_type": "code",
   "execution_count": 156,
   "metadata": {
    "ExecuteTime": {
     "end_time": "2021-06-22T10:19:56.236095Z",
     "start_time": "2021-06-22T10:19:56.229062Z"
    }
   },
   "outputs": [
    {
     "name": "stdout",
     "output_type": "stream",
     "text": [
      "2550\n"
     ]
    }
   ],
   "source": [
    "dataset = tf.data.Dataset.range(len(train_y))\n",
    "print(tf.data.experimental.cardinality(dataset).numpy())"
   ]
  },
  {
   "cell_type": "code",
   "execution_count": 165,
   "metadata": {
    "ExecuteTime": {
     "end_time": "2021-06-22T10:26:01.487378Z",
     "start_time": "2021-06-22T10:26:01.385002Z"
    }
   },
   "outputs": [],
   "source": [
    "from official.nlp import optimization"
   ]
  },
  {
   "cell_type": "code",
   "execution_count": 166,
   "metadata": {
    "ExecuteTime": {
     "end_time": "2021-06-22T10:26:03.218430Z",
     "start_time": "2021-06-22T10:26:03.202419Z"
    }
   },
   "outputs": [],
   "source": [
    "epochs = 5\n",
    "steps_per_epoch = tf.data.experimental.cardinality(tf.data.Dataset.range(len(train_y))).numpy()\n",
    "num_train_steps = steps_per_epoch * epochs\n",
    "num_warmup_steps = int(0.1*num_train_steps)\n",
    "\n",
    "init_lr = 3e-5\n",
    "optimizer = optimization.create_optimizer(init_lr=init_lr,\n",
    "                                          num_train_steps=num_train_steps,\n",
    "                                          num_warmup_steps=num_warmup_steps,\n",
    "                                          optimizer_type='adamw')"
   ]
  },
  {
   "cell_type": "code",
   "execution_count": 167,
   "metadata": {
    "ExecuteTime": {
     "end_time": "2021-06-22T10:26:04.847488Z",
     "start_time": "2021-06-22T10:26:04.827476Z"
    }
   },
   "outputs": [],
   "source": [
    "albert_model.compile(optimizer=optimizer,\n",
    "                         loss=loss,\n",
    "                         metrics=metrics)"
   ]
  },
  {
   "cell_type": "code",
   "execution_count": null,
   "metadata": {},
   "outputs": [],
   "source": [
    "history = classifier_model.fit(x=train_x,\n",
    "                               validation_data=val_ds,\n",
    "                               epochs=epochs)"
   ]
  }
 ],
 "metadata": {
  "kernelspec": {
   "display_name": "Python 3",
   "language": "python",
   "name": "python3"
  },
  "language_info": {
   "codemirror_mode": {
    "name": "ipython",
    "version": 3
   },
   "file_extension": ".py",
   "mimetype": "text/x-python",
   "name": "python",
   "nbconvert_exporter": "python",
   "pygments_lexer": "ipython3",
   "version": "3.7.3"
  },
  "toc": {
   "base_numbering": 1,
   "nav_menu": {},
   "number_sections": true,
   "sideBar": true,
   "skip_h1_title": false,
   "title_cell": "Table of Contents",
   "title_sidebar": "Contents",
   "toc_cell": false,
   "toc_position": {},
   "toc_section_display": true,
   "toc_window_display": false
  }
 },
 "nbformat": 4,
 "nbformat_minor": 2
}
