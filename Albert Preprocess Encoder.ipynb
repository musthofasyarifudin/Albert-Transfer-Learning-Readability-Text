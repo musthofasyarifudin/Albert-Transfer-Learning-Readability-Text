{
 "cells": [
  {
   "cell_type": "code",
   "execution_count": 35,
   "id": "c836c65e",
   "metadata": {
    "ExecuteTime": {
     "end_time": "2021-06-22T10:43:16.665458Z",
     "start_time": "2021-06-22T10:43:16.567757Z"
    }
   },
   "outputs": [],
   "source": [
    "import tensorflow as tf \n",
    "import tensorflow_hub as hub\n",
    "import tensorflow_text\n",
    "\n",
    "import pandas as pd\n",
    "import numpy as np\n",
    "\n",
    "\n",
    "from nltk.corpus import stopwords\n",
    "from nltk.tokenize import word_tokenize \n",
    "import re\n",
    "import string\n",
    "\n",
    "from sklearn.model_selection import KFold\n",
    "from sklearn.model_selection import train_test_split\n",
    "from sklearn.metrics import r2_score, mean_squared_error\n",
    "\n",
    "from official.nlp import optimization"
   ]
  },
  {
   "cell_type": "code",
   "execution_count": 44,
   "id": "eb3d051f",
   "metadata": {
    "ExecuteTime": {
     "end_time": "2021-06-22T10:53:50.615041Z",
     "start_time": "2021-06-22T10:53:50.556893Z"
    }
   },
   "outputs": [],
   "source": [
    "path = \"E:/LOMBA/Kaggle/Comp/Coommon readilbility/\"\n",
    "train = pd.read_csv(path + 'train.csv')\n",
    "test = pd.read_csv(path + 'test.csv')\n",
    "sample_submission = pd.read_csv(path + 'sample_submission.csv')\n",
    "\n",
    "STOPWORDS = set(stopwords.words(\"english\"))\n",
    "def text_cleaning(text):\n",
    "    text_clean = \" \".join([word for word in word_tokenize(text) if not word in STOPWORDS])\n",
    "    text = re.sub(\"\\s+\",\" \", text_clean) # remove extra spaces\n",
    "    text = ''.join([k for k in text if k not in string.punctuation]) # remove punctuation\n",
    "    text = re.sub('[^A-Za-z0-9]+', ' ', str(text).lower()).strip() # remove unnecessary literals and Perform Case Normalization\n",
    "    text = ''.join([i for i in text if not i.isdigit()])\n",
    "    return text\n",
    "\n",
    "target = train.target.to_numpy()\n",
    "text = train.excerpt.to_numpy()"
   ]
  },
  {
   "cell_type": "code",
   "execution_count": 45,
   "id": "e7c0ed95",
   "metadata": {
    "ExecuteTime": {
     "end_time": "2021-06-22T10:54:17.578827Z",
     "start_time": "2021-06-22T10:54:17.564827Z"
    }
   },
   "outputs": [],
   "source": [
    "fold = KFold(5, shuffle=True, random_state=42)\n",
    "cv = list(fold.split(txt_clean, target))"
   ]
  },
  {
   "cell_type": "markdown",
   "id": "20d295db",
   "metadata": {},
   "source": [
    "#  Training  Albert Scarth"
   ]
  },
  {
   "cell_type": "code",
   "execution_count": 46,
   "id": "89ad501c",
   "metadata": {
    "ExecuteTime": {
     "end_time": "2021-06-22T10:55:20.693461Z",
     "start_time": "2021-06-22T10:55:14.197436Z"
    }
   },
   "outputs": [],
   "source": [
    "text_input = tf.keras.layers.Input(shape=(), dtype=tf.string)\n",
    "preprocessor = hub.KerasLayer(\n",
    "    \"http://tfhub.dev/tensorflow/albert_en_preprocess/3\")\n",
    "encoder_inputs = preprocessor(text_input)\n",
    "encoder = hub.KerasLayer(\n",
    "    \"https://tfhub.dev/tensorflow/albert_en_base/3\",\n",
    "    trainable=False)\n",
    "outputs = encoder(encoder_inputs)\n",
    "pooled_output = outputs[\"pooled_output\"]      # [batch_size, 768].\n",
    "sequence_output = outputs[\"sequence_output\"]"
   ]
  },
  {
   "cell_type": "code",
   "execution_count": 47,
   "id": "dcb1a8ce",
   "metadata": {
    "ExecuteTime": {
     "end_time": "2021-06-22T10:55:22.811896Z",
     "start_time": "2021-06-22T10:55:21.933899Z"
    }
   },
   "outputs": [
    {
     "name": "stdout",
     "output_type": "stream",
     "text": [
      "(2, 768)\n"
     ]
    }
   ],
   "source": [
    "embedding_model = tf.keras.Model(text_input, pooled_output)\n",
    "sentences = tf.constant([\"(your text here)\", \"how your day\"])\n",
    "print(embedding_model(sentences).shape)"
   ]
  },
  {
   "cell_type": "code",
   "execution_count": 48,
   "id": "bc40e438",
   "metadata": {
    "ExecuteTime": {
     "end_time": "2021-06-22T10:55:23.572920Z",
     "start_time": "2021-06-22T10:55:23.557652Z"
    }
   },
   "outputs": [],
   "source": [
    "def albert_base_model():\n",
    "    text_input = tf.keras.layers.Input(shape=(), dtype=tf.string)\n",
    "    encoder_inputs = preprocessor(text_input)\n",
    "    outputs = encoder(encoder_inputs)\n",
    "    pooled_output = outputs[\"pooled_output\"]    \n",
    "    net = tf.keras.layers.Dropout(0.1)(pooled_output)\n",
    "    net = tf.keras.layers.Dense(1, activation=None, name='regressor')(net)\n",
    "    model = tf.keras.models.Model(inputs=text_input, outputs=net, name=\"model_albert_trainable\")\n",
    "    return model"
   ]
  },
  {
   "cell_type": "code",
   "execution_count": 49,
   "id": "e830dcc6",
   "metadata": {
    "ExecuteTime": {
     "end_time": "2021-06-22T10:55:25.113924Z",
     "start_time": "2021-06-22T10:55:25.034773Z"
    }
   },
   "outputs": [
    {
     "name": "stdout",
     "output_type": "stream",
     "text": [
      "Model: \"model_albert_trainable\"\n",
      "__________________________________________________________________________________________________\n",
      "Layer (type)                    Output Shape         Param #     Connected to                     \n",
      "==================================================================================================\n",
      "input_8 (InputLayer)            [(None,)]            0                                            \n",
      "__________________________________________________________________________________________________\n",
      "keras_layer_6 (KerasLayer)      {'input_type_ids': ( 0           input_8[0][0]                    \n",
      "__________________________________________________________________________________________________\n",
      "keras_layer_7 (KerasLayer)      {'encoder_outputs':  11683584    keras_layer_6[1][0]              \n",
      "                                                                 keras_layer_6[1][1]              \n",
      "                                                                 keras_layer_6[1][2]              \n",
      "__________________________________________________________________________________________________\n",
      "dropout_3 (Dropout)             (None, 768)          0           keras_layer_7[1][13]             \n",
      "__________________________________________________________________________________________________\n",
      "regressor (Dense)               (None, 1)            769         dropout_3[0][0]                  \n",
      "==================================================================================================\n",
      "Total params: 11,684,353\n",
      "Trainable params: 769\n",
      "Non-trainable params: 11,683,584\n",
      "__________________________________________________________________________________________________\n"
     ]
    }
   ],
   "source": [
    "albert_model = albert_base_model()\n",
    "albert_model.summary()"
   ]
  },
  {
   "cell_type": "code",
   "execution_count": 50,
   "id": "f76732f5",
   "metadata": {
    "ExecuteTime": {
     "end_time": "2021-06-22T10:55:27.895618Z",
     "start_time": "2021-06-22T10:55:27.691684Z"
    }
   },
   "outputs": [
    {
     "data": {
      "image/png": "[encoded data removed]",
      "text/plain": [
       "<IPython.core.display.Image object>"
      ]
     },
     "execution_count": 50,
     "metadata": {},
     "output_type": "execute_result"
    }
   ],
   "source": [
    "from tensorflow.keras.utils import plot_model\n",
    "plot_model(albert_model)"
   ]
  },
  {
   "cell_type": "code",
   "execution_count": 51,
   "id": "c5ffb3ad",
   "metadata": {
    "ExecuteTime": {
     "end_time": "2021-06-22T10:55:48.379027Z",
     "start_time": "2021-06-22T10:55:48.351620Z"
    }
   },
   "outputs": [],
   "source": [
    "epochs = 5\n",
    "steps_per_epoch = tf.data.experimental.cardinality(tf.data.Dataset.range(len(train_y))).numpy()\n",
    "num_train_steps = steps_per_epoch * epochs\n",
    "num_warmup_steps = int(0.1*num_train_steps)\n",
    "\n",
    "init_lr = 3e-5\n",
    "optimizer = optimization.create_optimizer(init_lr=init_lr,\n",
    "                                          num_train_steps=num_train_steps,\n",
    "                                          num_warmup_steps=num_warmup_steps,\n",
    "                                          optimizer_type='adamw')"
   ]
  },
  {
   "cell_type": "code",
   "execution_count": 52,
   "id": "b5c186fe",
   "metadata": {
    "ExecuteTime": {
     "end_time": "2021-06-22T10:55:56.242624Z",
     "start_time": "2021-06-22T10:55:56.234622Z"
    }
   },
   "outputs": [],
   "source": [
    "loss = \"mean_squared_error\"\n",
    "metrics = tf.keras.metrics.RootMeanSquaredError()"
   ]
  },
  {
   "cell_type": "code",
   "execution_count": 53,
   "id": "93b96615",
   "metadata": {
    "ExecuteTime": {
     "end_time": "2021-06-22T10:55:56.597393Z",
     "start_time": "2021-06-22T10:55:56.590392Z"
    }
   },
   "outputs": [],
   "source": [
    "albert_model.compile(optimizer=optimizer,\n",
    "                         loss=loss,\n",
    "                         metrics=metrics)"
   ]
  },
  {
   "cell_type": "code",
   "execution_count": null,
   "id": "0bf838a4",
   "metadata": {
    "ExecuteTime": {
     "start_time": "2021-06-22T11:21:11.576Z"
    }
   },
   "outputs": [
    {
     "name": "stdout",
     "output_type": "stream",
     "text": [
      "Epoch 1/3\n",
      "27/71 [==========>...................] - ETA: 2:58 - loss: 1.3464 - root_mean_squared_error: 1.1603"
     ]
    }
   ],
   "source": [
    "rmses = []\n",
    "for tr_idx, val_idx in cv: \n",
    "\n",
    "    x_tr, x_va = np.array(txt_clean)[tr_idx], np.array(txt_clean)[val_idx]\n",
    "    y_tr, y_va = target[tr_idx], target[val_idx]\n",
    "        \n",
    "        \n",
    "    # Training\n",
    "    albert_model.fit(x=x_tr,\n",
    "                     y=y_tr,\n",
    "                     validation_data=(x_va, y_va),\n",
    "                     epochs=3)\n",
    "        \n",
    "    y_pred = albert_model.predict(x_va)\n",
    "    rmse =  np.sqrt(mean_squared_error(y_va, y_pred))\n",
    "    rmses.append(rmse)\n",
    "    break\n",
    "\n",
    "        \n",
    "print(\"\\n\", \"Mean Fold RMSE:\", np.mean(rmses))   \n",
    "pd.Series(albert_model.predict(x_va)).hist()"
   ]
  },
  {
   "cell_type": "code",
   "execution_count": null,
   "id": "3c03236a",
   "metadata": {
    "ExecuteTime": {
     "start_time": "2021-06-22T11:21:14.755Z"
    }
   },
   "outputs": [],
   "source": [
    "loss, accuracy = albert_model.evaluate(x_va)\n",
    "\n",
    "print(f'Loss: {loss}')\n",
    "print(f'Accuracy: {accuracy}')"
   ]
  },
  {
   "cell_type": "code",
   "execution_count": null,
   "id": "9605f633",
   "metadata": {
    "ExecuteTime": {
     "start_time": "2021-06-22T11:21:15.003Z"
    }
   },
   "outputs": [],
   "source": [
    "albert_model.save(\"saved_model\")"
   ]
  },
  {
   "cell_type": "code",
   "execution_count": null,
   "id": "4bbc14ed",
   "metadata": {},
   "outputs": [],
   "source": []
  }
 ],
 "metadata": {
  "kernelspec": {
   "display_name": "Python 3",
   "language": "python",
   "name": "python3"
  },
  "language_info": {
   "codemirror_mode": {
    "name": "ipython",
    "version": 3
   },
   "file_extension": ".py",
   "mimetype": "text/x-python",
   "name": "python",
   "nbconvert_exporter": "python",
   "pygments_lexer": "ipython3",
   "version": "3.7.3"
  },
  "toc": {
   "base_numbering": 1,
   "nav_menu": {},
   "number_sections": true,
   "sideBar": true,
   "skip_h1_title": false,
   "title_cell": "Table of Contents",
   "title_sidebar": "Contents",
   "toc_cell": false,
   "toc_position": {},
   "toc_section_display": true,
   "toc_window_display": false
  }
 },
 "nbformat": 4,
 "nbformat_minor": 5
}
