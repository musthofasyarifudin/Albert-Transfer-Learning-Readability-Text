{
 "cells": [
  {
   "cell_type": "code",
   "execution_count": 1,
   "id": "d2b0fb99",
   "metadata": {
    "ExecuteTime": {
     "end_time": "2021-06-24T13:08:39.003801Z",
     "start_time": "2021-06-24T13:08:31.740603Z"
    }
   },
   "outputs": [],
   "source": [
    "# Standard imports\n",
    "import os\n",
    "from pprint import pprint\n",
    "import json\n",
    "import pandas as pd\n",
    "import numpy as np\n",
    "from IPython.display import display\n",
    "from tqdm import tqdm\n",
    "from tqdm import trange\n",
    "from colorama import Fore, Back, Style\n",
    "\n",
    "# For plotting\n",
    "import plotly.express as px\n",
    "import plotly.graph_objects as go\n",
    "\n",
    "# For Evaluation and model selection \n",
    "from sklearn.model_selection import *\n",
    "from sklearn.metrics import *\n",
    "\n",
    "# For model building\n",
    "import torch\n",
    "import torch.nn as nn\n",
    "import torch.nn.functional as F\n",
    "from torch.utils.data import DataLoader, Dataset\n",
    "\n",
    "# For Transformer\n",
    "import transformers\n",
    "from transformers import AutoTokenizer, BertModel\n",
    "from transformers import AdamW\n",
    "from transformers import get_linear_schedule_with_warmup\n",
    "\n",
    "\n",
    "import warnings\n",
    "warnings.filterwarnings(\"ignore\")"
   ]
  },
  {
   "cell_type": "code",
   "execution_count": null,
   "id": "dfd6d981",
   "metadata": {},
   "outputs": [],
   "source": [
    "cfg = {}\n",
    "cfg['train_csv'] = \"../input/commonlitreadabilityprize/train.csv\"\n",
    "cfg['test_csv'] = \"../input/commonlitreadabilityprize/test.csv\"\n",
    "cfg['sample_sub'] = \"../input/commonlitreadabilityprize/sample_submission.csv\"\n",
    "cfg['epochs'] = 20\n",
    "cfg['max-len'] = 256\n",
    "cfg['train_bs'] = 8\n",
    "cfg['val_bs'] = 16\n",
    "cfg['active-model'] = 'bert-base-uncased'\n",
    "\n",
    "DEVICE = torch.device('cuda' if torch.cuda.is_available() else 'cpu')\n",
    "scaler = torch.cuda.amp.GradScaler()\n",
    "\n",
    "pprint(cfg)\n",
    "print(DEVICE)\n",
    "print(scaler)"
   ]
  },
  {
   "cell_type": "code",
   "execution_count": 4,
   "id": "57ad5d35",
   "metadata": {
    "ExecuteTime": {
     "end_time": "2021-06-24T14:04:14.875267Z",
     "start_time": "2021-06-24T14:04:14.864263Z"
    }
   },
   "outputs": [
    {
     "name": "stdout",
     "output_type": "stream",
     "text": [
      "he./n ke\n"
     ]
    }
   ],
   "source": [
    "print (\"he./n ke\")"
   ]
  },
  {
   "cell_type": "code",
   "execution_count": null,
   "id": "2359fbab",
   "metadata": {},
   "outputs": [],
   "source": []
  }
 ],
 "metadata": {
  "kernelspec": {
   "display_name": "Python 3",
   "language": "python",
   "name": "python3"
  },
  "language_info": {
   "codemirror_mode": {
    "name": "ipython",
    "version": 3
   },
   "file_extension": ".py",
   "mimetype": "text/x-python",
   "name": "python",
   "nbconvert_exporter": "python",
   "pygments_lexer": "ipython3",
   "version": "3.7.3"
  },
  "toc": {
   "base_numbering": 1,
   "nav_menu": {},
   "number_sections": true,
   "sideBar": true,
   "skip_h1_title": false,
   "title_cell": "Table of Contents",
   "title_sidebar": "Contents",
   "toc_cell": false,
   "toc_position": {},
   "toc_section_display": true,
   "toc_window_display": false
  }
 },
 "nbformat": 4,
 "nbformat_minor": 5
}
