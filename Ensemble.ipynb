{
 "cells": [
  {
   "cell_type": "code",
   "execution_count": 1,
   "id": "5bdcce34",
   "metadata": {
    "ExecuteTime": {
     "end_time": "2021-06-23T10:58:50.669926Z",
     "start_time": "2021-06-23T10:58:42.062666Z"
    }
   },
   "outputs": [],
   "source": [
    "import tensorflow as tf \n",
    "import tensorflow_hub as hub\n",
    "import tensorflow_text\n",
    "\n",
    "import pandas as pd\n",
    "import numpy as np\n",
    "\n",
    "import nltk\n",
    "from nltk.corpus import stopwords\n",
    "from nltk.tokenize import word_tokenize \n",
    "import re\n",
    "import string\n",
    "\n",
    "from sklearn.model_selection import KFold\n",
    "from sklearn.model_selection import train_test_split, StratifiedKFold\n",
    "from sklearn.metrics import r2_score, mean_squared_error\n",
    "\n",
    "from official.nlp import optimization\n",
    "\n",
    "import matplotlib.pyplot as plt"
   ]
  },
  {
   "cell_type": "code",
   "execution_count": 5,
   "id": "c76277b2",
   "metadata": {
    "ExecuteTime": {
     "end_time": "2021-06-23T11:07:31.423478Z",
     "start_time": "2021-06-23T11:07:05.163166Z"
    }
   },
   "outputs": [],
   "source": [
    "model_load_1 = tf.keras.models.load_model(\"saved_model/3\",  compile=False)\n",
    "model_load_2 = tf.keras.models.load_model(\"saved_model/4\",  compile=False)\n",
    "model_load_3 = tf.keras.models.load_model(\"saved_model/5\",  compile=False)"
   ]
  },
  {
   "cell_type": "code",
   "execution_count": 6,
   "id": "8cab4788",
   "metadata": {
    "ExecuteTime": {
     "end_time": "2021-06-23T11:17:18.850001Z",
     "start_time": "2021-06-23T11:17:18.795866Z"
    }
   },
   "outputs": [],
   "source": [
    "path =  \"E:/LOMBA/Kaggle/Comp/Coommon readilbility/\"\n",
    "train = pd.read_csv(path + 'train.csv')\n",
    "test = pd.read_csv(path + 'test.csv')\n",
    "sample_submission = pd.read_csv(path + 'sample_submission.csv')\n",
    "\n",
    "STOPWORDS = set(stopwords.words(\"english\"))\n",
    "def text_cleaning(text):\n",
    "    text_clean = \" \".join([word for word in word_tokenize(text) if not word in STOPWORDS])\n",
    "    text = re.sub(\"\\s+\",\" \", text_clean) # remove extra spaces\n",
    "    text = ''.join([k for k in text if k not in string.punctuation]) # remove punctuation\n",
    "    text = re.sub('[^A-Za-z0-9]+', ' ', str(text)).strip() # remove unnecessary literals and Perform Case Normalization\n",
    "    text = ''.join([i for i in text if not i.isdigit()])\n",
    "    return text\n"
   ]
  },
  {
   "cell_type": "code",
   "execution_count": 7,
   "id": "ad1dfb17",
   "metadata": {
    "ExecuteTime": {
     "end_time": "2021-06-23T11:17:29.903265Z",
     "start_time": "2021-06-23T11:17:25.882756Z"
    }
   },
   "outputs": [
    {
     "data": {
      "text/html": [
       "<div>\n",
       "<style scoped>\n",
       "    .dataframe tbody tr th:only-of-type {\n",
       "        vertical-align: middle;\n",
       "    }\n",
       "\n",
       "    .dataframe tbody tr th {\n",
       "        vertical-align: top;\n",
       "    }\n",
       "\n",
       "    .dataframe thead th {\n",
       "        text-align: right;\n",
       "    }\n",
       "</style>\n",
       "<table border=\"1\" class=\"dataframe\">\n",
       "  <thead>\n",
       "    <tr style=\"text-align: right;\">\n",
       "      <th></th>\n",
       "      <th>id</th>\n",
       "      <th>url_legal</th>\n",
       "      <th>license</th>\n",
       "      <th>excerpt</th>\n",
       "      <th>target</th>\n",
       "      <th>standard_error</th>\n",
       "      <th>clean_txt</th>\n",
       "    </tr>\n",
       "  </thead>\n",
       "  <tbody>\n",
       "    <tr>\n",
       "      <th>0</th>\n",
       "      <td>c12129c31</td>\n",
       "      <td>NaN</td>\n",
       "      <td>NaN</td>\n",
       "      <td>When the young people returned to the ballroom...</td>\n",
       "      <td>-0.340259</td>\n",
       "      <td>0.464009</td>\n",
       "      <td>When young people returned ballroom presented ...</td>\n",
       "    </tr>\n",
       "    <tr>\n",
       "      <th>1</th>\n",
       "      <td>85aa80a4c</td>\n",
       "      <td>NaN</td>\n",
       "      <td>NaN</td>\n",
       "      <td>All through dinner time, Mrs. Fayre was somewh...</td>\n",
       "      <td>-0.315372</td>\n",
       "      <td>0.480805</td>\n",
       "      <td>All dinner time Mrs Fayre somewhat silent eyes...</td>\n",
       "    </tr>\n",
       "    <tr>\n",
       "      <th>2</th>\n",
       "      <td>b69ac6792</td>\n",
       "      <td>NaN</td>\n",
       "      <td>NaN</td>\n",
       "      <td>As Roger had predicted, the snow departed as q...</td>\n",
       "      <td>-0.580118</td>\n",
       "      <td>0.476676</td>\n",
       "      <td>As Roger predicted snow departed quickly came ...</td>\n",
       "    </tr>\n",
       "    <tr>\n",
       "      <th>3</th>\n",
       "      <td>dd1000b26</td>\n",
       "      <td>NaN</td>\n",
       "      <td>NaN</td>\n",
       "      <td>And outside before the palace a great garden w...</td>\n",
       "      <td>-1.054013</td>\n",
       "      <td>0.450007</td>\n",
       "      <td>And outside palace great garden walled round f...</td>\n",
       "    </tr>\n",
       "    <tr>\n",
       "      <th>4</th>\n",
       "      <td>37c1b32fb</td>\n",
       "      <td>NaN</td>\n",
       "      <td>NaN</td>\n",
       "      <td>Once upon a time there were Three Bears who li...</td>\n",
       "      <td>0.247197</td>\n",
       "      <td>0.510845</td>\n",
       "      <td>Once upon time Three Bears lived together hous...</td>\n",
       "    </tr>\n",
       "  </tbody>\n",
       "</table>\n",
       "</div>"
      ],
      "text/plain": [
       "          id url_legal license  \\\n",
       "0  c12129c31       NaN     NaN   \n",
       "1  85aa80a4c       NaN     NaN   \n",
       "2  b69ac6792       NaN     NaN   \n",
       "3  dd1000b26       NaN     NaN   \n",
       "4  37c1b32fb       NaN     NaN   \n",
       "\n",
       "                                             excerpt    target  \\\n",
       "0  When the young people returned to the ballroom... -0.340259   \n",
       "1  All through dinner time, Mrs. Fayre was somewh... -0.315372   \n",
       "2  As Roger had predicted, the snow departed as q... -0.580118   \n",
       "3  And outside before the palace a great garden w... -1.054013   \n",
       "4  Once upon a time there were Three Bears who li...  0.247197   \n",
       "\n",
       "   standard_error                                          clean_txt  \n",
       "0        0.464009  When young people returned ballroom presented ...  \n",
       "1        0.480805  All dinner time Mrs Fayre somewhat silent eyes...  \n",
       "2        0.476676  As Roger predicted snow departed quickly came ...  \n",
       "3        0.450007  And outside palace great garden walled round f...  \n",
       "4        0.510845  Once upon time Three Bears lived together hous...  "
      ]
     },
     "execution_count": 7,
     "metadata": {},
     "output_type": "execute_result"
    }
   ],
   "source": [
    "train[\"clean_txt\"]= train.excerpt.apply(text_cleaning)\n",
    "train.head()"
   ]
  },
  {
   "cell_type": "code",
   "execution_count": 12,
   "id": "9882b08a",
   "metadata": {
    "ExecuteTime": {
     "end_time": "2021-06-23T11:37:53.761231Z",
     "start_time": "2021-06-23T11:19:32.261365Z"
    }
   },
   "outputs": [],
   "source": [
    "pred_1 = model_load_1.predict(train.clean_txt.to_numpy())\n",
    "pred_2 = model_load_2.predict(train.clean_txt.to_numpy())\n",
    "pred_3 = model_load_3.predict(train.clean_txt.to_numpy())"
   ]
  },
  {
   "cell_type": "code",
   "execution_count": 17,
   "id": "4f9028c4",
   "metadata": {
    "ExecuteTime": {
     "end_time": "2021-06-23T11:49:09.992439Z",
     "start_time": "2021-06-23T11:49:09.984439Z"
    }
   },
   "outputs": [
    {
     "data": {
      "text/plain": [
       "(2834, 1)"
      ]
     },
     "execution_count": 17,
     "metadata": {},
     "output_type": "execute_result"
    }
   ],
   "source": [
    "pred_1.shape"
   ]
  },
  {
   "cell_type": "code",
   "execution_count": 21,
   "id": "95418257",
   "metadata": {
    "ExecuteTime": {
     "end_time": "2021-06-23T11:51:05.074983Z",
     "start_time": "2021-06-23T11:51:05.063985Z"
    }
   },
   "outputs": [],
   "source": [
    "train_model = np.concatenate((pred_1, pred_2, pred_3), axis=1)\n",
    "target = train.target.to_numpy()"
   ]
  },
  {
   "cell_type": "code",
   "execution_count": 23,
   "id": "a2a68eef",
   "metadata": {
    "ExecuteTime": {
     "end_time": "2021-06-23T11:51:47.214375Z",
     "start_time": "2021-06-23T11:51:47.206401Z"
    }
   },
   "outputs": [],
   "source": [
    "train_x, test_x, train_y, test_y = train_test_split(train_model, target, test_size=0.2, shuffle=True, random_state=42)"
   ]
  },
  {
   "cell_type": "code",
   "execution_count": 24,
   "id": "f3111254",
   "metadata": {
    "ExecuteTime": {
     "end_time": "2021-06-23T11:52:35.040398Z",
     "start_time": "2021-06-23T11:52:35.023398Z"
    }
   },
   "outputs": [],
   "source": [
    "from sklearn.ensemble import GradientBoostingRegressor\n",
    "from sklearn.ensemble import RandomForestRegressor\n",
    "from sklearn.linear_model import LinearRegression\n",
    "from sklearn.ensemble import VotingRegressor"
   ]
  },
  {
   "cell_type": "code",
   "execution_count": 25,
   "id": "a1bc9fb3",
   "metadata": {
    "ExecuteTime": {
     "end_time": "2021-06-23T11:52:56.510143Z",
     "start_time": "2021-06-23T11:52:56.500107Z"
    }
   },
   "outputs": [],
   "source": [
    "reg1 = GradientBoostingRegressor(random_state=1)\n",
    "reg2 = RandomForestRegressor(random_state=1)\n",
    "reg3 = LinearRegression()\n",
    "ereg = VotingRegressor(estimators=[('gb', reg1), ('rf', reg2), ('lr', reg3)])\n"
   ]
  },
  {
   "cell_type": "code",
   "execution_count": 26,
   "id": "5200090b",
   "metadata": {
    "ExecuteTime": {
     "end_time": "2021-06-23T11:53:08.237994Z",
     "start_time": "2021-06-23T11:53:06.825339Z"
    }
   },
   "outputs": [],
   "source": [
    "ereg = ereg.fit(train_x, train_y)"
   ]
  },
  {
   "cell_type": "code",
   "execution_count": 32,
   "id": "82c35959",
   "metadata": {
    "ExecuteTime": {
     "end_time": "2021-06-23T11:56:00.183060Z",
     "start_time": "2021-06-23T11:56:00.113691Z"
    }
   },
   "outputs": [
    {
     "name": "stdout",
     "output_type": "stream",
     "text": [
      "0.23766396213668914\n",
      "0.5178163431267645\n"
     ]
    }
   ],
   "source": [
    "y_train_pred = ereg.predict(train_x)\n",
    "print (np.sqrt(mean_squared_error(y_train_pred, train_y)))\n",
    "\n",
    "y_test_pred = ereg.predict(test_x)\n",
    "print (np.sqrt(mean_squared_error(y_test_pred, test_y)))"
   ]
  },
  {
   "cell_type": "code",
   "execution_count": 34,
   "id": "c269dce7",
   "metadata": {
    "ExecuteTime": {
     "end_time": "2021-06-23T11:56:47.520813Z",
     "start_time": "2021-06-23T11:56:47.507813Z"
    }
   },
   "outputs": [],
   "source": [
    "from sklearn.linear_model import RidgeCV, LassoCV\n",
    "from sklearn.neighbors import KNeighborsRegressor\n",
    "estimators = [('ridge', RidgeCV()),\n",
    "              ('lasso', LassoCV(random_state=42)),\n",
    "              ('knr', KNeighborsRegressor(n_neighbors=20,metric='euclidean'))]"
   ]
  },
  {
   "cell_type": "code",
   "execution_count": 35,
   "id": "f2464307",
   "metadata": {
    "ExecuteTime": {
     "end_time": "2021-06-23T11:57:34.827178Z",
     "start_time": "2021-06-23T11:57:34.818178Z"
    }
   },
   "outputs": [],
   "source": [
    "from sklearn.ensemble import GradientBoostingRegressor\n",
    "from sklearn.ensemble import StackingRegressor\n",
    "final_estimator = GradientBoostingRegressor(\n",
    "     n_estimators=25, subsample=0.5, min_samples_leaf=25, max_features=1,\n",
    "    random_state=42)\n",
    "reg = StackingRegressor(\n",
    "    estimators=estimators,\n",
    "    final_estimator=final_estimator)"
   ]
  },
  {
   "cell_type": "code",
   "execution_count": 36,
   "id": "2c6152b6",
   "metadata": {
    "ExecuteTime": {
     "end_time": "2021-06-23T11:58:11.968226Z",
     "start_time": "2021-06-23T11:58:11.081430Z"
    }
   },
   "outputs": [
    {
     "data": {
      "text/plain": [
       "StackingRegressor(estimators=[('ridge',\n",
       "                               RidgeCV(alphas=array([ 0.1,  1. , 10. ]))),\n",
       "                              ('lasso', LassoCV(random_state=42)),\n",
       "                              ('knr',\n",
       "                               KNeighborsRegressor(metric='euclidean',\n",
       "                                                   n_neighbors=20))],\n",
       "                  final_estimator=GradientBoostingRegressor(max_features=1,\n",
       "                                                            min_samples_leaf=25,\n",
       "                                                            n_estimators=25,\n",
       "                                                            random_state=42,\n",
       "                                                            subsample=0.5))"
      ]
     },
     "execution_count": 36,
     "metadata": {},
     "output_type": "execute_result"
    }
   ],
   "source": [
    "reg.fit(train_x, train_y)"
   ]
  },
  {
   "cell_type": "code",
   "execution_count": 37,
   "id": "e417a62b",
   "metadata": {
    "ExecuteTime": {
     "end_time": "2021-06-23T11:58:28.293313Z",
     "start_time": "2021-06-23T11:58:28.257252Z"
    }
   },
   "outputs": [
    {
     "name": "stdout",
     "output_type": "stream",
     "text": [
      "0.3189197567454781\n",
      "0.5111223903766028\n"
     ]
    }
   ],
   "source": [
    "y_train_pred = reg.predict(train_x)\n",
    "print (np.sqrt(mean_squared_error(y_train_pred, train_y)))\n",
    "\n",
    "y_test_pred = reg.predict(test_x)\n",
    "print (np.sqrt(mean_squared_error(y_test_pred, test_y)))"
   ]
  },
  {
   "cell_type": "code",
   "execution_count": 39,
   "id": "d6759b6a",
   "metadata": {
    "ExecuteTime": {
     "end_time": "2021-06-23T11:59:35.013113Z",
     "start_time": "2021-06-23T11:59:34.996136Z"
    }
   },
   "outputs": [
    {
     "name": "stdout",
     "output_type": "stream",
     "text": [
      "0.3927554874932165\n"
     ]
    }
   ],
   "source": [
    "pred = (pred_1 + pred_2 + pred_3)/3\n",
    "print (np.sqrt(mean_squared_error(pred, target)))"
   ]
  },
  {
   "cell_type": "code",
   "execution_count": 55,
   "id": "b728a8b2",
   "metadata": {
    "ExecuteTime": {
     "end_time": "2021-06-23T12:08:12.580534Z",
     "start_time": "2021-06-23T12:08:12.572535Z"
    }
   },
   "outputs": [
    {
     "name": "stdout",
     "output_type": "stream",
     "text": [
      "0.3838207590079349\n"
     ]
    }
   ],
   "source": [
    "pred = (0.2*pred_1 + 0.15*pred_2 + 0.65*pred_3)\n",
    "print (np.sqrt(mean_squared_error(pred, target)))"
   ]
  },
  {
   "cell_type": "code",
   "execution_count": 57,
   "id": "55be4590",
   "metadata": {
    "ExecuteTime": {
     "end_time": "2021-06-23T12:09:10.301435Z",
     "start_time": "2021-06-23T12:09:10.283437Z"
    }
   },
   "outputs": [
    {
     "name": "stdout",
     "output_type": "stream",
     "text": [
      "0.3828976587517151\n"
     ]
    }
   ],
   "source": [
    "pred = (0.2*pred_1 + 0.13*pred_2 + 0.67*pred_3)\n",
    "print (np.sqrt(mean_squared_error(pred, target)))"
   ]
  },
  {
   "cell_type": "code",
   "execution_count": 58,
   "id": "396b8447",
   "metadata": {
    "ExecuteTime": {
     "end_time": "2021-06-23T12:09:24.096047Z",
     "start_time": "2021-06-23T12:09:23.665008Z"
    }
   },
   "outputs": [],
   "source": [
    "import optuna"
   ]
  },
  {
   "cell_type": "code",
   "execution_count": 66,
   "id": "f831bca3",
   "metadata": {
    "ExecuteTime": {
     "end_time": "2021-06-23T12:14:08.241282Z",
     "start_time": "2021-06-23T12:14:08.234246Z"
    }
   },
   "outputs": [],
   "source": [
    "def objective(trial):\n",
    "    param = {\n",
    "        \"n_1\": trial.suggest_float(\"n_1\", 0.0, 1.0),\n",
    "        \"n_2\": trial.suggest_float(\"n_2\", 0.0, 1.0),\n",
    "        \"n_3\": trial.suggest_float(\"n_3\", 0.0, 1.0)\n",
    "    }\n",
    "\n",
    "    pred = (param[\"n_1\"]*pred_1 + param[\"n_2\"]*pred_2 + param[\"n_3\"]*pred_3)\n",
    "    td = (np.sqrt(mean_squared_error(pred, target)))\n",
    "    return td"
   ]
  },
  {
   "cell_type": "code",
   "execution_count": 67,
   "id": "fa70b020",
   "metadata": {
    "ExecuteTime": {
     "end_time": "2021-06-23T12:14:09.841665Z",
     "start_time": "2021-06-23T12:14:08.664062Z"
    }
   },
   "outputs": [
    {
     "name": "stderr",
     "output_type": "stream",
     "text": [
      "\u001b[32m[I 2021-06-23 19:14:08,665]\u001b[0m A new study created in memory with name: no-name-d1e98791-54a8-43ca-ba5f-020abb433ee8\u001b[0m\n",
      "\u001b[32m[I 2021-06-23 19:14:08,669]\u001b[0m Trial 0 finished with value: 0.4071949379843488 and parameters: {'n_1': 0.9606194165465876, 'n_2': 0.045187660169070165, 'n_3': 0.09109479637004492}. Best is trial 0 with value: 0.4071949379843488.\u001b[0m\n",
      "\u001b[32m[I 2021-06-23 19:14:08,672]\u001b[0m Trial 1 finished with value: 0.6061333411379686 and parameters: {'n_1': 0.5632866085104451, 'n_2': 0.016228802278472565, 'n_3': 0.7649346595600709}. Best is trial 0 with value: 0.4071949379843488.\u001b[0m\n",
      "\u001b[32m[I 2021-06-23 19:14:08,674]\u001b[0m Trial 2 finished with value: 1.3983299205996524 and parameters: {'n_1': 0.927353945636788, 'n_2': 0.8436345235790245, 'n_3': 0.24673926023900294}. Best is trial 0 with value: 0.4071949379843488.\u001b[0m\n",
      "\u001b[32m[I 2021-06-23 19:14:08,676]\u001b[0m Trial 3 finished with value: 0.5283107730173715 and parameters: {'n_1': 0.028795440397293648, 'n_2': 0.9384446714938186, 'n_3': 0.2577313995376094}. Best is trial 0 with value: 0.4071949379843488.\u001b[0m\n",
      "\u001b[32m[I 2021-06-23 19:14:08,677]\u001b[0m Trial 4 finished with value: 1.7281646615247153 and parameters: {'n_1': 0.7915970982002511, 'n_2': 0.8154855637328158, 'n_3': 0.6529895848178854}. Best is trial 0 with value: 0.4071949379843488.\u001b[0m\n",
      "\u001b[32m[I 2021-06-23 19:14:08,679]\u001b[0m Trial 5 finished with value: 2.1806095100082286 and parameters: {'n_1': 0.7289670800065116, 'n_2': 0.9616460548867392, 'n_3': 0.9070406809132333}. Best is trial 0 with value: 0.4071949379843488.\u001b[0m\n",
      "\u001b[32m[I 2021-06-23 19:14:08,681]\u001b[0m Trial 6 finished with value: 0.6444009192651431 and parameters: {'n_1': 0.8943232100492431, 'n_2': 0.43448679138668844, 'n_3': 0.0650472865217685}. Best is trial 0 with value: 0.4071949379843488.\u001b[0m\n",
      "\u001b[32m[I 2021-06-23 19:14:08,683]\u001b[0m Trial 7 finished with value: 0.7386053766350423 and parameters: {'n_1': 0.3465107296790162, 'n_2': 0.2201224578628932, 'n_3': 0.8883872663973161}. Best is trial 0 with value: 0.4071949379843488.\u001b[0m\n",
      "\u001b[32m[I 2021-06-23 19:14:08,685]\u001b[0m Trial 8 finished with value: 0.6368796512122857 and parameters: {'n_1': 0.41760544907544295, 'n_2': 0.7977813084244009, 'n_3': 0.16009057399127968}. Best is trial 0 with value: 0.4071949379843488.\u001b[0m\n",
      "\u001b[32m[I 2021-06-23 19:14:08,688]\u001b[0m Trial 9 finished with value: 0.42897687625267206 and parameters: {'n_1': 0.19853540187541208, 'n_2': 0.3560979311125644, 'n_3': 0.3332951566446962}. Best is trial 0 with value: 0.4071949379843488.\u001b[0m\n",
      "\u001b[32m[I 2021-06-23 19:14:08,900]\u001b[0m Trial 10 finished with value: 0.4664046818674139 and parameters: {'n_1': 0.6957888105604825, 'n_2': 0.028182532364512534, 'n_3': 0.48354225929513817}. Best is trial 0 with value: 0.4071949379843488.\u001b[0m\n",
      "\u001b[32m[I 2021-06-23 19:14:08,908]\u001b[0m Trial 11 finished with value: 0.43190385171200096 and parameters: {'n_1': 0.13390901675629224, 'n_2': 0.326142398945246, 'n_3': 0.4170776297502373}. Best is trial 0 with value: 0.4071949379843488.\u001b[0m\n",
      "\u001b[32m[I 2021-06-23 19:14:08,917]\u001b[0m Trial 12 finished with value: 0.49743423353183536 and parameters: {'n_1': 0.22823471738177625, 'n_2': 0.6021204711172861, 'n_3': 0.00018500940010025835}. Best is trial 0 with value: 0.4071949379843488.\u001b[0m\n",
      "\u001b[32m[I 2021-06-23 19:14:08,928]\u001b[0m Trial 13 finished with value: 0.7331053139050449 and parameters: {'n_1': 0.0008587329072451133, 'n_2': 0.18993864576877925, 'n_3': 0.35060830088930617}. Best is trial 0 with value: 0.4071949379843488.\u001b[0m\n",
      "\u001b[32m[I 2021-06-23 19:14:08,936]\u001b[0m Trial 14 finished with value: 0.4793005839375492 and parameters: {'n_1': 0.5360874448916951, 'n_2': 0.5671275559318063, 'n_3': 0.1014514337553489}. Best is trial 0 with value: 0.4071949379843488.\u001b[0m\n",
      "\u001b[32m[I 2021-06-23 19:14:08,945]\u001b[0m Trial 15 finished with value: 0.3808747517101758 and parameters: {'n_1': 0.27601070500789515, 'n_2': 0.14893485413254315, 'n_3': 0.5758360862469428}. Best is trial 15 with value: 0.3808747517101758.\u001b[0m\n",
      "\u001b[32m[I 2021-06-23 19:14:08,954]\u001b[0m Trial 16 finished with value: 0.4025338801321544 and parameters: {'n_1': 0.35604327849893813, 'n_2': 0.1256071852761526, 'n_3': 0.6156919380872342}. Best is trial 15 with value: 0.3808747517101758.\u001b[0m\n",
      "\u001b[32m[I 2021-06-23 19:14:08,963]\u001b[0m Trial 17 finished with value: 0.41589770085317496 and parameters: {'n_1': 0.3374739008652254, 'n_2': 0.15550179906529327, 'n_3': 0.6270302958352033}. Best is trial 15 with value: 0.3808747517101758.\u001b[0m\n",
      "\u001b[32m[I 2021-06-23 19:14:08,973]\u001b[0m Trial 18 finished with value: 0.42882958460261217 and parameters: {'n_1': 0.4173631402572785, 'n_2': 0.10181338786863961, 'n_3': 0.6283464816569714}. Best is trial 15 with value: 0.3808747517101758.\u001b[0m\n",
      "\u001b[32m[I 2021-06-23 19:14:08,981]\u001b[0m Trial 19 finished with value: 0.46782346402901803 and parameters: {'n_1': 0.11303035775563255, 'n_2': 0.3195219278600724, 'n_3': 0.74150179638927}. Best is trial 15 with value: 0.3808747517101758.\u001b[0m\n",
      "\u001b[32m[I 2021-06-23 19:14:08,991]\u001b[0m Trial 20 finished with value: 0.39869642399965455 and parameters: {'n_1': 0.28840268878590986, 'n_2': 0.25342626138170843, 'n_3': 0.5293837792123219}. Best is trial 15 with value: 0.3808747517101758.\u001b[0m\n",
      "\u001b[32m[I 2021-06-23 19:14:08,999]\u001b[0m Trial 21 finished with value: 0.41603512885274124 and parameters: {'n_1': 0.3089543497025178, 'n_2': 0.2509597076838114, 'n_3': 0.5539491742446045}. Best is trial 15 with value: 0.3808747517101758.\u001b[0m\n",
      "\u001b[32m[I 2021-06-23 19:14:09,009]\u001b[0m Trial 22 finished with value: 0.39512661387129533 and parameters: {'n_1': 0.44589211458259614, 'n_2': 0.11904370819737531, 'n_3': 0.5229524599319787}. Best is trial 15 with value: 0.3808747517101758.\u001b[0m\n",
      "\u001b[32m[I 2021-06-23 19:14:09,017]\u001b[0m Trial 23 finished with value: 0.62484812198532 and parameters: {'n_1': 0.47460240985263547, 'n_2': 0.42420403688525843, 'n_3': 0.4685426913075355}. Best is trial 15 with value: 0.3808747517101758.\u001b[0m\n",
      "\u001b[32m[I 2021-06-23 19:14:09,027]\u001b[0m Trial 24 finished with value: 0.5493954814996784 and parameters: {'n_1': 0.2545027767822294, 'n_2': 0.2536420060497482, 'n_3': 0.7710006157170867}. Best is trial 15 with value: 0.3808747517101758.\u001b[0m\n",
      "\u001b[32m[I 2021-06-23 19:14:09,036]\u001b[0m Trial 25 finished with value: 0.48581146977407347 and parameters: {'n_1': 0.6438805746319444, 'n_2': 0.0815093363020375, 'n_3': 0.5040359035029758}. Best is trial 15 with value: 0.3808747517101758.\u001b[0m\n",
      "\u001b[32m[I 2021-06-23 19:14:09,045]\u001b[0m Trial 26 finished with value: 0.3851202775326702 and parameters: {'n_1': 0.49534592040006276, 'n_2': 0.15852722971351904, 'n_3': 0.400432235495807}. Best is trial 15 with value: 0.3808747517101758.\u001b[0m\n",
      "\u001b[32m[I 2021-06-23 19:14:09,054]\u001b[0m Trial 27 finished with value: 0.3713753178058913 and parameters: {'n_1': 0.5928606447968291, 'n_2': 0.008497834816740851, 'n_3': 0.39914480813693975}. Best is trial 27 with value: 0.3713753178058913.\u001b[0m\n",
      "\u001b[32m[I 2021-06-23 19:14:09,061]\u001b[0m Trial 28 finished with value: 0.37848102002845163 and parameters: {'n_1': 0.6295792150628876, 'n_2': 0.02556110510204254, 'n_3': 0.3953067111015724}. Best is trial 27 with value: 0.3713753178058913.\u001b[0m\n",
      "\u001b[32m[I 2021-06-23 19:14:09,072]\u001b[0m Trial 29 finished with value: 0.4136864085199081 and parameters: {'n_1': 0.6085164954133865, 'n_2': 0.002972179256142668, 'n_3': 0.26162876192959467}. Best is trial 27 with value: 0.3713753178058913.\u001b[0m\n",
      "\u001b[32m[I 2021-06-23 19:14:09,079]\u001b[0m Trial 30 finished with value: 0.4267578002612817 and parameters: {'n_1': 0.8011152517590443, 'n_2': 0.014691441683985135, 'n_3': 0.3375355737090062}. Best is trial 27 with value: 0.3713753178058913.\u001b[0m\n",
      "\u001b[32m[I 2021-06-23 19:14:09,088]\u001b[0m Trial 31 finished with value: 0.38727919194064414 and parameters: {'n_1': 0.5953063906945126, 'n_2': 0.07331228451285902, 'n_3': 0.40648073802928875}. Best is trial 27 with value: 0.3713753178058913.\u001b[0m\n",
      "\u001b[32m[I 2021-06-23 19:14:09,097]\u001b[0m Trial 32 finished with value: 0.3784222809219924 and parameters: {'n_1': 0.5211551833952465, 'n_2': 0.0005368395508146204, 'n_3': 0.41927701488405544}. Best is trial 27 with value: 0.3713753178058913.\u001b[0m\n",
      "\u001b[32m[I 2021-06-23 19:14:09,110]\u001b[0m Trial 33 finished with value: 0.3703411352222359 and parameters: {'n_1': 0.5416157034663671, 'n_2': 0.001419402645076625, 'n_3': 0.4465225550555642}. Best is trial 33 with value: 0.3703411352222359.\u001b[0m\n"
     ]
    },
    {
     "name": "stderr",
     "output_type": "stream",
     "text": [
      "\u001b[32m[I 2021-06-23 19:14:09,125]\u001b[0m Trial 34 finished with value: 0.4893340153800635 and parameters: {'n_1': 0.5486586319424733, 'n_2': 0.0046001665987078525, 'n_3': 0.21816809467635756}. Best is trial 33 with value: 0.3703411352222359.\u001b[0m\n",
      "\u001b[32m[I 2021-06-23 19:14:09,137]\u001b[0m Trial 35 finished with value: 0.4353913571585158 and parameters: {'n_1': 0.7205535447251632, 'n_2': 0.003905612931263481, 'n_3': 0.44308649298301644}. Best is trial 33 with value: 0.3703411352222359.\u001b[0m\n",
      "\u001b[32m[I 2021-06-23 19:14:09,146]\u001b[0m Trial 36 finished with value: 0.38886587020594426 and parameters: {'n_1': 0.6177538341959214, 'n_2': 0.04788490552518671, 'n_3': 0.2665857937681686}. Best is trial 33 with value: 0.3703411352222359.\u001b[0m\n",
      "\u001b[32m[I 2021-06-23 19:14:09,155]\u001b[0m Trial 37 finished with value: 0.8705382613593272 and parameters: {'n_1': 0.530721233909999, 'n_2': 0.7040195042184101, 'n_3': 0.3522427615459787}. Best is trial 33 with value: 0.3703411352222359.\u001b[0m\n",
      "\u001b[32m[I 2021-06-23 19:14:09,209]\u001b[0m Trial 38 finished with value: 0.3781172913040141 and parameters: {'n_1': 0.6566548617800972, 'n_2': 0.06696296759329612, 'n_3': 0.30650933001609043}. Best is trial 33 with value: 0.3703411352222359.\u001b[0m\n",
      "\u001b[32m[I 2021-06-23 19:14:09,218]\u001b[0m Trial 39 finished with value: 0.43933363428878486 and parameters: {'n_1': 0.7907834009951394, 'n_2': 0.07346628900606207, 'n_3': 0.3065993902485843}. Best is trial 33 with value: 0.3703411352222359.\u001b[0m\n",
      "\u001b[32m[I 2021-06-23 19:14:09,227]\u001b[0m Trial 40 finished with value: 0.39020837745645165 and parameters: {'n_1': 0.6777887643148292, 'n_2': 0.1951598708713263, 'n_3': 0.17614516762405502}. Best is trial 33 with value: 0.3703411352222359.\u001b[0m\n",
      "\u001b[32m[I 2021-06-23 19:14:09,237]\u001b[0m Trial 41 finished with value: 0.4286693231723183 and parameters: {'n_1': 0.7654663583912812, 'n_2': 0.0033016562521308856, 'n_3': 0.3886556330314727}. Best is trial 33 with value: 0.3703411352222359.\u001b[0m\n",
      "\u001b[32m[I 2021-06-23 19:14:09,246]\u001b[0m Trial 42 finished with value: 0.48733638090824133 and parameters: {'n_1': 0.8829649909954547, 'n_2': 0.0500225785306034, 'n_3': 0.29927793846217676}. Best is trial 33 with value: 0.3703411352222359.\u001b[0m\n",
      "\u001b[32m[I 2021-06-23 19:14:09,255]\u001b[0m Trial 43 finished with value: 0.43457815358082086 and parameters: {'n_1': 0.6573169843201433, 'n_2': 0.056432840191346575, 'n_3': 0.45150709028898484}. Best is trial 33 with value: 0.3703411352222359.\u001b[0m\n",
      "\u001b[32m[I 2021-06-23 19:14:09,266]\u001b[0m Trial 44 finished with value: 0.4350026192219644 and parameters: {'n_1': 0.5664830637734786, 'n_2': 0.10516861529033927, 'n_3': 0.18144428545014357}. Best is trial 33 with value: 0.3703411352222359.\u001b[0m\n",
      "\u001b[32m[I 2021-06-23 19:14:09,276]\u001b[0m Trial 45 finished with value: 0.4749192782447007 and parameters: {'n_1': 0.40551079425289954, 'n_2': 0.0010297200468459605, 'n_3': 0.372553605345163}. Best is trial 33 with value: 0.3703411352222359.\u001b[0m\n",
      "\u001b[32m[I 2021-06-23 19:14:09,285]\u001b[0m Trial 46 finished with value: 0.72656491230207 and parameters: {'n_1': 0.8414933767311041, 'n_2': 0.18343730927766727, 'n_3': 0.43928541809032007}. Best is trial 33 with value: 0.3703411352222359.\u001b[0m\n",
      "\u001b[32m[I 2021-06-23 19:14:09,294]\u001b[0m Trial 47 finished with value: 1.2548313202915582 and parameters: {'n_1': 0.7156604647811071, 'n_2': 0.8937131016162752, 'n_3': 0.2933651970902079}. Best is trial 33 with value: 0.3703411352222359.\u001b[0m\n",
      "\u001b[32m[I 2021-06-23 19:14:09,304]\u001b[0m Trial 48 finished with value: 0.4853409799347055 and parameters: {'n_1': 0.4823471636356088, 'n_2': 0.04580604587523427, 'n_3': 0.6938963166143242}. Best is trial 33 with value: 0.3703411352222359.\u001b[0m\n",
      "\u001b[32m[I 2021-06-23 19:14:09,313]\u001b[0m Trial 49 finished with value: 0.8966483544022403 and parameters: {'n_1': 0.9904547478986683, 'n_2': 0.12213564369055632, 'n_3': 0.4930189066286331}. Best is trial 33 with value: 0.3703411352222359.\u001b[0m\n",
      "\u001b[32m[I 2021-06-23 19:14:09,322]\u001b[0m Trial 50 finished with value: 0.39320473639921416 and parameters: {'n_1': 0.6387962727739519, 'n_2': 0.2100701327118926, 'n_3': 0.21763615678287032}. Best is trial 33 with value: 0.3703411352222359.\u001b[0m\n",
      "\u001b[32m[I 2021-06-23 19:14:09,331]\u001b[0m Trial 51 finished with value: 0.5592576111785827 and parameters: {'n_1': 0.5624092356906751, 'n_2': 0.1445872589281827, 'n_3': 0.5972526981537742}. Best is trial 33 with value: 0.3703411352222359.\u001b[0m\n",
      "\u001b[32m[I 2021-06-23 19:14:09,341]\u001b[0m Trial 52 finished with value: 0.4084358230975585 and parameters: {'n_1': 0.5173922409937429, 'n_2': 0.039970170382345085, 'n_3': 0.5639954749911299}. Best is trial 33 with value: 0.3703411352222359.\u001b[0m\n",
      "\u001b[32m[I 2021-06-23 19:14:09,350]\u001b[0m Trial 53 finished with value: 0.5128781291130812 and parameters: {'n_1': 0.5926988503286599, 'n_2': 0.09298891280981952, 'n_3': 0.5718911617344079}. Best is trial 33 with value: 0.3703411352222359.\u001b[0m\n",
      "\u001b[32m[I 2021-06-23 19:14:09,360]\u001b[0m Trial 54 finished with value: 0.4026812790284023 and parameters: {'n_1': 0.4527746456304052, 'n_2': 0.0007029547817607451, 'n_3': 0.42693601150703736}. Best is trial 33 with value: 0.3703411352222359.\u001b[0m\n",
      "\u001b[32m[I 2021-06-23 19:14:09,369]\u001b[0m Trial 55 finished with value: 0.47014016379640144 and parameters: {'n_1': 0.6863390597918847, 'n_2': 0.1561209775407531, 'n_3': 0.3687401820581776}. Best is trial 33 with value: 0.3703411352222359.\u001b[0m\n",
      "\u001b[32m[I 2021-06-23 19:14:09,378]\u001b[0m Trial 56 finished with value: 0.8187578994248671 and parameters: {'n_1': 0.576042348871913, 'n_2': 0.4945252372368143, 'n_3': 0.47092988028646193}. Best is trial 33 with value: 0.3703411352222359.\u001b[0m\n",
      "\u001b[32m[I 2021-06-23 19:14:09,388]\u001b[0m Trial 57 finished with value: 0.6183120091752565 and parameters: {'n_1': 0.38972453549235575, 'n_2': 0.28305064492975396, 'n_3': 0.6819210749021387}. Best is trial 33 with value: 0.3703411352222359.\u001b[0m\n",
      "\u001b[32m[I 2021-06-23 19:14:09,397]\u001b[0m Trial 58 finished with value: 0.6562722757694961 and parameters: {'n_1': 0.5019799190321927, 'n_2': 0.37541502276130967, 'n_3': 0.5191882963382564}. Best is trial 33 with value: 0.3703411352222359.\u001b[0m\n",
      "\u001b[32m[I 2021-06-23 19:14:09,406]\u001b[0m Trial 59 finished with value: 0.3952280248302471 and parameters: {'n_1': 0.7498256050263054, 'n_2': 0.0778432666873273, 'n_3': 0.11730607989843189}. Best is trial 33 with value: 0.3703411352222359.\u001b[0m\n",
      "\u001b[32m[I 2021-06-23 19:14:09,415]\u001b[0m Trial 60 finished with value: 0.8080123418237655 and parameters: {'n_1': 0.10979753573798556, 'n_2': 0.034036230152672334, 'n_3': 0.325007157865679}. Best is trial 33 with value: 0.3703411352222359.\u001b[0m\n",
      "\u001b[32m[I 2021-06-23 19:14:09,425]\u001b[0m Trial 61 finished with value: 0.4618919752696417 and parameters: {'n_1': 0.6221772035368334, 'n_2': 0.15843531085378243, 'n_3': 0.419340437818068}. Best is trial 33 with value: 0.3703411352222359.\u001b[0m\n",
      "\u001b[32m[I 2021-06-23 19:14:09,434]\u001b[0m Trial 62 finished with value: 0.37887470751642544 and parameters: {'n_1': 0.5151351020017111, 'n_2': 0.11585420712828011, 'n_3': 0.4027924341514257}. Best is trial 33 with value: 0.3703411352222359.\u001b[0m\n",
      "\u001b[32m[I 2021-06-23 19:14:09,443]\u001b[0m Trial 63 finished with value: 0.8508379362539508 and parameters: {'n_1': 0.4519681909568606, 'n_2': 0.11954153376236493, 'n_3': 0.9768047765039664}. Best is trial 33 with value: 0.3703411352222359.\u001b[0m\n",
      "\u001b[32m[I 2021-06-23 19:14:09,453]\u001b[0m Trial 64 finished with value: 0.3976803089828521 and parameters: {'n_1': 0.5383834313587769, 'n_2': 0.08026509574540432, 'n_3': 0.4811847108993503}. Best is trial 33 with value: 0.3703411352222359.\u001b[0m\n",
      "\u001b[32m[I 2021-06-23 19:14:09,462]\u001b[0m Trial 65 finished with value: 0.492102757513431 and parameters: {'n_1': 0.3685819965473114, 'n_2': 0.027271719410506354, 'n_3': 0.3654127274972677}. Best is trial 33 with value: 0.3703411352222359.\u001b[0m\n",
      "\u001b[32m[I 2021-06-23 19:14:09,472]\u001b[0m Trial 66 finished with value: 0.691199765973236 and parameters: {'n_1': 0.6705900808130912, 'n_2': 0.2175231431511787, 'n_3': 0.5420241543477942}. Best is trial 33 with value: 0.3703411352222359.\u001b[0m\n",
      "\u001b[32m[I 2021-06-23 19:14:09,481]\u001b[0m Trial 67 finished with value: 0.38772811054270295 and parameters: {'n_1': 0.43205172584355944, 'n_2': 0.10786974425229756, 'n_3': 0.3927937521225573}. Best is trial 33 with value: 0.3703411352222359.\u001b[0m\n",
      "\u001b[32m[I 2021-06-23 19:14:09,491]\u001b[0m Trial 68 finished with value: 0.4140976980891277 and parameters: {'n_1': 0.48221872809049804, 'n_2': 0.177377710556617, 'n_3': 0.23252716510059196}. Best is trial 33 with value: 0.3703411352222359.\u001b[0m\n"
     ]
    },
    {
     "name": "stderr",
     "output_type": "stream",
     "text": [
      "\u001b[32m[I 2021-06-23 19:14:09,500]\u001b[0m Trial 69 finished with value: 0.3813046398055874 and parameters: {'n_1': 0.5821035927884236, 'n_2': 0.13585027860644483, 'n_3': 0.2684031401328013}. Best is trial 33 with value: 0.3703411352222359.\u001b[0m\n",
      "\u001b[32m[I 2021-06-23 19:14:09,510]\u001b[0m Trial 70 finished with value: 0.3766954766355193 and parameters: {'n_1': 0.6321053648659533, 'n_2': 0.06081210399726848, 'n_3': 0.3341019057344003}. Best is trial 33 with value: 0.3703411352222359.\u001b[0m\n",
      "\u001b[32m[I 2021-06-23 19:14:09,520]\u001b[0m Trial 71 finished with value: 0.37696071023194944 and parameters: {'n_1': 0.6341805136996377, 'n_2': 0.05895447186604104, 'n_3': 0.33703781610123573}. Best is trial 33 with value: 0.3703411352222359.\u001b[0m\n",
      "\u001b[32m[I 2021-06-23 19:14:09,530]\u001b[0m Trial 72 finished with value: 0.37586936377453956 and parameters: {'n_1': 0.6369883276494241, 'n_2': 0.058557489282546914, 'n_3': 0.3167386604483605}. Best is trial 33 with value: 0.3703411352222359.\u001b[0m\n",
      "\u001b[32m[I 2021-06-23 19:14:09,540]\u001b[0m Trial 73 finished with value: 0.38287555755322406 and parameters: {'n_1': 0.711042765786978, 'n_2': 0.02361440139156301, 'n_3': 0.3263950420657808}. Best is trial 33 with value: 0.3703411352222359.\u001b[0m\n",
      "\u001b[32m[I 2021-06-23 19:14:09,549]\u001b[0m Trial 74 finished with value: 0.37638166686726326 and parameters: {'n_1': 0.6392013469633112, 'n_2': 0.06341010004306381, 'n_3': 0.29973816163238876}. Best is trial 33 with value: 0.3703411352222359.\u001b[0m\n",
      "\u001b[32m[I 2021-06-23 19:14:09,558]\u001b[0m Trial 75 finished with value: 0.37859822367801466 and parameters: {'n_1': 0.6681483175251797, 'n_2': 0.06910673728740041, 'n_3': 0.29245229336777}. Best is trial 33 with value: 0.3703411352222359.\u001b[0m\n",
      "\u001b[32m[I 2021-06-23 19:14:09,568]\u001b[0m Trial 76 finished with value: 0.4188953724101086 and parameters: {'n_1': 0.7466791681881053, 'n_2': 0.05894877456729037, 'n_3': 0.3345609663360906}. Best is trial 33 with value: 0.3703411352222359.\u001b[0m\n",
      "\u001b[32m[I 2021-06-23 19:14:09,578]\u001b[0m Trial 77 finished with value: 0.4089741908947603 and parameters: {'n_1': 0.6078374355854443, 'n_2': 0.09329184273434574, 'n_3': 0.19580253961247773}. Best is trial 33 with value: 0.3703411352222359.\u001b[0m\n",
      "\u001b[32m[I 2021-06-23 19:14:09,588]\u001b[0m Trial 78 finished with value: 0.4410119697713237 and parameters: {'n_1': 0.5495186416339741, 'n_2': 0.005530329654208068, 'n_3': 0.2740493823230891}. Best is trial 33 with value: 0.3703411352222359.\u001b[0m\n",
      "\u001b[32m[I 2021-06-23 19:14:09,597]\u001b[0m Trial 79 finished with value: 0.4657313835486474 and parameters: {'n_1': 0.6438435873024284, 'n_2': 0.03202942556814637, 'n_3': 0.13336758518405534}. Best is trial 33 with value: 0.3703411352222359.\u001b[0m\n",
      "\u001b[32m[I 2021-06-23 19:14:09,607]\u001b[0m Trial 80 finished with value: 0.3787062844662278 and parameters: {'n_1': 0.7001675926318625, 'n_2': 0.059320917440176285, 'n_3': 0.2420745670950072}. Best is trial 33 with value: 0.3703411352222359.\u001b[0m\n",
      "\u001b[32m[I 2021-06-23 19:14:09,616]\u001b[0m Trial 81 finished with value: 0.3801163830846927 and parameters: {'n_1': 0.6304216588951482, 'n_2': 0.004098808156574349, 'n_3': 0.3145297170054791}. Best is trial 33 with value: 0.3703411352222359.\u001b[0m\n",
      "\u001b[32m[I 2021-06-23 19:14:09,626]\u001b[0m Trial 82 finished with value: 0.3739755118188738 and parameters: {'n_1': 0.598309239311505, 'n_2': 0.03277824774352035, 'n_3': 0.35451555768220006}. Best is trial 33 with value: 0.3703411352222359.\u001b[0m\n",
      "\u001b[32m[I 2021-06-23 19:14:09,635]\u001b[0m Trial 83 finished with value: 0.9853369920684453 and parameters: {'n_1': 0.590764035073425, 'n_2': 0.7314190757443699, 'n_3': 0.3607707771197965}. Best is trial 33 with value: 0.3703411352222359.\u001b[0m\n",
      "\u001b[32m[I 2021-06-23 19:14:09,645]\u001b[0m Trial 84 finished with value: 0.3763409820044017 and parameters: {'n_1': 0.56744914989588, 'n_2': 0.09398694110034281, 'n_3': 0.3445737268889448}. Best is trial 33 with value: 0.3703411352222359.\u001b[0m\n",
      "\u001b[32m[I 2021-06-23 19:14:09,655]\u001b[0m Trial 85 finished with value: 0.3955289628128991 and parameters: {'n_1': 0.6622845233694981, 'n_2': 0.09079951215004392, 'n_3': 0.3402303974307433}. Best is trial 33 with value: 0.3703411352222359.\u001b[0m\n",
      "\u001b[32m[I 2021-06-23 19:14:09,665]\u001b[0m Trial 86 finished with value: 0.40724928544141265 and parameters: {'n_1': 0.6108381840984436, 'n_2': 0.054851339444981474, 'n_3': 0.4554626073241575}. Best is trial 33 with value: 0.3703411352222359.\u001b[0m\n",
      "\u001b[32m[I 2021-06-23 19:14:09,675]\u001b[0m Trial 87 finished with value: 0.38166146232839043 and parameters: {'n_1': 0.5609313419238734, 'n_2': 0.13694670363815672, 'n_3': 0.28156888611761466}. Best is trial 33 with value: 0.3703411352222359.\u001b[0m\n",
      "\u001b[32m[I 2021-06-23 19:14:09,684]\u001b[0m Trial 88 finished with value: 0.47285363843812367 and parameters: {'n_1': 0.7285757343653582, 'n_2': 0.028388063475677183, 'n_3': 0.05141783784227988}. Best is trial 33 with value: 0.3703411352222359.\u001b[0m\n",
      "\u001b[32m[I 2021-06-23 19:14:09,702]\u001b[0m Trial 89 finished with value: 0.452899878222447 and parameters: {'n_1': 0.6357954324022878, 'n_2': 0.1757898741108122, 'n_3': 0.376400325225635}. Best is trial 33 with value: 0.3703411352222359.\u001b[0m\n",
      "\u001b[32m[I 2021-06-23 19:14:09,718]\u001b[0m Trial 90 finished with value: 0.39425255242356694 and parameters: {'n_1': 0.6879174080434622, 'n_2': 0.09491586326754425, 'n_3': 0.30535173854671227}. Best is trial 33 with value: 0.3703411352222359.\u001b[0m\n",
      "\u001b[32m[I 2021-06-23 19:14:09,732]\u001b[0m Trial 91 finished with value: 0.37559007569237274 and parameters: {'n_1': 0.5324694514691577, 'n_2': 0.06457971854688538, 'n_3': 0.4329619792954674}. Best is trial 33 with value: 0.3703411352222359.\u001b[0m\n",
      "\u001b[32m[I 2021-06-23 19:14:09,743]\u001b[0m Trial 92 finished with value: 0.37522949015496593 and parameters: {'n_1': 0.5918173713021375, 'n_2': 0.06920975386541971, 'n_3': 0.34594858749777874}. Best is trial 33 with value: 0.3703411352222359.\u001b[0m\n",
      "\u001b[32m[I 2021-06-23 19:14:09,756]\u001b[0m Trial 93 finished with value: 0.3758635423697037 and parameters: {'n_1': 0.580028776897538, 'n_2': 0.044220089538431026, 'n_3': 0.34912529081433374}. Best is trial 33 with value: 0.3703411352222359.\u001b[0m\n",
      "\u001b[32m[I 2021-06-23 19:14:09,769]\u001b[0m Trial 94 finished with value: 0.37288387845548265 and parameters: {'n_1': 0.5761953924511364, 'n_2': 0.020202997572485247, 'n_3': 0.42743248295136843}. Best is trial 33 with value: 0.3703411352222359.\u001b[0m\n",
      "\u001b[32m[I 2021-06-23 19:14:09,779]\u001b[0m Trial 95 finished with value: 0.3712019671360331 and parameters: {'n_1': 0.543279296101433, 'n_2': 0.0205581361158583, 'n_3': 0.43702831516861607}. Best is trial 33 with value: 0.3703411352222359.\u001b[0m\n",
      "\u001b[32m[I 2021-06-23 19:14:09,789]\u001b[0m Trial 96 finished with value: 0.37235855489259123 and parameters: {'n_1': 0.5193431657937665, 'n_2': 0.019588210194161515, 'n_3': 0.43692659606136247}. Best is trial 33 with value: 0.3703411352222359.\u001b[0m\n",
      "\u001b[32m[I 2021-06-23 19:14:09,798]\u001b[0m Trial 97 finished with value: 0.3715252142027228 and parameters: {'n_1': 0.5321549714328709, 'n_2': 0.023727875835695696, 'n_3': 0.43445841071666735}. Best is trial 33 with value: 0.3703411352222359.\u001b[0m\n",
      "\u001b[32m[I 2021-06-23 19:14:09,808]\u001b[0m Trial 98 finished with value: 0.3718187398195443 and parameters: {'n_1': 0.4981641030188833, 'n_2': 0.018312310359175896, 'n_3': 0.5026200136640393}. Best is trial 33 with value: 0.3703411352222359.\u001b[0m\n",
      "\u001b[32m[I 2021-06-23 19:14:09,817]\u001b[0m Trial 99 finished with value: 0.3722840620864098 and parameters: {'n_1': 0.507502273033945, 'n_2': 0.02272083873483981, 'n_3': 0.49118898629699587}. Best is trial 33 with value: 0.3703411352222359.\u001b[0m\n"
     ]
    },
    {
     "name": "stdout",
     "output_type": "stream",
     "text": [
      "Number of finished trials: 100\n",
      "Best trial:\n",
      "  Value: 0.3703411352222359\n",
      "  Params: \n",
      "    n_1: 0.5416157034663671\n",
      "    n_2: 0.001419402645076625\n",
      "    n_3: 0.4465225550555642\n"
     ]
    }
   ],
   "source": [
    "study = optuna.create_study(direction=\"minimize\")\n",
    "study.optimize(objective, n_trials=100)\n",
    "print(\"Number of finished trials: {}\".format(len(study.trials)))\n",
    "\n",
    "print(\"Best trial:\")\n",
    "trial = study.best_trial\n",
    "\n",
    "print(\"  Value: {}\".format(trial.value))\n",
    "\n",
    "print(\"  Params: \")\n",
    "for key, value in trial.params.items():\n",
    "    print(\"    {}: {}\".format(key, value))"
   ]
  },
  {
   "cell_type": "code",
   "execution_count": 68,
   "id": "2e1ce7c3",
   "metadata": {
    "ExecuteTime": {
     "end_time": "2021-06-23T12:14:51.754327Z",
     "start_time": "2021-06-23T12:14:37.805980Z"
    }
   },
   "outputs": [
    {
     "name": "stderr",
     "output_type": "stream",
     "text": [
      "\u001b[32m[I 2021-06-23 19:14:37,807]\u001b[0m A new study created in memory with name: no-name-a6efa6bd-c95f-42f5-b22a-9f9c310b4dd2\u001b[0m\n",
      "\u001b[32m[I 2021-06-23 19:14:37,810]\u001b[0m Trial 0 finished with value: 0.7382913728603094 and parameters: {'n_1': 0.5392741085827872, 'n_2': 0.5063322796509193, 'n_3': 0.4268392110623701}. Best is trial 0 with value: 0.7382913728603094.\u001b[0m\n",
      "\u001b[32m[I 2021-06-23 19:14:37,812]\u001b[0m Trial 1 finished with value: 0.7039448987976002 and parameters: {'n_1': 0.8185892004495157, 'n_2': 0.1338650650555624, 'n_3': 0.4905280483303196}. Best is trial 1 with value: 0.7039448987976002.\u001b[0m\n",
      "\u001b[32m[I 2021-06-23 19:14:37,814]\u001b[0m Trial 2 finished with value: 1.8942642843427175 and parameters: {'n_1': 0.7823245175012284, 'n_2': 0.6529237999308429, 'n_3': 0.9400364145478861}. Best is trial 1 with value: 0.7039448987976002.\u001b[0m\n",
      "\u001b[32m[I 2021-06-23 19:14:37,817]\u001b[0m Trial 3 finished with value: 0.9183899774002522 and parameters: {'n_1': 0.3820834665789534, 'n_2': 0.7994786531138477, 'n_3': 0.4404029263255973}. Best is trial 1 with value: 0.7039448987976002.\u001b[0m\n",
      "\u001b[32m[I 2021-06-23 19:14:37,819]\u001b[0m Trial 4 finished with value: 1.5232877888950425 and parameters: {'n_1': 0.5310757333746124, 'n_2': 0.8497095249174494, 'n_3': 0.7170887172994291}. Best is trial 1 with value: 0.7039448987976002.\u001b[0m\n",
      "\u001b[32m[I 2021-06-23 19:14:37,821]\u001b[0m Trial 5 finished with value: 1.7088155597757568 and parameters: {'n_1': 0.6513626203506524, 'n_2': 0.9972117777122376, 'n_3': 0.5988003684450499}. Best is trial 1 with value: 0.7039448987976002.\u001b[0m\n",
      "\u001b[32m[I 2021-06-23 19:14:37,823]\u001b[0m Trial 6 finished with value: 0.4040929927125531 and parameters: {'n_1': 0.5036095547337904, 'n_2': 0.4018954949501402, 'n_3': 0.15786934404763964}. Best is trial 6 with value: 0.4040929927125531.\u001b[0m\n",
      "\u001b[32m[I 2021-06-23 19:14:37,825]\u001b[0m Trial 7 finished with value: 0.422966746070494 and parameters: {'n_1': 0.8533185494141923, 'n_2': 0.23094579993320785, 'n_3': 0.040949281039326824}. Best is trial 6 with value: 0.4040929927125531.\u001b[0m\n",
      "\u001b[32m[I 2021-06-23 19:14:37,826]\u001b[0m Trial 8 finished with value: 1.1049751770797698 and parameters: {'n_1': 0.0500677196044822, 'n_2': 0.12747114547859806, 'n_3': 0.06387266788030421}. Best is trial 6 with value: 0.4040929927125531.\u001b[0m\n",
      "\u001b[32m[I 2021-06-23 19:14:37,828]\u001b[0m Trial 9 finished with value: 1.2698759706025857 and parameters: {'n_1': 0.6255469046006547, 'n_2': 0.5240353749560942, 'n_3': 0.7485231741388938}. Best is trial 6 with value: 0.4040929927125531.\u001b[0m\n",
      "\u001b[32m[I 2021-06-23 19:14:37,838]\u001b[0m Trial 10 finished with value: 0.4837427044357152 and parameters: {'n_1': 0.26659213697203454, 'n_2': 0.29981863381318086, 'n_3': 0.23443479186140834}. Best is trial 6 with value: 0.4040929927125531.\u001b[0m\n",
      "\u001b[32m[I 2021-06-23 19:14:37,853]\u001b[0m Trial 11 finished with value: 0.5941528525319267 and parameters: {'n_1': 0.9887387296759892, 'n_2': 0.3086994723446184, 'n_3': 0.0468150972328905}. Best is trial 6 with value: 0.4040929927125531.\u001b[0m\n",
      "\u001b[32m[I 2021-06-23 19:14:37,866]\u001b[0m Trial 12 finished with value: 0.676173638464537 and parameters: {'n_1': 0.9376536923376173, 'n_2': 0.3013121944458319, 'n_3': 0.1842207387116981}. Best is trial 6 with value: 0.4040929927125531.\u001b[0m\n",
      "\u001b[32m[I 2021-06-23 19:14:37,881]\u001b[0m Trial 13 finished with value: 0.8790022358779009 and parameters: {'n_1': 0.1948643474287196, 'n_2': 0.0005178537448558007, 'n_3': 0.21676121858177727}. Best is trial 6 with value: 0.4040929927125531.\u001b[0m\n",
      "\u001b[32m[I 2021-06-23 19:14:37,889]\u001b[0m Trial 14 finished with value: 0.45425138473404436 and parameters: {'n_1': 0.7854096027185394, 'n_2': 0.36586130247210535, 'n_3': 0.024935307444623404}. Best is trial 6 with value: 0.4040929927125531.\u001b[0m\n",
      "\u001b[32m[I 2021-06-23 19:14:37,898]\u001b[0m Trial 15 finished with value: 0.4266536971340372 and parameters: {'n_1': 0.42462856660661613, 'n_2': 0.12448954438180483, 'n_3': 0.3094265208533741}. Best is trial 6 with value: 0.4040929927125531.\u001b[0m\n",
      "\u001b[32m[I 2021-06-23 19:14:37,908]\u001b[0m Trial 16 finished with value: 0.7353593898914107 and parameters: {'n_1': 0.019026850089985614, 'n_2': 0.40741286820862643, 'n_3': 0.13426957451575475}. Best is trial 6 with value: 0.4040929927125531.\u001b[0m\n",
      "\u001b[32m[I 2021-06-23 19:14:37,915]\u001b[0m Trial 17 finished with value: 0.4676252332766367 and parameters: {'n_1': 0.8754229593049594, 'n_2': 0.010719178607400126, 'n_3': 0.32250981773500315}. Best is trial 6 with value: 0.4040929927125531.\u001b[0m\n",
      "\u001b[32m[I 2021-06-23 19:14:37,924]\u001b[0m Trial 18 finished with value: 0.7013745513784986 and parameters: {'n_1': 0.6999025752679373, 'n_2': 0.647626372436638, 'n_3': 0.0974582428087907}. Best is trial 6 with value: 0.4040929927125531.\u001b[0m\n",
      "\u001b[32m[I 2021-06-23 19:14:37,933]\u001b[0m Trial 19 finished with value: 0.46081135786652716 and parameters: {'n_1': 0.2866882336361664, 'n_2': 0.2024059061771254, 'n_3': 0.32750485510225547}. Best is trial 6 with value: 0.4040929927125531.\u001b[0m\n",
      "\u001b[32m[I 2021-06-23 19:14:37,947]\u001b[0m Trial 20 finished with value: 0.43142024898154246 and parameters: {'n_1': 0.45337865754007967, 'n_2': 0.4451323636090894, 'n_3': 0.01791959017401118}. Best is trial 6 with value: 0.4040929927125531.\u001b[0m\n",
      "\u001b[32m[I 2021-06-23 19:14:37,956]\u001b[0m Trial 21 finished with value: 0.40751188662497023 and parameters: {'n_1': 0.40187122847003265, 'n_2': 0.19150889764834417, 'n_3': 0.30897150832396963}. Best is trial 6 with value: 0.4040929927125531.\u001b[0m\n",
      "\u001b[32m[I 2021-06-23 19:14:37,965]\u001b[0m Trial 22 finished with value: 0.6324733268331291 and parameters: {'n_1': 0.14363517420814575, 'n_2': 0.22796978553328182, 'n_3': 0.2652743628907527}. Best is trial 6 with value: 0.4040929927125531.\u001b[0m\n",
      "\u001b[32m[I 2021-06-23 19:14:37,973]\u001b[0m Trial 23 finished with value: 0.7233183535144211 and parameters: {'n_1': 0.350947178103334, 'n_2': 0.06644427342804901, 'n_3': 0.13329956647853342}. Best is trial 6 with value: 0.4040929927125531.\u001b[0m\n",
      "\u001b[32m[I 2021-06-23 19:14:37,982]\u001b[0m Trial 24 finished with value: 0.4531129933193732 and parameters: {'n_1': 0.6033164780683383, 'n_2': 0.20628847187623534, 'n_3': 0.37745841576439965}. Best is trial 6 with value: 0.4040929927125531.\u001b[0m\n",
      "\u001b[32m[I 2021-06-23 19:14:37,992]\u001b[0m Trial 25 finished with value: 0.42091375311233675 and parameters: {'n_1': 0.4801282957827148, 'n_2': 0.24172753556604332, 'n_3': 0.17048789935601563}. Best is trial 6 with value: 0.4040929927125531.\u001b[0m\n",
      "\u001b[32m[I 2021-06-23 19:14:38,001]\u001b[0m Trial 26 finished with value: 0.5079275992787471 and parameters: {'n_1': 0.48072608897230046, 'n_2': 0.5789450173976944, 'n_3': 0.1824768432727113}. Best is trial 6 with value: 0.4040929927125531.\u001b[0m\n",
      "\u001b[32m[I 2021-06-23 19:14:38,012]\u001b[0m Trial 27 finished with value: 0.5359393278313197 and parameters: {'n_1': 0.3380337787098634, 'n_2': 0.36461839960490616, 'n_3': 0.5697089504012127}. Best is trial 6 with value: 0.4040929927125531.\u001b[0m\n",
      "\u001b[32m[I 2021-06-23 19:14:38,021]\u001b[0m Trial 28 finished with value: 0.5702359401919466 and parameters: {'n_1': 0.567235756455562, 'n_2': 0.4706686268201677, 'n_3': 0.27927929773785976}. Best is trial 6 with value: 0.4040929927125531.\u001b[0m\n",
      "\u001b[32m[I 2021-06-23 19:14:38,031]\u001b[0m Trial 29 finished with value: 0.37577272942702517 and parameters: {'n_1': 0.5112610772989042, 'n_2': 0.06517815586668368, 'n_3': 0.3964883041854844}. Best is trial 29 with value: 0.37577272942702517.\u001b[0m\n",
      "\u001b[32m[I 2021-06-23 19:14:38,041]\u001b[0m Trial 30 finished with value: 0.4631544778194118 and parameters: {'n_1': 0.7122469035031646, 'n_2': 0.07877318021813695, 'n_3': 0.41252787632122934}. Best is trial 29 with value: 0.37577272942702517.\u001b[0m\n",
      "\u001b[32m[I 2021-06-23 19:14:38,051]\u001b[0m Trial 31 finished with value: 0.45168407782059383 and parameters: {'n_1': 0.536394164284513, 'n_2': 0.2737266283624518, 'n_3': 0.3715394799710572}. Best is trial 29 with value: 0.37577272942702517.\u001b[0m\n",
      "\u001b[32m[I 2021-06-23 19:14:38,060]\u001b[0m Trial 32 finished with value: 0.404279069245577 and parameters: {'n_1': 0.4225165931507549, 'n_2': 0.16501962348100396, 'n_3': 0.5161160402760597}. Best is trial 29 with value: 0.37577272942702517.\u001b[0m\n",
      "\u001b[32m[I 2021-06-23 19:14:38,070]\u001b[0m Trial 33 finished with value: 0.39931805577918 and parameters: {'n_1': 0.4064713352017012, 'n_2': 0.16557267303674744, 'n_3': 0.5197452545591773}. Best is trial 29 with value: 0.37577272942702517.\u001b[0m\n"
     ]
    },
    {
     "name": "stderr",
     "output_type": "stream",
     "text": [
      "\u001b[32m[I 2021-06-23 19:14:38,080]\u001b[0m Trial 34 finished with value: 0.4130887897947661 and parameters: {'n_1': 0.29387384564060315, 'n_2': 0.04414744523400008, 'n_3': 0.5264319210206092}. Best is trial 29 with value: 0.37577272942702517.\u001b[0m\n",
      "\u001b[32m[I 2021-06-23 19:14:38,090]\u001b[0m Trial 35 finished with value: 0.5751086047250961 and parameters: {'n_1': 0.5028991115037905, 'n_2': 0.15372580493424232, 'n_3': 0.6604598405568822}. Best is trial 29 with value: 0.37577272942702517.\u001b[0m\n",
      "\u001b[32m[I 2021-06-23 19:14:38,100]\u001b[0m Trial 36 finished with value: 0.3804221220256586 and parameters: {'n_1': 0.5565182195098388, 'n_2': 0.003340126357601725, 'n_3': 0.5027338579809004}. Best is trial 29 with value: 0.37577272942702517.\u001b[0m\n",
      "\u001b[32m[I 2021-06-23 19:14:38,108]\u001b[0m Trial 37 finished with value: 0.6904476007487211 and parameters: {'n_1': 0.6904392820376096, 'n_2': 0.08647689182035935, 'n_3': 0.6492705044979525}. Best is trial 29 with value: 0.37577272942702517.\u001b[0m\n",
      "\u001b[32m[I 2021-06-23 19:14:38,117]\u001b[0m Trial 38 finished with value: 0.6444563547676664 and parameters: {'n_1': 0.5763123761896172, 'n_2': 0.0015624168132761795, 'n_3': 0.8006838031910608}. Best is trial 29 with value: 0.37577272942702517.\u001b[0m\n",
      "\u001b[32m[I 2021-06-23 19:14:38,125]\u001b[0m Trial 39 finished with value: 1.1820895936635527 and parameters: {'n_1': 0.5199314401745125, 'n_2': 0.8617655883586961, 'n_3': 0.4566931993822846}. Best is trial 29 with value: 0.37577272942702517.\u001b[0m\n",
      "\u001b[32m[I 2021-06-23 19:14:38,135]\u001b[0m Trial 40 finished with value: 1.191039338879006 and parameters: {'n_1': 0.652202086239168, 'n_2': 0.7260788563453711, 'n_3': 0.4680457655895497}. Best is trial 29 with value: 0.37577272942702517.\u001b[0m\n",
      "\u001b[32m[I 2021-06-23 19:14:38,145]\u001b[0m Trial 41 finished with value: 0.3915250013919708 and parameters: {'n_1': 0.4296360910008359, 'n_2': 0.13074732576749634, 'n_3': 0.5165406067784005}. Best is trial 29 with value: 0.37577272942702517.\u001b[0m\n",
      "\u001b[32m[I 2021-06-23 19:14:38,154]\u001b[0m Trial 42 finished with value: 0.37782390416915235 and parameters: {'n_1': 0.35303388584008893, 'n_2': 0.09752018132269921, 'n_3': 0.5708937883497355}. Best is trial 29 with value: 0.37577272942702517.\u001b[0m\n",
      "\u001b[32m[I 2021-06-23 19:14:38,165]\u001b[0m Trial 43 finished with value: 0.3922895915691446 and parameters: {'n_1': 0.22459750923087493, 'n_2': 0.11328286453254854, 'n_3': 0.5838765684459704}. Best is trial 29 with value: 0.37577272942702517.\u001b[0m\n",
      "\u001b[32m[I 2021-06-23 19:14:38,174]\u001b[0m Trial 44 finished with value: 0.4272611583855434 and parameters: {'n_1': 0.20815061029723467, 'n_2': 0.033799679180633826, 'n_3': 0.5985903370501273}. Best is trial 29 with value: 0.37577272942702517.\u001b[0m\n",
      "\u001b[32m[I 2021-06-23 19:14:38,184]\u001b[0m Trial 45 finished with value: 0.4100313769033354 and parameters: {'n_1': 0.10004168114080639, 'n_2': 0.10419800631251565, 'n_3': 0.6803794872396449}. Best is trial 29 with value: 0.37577272942702517.\u001b[0m\n",
      "\u001b[32m[I 2021-06-23 19:14:38,192]\u001b[0m Trial 46 finished with value: 0.4352282433503865 and parameters: {'n_1': 0.36006425267605774, 'n_2': 0.002406467434381221, 'n_3': 0.7893401709206762}. Best is trial 29 with value: 0.37577272942702517.\u001b[0m\n",
      "\u001b[32m[I 2021-06-23 19:14:38,202]\u001b[0m Trial 47 finished with value: 0.3968198892551871 and parameters: {'n_1': 0.24020936899067707, 'n_2': 0.10094116749646033, 'n_3': 0.5653249516367884}. Best is trial 29 with value: 0.37577272942702517.\u001b[0m\n",
      "\u001b[32m[I 2021-06-23 19:14:38,212]\u001b[0m Trial 48 finished with value: 0.47385768120214555 and parameters: {'n_1': 0.31637542553130416, 'n_2': 0.044133669457468175, 'n_3': 0.4213535266261744}. Best is trial 29 with value: 0.37577272942702517.\u001b[0m\n",
      "\u001b[32m[I 2021-06-23 19:14:38,220]\u001b[0m Trial 49 finished with value: 0.3912068717385682 and parameters: {'n_1': 0.18538178483897036, 'n_2': 0.12237661869754538, 'n_3': 0.6226941206216031}. Best is trial 29 with value: 0.37577272942702517.\u001b[0m\n",
      "\u001b[32m[I 2021-06-23 19:14:38,230]\u001b[0m Trial 50 finished with value: 0.5873857709391954 and parameters: {'n_1': 0.1579699098331703, 'n_2': 0.2601439856616242, 'n_3': 0.89083119566105}. Best is trial 29 with value: 0.37577272942702517.\u001b[0m\n",
      "\u001b[32m[I 2021-06-23 19:14:38,238]\u001b[0m Trial 51 finished with value: 0.42687262039632795 and parameters: {'n_1': 0.08399597522583317, 'n_2': 0.1395549591411262, 'n_3': 0.6345550018269329}. Best is trial 29 with value: 0.37577272942702517.\u001b[0m\n",
      "\u001b[32m[I 2021-06-23 19:14:38,248]\u001b[0m Trial 52 finished with value: 0.39084795219738805 and parameters: {'n_1': 0.22175114065754356, 'n_2': 0.1158939976857441, 'n_3': 0.7141682757409241}. Best is trial 29 with value: 0.37577272942702517.\u001b[0m\n",
      "\u001b[32m[I 2021-06-23 19:14:38,258]\u001b[0m Trial 53 finished with value: 0.45423497477462615 and parameters: {'n_1': 0.2580396066840771, 'n_2': 0.058064943189373455, 'n_3': 0.48992528179966444}. Best is trial 29 with value: 0.37577272942702517.\u001b[0m\n",
      "\u001b[32m[I 2021-06-23 19:14:38,270]\u001b[0m Trial 54 finished with value: 0.39643279803785963 and parameters: {'n_1': 0.15789019655551126, 'n_2': 0.02470544071769419, 'n_3': 0.7172509335300623}. Best is trial 29 with value: 0.37577272942702517.\u001b[0m\n",
      "\u001b[32m[I 2021-06-23 19:14:38,280]\u001b[0m Trial 55 finished with value: 0.6325186405219528 and parameters: {'n_1': 0.4684108420226111, 'n_2': 0.18068195851924795, 'n_3': 0.7199230231734013}. Best is trial 29 with value: 0.37577272942702517.\u001b[0m\n",
      "\u001b[32m[I 2021-06-23 19:14:38,290]\u001b[0m Trial 56 finished with value: 0.413784163828507 and parameters: {'n_1': 0.443961489845767, 'n_2': 0.13319664823985042, 'n_3': 0.5472278919292717}. Best is trial 29 with value: 0.37577272942702517.\u001b[0m\n",
      "\u001b[32m[I 2021-06-23 19:14:38,300]\u001b[0m Trial 57 finished with value: 0.5733148919492389 and parameters: {'n_1': 0.37707391968278337, 'n_2': 0.3252921949690293, 'n_3': 0.609834027635394}. Best is trial 29 with value: 0.37577272942702517.\u001b[0m\n",
      "\u001b[32m[I 2021-06-23 19:14:38,308]\u001b[0m Trial 58 finished with value: 0.4262674619041676 and parameters: {'n_1': 0.30635752845692293, 'n_2': 0.0014758421992975002, 'n_3': 0.8263118324098578}. Best is trial 29 with value: 0.37577272942702517.\u001b[0m\n",
      "\u001b[32m[I 2021-06-23 19:14:38,318]\u001b[0m Trial 59 finished with value: 0.5872880497039662 and parameters: {'n_1': 0.5659848751276962, 'n_2': 0.07631542572755118, 'n_3': 0.687011917512603}. Best is trial 29 with value: 0.37577272942702517.\u001b[0m\n",
      "\u001b[32m[I 2021-06-23 19:14:38,326]\u001b[0m Trial 60 finished with value: 0.46699977935303005 and parameters: {'n_1': 0.10405841279039835, 'n_2': 0.22202442866251293, 'n_3': 0.48257862060385326}. Best is trial 29 with value: 0.37577272942702517.\u001b[0m\n",
      "\u001b[32m[I 2021-06-23 19:14:38,336]\u001b[0m Trial 61 finished with value: 0.3940393460752488 and parameters: {'n_1': 0.20480825154912366, 'n_2': 0.11791408371478689, 'n_3': 0.5961532104216639}. Best is trial 29 with value: 0.37577272942702517.\u001b[0m\n",
      "\u001b[32m[I 2021-06-23 19:14:38,345]\u001b[0m Trial 62 finished with value: 0.5517737754998463 and parameters: {'n_1': 0.220381407692363, 'n_2': 0.10743750510907704, 'n_3': 0.375212100701965}. Best is trial 29 with value: 0.37577272942702517.\u001b[0m\n",
      "\u001b[32m[I 2021-06-23 19:14:38,356]\u001b[0m Trial 63 finished with value: 0.496868900308624 and parameters: {'n_1': 0.026599426751526434, 'n_2': 0.18885514027440878, 'n_3': 0.5527337684085485}. Best is trial 29 with value: 0.37577272942702517.\u001b[0m\n",
      "\u001b[32m[I 2021-06-23 19:14:38,365]\u001b[0m Trial 64 finished with value: 0.38711910944887856 and parameters: {'n_1': 0.13199360314696917, 'n_2': 0.06386478731776263, 'n_3': 0.7466142058963133}. Best is trial 29 with value: 0.37577272942702517.\u001b[0m\n",
      "\u001b[32m[I 2021-06-23 19:14:38,375]\u001b[0m Trial 65 finished with value: 0.441758585219349 and parameters: {'n_1': 0.13105195814258136, 'n_2': 0.06230821874177528, 'n_3': 0.6302295313625119}. Best is trial 29 with value: 0.37577272942702517.\u001b[0m\n",
      "\u001b[32m[I 2021-06-23 19:14:38,384]\u001b[0m Trial 66 finished with value: 0.3917948032588805 and parameters: {'n_1': 0.059896595736771585, 'n_2': 0.14939215515247903, 'n_3': 0.7603932262894264}. Best is trial 29 with value: 0.37577272942702517.\u001b[0m\n",
      "\u001b[32m[I 2021-06-23 19:14:38,394]\u001b[0m Trial 67 finished with value: 0.5821342668091127 and parameters: {'n_1': 0.27005141159528845, 'n_2': 0.04614344914521576, 'n_3': 0.9889650267699895}. Best is trial 29 with value: 0.37577272942702517.\u001b[0m\n",
      "\u001b[32m[I 2021-06-23 19:14:38,403]\u001b[0m Trial 68 finished with value: 0.3984293094175003 and parameters: {'n_1': 0.17614264011785574, 'n_2': 0.022895389704961244, 'n_3': 0.8683017762551104}. Best is trial 29 with value: 0.37577272942702517.\u001b[0m\n"
     ]
    },
    {
     "name": "stderr",
     "output_type": "stream",
     "text": [
      "\u001b[32m[I 2021-06-23 19:14:38,412]\u001b[0m Trial 69 finished with value: 0.47785959383586835 and parameters: {'n_1': 0.4359396629390191, 'n_2': 0.08262300358083045, 'n_3': 0.693060686736595}. Best is trial 29 with value: 0.37577272942702517.\u001b[0m\n",
      "\u001b[32m[I 2021-06-23 19:14:38,421]\u001b[0m Trial 70 finished with value: 0.5013887096821283 and parameters: {'n_1': 0.5905886725140247, 'n_2': 0.24835946545690163, 'n_3': 0.4067150806824507}. Best is trial 29 with value: 0.37577272942702517.\u001b[0m\n",
      "\u001b[32m[I 2021-06-23 19:14:38,431]\u001b[0m Trial 71 finished with value: 0.3972216107572992 and parameters: {'n_1': 0.04594555480670723, 'n_2': 0.13445500896346857, 'n_3': 0.7533828846461019}. Best is trial 29 with value: 0.37577272942702517.\u001b[0m\n",
      "\u001b[32m[I 2021-06-23 19:14:38,441]\u001b[0m Trial 72 finished with value: 0.39138343820312993 and parameters: {'n_1': 0.0806023085928384, 'n_2': 0.14717262004841392, 'n_3': 0.7800181787602272}. Best is trial 29 with value: 0.37577272942702517.\u001b[0m\n",
      "\u001b[32m[I 2021-06-23 19:14:38,449]\u001b[0m Trial 73 finished with value: 0.45171934616044457 and parameters: {'n_1': 0.12939994912437794, 'n_2': 0.2079981734230293, 'n_3': 0.8162235461129066}. Best is trial 29 with value: 0.37577272942702517.\u001b[0m\n",
      "\u001b[32m[I 2021-06-23 19:14:38,459]\u001b[0m Trial 74 finished with value: 0.6924965252353074 and parameters: {'n_1': 0.39104955103312605, 'n_2': 0.17668756165144564, 'n_3': 0.8492753877465363}. Best is trial 29 with value: 0.37577272942702517.\u001b[0m\n",
      "\u001b[32m[I 2021-06-23 19:14:38,467]\u001b[0m Trial 75 finished with value: 0.3821937826428297 and parameters: {'n_1': 0.1862928702043628, 'n_2': 0.08789390504089435, 'n_3': 0.7296367643741509}. Best is trial 29 with value: 0.37577272942702517.\u001b[0m\n",
      "\u001b[32m[I 2021-06-23 19:14:38,479]\u001b[0m Trial 76 finished with value: 0.3855539369553707 and parameters: {'n_1': 0.17419290984311825, 'n_2': 0.07851316913510707, 'n_3': 0.7709538423625791}. Best is trial 29 with value: 0.37577272942702517.\u001b[0m\n",
      "\u001b[32m[I 2021-06-23 19:14:38,486]\u001b[0m Trial 77 finished with value: 0.40152223023236583 and parameters: {'n_1': 0.25364384409184304, 'n_2': 0.08601872555360926, 'n_3': 0.7457191526435154}. Best is trial 29 with value: 0.37577272942702517.\u001b[0m\n",
      "\u001b[32m[I 2021-06-23 19:14:38,496]\u001b[0m Trial 78 finished with value: 1.2626272484561734 and parameters: {'n_1': 0.1676803671404895, 'n_2': 0.9928833928887711, 'n_3': 0.7270448832990247}. Best is trial 29 with value: 0.37577272942702517.\u001b[0m\n",
      "\u001b[32m[I 2021-06-23 19:14:38,506]\u001b[0m Trial 79 finished with value: 0.5784775903625657 and parameters: {'n_1': 0.001266662192676793, 'n_2': 0.0020198153036086325, 'n_3': 0.6611113457604646}. Best is trial 29 with value: 0.37577272942702517.\u001b[0m\n",
      "\u001b[32m[I 2021-06-23 19:14:38,516]\u001b[0m Trial 80 finished with value: 0.4290960696747483 and parameters: {'n_1': 0.18026578441344088, 'n_2': 0.023766386390502145, 'n_3': 0.9202070057528517}. Best is trial 29 with value: 0.37577272942702517.\u001b[0m\n",
      "\u001b[32m[I 2021-06-23 19:14:38,526]\u001b[0m Trial 81 finished with value: 0.3872671088945484 and parameters: {'n_1': 0.11724962348775309, 'n_2': 0.06364094561496096, 'n_3': 0.7649197910750424}. Best is trial 29 with value: 0.37577272942702517.\u001b[0m\n",
      "\u001b[32m[I 2021-06-23 19:14:38,535]\u001b[0m Trial 82 finished with value: 0.4110852977997118 and parameters: {'n_1': 0.11403426617460344, 'n_2': 0.06450151138187542, 'n_3': 0.6972853331016086}. Best is trial 29 with value: 0.37577272942702517.\u001b[0m\n",
      "\u001b[32m[I 2021-06-23 19:14:38,544]\u001b[0m Trial 83 finished with value: 0.6095710408796742 and parameters: {'n_1': 0.6282380112654709, 'n_2': 0.09804823020170178, 'n_3': 0.6266999202519324}. Best is trial 29 with value: 0.37577272942702517.\u001b[0m\n",
      "\u001b[32m[I 2021-06-23 19:14:38,554]\u001b[0m Trial 84 finished with value: 0.3808754284988091 and parameters: {'n_1': 0.18641463102182404, 'n_2': 0.042326857379463935, 'n_3': 0.7765491514147548}. Best is trial 29 with value: 0.37577272942702517.\u001b[0m\n",
      "\u001b[32m[I 2021-06-23 19:14:38,564]\u001b[0m Trial 85 finished with value: 0.4812246727108559 and parameters: {'n_1': 0.3258771080283529, 'n_2': 0.04607012586367676, 'n_3': 0.8349794589727831}. Best is trial 29 with value: 0.37577272942702517.\u001b[0m\n",
      "\u001b[32m[I 2021-06-23 19:14:38,572]\u001b[0m Trial 86 finished with value: 0.38165300083828324 and parameters: {'n_1': 0.23569566400194447, 'n_2': 0.025625240567923535, 'n_3': 0.7674728055947094}. Best is trial 29 with value: 0.37577272942702517.\u001b[0m\n",
      "\u001b[32m[I 2021-06-23 19:14:38,583]\u001b[0m Trial 87 finished with value: 0.5642345505032983 and parameters: {'n_1': 0.5168380885973658, 'n_2': 0.01881435893242177, 'n_3': 0.7678201149566267}. Best is trial 29 with value: 0.37577272942702517.\u001b[0m\n",
      "\u001b[32m[I 2021-06-23 19:14:38,591]\u001b[0m Trial 88 finished with value: 0.386246516142333 and parameters: {'n_1': 0.14525682015317207, 'n_2': 0.0628963767835676, 'n_3': 0.8111491609134888}. Best is trial 29 with value: 0.37577272942702517.\u001b[0m\n",
      "\u001b[32m[I 2021-06-23 19:14:38,601]\u001b[0m Trial 89 finished with value: 0.38217893882754467 and parameters: {'n_1': 0.14728076144729296, 'n_2': 0.03994477135924113, 'n_3': 0.8069654926438982}. Best is trial 29 with value: 0.37577272942702517.\u001b[0m\n",
      "\u001b[32m[I 2021-06-23 19:14:38,610]\u001b[0m Trial 90 finished with value: 0.4808471669104723 and parameters: {'n_1': 0.2813191968473674, 'n_2': 0.032992903159634324, 'n_3': 0.8880136540668073}. Best is trial 29 with value: 0.37577272942702517.\u001b[0m\n",
      "\u001b[32m[I 2021-06-23 19:14:38,620]\u001b[0m Trial 91 finished with value: 0.38941639935596173 and parameters: {'n_1': 0.1391192056688344, 'n_2': 0.08761839208344452, 'n_3': 0.8027780579719626}. Best is trial 29 with value: 0.37577272942702517.\u001b[0m\n",
      "\u001b[32m[I 2021-06-23 19:14:38,630]\u001b[0m Trial 92 finished with value: 0.4085519467267399 and parameters: {'n_1': 0.23569108844937836, 'n_2': 0.013931130486785109, 'n_3': 0.8477051259946464}. Best is trial 29 with value: 0.37577272942702517.\u001b[0m\n",
      "\u001b[32m[I 2021-06-23 19:14:38,638]\u001b[0m Trial 93 finished with value: 0.4937423945019009 and parameters: {'n_1': 0.19249054374241417, 'n_2': 0.05212490636070063, 'n_3': 0.9644838670456155}. Best is trial 29 with value: 0.37577272942702517.\u001b[0m\n",
      "\u001b[32m[I 2021-06-23 19:14:38,649]\u001b[0m Trial 94 finished with value: 0.45346478437440146 and parameters: {'n_1': 0.06443453061870386, 'n_2': 0.0004276476156623299, 'n_3': 0.7376519173289777}. Best is trial 29 with value: 0.37577272942702517.\u001b[0m\n",
      "\u001b[32m[I 2021-06-23 19:14:38,658]\u001b[0m Trial 95 finished with value: 0.3846856107547491 and parameters: {'n_1': 0.15322769324566904, 'n_2': 0.07034080425323405, 'n_3': 0.7887237959223884}. Best is trial 29 with value: 0.37577272942702517.\u001b[0m\n",
      "\u001b[32m[I 2021-06-23 19:14:38,668]\u001b[0m Trial 96 finished with value: 0.7866645735890594 and parameters: {'n_1': 0.5430460107885863, 'n_2': 0.037876191231610366, 'n_3': 0.9168519033947171}. Best is trial 29 with value: 0.37577272942702517.\u001b[0m\n",
      "\u001b[32m[I 2021-06-23 19:14:38,678]\u001b[0m Trial 97 finished with value: 0.4292504527702123 and parameters: {'n_1': 0.16286471633302982, 'n_2': 0.1627150997459692, 'n_3': 0.7980974919872086}. Best is trial 29 with value: 0.37577272942702517.\u001b[0m\n",
      "\u001b[32m[I 2021-06-23 19:14:38,687]\u001b[0m Trial 98 finished with value: 0.4031172998360829 and parameters: {'n_1': 0.08774123398490843, 'n_2': 0.10117875715512759, 'n_3': 0.8710040419529995}. Best is trial 29 with value: 0.37577272942702517.\u001b[0m\n",
      "\u001b[32m[I 2021-06-23 19:14:38,697]\u001b[0m Trial 99 finished with value: 0.3914662355905089 and parameters: {'n_1': 0.15551398076788286, 'n_2': 0.07263602045237162, 'n_3': 0.8145128256831379}. Best is trial 29 with value: 0.37577272942702517.\u001b[0m\n",
      "\u001b[32m[I 2021-06-23 19:14:38,707]\u001b[0m Trial 100 finished with value: 0.37746105563634674 and parameters: {'n_1': 0.20139450093551808, 'n_2': 0.0024652503140360493, 'n_3': 0.783916443847712}. Best is trial 29 with value: 0.37577272942702517.\u001b[0m\n",
      "\u001b[32m[I 2021-06-23 19:14:38,717]\u001b[0m Trial 101 finished with value: 0.3787539613799553 and parameters: {'n_1': 0.2000936862270639, 'n_2': 0.013350435924577964, 'n_3': 0.7872418356740328}. Best is trial 29 with value: 0.37577272942702517.\u001b[0m\n",
      "\u001b[32m[I 2021-06-23 19:14:38,726]\u001b[0m Trial 102 finished with value: 0.6081435207499373 and parameters: {'n_1': 0.19522924572402517, 'n_2': 0.0038379305833742055, 'n_3': 0.4401190203184271}. Best is trial 29 with value: 0.37577272942702517.\u001b[0m\n"
     ]
    },
    {
     "name": "stderr",
     "output_type": "stream",
     "text": [
      "\u001b[32m[I 2021-06-23 19:14:38,734]\u001b[0m Trial 103 finished with value: 0.3892058605656088 and parameters: {'n_1': 0.2436749150490214, 'n_2': 0.032625627060317186, 'n_3': 0.7794128992181936}. Best is trial 29 with value: 0.37577272942702517.\u001b[0m\n",
      "\u001b[32m[I 2021-06-23 19:14:38,745]\u001b[0m Trial 104 finished with value: 0.6779142133476205 and parameters: {'n_1': 0.21477431634857136, 'n_2': 0.014982730489416, 'n_3': 0.3492826419060396}. Best is trial 29 with value: 0.37577272942702517.\u001b[0m\n",
      "\u001b[32m[I 2021-06-23 19:14:38,754]\u001b[0m Trial 105 finished with value: 0.4966182268017142 and parameters: {'n_1': 0.2837111469341674, 'n_2': 0.09161762611135818, 'n_3': 0.8466330749777486}. Best is trial 29 with value: 0.37577272942702517.\u001b[0m\n",
      "\u001b[32m[I 2021-06-23 19:14:38,765]\u001b[0m Trial 106 finished with value: 1.2242944047662083 and parameters: {'n_1': 0.4949977185253482, 'n_2': 0.5817349914110658, 'n_3': 0.7832394206680644}. Best is trial 29 with value: 0.37577272942702517.\u001b[0m\n",
      "\u001b[32m[I 2021-06-23 19:14:38,773]\u001b[0m Trial 107 finished with value: 0.6872706197069718 and parameters: {'n_1': 0.546947019726238, 'n_2': 0.00014409519603700164, 'n_3': 0.8668170275257207}. Best is trial 29 with value: 0.37577272942702517.\u001b[0m\n",
      "\u001b[32m[I 2021-06-23 19:14:38,783]\u001b[0m Trial 108 finished with value: 0.3821831995181266 and parameters: {'n_1': 0.20185985489027683, 'n_2': 0.12137928481092564, 'n_3': 0.6711792686763122}. Best is trial 29 with value: 0.37577272942702517.\u001b[0m\n",
      "\u001b[32m[I 2021-06-23 19:14:38,793]\u001b[0m Trial 109 finished with value: 0.3959774369113435 and parameters: {'n_1': 0.30373188194669304, 'n_2': 0.1194823854120968, 'n_3': 0.6545411446376026}. Best is trial 29 with value: 0.37577272942702517.\u001b[0m\n",
      "\u001b[32m[I 2021-06-23 19:14:38,801]\u001b[0m Trial 110 finished with value: 0.4524956363305316 and parameters: {'n_1': 0.22992269361807025, 'n_2': 0.04309282848433685, 'n_3': 0.5332100926240753}. Best is trial 29 with value: 0.37577272942702517.\u001b[0m\n",
      "\u001b[32m[I 2021-06-23 19:14:38,811]\u001b[0m Trial 111 finished with value: 0.3806631730432022 and parameters: {'n_1': 0.1916427373415082, 'n_2': 0.07741307810591791, 'n_3': 0.7117282086563476}. Best is trial 29 with value: 0.37577272942702517.\u001b[0m\n",
      "\u001b[32m[I 2021-06-23 19:14:38,820]\u001b[0m Trial 112 finished with value: 0.3883369894042574 and parameters: {'n_1': 0.20649455306988754, 'n_2': 0.1039834249429385, 'n_3': 0.7306659551639226}. Best is trial 29 with value: 0.37577272942702517.\u001b[0m\n",
      "\u001b[32m[I 2021-06-23 19:14:38,831]\u001b[0m Trial 113 finished with value: 0.37564449495797075 and parameters: {'n_1': 0.26128154932389486, 'n_2': 0.0257181159080285, 'n_3': 0.7089409600354252}. Best is trial 113 with value: 0.37564449495797075.\u001b[0m\n",
      "\u001b[32m[I 2021-06-23 19:14:38,840]\u001b[0m Trial 114 finished with value: 0.3755551460688973 and parameters: {'n_1': 0.26195553530530796, 'n_2': 0.024771091387758494, 'n_3': 0.7087414079526049}. Best is trial 114 with value: 0.3755551460688973.\u001b[0m\n",
      "\u001b[32m[I 2021-06-23 19:14:38,851]\u001b[0m Trial 115 finished with value: 0.37655985491038024 and parameters: {'n_1': 0.2654641521543021, 'n_2': 0.033382737303165336, 'n_3': 0.6670327789049268}. Best is trial 114 with value: 0.3755551460688973.\u001b[0m\n",
      "\u001b[32m[I 2021-06-23 19:14:38,865]\u001b[0m Trial 116 finished with value: 0.38225171578128975 and parameters: {'n_1': 0.34180344239864424, 'n_2': 0.0005842783817776934, 'n_3': 0.7098937908598706}. Best is trial 114 with value: 0.3755551460688973.\u001b[0m\n",
      "\u001b[32m[I 2021-06-23 19:14:38,876]\u001b[0m Trial 117 finished with value: 0.41910573878707097 and parameters: {'n_1': 0.24848487181156062, 'n_2': 0.02700284698544754, 'n_3': 0.5767170204102829}. Best is trial 114 with value: 0.3755551460688973.\u001b[0m\n",
      "\u001b[32m[I 2021-06-23 19:14:38,887]\u001b[0m Trial 118 finished with value: 0.3778692749258073 and parameters: {'n_1': 0.2628218822191873, 'n_2': 0.05382557247225347, 'n_3': 0.6939682324640493}. Best is trial 114 with value: 0.3755551460688973.\u001b[0m\n",
      "\u001b[32m[I 2021-06-23 19:14:38,898]\u001b[0m Trial 119 finished with value: 0.3747800593574534 and parameters: {'n_1': 0.2673457431417834, 'n_2': 0.016305151473974842, 'n_3': 0.7056564285448053}. Best is trial 119 with value: 0.3747800593574534.\u001b[0m\n",
      "\u001b[32m[I 2021-06-23 19:14:38,913]\u001b[0m Trial 120 finished with value: 0.3744632376710526 and parameters: {'n_1': 0.2689594639333544, 'n_2': 0.0005050050074073657, 'n_3': 0.7020968621293243}. Best is trial 120 with value: 0.3744632376710526.\u001b[0m\n",
      "\u001b[32m[I 2021-06-23 19:14:38,923]\u001b[0m Trial 121 finished with value: 0.3746609662082404 and parameters: {'n_1': 0.26452791756593663, 'n_2': 0.004214477425979229, 'n_3': 0.7049150058343058}. Best is trial 120 with value: 0.3744632376710526.\u001b[0m\n",
      "\u001b[32m[I 2021-06-23 19:14:38,931]\u001b[0m Trial 122 finished with value: 0.3744655320526481 and parameters: {'n_1': 0.27261528131795193, 'n_2': 0.0003196079916459476, 'n_3': 0.6965946100764092}. Best is trial 120 with value: 0.3744632376710526.\u001b[0m\n",
      "\u001b[32m[I 2021-06-23 19:14:38,941]\u001b[0m Trial 123 finished with value: 0.3748068356396832 and parameters: {'n_1': 0.2684172626540895, 'n_2': 0.0005791376963549255, 'n_3': 0.6983413798238394}. Best is trial 120 with value: 0.3744632376710526.\u001b[0m\n",
      "\u001b[32m[I 2021-06-23 19:14:38,950]\u001b[0m Trial 124 finished with value: 0.37315984732160146 and parameters: {'n_1': 0.2938753439187299, 'n_2': 0.00022853884566507478, 'n_3': 0.6859817971749557}. Best is trial 124 with value: 0.37315984732160146.\u001b[0m\n",
      "\u001b[32m[I 2021-06-23 19:14:38,960]\u001b[0m Trial 125 finished with value: 0.37285215838313956 and parameters: {'n_1': 0.32584131028608754, 'n_2': 0.0035250291720774728, 'n_3': 0.6418465543447829}. Best is trial 125 with value: 0.37285215838313956.\u001b[0m\n",
      "\u001b[32m[I 2021-06-23 19:14:38,970]\u001b[0m Trial 126 finished with value: 0.37187343760568087 and parameters: {'n_1': 0.3522255952354945, 'n_2': 0.0010417183096181363, 'n_3': 0.6498838222766851}. Best is trial 126 with value: 0.37187343760568087.\u001b[0m\n",
      "\u001b[32m[I 2021-06-23 19:14:38,980]\u001b[0m Trial 127 finished with value: 0.37269962899158743 and parameters: {'n_1': 0.32463767718881814, 'n_2': 0.014308151256243854, 'n_3': 0.6450823848311886}. Best is trial 126 with value: 0.37187343760568087.\u001b[0m\n",
      "\u001b[32m[I 2021-06-23 19:14:38,991]\u001b[0m Trial 128 finished with value: 0.3728771602950424 and parameters: {'n_1': 0.3258696475349728, 'n_2': 0.01687441088630575, 'n_3': 0.6381634688388749}. Best is trial 126 with value: 0.37187343760568087.\u001b[0m\n",
      "\u001b[32m[I 2021-06-23 19:14:39,000]\u001b[0m Trial 129 finished with value: 0.37496863350790216 and parameters: {'n_1': 0.36554047722464633, 'n_2': 0.016112444414756587, 'n_3': 0.644273799083377}. Best is trial 126 with value: 0.37187343760568087.\u001b[0m\n",
      "\u001b[32m[I 2021-06-23 19:14:39,010]\u001b[0m Trial 130 finished with value: 0.37941743120348126 and parameters: {'n_1': 0.3261298600687244, 'n_2': 0.0012875949925673664, 'n_3': 0.606703484313995}. Best is trial 126 with value: 0.37187343760568087.\u001b[0m\n",
      "\u001b[32m[I 2021-06-23 19:14:39,020]\u001b[0m Trial 131 finished with value: 0.37538133131103074 and parameters: {'n_1': 0.3634067673819219, 'n_2': 0.01878753253693319, 'n_3': 0.645099400373779}. Best is trial 126 with value: 0.37187343760568087.\u001b[0m\n",
      "\u001b[32m[I 2021-06-23 19:14:39,031]\u001b[0m Trial 132 finished with value: 0.3722414515041676 and parameters: {'n_1': 0.3652331406996192, 'n_2': 0.0014238940769704528, 'n_3': 0.6442781558834586}. Best is trial 126 with value: 0.37187343760568087.\u001b[0m\n",
      "\u001b[32m[I 2021-06-23 19:14:39,047]\u001b[0m Trial 133 finished with value: 0.3736642256500985 and parameters: {'n_1': 0.37202829512042784, 'n_2': 0.004748853790903486, 'n_3': 0.6450003690287491}. Best is trial 126 with value: 0.37187343760568087.\u001b[0m\n",
      "\u001b[32m[I 2021-06-23 19:14:39,060]\u001b[0m Trial 134 finished with value: 0.3740107686754276 and parameters: {'n_1': 0.38133386437771466, 'n_2': 0.0009171075347360991, 'n_3': 0.643799041111432}. Best is trial 126 with value: 0.37187343760568087.\u001b[0m\n",
      "\u001b[32m[I 2021-06-23 19:14:39,071]\u001b[0m Trial 135 finished with value: 0.3856965800610272 and parameters: {'n_1': 0.3812380519728281, 'n_2': 0.0063573136269565855, 'n_3': 0.6787876806166235}. Best is trial 126 with value: 0.37187343760568087.\u001b[0m\n",
      "\u001b[32m[I 2021-06-23 19:14:39,082]\u001b[0m Trial 136 finished with value: 0.37942912554304 and parameters: {'n_1': 0.4078360065969349, 'n_2': 0.00410625644989067, 'n_3': 0.6391028009182255}. Best is trial 126 with value: 0.37187343760568087.\u001b[0m\n"
     ]
    },
    {
     "name": "stderr",
     "output_type": "stream",
     "text": [
      "\u001b[32m[I 2021-06-23 19:14:39,091]\u001b[0m Trial 137 finished with value: 0.3808962908832274 and parameters: {'n_1': 0.30330208631972794, 'n_2': 0.0009081973570225377, 'n_3': 0.6258354646370264}. Best is trial 126 with value: 0.37187343760568087.\u001b[0m\n",
      "\u001b[32m[I 2021-06-23 19:14:39,100]\u001b[0m Trial 138 finished with value: 0.3743199915257916 and parameters: {'n_1': 0.33565260247832274, 'n_2': 0.0515873873098954, 'n_3': 0.594296199986649}. Best is trial 126 with value: 0.37187343760568087.\u001b[0m\n",
      "\u001b[32m[I 2021-06-23 19:14:39,113]\u001b[0m Trial 139 finished with value: 0.37491775999568566 and parameters: {'n_1': 0.33750611357174726, 'n_2': 0.041957681797617524, 'n_3': 0.5885182598142149}. Best is trial 126 with value: 0.37187343760568087.\u001b[0m\n",
      "\u001b[32m[I 2021-06-23 19:14:39,122]\u001b[0m Trial 140 finished with value: 0.38195201311240706 and parameters: {'n_1': 0.30755846721735225, 'n_2': 0.05834385713291199, 'n_3': 0.6756282754084121}. Best is trial 126 with value: 0.37187343760568087.\u001b[0m\n",
      "\u001b[32m[I 2021-06-23 19:14:39,132]\u001b[0m Trial 141 finished with value: 0.37445161815996447 and parameters: {'n_1': 0.3389260756380502, 'n_2': 0.048610442284110364, 'n_3': 0.5885393007180654}. Best is trial 126 with value: 0.37187343760568087.\u001b[0m\n",
      "\u001b[32m[I 2021-06-23 19:14:39,142]\u001b[0m Trial 142 finished with value: 0.3786035974909308 and parameters: {'n_1': 0.3278921045835598, 'n_2': 0.00189832182388008, 'n_3': 0.6074242622560742}. Best is trial 126 with value: 0.37187343760568087.\u001b[0m\n",
      "\u001b[32m[I 2021-06-23 19:14:39,153]\u001b[0m Trial 143 finished with value: 0.37584718171126535 and parameters: {'n_1': 0.2888589787615087, 'n_2': 0.051187838175085223, 'n_3': 0.6615088791471632}. Best is trial 126 with value: 0.37187343760568087.\u001b[0m\n",
      "\u001b[32m[I 2021-06-23 19:14:39,163]\u001b[0m Trial 144 finished with value: 0.3873460505184892 and parameters: {'n_1': 0.35047213721460757, 'n_2': 0.0292970794403489, 'n_3': 0.6864535751977776}. Best is trial 126 with value: 0.37187343760568087.\u001b[0m\n",
      "\u001b[32m[I 2021-06-23 19:14:39,173]\u001b[0m Trial 145 finished with value: 0.3727213436258361 and parameters: {'n_1': 0.39480118732761915, 'n_2': 0.0011469823131291736, 'n_3': 0.6246780014237437}. Best is trial 126 with value: 0.37187343760568087.\u001b[0m\n",
      "\u001b[32m[I 2021-06-23 19:14:39,184]\u001b[0m Trial 146 finished with value: 0.3979151265650548 and parameters: {'n_1': 0.41960129289575543, 'n_2': 0.05388351393788906, 'n_3': 0.6222975140910609}. Best is trial 126 with value: 0.37187343760568087.\u001b[0m\n",
      "\u001b[32m[I 2021-06-23 19:14:39,195]\u001b[0m Trial 147 finished with value: 0.3736148226593146 and parameters: {'n_1': 0.3971814370208024, 'n_2': 0.00118915275899868, 'n_3': 0.5579965919516271}. Best is trial 126 with value: 0.37187343760568087.\u001b[0m\n",
      "\u001b[32m[I 2021-06-23 19:14:39,205]\u001b[0m Trial 148 finished with value: 0.37240054259328564 and parameters: {'n_1': 0.3939426012770594, 'n_2': 0.040553208898220984, 'n_3': 0.5565782125002644}. Best is trial 126 with value: 0.37187343760568087.\u001b[0m\n",
      "\u001b[32m[I 2021-06-23 19:14:39,216]\u001b[0m Trial 149 finished with value: 0.3746943794670388 and parameters: {'n_1': 0.3921805932851289, 'n_2': 0.039980063052243, 'n_3': 0.5913505924767757}. Best is trial 126 with value: 0.37187343760568087.\u001b[0m\n",
      "\u001b[32m[I 2021-06-23 19:14:39,226]\u001b[0m Trial 150 finished with value: 0.3934867374171433 and parameters: {'n_1': 0.4518189636104756, 'n_2': 0.07419391336979891, 'n_3': 0.5613957621218467}. Best is trial 126 with value: 0.37187343760568087.\u001b[0m\n",
      "\u001b[32m[I 2021-06-23 19:14:39,236]\u001b[0m Trial 151 finished with value: 0.3792382365429694 and parameters: {'n_1': 0.37819389822151317, 'n_2': 0.0024978877890747884, 'n_3': 0.5527824501222647}. Best is trial 126 with value: 0.37187343760568087.\u001b[0m\n",
      "\u001b[32m[I 2021-06-23 19:14:39,246]\u001b[0m Trial 152 finished with value: 0.37216858749708803 and parameters: {'n_1': 0.3559198757878308, 'n_2': 0.0214633420193771, 'n_3': 0.6108686735195309}. Best is trial 126 with value: 0.37187343760568087.\u001b[0m\n",
      "\u001b[32m[I 2021-06-23 19:14:39,257]\u001b[0m Trial 153 finished with value: 1.1692277660060115 and parameters: {'n_1': 0.4024164540149428, 'n_2': 0.8017126900044875, 'n_3': 0.6172735900696525}. Best is trial 126 with value: 0.37187343760568087.\u001b[0m\n",
      "\u001b[32m[I 2021-06-23 19:14:39,268]\u001b[0m Trial 154 finished with value: 0.3736936102799031 and parameters: {'n_1': 0.3556462784774461, 'n_2': 0.051241724271066665, 'n_3': 0.5794346111185619}. Best is trial 126 with value: 0.37187343760568087.\u001b[0m\n",
      "\u001b[32m[I 2021-06-23 19:14:39,278]\u001b[0m Trial 155 finished with value: 0.3734673498520775 and parameters: {'n_1': 0.3612200908626765, 'n_2': 0.05026742568370908, 'n_3': 0.5775690486489948}. Best is trial 126 with value: 0.37187343760568087.\u001b[0m\n",
      "\u001b[32m[I 2021-06-23 19:14:39,289]\u001b[0m Trial 156 finished with value: 0.3778238820701521 and parameters: {'n_1': 0.36118024511252295, 'n_2': 0.05792518058918438, 'n_3': 0.5349108527839337}. Best is trial 126 with value: 0.37187343760568087.\u001b[0m\n",
      "\u001b[32m[I 2021-06-23 19:14:39,300]\u001b[0m Trial 157 finished with value: 0.3757885553493299 and parameters: {'n_1': 0.42038102181231723, 'n_2': 0.036379617586429505, 'n_3': 0.5771481200209382}. Best is trial 126 with value: 0.37187343760568087.\u001b[0m\n",
      "\u001b[32m[I 2021-06-23 19:14:39,310]\u001b[0m Trial 158 finished with value: 0.3844862697100942 and parameters: {'n_1': 0.34442868334768145, 'n_2': 0.0795287676433773, 'n_3': 0.51003626041021}. Best is trial 126 with value: 0.37187343760568087.\u001b[0m\n",
      "\u001b[32m[I 2021-06-23 19:14:39,319]\u001b[0m Trial 159 finished with value: 0.3755495310879241 and parameters: {'n_1': 0.37513305891100657, 'n_2': 0.0551840864180225, 'n_3': 0.592040144978842}. Best is trial 126 with value: 0.37187343760568087.\u001b[0m\n",
      "\u001b[32m[I 2021-06-23 19:14:39,329]\u001b[0m Trial 160 finished with value: 0.3761394850352246 and parameters: {'n_1': 0.3210796698832697, 'n_2': 0.025290081712318776, 'n_3': 0.608988437591876}. Best is trial 126 with value: 0.37187343760568087.\u001b[0m\n",
      "\u001b[32m[I 2021-06-23 19:14:39,339]\u001b[0m Trial 161 finished with value: 0.38695395054715026 and parameters: {'n_1': 0.39612199823488436, 'n_2': 0.026619024789129284, 'n_3': 0.6473676840750443}. Best is trial 126 with value: 0.37187343760568087.\u001b[0m\n",
      "\u001b[32m[I 2021-06-23 19:14:39,349]\u001b[0m Trial 162 finished with value: 0.3750524844325588 and parameters: {'n_1': 0.3525865129795684, 'n_2': 0.04806063515484983, 'n_3': 0.567058582739502}. Best is trial 126 with value: 0.37187343760568087.\u001b[0m\n",
      "\u001b[32m[I 2021-06-23 19:14:39,358]\u001b[0m Trial 163 finished with value: 0.3861689499328894 and parameters: {'n_1': 0.3172333456992976, 'n_2': 0.06855136896948445, 'n_3': 0.5408713637543194}. Best is trial 126 with value: 0.37187343760568087.\u001b[0m\n",
      "\u001b[32m[I 2021-06-23 19:14:39,369]\u001b[0m Trial 164 finished with value: 0.37276542755865183 and parameters: {'n_1': 0.33775278917353, 'n_2': 0.02003541377796871, 'n_3': 0.6407364475461843}. Best is trial 126 with value: 0.37187343760568087.\u001b[0m\n",
      "\u001b[32m[I 2021-06-23 19:14:39,378]\u001b[0m Trial 165 finished with value: 0.37398349669533454 and parameters: {'n_1': 0.37734188809437774, 'n_2': 0.02239477581643141, 'n_3': 0.6211043006105713}. Best is trial 126 with value: 0.37187343760568087.\u001b[0m\n",
      "\u001b[32m[I 2021-06-23 19:14:39,389]\u001b[0m Trial 166 finished with value: 0.3747914468337784 and parameters: {'n_1': 0.37409436585339484, 'n_2': 0.018520926424084094, 'n_3': 0.6333384187561948}. Best is trial 126 with value: 0.37187343760568087.\u001b[0m\n",
      "\u001b[32m[I 2021-06-23 19:14:39,399]\u001b[0m Trial 167 finished with value: 0.3825130433810967 and parameters: {'n_1': 0.4164713313529092, 'n_2': 0.031330861752449694, 'n_3': 0.6115235763113962}. Best is trial 126 with value: 0.37187343760568087.\u001b[0m\n",
      "\u001b[32m[I 2021-06-23 19:14:39,408]\u001b[0m Trial 168 finished with value: 0.4592824837108454 and parameters: {'n_1': 0.4465706786525268, 'n_2': 0.08562501483601224, 'n_3': 0.6579741217940942}. Best is trial 126 with value: 0.37187343760568087.\u001b[0m\n",
      "\u001b[32m[I 2021-06-23 19:14:39,418]\u001b[0m Trial 169 finished with value: 0.37118461446232054 and parameters: {'n_1': 0.3602959824243293, 'n_2': 0.000759444194526001, 'n_3': 0.6330843319294608}. Best is trial 169 with value: 0.37118461446232054.\u001b[0m\n",
      "\u001b[32m[I 2021-06-23 19:14:39,429]\u001b[0m Trial 170 finished with value: 0.38042029836707386 and parameters: {'n_1': 0.39696057286792824, 'n_2': 0.017173956253613898, 'n_3': 0.6379301305903045}. Best is trial 169 with value: 0.37118461446232054.\u001b[0m\n"
     ]
    },
    {
     "name": "stderr",
     "output_type": "stream",
     "text": [
      "\u001b[32m[I 2021-06-23 19:14:39,439]\u001b[0m Trial 171 finished with value: 0.37221417099143667 and parameters: {'n_1': 0.3580370443977209, 'n_2': 0.02035590489755479, 'n_3': 0.6197835703922498}. Best is trial 169 with value: 0.37118461446232054.\u001b[0m\n",
      "\u001b[32m[I 2021-06-23 19:14:39,448]\u001b[0m Trial 172 finished with value: 0.37129809360346716 and parameters: {'n_1': 0.35779914933193924, 'n_2': 0.00011233349685742418, 'n_3': 0.6236419701845538}. Best is trial 169 with value: 0.37118461446232054.\u001b[0m\n",
      "\u001b[32m[I 2021-06-23 19:14:39,459]\u001b[0m Trial 173 finished with value: 0.37219960502246685 and parameters: {'n_1': 0.3631334229533508, 'n_2': 0.020224592833215215, 'n_3': 0.6173386397453717}. Best is trial 169 with value: 0.37118461446232054.\u001b[0m\n",
      "\u001b[32m[I 2021-06-23 19:14:39,468]\u001b[0m Trial 174 finished with value: 0.37430783103850146 and parameters: {'n_1': 0.3563607164891509, 'n_2': 0.03343878329366945, 'n_3': 0.5767513585621806}. Best is trial 169 with value: 0.37118461446232054.\u001b[0m\n",
      "\u001b[32m[I 2021-06-23 19:14:39,481]\u001b[0m Trial 175 finished with value: 0.3738471390728944 and parameters: {'n_1': 0.29826996376978343, 'n_2': 0.001094561038821795, 'n_3': 0.6679631647565321}. Best is trial 169 with value: 0.37118461446232054.\u001b[0m\n",
      "\u001b[32m[I 2021-06-23 19:14:39,492]\u001b[0m Trial 176 finished with value: 0.39885349459748154 and parameters: {'n_1': 0.3156653494664198, 'n_2': 0.01778398718782646, 'n_3': 0.5535297963932819}. Best is trial 169 with value: 0.37118461446232054.\u001b[0m\n",
      "\u001b[32m[I 2021-06-23 19:14:39,502]\u001b[0m Trial 177 finished with value: 0.7969775642856757 and parameters: {'n_1': 0.4679827291226768, 'n_2': 0.44085576904993146, 'n_3': 0.6087112657942062}. Best is trial 169 with value: 0.37118461446232054.\u001b[0m\n",
      "\u001b[32m[I 2021-06-23 19:14:39,513]\u001b[0m Trial 178 finished with value: 0.376725205043928 and parameters: {'n_1': 0.35471512903461433, 'n_2': 0.04333209400323903, 'n_3': 0.6304562713272401}. Best is trial 169 with value: 0.37118461446232054.\u001b[0m\n",
      "\u001b[32m[I 2021-06-23 19:14:39,522]\u001b[0m Trial 179 finished with value: 0.3720194231378644 and parameters: {'n_1': 0.3280978537625456, 'n_2': 0.0015439562367624907, 'n_3': 0.6596075433893769}. Best is trial 169 with value: 0.37118461446232054.\u001b[0m\n",
      "\u001b[32m[I 2021-06-23 19:14:39,533]\u001b[0m Trial 180 finished with value: 0.3720408182015994 and parameters: {'n_1': 0.3296768843287587, 'n_2': 0.0013605180760591978, 'n_3': 0.6621368033750399}. Best is trial 169 with value: 0.37118461446232054.\u001b[0m\n",
      "\u001b[32m[I 2021-06-23 19:14:39,543]\u001b[0m Trial 181 finished with value: 0.37216434966594886 and parameters: {'n_1': 0.32697089337751656, 'n_2': 0.004390324543060127, 'n_3': 0.6567243151168175}. Best is trial 169 with value: 0.37118461446232054.\u001b[0m\n",
      "\u001b[32m[I 2021-06-23 19:14:39,553]\u001b[0m Trial 182 finished with value: 0.37245673787870404 and parameters: {'n_1': 0.3335543373608728, 'n_2': 0.0004989034574236343, 'n_3': 0.6693327152025458}. Best is trial 169 with value: 0.37118461446232054.\u001b[0m\n",
      "\u001b[32m[I 2021-06-23 19:14:39,564]\u001b[0m Trial 183 finished with value: 0.37537605462742596 and parameters: {'n_1': 0.3267300753695168, 'n_2': 0.01931837940714754, 'n_3': 0.673862256787034}. Best is trial 169 with value: 0.37118461446232054.\u001b[0m\n",
      "\u001b[32m[I 2021-06-23 19:14:39,576]\u001b[0m Trial 184 finished with value: 0.3741192089611225 and parameters: {'n_1': 0.30131796817665435, 'n_2': 0.0007532567046600654, 'n_3': 0.6616973083170183}. Best is trial 169 with value: 0.37118461446232054.\u001b[0m\n",
      "\u001b[32m[I 2021-06-23 19:14:39,586]\u001b[0m Trial 185 finished with value: 0.3735638011855355 and parameters: {'n_1': 0.3329043573390185, 'n_2': 0.02124965106353994, 'n_3': 0.6528112141204575}. Best is trial 169 with value: 0.37118461446232054.\u001b[0m\n",
      "\u001b[32m[I 2021-06-23 19:14:39,598]\u001b[0m Trial 186 finished with value: 0.37256781212788254 and parameters: {'n_1': 0.31473551097246266, 'n_2': 0.0021302934356160997, 'n_3': 0.6765997449003716}. Best is trial 169 with value: 0.37118461446232054.\u001b[0m\n",
      "\u001b[32m[I 2021-06-23 19:14:39,610]\u001b[0m Trial 187 finished with value: 0.37405904215973224 and parameters: {'n_1': 0.2868291920103568, 'n_2': 0.01600593041445296, 'n_3': 0.6775393485957458}. Best is trial 169 with value: 0.37118461446232054.\u001b[0m\n",
      "\u001b[32m[I 2021-06-23 19:14:39,620]\u001b[0m Trial 188 finished with value: 0.37735273538526387 and parameters: {'n_1': 0.314268233946773, 'n_2': 0.002440501485737571, 'n_3': 0.6267546357515472}. Best is trial 169 with value: 0.37118461446232054.\u001b[0m\n",
      "\u001b[32m[I 2021-06-23 19:14:39,631]\u001b[0m Trial 189 finished with value: 0.38370331721629697 and parameters: {'n_1': 0.3392381349107374, 'n_2': 0.03272390767731537, 'n_3': 0.6823955138855179}. Best is trial 169 with value: 0.37118461446232054.\u001b[0m\n",
      "\u001b[32m[I 2021-06-23 19:14:39,644]\u001b[0m Trial 190 finished with value: 0.376069037655563 and parameters: {'n_1': 0.2928812873641746, 'n_2': 0.0028397231051237107, 'n_3': 0.6567886749301858}. Best is trial 169 with value: 0.37118461446232054.\u001b[0m\n",
      "\u001b[32m[I 2021-06-23 19:14:39,653]\u001b[0m Trial 191 finished with value: 0.37167618632644894 and parameters: {'n_1': 0.34559487456731863, 'n_2': 0.0019951977237349146, 'n_3': 0.6336815134597915}. Best is trial 169 with value: 0.37118461446232054.\u001b[0m\n",
      "\u001b[32m[I 2021-06-23 19:14:39,666]\u001b[0m Trial 192 finished with value: 0.3751140369587571 and parameters: {'n_1': 0.31668515396643143, 'n_2': 9.44989551028753e-05, 'n_3': 0.637119299747934}. Best is trial 169 with value: 0.37118461446232054.\u001b[0m\n",
      "\u001b[32m[I 2021-06-23 19:14:39,677]\u001b[0m Trial 193 finished with value: 0.3741800789932054 and parameters: {'n_1': 0.3446421750070633, 'n_2': 0.0014110898867842607, 'n_3': 0.6105776860368164}. Best is trial 169 with value: 0.37118461446232054.\u001b[0m\n",
      "\u001b[32m[I 2021-06-23 19:14:39,686]\u001b[0m Trial 194 finished with value: 0.3746362701543571 and parameters: {'n_1': 0.3228569924390927, 'n_2': 0.02784476738076714, 'n_3': 0.6608543200777451}. Best is trial 169 with value: 0.37118461446232054.\u001b[0m\n",
      "\u001b[32m[I 2021-06-23 19:14:39,698]\u001b[0m Trial 195 finished with value: 0.3713962096026018 and parameters: {'n_1': 0.3672979843086694, 'n_2': 0.0006137131536490491, 'n_3': 0.6346376006352776}. Best is trial 169 with value: 0.37118461446232054.\u001b[0m\n",
      "\u001b[32m[I 2021-06-23 19:14:39,709]\u001b[0m Trial 196 finished with value: 0.3767847101689455 and parameters: {'n_1': 0.3690770650521987, 'n_2': 0.034792383698642834, 'n_3': 0.6286744917162388}. Best is trial 169 with value: 0.37118461446232054.\u001b[0m\n",
      "\u001b[32m[I 2021-06-23 19:14:39,720]\u001b[0m Trial 197 finished with value: 1.2568103114193871 and parameters: {'n_1': 0.3411910789771446, 'n_2': 0.9480311578830202, 'n_3': 0.6014624525905425}. Best is trial 169 with value: 0.37118461446232054.\u001b[0m\n",
      "\u001b[32m[I 2021-06-23 19:14:39,731]\u001b[0m Trial 198 finished with value: 0.379006218610574 and parameters: {'n_1': 0.3871133223060089, 'n_2': 0.018507921608275323, 'n_3': 0.6403982683179011}. Best is trial 169 with value: 0.37118461446232054.\u001b[0m\n",
      "\u001b[32m[I 2021-06-23 19:14:39,740]\u001b[0m Trial 199 finished with value: 0.37421355296647923 and parameters: {'n_1': 0.35590196539248536, 'n_2': 0.03763575304155178, 'n_3': 0.6202101040704937}. Best is trial 169 with value: 0.37118461446232054.\u001b[0m\n",
      "\u001b[32m[I 2021-06-23 19:14:39,751]\u001b[0m Trial 200 finished with value: 0.4333099527142676 and parameters: {'n_1': 0.43420487275259545, 'n_2': 0.06663455478889875, 'n_3': 0.654358381689315}. Best is trial 169 with value: 0.37118461446232054.\u001b[0m\n",
      "\u001b[32m[I 2021-06-23 19:14:39,762]\u001b[0m Trial 201 finished with value: 0.37294600415658274 and parameters: {'n_1': 0.2990550333778207, 'n_2': 0.0011033688769705543, 'n_3': 0.6876199808759724}. Best is trial 169 with value: 0.37118461446232054.\u001b[0m\n",
      "\u001b[32m[I 2021-06-23 19:14:39,772]\u001b[0m Trial 202 finished with value: 0.3725471138033328 and parameters: {'n_1': 0.3102227767912702, 'n_2': 0.0007979467280160393, 'n_3': 0.6738539677104035}. Best is trial 169 with value: 0.37118461446232054.\u001b[0m\n",
      "\u001b[32m[I 2021-06-23 19:14:39,783]\u001b[0m Trial 203 finished with value: 0.37251785556318057 and parameters: {'n_1': 0.32821842225424624, 'n_2': 0.0022000182902885794, 'n_3': 0.6706301981534168}. Best is trial 169 with value: 0.37118461446232054.\u001b[0m\n",
      "\u001b[32m[I 2021-06-23 19:14:39,794]\u001b[0m Trial 204 finished with value: 1.0328770243794765 and parameters: {'n_1': 0.3396544895701119, 'n_2': 0.6921483539971179, 'n_3': 0.6767648225956278}. Best is trial 169 with value: 0.37118461446232054.\u001b[0m\n"
     ]
    },
    {
     "name": "stderr",
     "output_type": "stream",
     "text": [
      "\u001b[32m[I 2021-06-23 19:14:39,804]\u001b[0m Trial 205 finished with value: 0.3785394269338539 and parameters: {'n_1': 0.36558077359026037, 'n_2': 0.017206262587416137, 'n_3': 0.6589232517473256}. Best is trial 169 with value: 0.37118461446232054.\u001b[0m\n",
      "\u001b[32m[I 2021-06-23 19:14:39,815]\u001b[0m Trial 206 finished with value: 0.38042228548766815 and parameters: {'n_1': 0.3128419089808704, 'n_2': 0.003678939173357784, 'n_3': 0.6152129591256632}. Best is trial 169 with value: 0.37118461446232054.\u001b[0m\n",
      "\u001b[32m[I 2021-06-23 19:14:39,826]\u001b[0m Trial 207 finished with value: 0.3831101998481693 and parameters: {'n_1': 0.38686113683623163, 'n_2': 0.002447879660878045, 'n_3': 0.6708501588336341}. Best is trial 169 with value: 0.37118461446232054.\u001b[0m\n",
      "\u001b[32m[I 2021-06-23 19:14:39,835]\u001b[0m Trial 208 finished with value: 0.3918746858125335 and parameters: {'n_1': 0.4075413197374424, 'n_2': 0.02822744815072664, 'n_3': 0.6470719826958768}. Best is trial 169 with value: 0.37118461446232054.\u001b[0m\n",
      "\u001b[32m[I 2021-06-23 19:14:39,846]\u001b[0m Trial 209 finished with value: 0.37635350902555115 and parameters: {'n_1': 0.3428196476226594, 'n_2': 0.001621089615825908, 'n_3': 0.6011795268634705}. Best is trial 169 with value: 0.37118461446232054.\u001b[0m\n",
      "\u001b[32m[I 2021-06-23 19:14:39,855]\u001b[0m Trial 210 finished with value: 0.3737335824645719 and parameters: {'n_1': 0.33077473651736156, 'n_2': 0.0390849237896838, 'n_3': 0.6275549058535217}. Best is trial 169 with value: 0.37118461446232054.\u001b[0m\n",
      "\u001b[32m[I 2021-06-23 19:14:39,866]\u001b[0m Trial 211 finished with value: 0.3729237677834062 and parameters: {'n_1': 0.32318820692164096, 'n_2': 0.018985810689337024, 'n_3': 0.6432719212352568}. Best is trial 169 with value: 0.37118461446232054.\u001b[0m\n",
      "\u001b[32m[I 2021-06-23 19:14:39,877]\u001b[0m Trial 212 finished with value: 0.37502604158341213 and parameters: {'n_1': 0.3579230717918486, 'n_2': 0.001984580200161874, 'n_3': 0.6673061244466816}. Best is trial 169 with value: 0.37118461446232054.\u001b[0m\n",
      "\u001b[32m[I 2021-06-23 19:14:39,888]\u001b[0m Trial 213 finished with value: 0.3754273923539678 and parameters: {'n_1': 0.30796865546844393, 'n_2': 0.017853048503945788, 'n_3': 0.6332144287292366}. Best is trial 169 with value: 0.37118461446232054.\u001b[0m\n",
      "\u001b[32m[I 2021-06-23 19:14:39,898]\u001b[0m Trial 214 finished with value: 0.38529000051706147 and parameters: {'n_1': 0.37699073418551254, 'n_2': 0.04119524258481984, 'n_3': 0.644697264136673}. Best is trial 169 with value: 0.37118461446232054.\u001b[0m\n",
      "\u001b[32m[I 2021-06-23 19:14:39,910]\u001b[0m Trial 215 finished with value: 0.37872425995483106 and parameters: {'n_1': 0.33381363836185446, 'n_2': 0.0022617347183893494, 'n_3': 0.6004515551031057}. Best is trial 169 with value: 0.37118461446232054.\u001b[0m\n",
      "\u001b[32m[I 2021-06-23 19:14:39,922]\u001b[0m Trial 216 finished with value: 0.37668718390481926 and parameters: {'n_1': 0.35189701962435416, 'n_2': 0.0001757799920053607, 'n_3': 0.6820110411320064}. Best is trial 169 with value: 0.37118461446232054.\u001b[0m\n",
      "\u001b[32m[I 2021-06-23 19:14:39,932]\u001b[0m Trial 217 finished with value: 0.3755826271326736 and parameters: {'n_1': 0.28295217813742624, 'n_2': 0.019354448260540776, 'n_3': 0.6612216914207361}. Best is trial 169 with value: 0.37118461446232054.\u001b[0m\n",
      "\u001b[32m[I 2021-06-23 19:14:39,943]\u001b[0m Trial 218 finished with value: 0.3752460419628213 and parameters: {'n_1': 0.3151491852332093, 'n_2': 0.05976362810040102, 'n_3': 0.6254697732005347}. Best is trial 169 with value: 0.37118461446232054.\u001b[0m\n",
      "\u001b[32m[I 2021-06-23 19:14:39,963]\u001b[0m Trial 219 finished with value: 0.7045869081188494 and parameters: {'n_1': 0.3760556871951028, 'n_2': 0.3324293128105079, 'n_3': 0.7233246140198766}. Best is trial 169 with value: 0.37118461446232054.\u001b[0m\n",
      "\u001b[32m[I 2021-06-23 19:14:39,978]\u001b[0m Trial 220 finished with value: 0.3971193914801615 and parameters: {'n_1': 0.396432140687549, 'n_2': 0.0007787560199877131, 'n_3': 0.6964614942580869}. Best is trial 169 with value: 0.37118461446232054.\u001b[0m\n",
      "\u001b[32m[I 2021-06-23 19:14:39,990]\u001b[0m Trial 221 finished with value: 0.3731421050483446 and parameters: {'n_1': 0.3183647484616561, 'n_2': 0.01993437302910129, 'n_3': 0.6452543231240999}. Best is trial 169 with value: 0.37118461446232054.\u001b[0m\n",
      "\u001b[32m[I 2021-06-23 19:14:40,001]\u001b[0m Trial 222 finished with value: 0.3744234908309619 and parameters: {'n_1': 0.33163090270573553, 'n_2': 0.03399716990002271, 'n_3': 0.6446378843369014}. Best is trial 169 with value: 0.37118461446232054.\u001b[0m\n",
      "\u001b[32m[I 2021-06-23 19:14:40,014]\u001b[0m Trial 223 finished with value: 0.3722256165928944 and parameters: {'n_1': 0.3589443532187703, 'n_2': 0.01993371836262054, 'n_3': 0.6204964470846935}. Best is trial 169 with value: 0.37118461446232054.\u001b[0m\n",
      "\u001b[32m[I 2021-06-23 19:14:40,025]\u001b[0m Trial 224 finished with value: 0.371360320268905 and parameters: {'n_1': 0.35910695539655324, 'n_2': 0.0019775808271894567, 'n_3': 0.6203838585342577}. Best is trial 169 with value: 0.37118461446232054.\u001b[0m\n",
      "\u001b[32m[I 2021-06-23 19:14:40,036]\u001b[0m Trial 225 finished with value: 0.37160096895175426 and parameters: {'n_1': 0.35895205436257727, 'n_2': 0.00241562601614834, 'n_3': 0.6159239802397392}. Best is trial 169 with value: 0.37118461446232054.\u001b[0m\n",
      "\u001b[32m[I 2021-06-23 19:14:40,048]\u001b[0m Trial 226 finished with value: 0.3741426048714882 and parameters: {'n_1': 0.36303123819117655, 'n_2': 0.04079917105753602, 'n_3': 0.6098852046374569}. Best is trial 169 with value: 0.37118461446232054.\u001b[0m\n",
      "\u001b[32m[I 2021-06-23 19:14:40,060]\u001b[0m Trial 227 finished with value: 0.7535116263292745 and parameters: {'n_1': 0.36012125024209407, 'n_2': 0.5275410319321607, 'n_3': 0.5902657496040086}. Best is trial 169 with value: 0.37118461446232054.\u001b[0m\n",
      "\u001b[32m[I 2021-06-23 19:14:40,071]\u001b[0m Trial 228 finished with value: 0.37494568637323517 and parameters: {'n_1': 0.38600873602832175, 'n_2': 0.019563669760094778, 'n_3': 0.6228691159424653}. Best is trial 169 with value: 0.37118461446232054.\u001b[0m\n",
      "\u001b[32m[I 2021-06-23 19:14:40,083]\u001b[0m Trial 229 finished with value: 0.37471917748011185 and parameters: {'n_1': 0.3449216169096491, 'n_2': 0.0008535158798057617, 'n_3': 0.6075599265084651}. Best is trial 169 with value: 0.37118461446232054.\u001b[0m\n",
      "\u001b[32m[I 2021-06-23 19:14:40,094]\u001b[0m Trial 230 finished with value: 0.4146696499514443 and parameters: {'n_1': 0.41135904515288607, 'n_2': 0.04100004234814687, 'n_3': 0.6733060015030126}. Best is trial 169 with value: 0.37118461446232054.\u001b[0m\n",
      "\u001b[32m[I 2021-06-23 19:14:40,106]\u001b[0m Trial 231 finished with value: 0.3720080492429802 and parameters: {'n_1': 0.3480471501022676, 'n_2': 0.0012107742820574208, 'n_3': 0.6246190551109515}. Best is trial 169 with value: 0.37118461446232054.\u001b[0m\n",
      "\u001b[32m[I 2021-06-23 19:14:40,117]\u001b[0m Trial 232 finished with value: 0.3731841161925097 and parameters: {'n_1': 0.3690099058618198, 'n_2': 0.020316835602898004, 'n_3': 0.6245441543806407}. Best is trial 169 with value: 0.37118461446232054.\u001b[0m\n",
      "\u001b[32m[I 2021-06-23 19:14:40,129]\u001b[0m Trial 233 finished with value: 0.375765498793483 and parameters: {'n_1': 0.3512676698802666, 'n_2': 0.00183086279225454, 'n_3': 0.5947640548972611}. Best is trial 169 with value: 0.37118461446232054.\u001b[0m\n",
      "\u001b[32m[I 2021-06-23 19:14:40,139]\u001b[0m Trial 234 finished with value: 0.3764308828624293 and parameters: {'n_1': 0.38172709374485775, 'n_2': 0.0015027138885518841, 'n_3': 0.6540597907100772}. Best is trial 169 with value: 0.37118461446232054.\u001b[0m\n",
      "\u001b[32m[I 2021-06-23 19:14:40,151]\u001b[0m Trial 235 finished with value: 0.37244196829643555 and parameters: {'n_1': 0.34521889872924516, 'n_2': 1.1986484499789535e-05, 'n_3': 0.6237859271198305}. Best is trial 169 with value: 0.37118461446232054.\u001b[0m\n",
      "\u001b[32m[I 2021-06-23 19:14:40,161]\u001b[0m Trial 236 finished with value: 0.37255601636564234 and parameters: {'n_1': 0.3530903270734454, 'n_2': 0.00019778796543326376, 'n_3': 0.6133531483411608}. Best is trial 169 with value: 0.37118461446232054.\u001b[0m\n",
      "\u001b[32m[I 2021-06-23 19:14:40,172]\u001b[0m Trial 237 finished with value: 0.3792888906531289 and parameters: {'n_1': 0.35124484296952674, 'n_2': 0.0004779826764265521, 'n_3': 0.5816680027155551}. Best is trial 169 with value: 0.37118461446232054.\u001b[0m\n",
      "\u001b[32m[I 2021-06-23 19:14:40,183]\u001b[0m Trial 238 finished with value: 0.38885559429808186 and parameters: {'n_1': 0.3027030445298469, 'n_2': 0.0005276848326457478, 'n_3': 0.6035687381917537}. Best is trial 169 with value: 0.37118461446232054.\u001b[0m\n"
     ]
    },
    {
     "name": "stderr",
     "output_type": "stream",
     "text": [
      "\u001b[32m[I 2021-06-23 19:14:40,194]\u001b[0m Trial 239 finished with value: 0.3877318121540904 and parameters: {'n_1': 0.3679726616316491, 'n_2': 0.03234290620468662, 'n_3': 0.6686963756194788}. Best is trial 169 with value: 0.37118461446232054.\u001b[0m\n",
      "\u001b[32m[I 2021-06-23 19:14:40,205]\u001b[0m Trial 240 finished with value: 0.37398223284685395 and parameters: {'n_1': 0.34032476906588927, 'n_2': 0.0005789552259179193, 'n_3': 0.6171477730268389}. Best is trial 169 with value: 0.37118461446232054.\u001b[0m\n",
      "\u001b[32m[I 2021-06-23 19:14:40,216]\u001b[0m Trial 241 finished with value: 0.37902723945351785 and parameters: {'n_1': 0.40021813897947317, 'n_2': 0.023209866489178114, 'n_3': 0.6236548744496538}. Best is trial 169 with value: 0.37118461446232054.\u001b[0m\n",
      "\u001b[32m[I 2021-06-23 19:14:40,229]\u001b[0m Trial 242 finished with value: 0.3710984667595036 and parameters: {'n_1': 0.3654702857767493, 'n_2': 0.002082308401983206, 'n_3': 0.6258587505582243}. Best is trial 242 with value: 0.3710984667595036.\u001b[0m\n",
      "\u001b[32m[I 2021-06-23 19:14:40,240]\u001b[0m Trial 243 finished with value: 0.3729146142524332 and parameters: {'n_1': 0.3564140335187859, 'n_2': 3.268657862936562e-05, 'n_3': 0.6581666447737742}. Best is trial 242 with value: 0.3710984667595036.\u001b[0m\n",
      "\u001b[32m[I 2021-06-23 19:14:40,250]\u001b[0m Trial 244 finished with value: 0.3717106888086779 and parameters: {'n_1': 0.3710060763045621, 'n_2': 0.0186035088863829, 'n_3': 0.5992077460377697}. Best is trial 242 with value: 0.3710984667595036.\u001b[0m\n",
      "\u001b[32m[I 2021-06-23 19:14:40,261]\u001b[0m Trial 245 finished with value: 0.37360596950798064 and parameters: {'n_1': 0.37259212862887414, 'n_2': 0.04409541442700075, 'n_3': 0.592585207468397}. Best is trial 242 with value: 0.3710984667595036.\u001b[0m\n",
      "\u001b[32m[I 2021-06-23 19:14:40,271]\u001b[0m Trial 246 finished with value: 0.3779635380539239 and parameters: {'n_1': 0.3516395086829128, 'n_2': 0.021560611217352088, 'n_3': 0.5701863294752342}. Best is trial 242 with value: 0.3710984667595036.\u001b[0m\n",
      "\u001b[32m[I 2021-06-23 19:14:40,284]\u001b[0m Trial 247 finished with value: 0.37271419696180946 and parameters: {'n_1': 0.3610620771014802, 'n_2': 0.001295938045172694, 'n_3': 0.6023453371220403}. Best is trial 242 with value: 0.3710984667595036.\u001b[0m\n",
      "\u001b[32m[I 2021-06-23 19:14:40,294]\u001b[0m Trial 248 finished with value: 0.3778195020194782 and parameters: {'n_1': 0.3845011520841265, 'n_2': 0.030917833208458582, 'n_3': 0.624335585992809}. Best is trial 242 with value: 0.3710984667595036.\u001b[0m\n",
      "\u001b[32m[I 2021-06-23 19:14:40,305]\u001b[0m Trial 249 finished with value: 0.37448213616783593 and parameters: {'n_1': 0.3393605446319386, 'n_2': 0.05525404722538316, 'n_3': 0.6083477910733271}. Best is trial 242 with value: 0.3710984667595036.\u001b[0m\n",
      "\u001b[32m[I 2021-06-23 19:14:40,315]\u001b[0m Trial 250 finished with value: 0.3905378466733845 and parameters: {'n_1': 0.307204450261205, 'n_2': 0.018740853160815155, 'n_3': 0.5796373711838518}. Best is trial 242 with value: 0.3710984667595036.\u001b[0m\n",
      "\u001b[32m[I 2021-06-23 19:14:40,327]\u001b[0m Trial 251 finished with value: 0.3858843093165318 and parameters: {'n_1': 0.37387832626587253, 'n_2': 0.0003993825989661911, 'n_3': 0.6920684816662329}. Best is trial 242 with value: 0.3710984667595036.\u001b[0m\n",
      "\u001b[32m[I 2021-06-23 19:14:40,337]\u001b[0m Trial 252 finished with value: 0.37303266211662534 and parameters: {'n_1': 0.3322445955151621, 'n_2': 0.0005530365588936638, 'n_3': 0.6335525366391768}. Best is trial 242 with value: 0.3710984667595036.\u001b[0m\n",
      "\u001b[32m[I 2021-06-23 19:14:40,349]\u001b[0m Trial 253 finished with value: 0.37786938537713005 and parameters: {'n_1': 0.34808376618694603, 'n_2': 0.03768327562312179, 'n_3': 0.6481194480530525}. Best is trial 242 with value: 0.3710984667595036.\u001b[0m\n",
      "\u001b[32m[I 2021-06-23 19:14:40,359]\u001b[0m Trial 254 finished with value: 0.3919550722306338 and parameters: {'n_1': 0.3916596424246517, 'n_2': 0.016540053134179375, 'n_3': 0.673843150044545}. Best is trial 242 with value: 0.3710984667595036.\u001b[0m\n",
      "\u001b[32m[I 2021-06-23 19:14:40,370]\u001b[0m Trial 255 finished with value: 0.37624633657697554 and parameters: {'n_1': 0.4140973333751947, 'n_2': 0.00169143599563109, 'n_3': 0.6246606664137259}. Best is trial 242 with value: 0.3710984667595036.\u001b[0m\n",
      "\u001b[32m[I 2021-06-23 19:14:40,380]\u001b[0m Trial 256 finished with value: 0.38650913161313344 and parameters: {'n_1': 0.3186812954954651, 'n_2': 0.0004520690127025515, 'n_3': 0.5933099703764759}. Best is trial 242 with value: 0.3710984667595036.\u001b[0m\n",
      "\u001b[32m[I 2021-06-23 19:14:40,391]\u001b[0m Trial 257 finished with value: 1.005382203869562 and parameters: {'n_1': 0.9718549037189872, 'n_2': 0.05937908945998223, 'n_3': 0.6572202337495279}. Best is trial 242 with value: 0.3710984667595036.\u001b[0m\n",
      "\u001b[32m[I 2021-06-23 19:14:40,402]\u001b[0m Trial 258 finished with value: 0.3797240633351939 and parameters: {'n_1': 0.2918925947386194, 'n_2': 0.034021023913843575, 'n_3': 0.6170615475550535}. Best is trial 242 with value: 0.3710984667595036.\u001b[0m\n",
      "\u001b[32m[I 2021-06-23 19:14:40,412]\u001b[0m Trial 259 finished with value: 0.37128972490902756 and parameters: {'n_1': 0.36118380759963764, 'n_2': 0.00021317477688967846, 'n_3': 0.6368355601048566}. Best is trial 242 with value: 0.3710984667595036.\u001b[0m\n",
      "\u001b[32m[I 2021-06-23 19:14:40,423]\u001b[0m Trial 260 finished with value: 0.3719876366229832 and parameters: {'n_1': 0.3688401445186973, 'n_2': 0.020940905154137796, 'n_3': 0.608509772496796}. Best is trial 242 with value: 0.3710984667595036.\u001b[0m\n",
      "\u001b[32m[I 2021-06-23 19:14:40,434]\u001b[0m Trial 261 finished with value: 0.37325921189722655 and parameters: {'n_1': 0.37380170259897, 'n_2': 0.047780574177166656, 'n_3': 0.5631784271731236}. Best is trial 242 with value: 0.3710984667595036.\u001b[0m\n",
      "\u001b[32m[I 2021-06-23 19:14:40,445]\u001b[0m Trial 262 finished with value: 0.38016668044506996 and parameters: {'n_1': 0.3889165391728046, 'n_2': 0.02343876256903731, 'n_3': 0.6374424880738029}. Best is trial 242 with value: 0.3710984667595036.\u001b[0m\n",
      "\u001b[32m[I 2021-06-23 19:14:40,455]\u001b[0m Trial 263 finished with value: 0.3771909098384144 and parameters: {'n_1': 0.4267780355211762, 'n_2': 0.02279382027301456, 'n_3': 0.5932842082425814}. Best is trial 242 with value: 0.3710984667595036.\u001b[0m\n",
      "\u001b[32m[I 2021-06-23 19:14:40,466]\u001b[0m Trial 264 finished with value: 0.3801211045790029 and parameters: {'n_1': 0.3399269881611187, 'n_2': 0.06399241635115821, 'n_3': 0.6347877220413765}. Best is trial 242 with value: 0.3710984667595036.\u001b[0m\n",
      "\u001b[32m[I 2021-06-23 19:14:40,478]\u001b[0m Trial 265 finished with value: 0.3843752550000801 and parameters: {'n_1': 0.35776827871798433, 'n_2': 0.04181358890759704, 'n_3': 0.6584795118425744}. Best is trial 242 with value: 0.3710984667595036.\u001b[0m\n",
      "\u001b[32m[I 2021-06-23 19:14:40,489]\u001b[0m Trial 266 finished with value: 0.3749958677625573 and parameters: {'n_1': 0.3970191742940827, 'n_2': 0.0207956383742894, 'n_3': 0.6122060562255413}. Best is trial 242 with value: 0.3710984667595036.\u001b[0m\n",
      "\u001b[32m[I 2021-06-23 19:14:40,501]\u001b[0m Trial 267 finished with value: 0.37274282201391784 and parameters: {'n_1': 0.3697763850100537, 'n_2': 0.039763920373148895, 'n_3': 0.5824711769905546}. Best is trial 242 with value: 0.3710984667595036.\u001b[0m\n",
      "\u001b[32m[I 2021-06-23 19:14:40,512]\u001b[0m Trial 268 finished with value: 0.37252594400713884 and parameters: {'n_1': 0.3350978815731648, 'n_2': 0.017815507984394675, 'n_3': 0.6382707219276821}. Best is trial 242 with value: 0.3710984667595036.\u001b[0m\n",
      "\u001b[32m[I 2021-06-23 19:14:40,529]\u001b[0m Trial 269 finished with value: 0.37243970905663065 and parameters: {'n_1': 0.3349888767242406, 'n_2': 0.0002697728648055886, 'n_3': 0.6363549707036519}. Best is trial 242 with value: 0.3710984667595036.\u001b[0m\n",
      "\u001b[32m[I 2021-06-23 19:14:40,544]\u001b[0m Trial 270 finished with value: 0.37126468004528396 and parameters: {'n_1': 0.37207720740734246, 'n_2': 0.00046468271639376246, 'n_3': 0.6046608543315724}. Best is trial 242 with value: 0.3710984667595036.\u001b[0m\n",
      "\u001b[32m[I 2021-06-23 19:14:40,557]\u001b[0m Trial 271 finished with value: 0.37431436860739076 and parameters: {'n_1': 0.37359026119541816, 'n_2': 0.06547913440483973, 'n_3': 0.5665191632991903}. Best is trial 242 with value: 0.3710984667595036.\u001b[0m\n",
      "\u001b[32m[I 2021-06-23 19:14:40,568]\u001b[0m Trial 272 finished with value: 0.3709744598682607 and parameters: {'n_1': 0.399071784189375, 'n_2': 0.0001691538641298083, 'n_3': 0.6078084231344368}. Best is trial 272 with value: 0.3709744598682607.\u001b[0m\n"
     ]
    },
    {
     "name": "stderr",
     "output_type": "stream",
     "text": [
      "\u001b[32m[I 2021-06-23 19:14:40,580]\u001b[0m Trial 273 finished with value: 0.3751130298216977 and parameters: {'n_1': 0.41221820510822516, 'n_2': 0.020228228683547747, 'n_3': 0.6001520656436964}. Best is trial 272 with value: 0.3709744598682607.\u001b[0m\n",
      "\u001b[32m[I 2021-06-23 19:14:40,591]\u001b[0m Trial 274 finished with value: 0.3861808177872501 and parameters: {'n_1': 0.429671562346127, 'n_2': 0.03724148650651077, 'n_3': 0.6033969023422919}. Best is trial 272 with value: 0.3709744598682607.\u001b[0m\n",
      "\u001b[32m[I 2021-06-23 19:14:40,602]\u001b[0m Trial 275 finished with value: 0.37127001754062144 and parameters: {'n_1': 0.39287164766674887, 'n_2': 0.017958824493849952, 'n_3': 0.5814931485457916}. Best is trial 272 with value: 0.3709744598682607.\u001b[0m\n",
      "\u001b[32m[I 2021-06-23 19:14:40,614]\u001b[0m Trial 276 finished with value: 0.37317827457020475 and parameters: {'n_1': 0.40374710283715964, 'n_2': 0.05716375484244223, 'n_3': 0.5390481242263475}. Best is trial 272 with value: 0.3709744598682607.\u001b[0m\n",
      "\u001b[32m[I 2021-06-23 19:14:40,625]\u001b[0m Trial 277 finished with value: 0.3714229847505555 and parameters: {'n_1': 0.3906093127972333, 'n_2': 0.020296861129692933, 'n_3': 0.5824517107590138}. Best is trial 272 with value: 0.3709744598682607.\u001b[0m\n",
      "\u001b[32m[I 2021-06-23 19:14:40,635]\u001b[0m Trial 278 finished with value: 0.37243254301994083 and parameters: {'n_1': 0.3897103450799457, 'n_2': 0.038305460183817516, 'n_3': 0.5591560615993697}. Best is trial 272 with value: 0.3709744598682607.\u001b[0m\n",
      "\u001b[32m[I 2021-06-23 19:14:40,647]\u001b[0m Trial 279 finished with value: 0.3739594841055149 and parameters: {'n_1': 0.4160542784462847, 'n_2': 0.026689778488160475, 'n_3': 0.5827212817808143}. Best is trial 272 with value: 0.3709744598682607.\u001b[0m\n",
      "\u001b[32m[I 2021-06-23 19:14:40,657]\u001b[0m Trial 280 finished with value: 0.38848377253631433 and parameters: {'n_1': 0.44293510754997495, 'n_2': 0.05257819896735014, 'n_3': 0.5806791294770269}. Best is trial 272 with value: 0.3709744598682607.\u001b[0m\n",
      "\u001b[32m[I 2021-06-23 19:14:40,669]\u001b[0m Trial 281 finished with value: 0.38934784182518195 and parameters: {'n_1': 0.38805318671471395, 'n_2': 2.3352749054921472e-05, 'n_3': 0.5170814738632765}. Best is trial 272 with value: 0.3709744598682607.\u001b[0m\n",
      "\u001b[32m[I 2021-06-23 19:14:40,679]\u001b[0m Trial 282 finished with value: 0.3743627482686905 and parameters: {'n_1': 0.3709064591831943, 'n_2': 0.07132462165485406, 'n_3': 0.5500335639287739}. Best is trial 272 with value: 0.3709744598682607.\u001b[0m\n",
      "\u001b[32m[I 2021-06-23 19:14:40,691]\u001b[0m Trial 283 finished with value: 0.37183885542165634 and parameters: {'n_1': 0.3974186372122289, 'n_2': 0.020754652763196862, 'n_3': 0.5883595941625823}. Best is trial 272 with value: 0.3709744598682607.\u001b[0m\n",
      "\u001b[32m[I 2021-06-23 19:14:40,701]\u001b[0m Trial 284 finished with value: 0.3728236075354474 and parameters: {'n_1': 0.40340016701156745, 'n_2': 0.017427732126714654, 'n_3': 0.5976973652758484}. Best is trial 272 with value: 0.3709744598682607.\u001b[0m\n",
      "\u001b[32m[I 2021-06-23 19:14:40,712]\u001b[0m Trial 285 finished with value: 0.3720666675873051 and parameters: {'n_1': 0.370183364390851, 'n_2': 0.018914985186920693, 'n_3': 0.6132682863814048}. Best is trial 272 with value: 0.3709744598682607.\u001b[0m\n",
      "\u001b[32m[I 2021-06-23 19:14:40,724]\u001b[0m Trial 286 finished with value: 0.37186340221580677 and parameters: {'n_1': 0.38170860482335683, 'n_2': 0.02169972233851209, 'n_3': 0.5792598559811694}. Best is trial 272 with value: 0.3709744598682607.\u001b[0m\n",
      "\u001b[32m[I 2021-06-23 19:14:40,735]\u001b[0m Trial 287 finished with value: 0.3774577841984753 and parameters: {'n_1': 0.42154679971896236, 'n_2': 0.045332218285949306, 'n_3': 0.5733196214659236}. Best is trial 272 with value: 0.3709744598682607.\u001b[0m\n",
      "\u001b[32m[I 2021-06-23 19:14:40,746]\u001b[0m Trial 288 finished with value: 0.38076338681515864 and parameters: {'n_1': 0.3900882643789792, 'n_2': 0.0774527198836763, 'n_3': 0.5782731986491725}. Best is trial 272 with value: 0.3709744598682607.\u001b[0m\n",
      "\u001b[32m[I 2021-06-23 19:14:40,757]\u001b[0m Trial 289 finished with value: 0.3728868110601636 and parameters: {'n_1': 0.37980523082400935, 'n_2': 0.028178092984406655, 'n_3': 0.6027421474484066}. Best is trial 272 with value: 0.3709744598682607.\u001b[0m\n",
      "\u001b[32m[I 2021-06-23 19:14:40,768]\u001b[0m Trial 290 finished with value: 0.389461187553849 and parameters: {'n_1': 0.4734982654078167, 'n_2': 0.0004592855351195045, 'n_3': 0.6092781814584942}. Best is trial 272 with value: 0.3709744598682607.\u001b[0m\n",
      "\u001b[32m[I 2021-06-23 19:14:40,779]\u001b[0m Trial 291 finished with value: 0.3798303611270375 and parameters: {'n_1': 0.40440114212587863, 'n_2': 0.05291912232890849, 'n_3': 0.5897028332776835}. Best is trial 272 with value: 0.3709744598682607.\u001b[0m\n",
      "\u001b[32m[I 2021-06-23 19:14:40,790]\u001b[0m Trial 292 finished with value: 0.3751558523675084 and parameters: {'n_1': 0.3713157777173818, 'n_2': 0.018373578547568735, 'n_3': 0.5649329977979165}. Best is trial 272 with value: 0.3709744598682607.\u001b[0m\n",
      "\u001b[32m[I 2021-06-23 19:14:40,801]\u001b[0m Trial 293 finished with value: 0.37100308093187473 and parameters: {'n_1': 0.43311359781287273, 'n_2': 0.018336128047481966, 'n_3': 0.53433009772854}. Best is trial 272 with value: 0.3709744598682607.\u001b[0m\n",
      "\u001b[32m[I 2021-06-23 19:14:40,812]\u001b[0m Trial 294 finished with value: 0.3702122680392467 and parameters: {'n_1': 0.44231911856198214, 'n_2': 0.0004618447659923766, 'n_3': 0.5389539761481246}. Best is trial 294 with value: 0.3702122680392467.\u001b[0m\n",
      "\u001b[32m[I 2021-06-23 19:14:40,822]\u001b[0m Trial 295 finished with value: 0.3744560109843372 and parameters: {'n_1': 0.4270922232301695, 'n_2': 0.03852154576511034, 'n_3': 0.4987986739855788}. Best is trial 294 with value: 0.3702122680392467.\u001b[0m\n",
      "\u001b[32m[I 2021-06-23 19:14:40,833]\u001b[0m Trial 296 finished with value: 0.37400365065705177 and parameters: {'n_1': 0.4709787601915387, 'n_2': 0.014668257770775414, 'n_3': 0.5476849469887304}. Best is trial 294 with value: 0.3702122680392467.\u001b[0m\n",
      "\u001b[32m[I 2021-06-23 19:14:40,844]\u001b[0m Trial 297 finished with value: 0.37008440230741724 and parameters: {'n_1': 0.4520681871243413, 'n_2': 0.002028383775597227, 'n_3': 0.5307619752676672}. Best is trial 297 with value: 0.37008440230741724.\u001b[0m\n",
      "\u001b[32m[I 2021-06-23 19:14:40,855]\u001b[0m Trial 298 finished with value: 0.38989339186689154 and parameters: {'n_1': 0.42145422119061066, 'n_2': 0.005252501777843412, 'n_3': 0.4789112838885414}. Best is trial 297 with value: 0.37008440230741724.\u001b[0m\n",
      "\u001b[32m[I 2021-06-23 19:14:40,865]\u001b[0m Trial 299 finished with value: 0.3697923206645123 and parameters: {'n_1': 0.44936231713991953, 'n_2': 0.0006298345918096799, 'n_3': 0.5425647937386804}. Best is trial 299 with value: 0.3697923206645123.\u001b[0m\n",
      "\u001b[32m[I 2021-06-23 19:14:40,876]\u001b[0m Trial 300 finished with value: 0.36975989396993414 and parameters: {'n_1': 0.455530185229256, 'n_2': 0.000773046084209012, 'n_3': 0.5372510149259373}. Best is trial 300 with value: 0.36975989396993414.\u001b[0m\n",
      "\u001b[32m[I 2021-06-23 19:14:40,887]\u001b[0m Trial 301 finished with value: 0.3703387377818098 and parameters: {'n_1': 0.4515545120750979, 'n_2': 0.004498960169869892, 'n_3': 0.5267206488511387}. Best is trial 300 with value: 0.36975989396993414.\u001b[0m\n",
      "\u001b[32m[I 2021-06-23 19:14:40,899]\u001b[0m Trial 302 finished with value: 0.37004206766859 and parameters: {'n_1': 0.4903605875187259, 'n_2': 0.0031322390930561793, 'n_3': 0.5123428560897227}. Best is trial 300 with value: 0.36975989396993414.\u001b[0m\n",
      "\u001b[32m[I 2021-06-23 19:14:40,910]\u001b[0m Trial 303 finished with value: 0.376588532743455 and parameters: {'n_1': 0.4896932369028243, 'n_2': 0.03512312228295789, 'n_3': 0.5178748054471943}. Best is trial 300 with value: 0.36975989396993414.\u001b[0m\n",
      "\u001b[32m[I 2021-06-23 19:14:40,920]\u001b[0m Trial 304 finished with value: 0.3750517584113499 and parameters: {'n_1': 0.5115902686523047, 'n_2': 0.0031217363890045794, 'n_3': 0.5275107459947483}. Best is trial 300 with value: 0.36975989396993414.\u001b[0m\n",
      "\u001b[32m[I 2021-06-23 19:14:40,932]\u001b[0m Trial 305 finished with value: 0.3729008934344361 and parameters: {'n_1': 0.4548962901115086, 'n_2': 0.0015796839866793102, 'n_3': 0.5038342533414196}. Best is trial 300 with value: 0.36975989396993414.\u001b[0m\n",
      "\u001b[32m[I 2021-06-23 19:14:40,943]\u001b[0m Trial 306 finished with value: 0.37026743343715984 and parameters: {'n_1': 0.44827800925347144, 'n_2': 0.0010055561469066866, 'n_3': 0.5317750363493872}. Best is trial 300 with value: 0.36975989396993414.\u001b[0m\n"
     ]
    },
    {
     "name": "stderr",
     "output_type": "stream",
     "text": [
      "\u001b[32m[I 2021-06-23 19:14:40,953]\u001b[0m Trial 307 finished with value: 0.6311497887516385 and parameters: {'n_1': 0.4553781950482274, 'n_2': 0.3878998407509031, 'n_3': 0.5286143694749039}. Best is trial 300 with value: 0.36975989396993414.\u001b[0m\n",
      "\u001b[32m[I 2021-06-23 19:14:40,965]\u001b[0m Trial 308 finished with value: 0.3744670144734323 and parameters: {'n_1': 0.479061171485654, 'n_2': 0.030379020235844288, 'n_3': 0.4537531801274769}. Best is trial 300 with value: 0.36975989396993414.\u001b[0m\n",
      "\u001b[32m[I 2021-06-23 19:14:40,976]\u001b[0m Trial 309 finished with value: 0.37249737484931056 and parameters: {'n_1': 0.4512047756422092, 'n_2': 0.05154491886630941, 'n_3': 0.4965922274371837}. Best is trial 300 with value: 0.36975989396993414.\u001b[0m\n",
      "\u001b[32m[I 2021-06-23 19:14:40,986]\u001b[0m Trial 310 finished with value: 0.37069420841375855 and parameters: {'n_1': 0.4430217307664325, 'n_2': 0.01744039768103307, 'n_3': 0.5323960551519014}. Best is trial 300 with value: 0.36975989396993414.\u001b[0m\n",
      "\u001b[32m[I 2021-06-23 19:14:40,998]\u001b[0m Trial 311 finished with value: 0.3728794978356128 and parameters: {'n_1': 0.49548558217823513, 'n_2': 0.0023493504427124084, 'n_3': 0.5333801088929729}. Best is trial 300 with value: 0.36975989396993414.\u001b[0m\n",
      "\u001b[32m[I 2021-06-23 19:14:41,009]\u001b[0m Trial 312 finished with value: 0.3697462324056069 and parameters: {'n_1': 0.46122445700516146, 'n_2': 0.000956525504042523, 'n_3': 0.5342183423209699}. Best is trial 312 with value: 0.3697462324056069.\u001b[0m\n",
      "\u001b[32m[I 2021-06-23 19:14:41,020]\u001b[0m Trial 313 finished with value: 0.37301321080227856 and parameters: {'n_1': 0.46459860750570026, 'n_2': 0.02907939479167371, 'n_3': 0.47726998549619093}. Best is trial 312 with value: 0.3697462324056069.\u001b[0m\n",
      "\u001b[32m[I 2021-06-23 19:14:41,030]\u001b[0m Trial 314 finished with value: 0.8667829977426402 and parameters: {'n_1': 0.4447538456077643, 'n_2': 0.6250086280849644, 'n_3': 0.5089874329205927}. Best is trial 312 with value: 0.3697462324056069.\u001b[0m\n",
      "\u001b[32m[I 2021-06-23 19:14:41,042]\u001b[0m Trial 315 finished with value: 0.3747220111153409 and parameters: {'n_1': 0.4392155065465939, 'n_2': 0.05262683543912139, 'n_3': 0.5339626418180052}. Best is trial 312 with value: 0.3697462324056069.\u001b[0m\n",
      "\u001b[32m[I 2021-06-23 19:14:41,054]\u001b[0m Trial 316 finished with value: 0.37000202249193015 and parameters: {'n_1': 0.4866043267610581, 'n_2': 0.0002656265933142451, 'n_3': 0.5207242107481417}. Best is trial 312 with value: 0.3697462324056069.\u001b[0m\n",
      "\u001b[32m[I 2021-06-23 19:14:41,065]\u001b[0m Trial 317 finished with value: 0.36997755646395053 and parameters: {'n_1': 0.47972628863087546, 'n_2': 0.004275601558874667, 'n_3': 0.5184530468478264}. Best is trial 312 with value: 0.3697462324056069.\u001b[0m\n",
      "\u001b[32m[I 2021-06-23 19:14:41,076]\u001b[0m Trial 318 finished with value: 0.3700046720283681 and parameters: {'n_1': 0.5000784447286141, 'n_2': 0.0017095377039351334, 'n_3': 0.4860764568621474}. Best is trial 312 with value: 0.3697462324056069.\u001b[0m\n",
      "\u001b[32m[I 2021-06-23 19:14:41,086]\u001b[0m Trial 319 finished with value: 0.3699541086093001 and parameters: {'n_1': 0.505769885004357, 'n_2': 0.0035732995307166783, 'n_3': 0.483760921052036}. Best is trial 312 with value: 0.3697462324056069.\u001b[0m\n",
      "\u001b[32m[I 2021-06-23 19:14:41,098]\u001b[0m Trial 320 finished with value: 0.3699682311845127 and parameters: {'n_1': 0.5352756894021203, 'n_2': 0.00044131241958315166, 'n_3': 0.46100785242617026}. Best is trial 312 with value: 0.3697462324056069.\u001b[0m\n",
      "\u001b[32m[I 2021-06-23 19:14:41,109]\u001b[0m Trial 321 finished with value: 0.37018920565863117 and parameters: {'n_1': 0.5343799205044576, 'n_2': 0.002895993440316094, 'n_3': 0.45555807093841366}. Best is trial 312 with value: 0.3697462324056069.\u001b[0m\n",
      "\u001b[32m[I 2021-06-23 19:14:41,119]\u001b[0m Trial 322 finished with value: 0.3719811644954717 and parameters: {'n_1': 0.5116720139093456, 'n_2': 0.0009047031823960529, 'n_3': 0.45636503572905585}. Best is trial 312 with value: 0.3697462324056069.\u001b[0m\n",
      "\u001b[32m[I 2021-06-23 19:14:41,131]\u001b[0m Trial 323 finished with value: 0.3704177633799924 and parameters: {'n_1': 0.5259017615532251, 'n_2': 0.0007765370840900998, 'n_3': 0.4861527037157137}. Best is trial 312 with value: 0.3697462324056069.\u001b[0m\n",
      "\u001b[32m[I 2021-06-23 19:14:41,142]\u001b[0m Trial 324 finished with value: 0.37339935265053126 and parameters: {'n_1': 0.54541751325321, 'n_2': 0.001410145476907725, 'n_3': 0.4882111535288942}. Best is trial 312 with value: 0.3697462324056069.\u001b[0m\n",
      "\u001b[32m[I 2021-06-23 19:14:41,153]\u001b[0m Trial 325 finished with value: 0.369910641009171 and parameters: {'n_1': 0.5331611651398667, 'n_2': 4.475975179446968e-05, 'n_3': 0.4663894648265645}. Best is trial 312 with value: 0.3697462324056069.\u001b[0m\n",
      "\u001b[32m[I 2021-06-23 19:14:41,164]\u001b[0m Trial 326 finished with value: 0.39969723620639114 and parameters: {'n_1': 0.5834486087839736, 'n_2': 0.036223339762880544, 'n_3': 0.487619993297561}. Best is trial 312 with value: 0.3697462324056069.\u001b[0m\n",
      "\u001b[32m[I 2021-06-23 19:14:41,175]\u001b[0m Trial 327 finished with value: 0.37306215646132973 and parameters: {'n_1': 0.5232917793474964, 'n_2': 0.0006825152354476504, 'n_3': 0.4395609793718569}. Best is trial 312 with value: 0.3697462324056069.\u001b[0m\n",
      "\u001b[32m[I 2021-06-23 19:14:41,186]\u001b[0m Trial 328 finished with value: 0.3712421609415986 and parameters: {'n_1': 0.5314144367501838, 'n_2': 0.016434437525240025, 'n_3': 0.46481942292650547}. Best is trial 312 with value: 0.3697462324056069.\u001b[0m\n",
      "\u001b[32m[I 2021-06-23 19:14:41,198]\u001b[0m Trial 329 finished with value: 0.37328157611223367 and parameters: {'n_1': 0.5649241674298694, 'n_2': 0.03729637993964685, 'n_3': 0.4177258786897472}. Best is trial 312 with value: 0.3697462324056069.\u001b[0m\n",
      "\u001b[32m[I 2021-06-23 19:14:41,209]\u001b[0m Trial 330 finished with value: 0.37141960079378084 and parameters: {'n_1': 0.5321010744488076, 'n_2': 0.016162093113585255, 'n_3': 0.466956218996117}. Best is trial 312 with value: 0.3697462324056069.\u001b[0m\n",
      "\u001b[32m[I 2021-06-23 19:14:41,222]\u001b[0m Trial 331 finished with value: 0.38237019348744344 and parameters: {'n_1': 0.4930489163061673, 'n_2': 0.00014883164693486558, 'n_3': 0.4336011430074606}. Best is trial 312 with value: 0.3697462324056069.\u001b[0m\n",
      "\u001b[32m[I 2021-06-23 19:14:41,232]\u001b[0m Trial 332 finished with value: 0.3726528860378278 and parameters: {'n_1': 0.5352758300574012, 'n_2': 0.014986152392339577, 'n_3': 0.47655193567420345}. Best is trial 312 with value: 0.3697462324056069.\u001b[0m\n",
      "\u001b[32m[I 2021-06-23 19:14:41,245]\u001b[0m Trial 333 finished with value: 0.4997755061492719 and parameters: {'n_1': 0.5039009451481118, 'n_2': 0.27719140212278853, 'n_3': 0.45984350483729775}. Best is trial 312 with value: 0.3697462324056069.\u001b[0m\n",
      "\u001b[32m[I 2021-06-23 19:14:41,256]\u001b[0m Trial 334 finished with value: 0.37553404071940333 and parameters: {'n_1': 0.48459785348102535, 'n_2': 0.040517825916852025, 'n_3': 0.5113020314407153}. Best is trial 312 with value: 0.3697462324056069.\u001b[0m\n",
      "\u001b[32m[I 2021-06-23 19:14:41,267]\u001b[0m Trial 335 finished with value: 0.3903747923327108 and parameters: {'n_1': 0.5209202729594055, 'n_2': 0.06777451789674431, 'n_3': 0.4947885137608566}. Best is trial 312 with value: 0.3697462324056069.\u001b[0m\n",
      "\u001b[32m[I 2021-06-23 19:14:41,278]\u001b[0m Trial 336 finished with value: 0.3698653718927936 and parameters: {'n_1': 0.4723823476058932, 'n_2': 0.0017954819379371585, 'n_3': 0.5149071209669129}. Best is trial 312 with value: 0.3697462324056069.\u001b[0m\n",
      "\u001b[32m[I 2021-06-23 19:14:41,290]\u001b[0m Trial 337 finished with value: 1.0788230857583856 and parameters: {'n_1': 0.4728368169464381, 'n_2': 0.8924133634057565, 'n_3': 0.3912851887931404}. Best is trial 312 with value: 0.3697462324056069.\u001b[0m\n",
      "\u001b[32m[I 2021-06-23 19:14:41,302]\u001b[0m Trial 338 finished with value: 0.370402649667332 and parameters: {'n_1': 0.5055792274311149, 'n_2': 0.0011522906036857401, 'n_3': 0.506243241669259}. Best is trial 312 with value: 0.3697462324056069.\u001b[0m\n",
      "\u001b[32m[I 2021-06-23 19:14:41,313]\u001b[0m Trial 339 finished with value: 0.3849187080072563 and parameters: {'n_1': 0.5509858549248564, 'n_2': 0.0006387512545026081, 'n_3': 0.5238978062497869}. Best is trial 312 with value: 0.3697462324056069.\u001b[0m\n",
      "\u001b[32m[I 2021-06-23 19:14:41,325]\u001b[0m Trial 340 finished with value: 0.3701764585825172 and parameters: {'n_1': 0.49785089558388135, 'n_2': 0.0032855273191747495, 'n_3': 0.5071360891012467}. Best is trial 312 with value: 0.3697462324056069.\u001b[0m\n"
     ]
    },
    {
     "name": "stderr",
     "output_type": "stream",
     "text": [
      "\u001b[32m[I 2021-06-23 19:14:41,336]\u001b[0m Trial 341 finished with value: 0.369709391948425 and parameters: {'n_1': 0.4938054708057816, 'n_2': 0.000681456618220835, 'n_3': 0.5004626935966909}. Best is trial 341 with value: 0.369709391948425.\u001b[0m\n",
      "\u001b[32m[I 2021-06-23 19:14:41,347]\u001b[0m Trial 342 finished with value: 0.3703232343052159 and parameters: {'n_1': 0.4978033690327372, 'n_2': 0.0031507319134804293, 'n_3': 0.5096833976212622}. Best is trial 341 with value: 0.369709391948425.\u001b[0m\n",
      "\u001b[32m[I 2021-06-23 19:14:41,358]\u001b[0m Trial 343 finished with value: 0.3702262964438963 and parameters: {'n_1': 0.5014891401520184, 'n_2': 0.00040659356314622655, 'n_3': 0.5092684550143354}. Best is trial 341 with value: 0.369709391948425.\u001b[0m\n",
      "\u001b[32m[I 2021-06-23 19:14:41,369]\u001b[0m Trial 344 finished with value: 1.083446668439561 and parameters: {'n_1': 0.5011473389733334, 'n_2': 0.7509012633734673, 'n_3': 0.5055176751027951}. Best is trial 341 with value: 0.369709391948425.\u001b[0m\n",
      "\u001b[32m[I 2021-06-23 19:14:41,381]\u001b[0m Trial 345 finished with value: 0.37188865675287175 and parameters: {'n_1': 0.4853882605591383, 'n_2': 0.03511610207787585, 'n_3': 0.48918575513062773}. Best is trial 341 with value: 0.369709391948425.\u001b[0m\n",
      "\u001b[32m[I 2021-06-23 19:14:41,391]\u001b[0m Trial 346 finished with value: 0.3704036436723937 and parameters: {'n_1': 0.4984696196705861, 'n_2': 0.0008448132964648243, 'n_3': 0.5137863059765824}. Best is trial 341 with value: 0.369709391948425.\u001b[0m\n",
      "\u001b[32m[I 2021-06-23 19:14:41,403]\u001b[0m Trial 347 finished with value: 0.3714013507358456 and parameters: {'n_1': 0.5047995628356318, 'n_2': 0.0025129989021378217, 'n_3': 0.5145566108720765}. Best is trial 341 with value: 0.369709391948425.\u001b[0m\n",
      "\u001b[32m[I 2021-06-23 19:14:41,415]\u001b[0m Trial 348 finished with value: 0.37539569907172604 and parameters: {'n_1': 0.4681614013409669, 'n_2': 0.00017261161536010513, 'n_3': 0.4802654864611957}. Best is trial 341 with value: 0.369709391948425.\u001b[0m\n",
      "\u001b[32m[I 2021-06-23 19:14:41,425]\u001b[0m Trial 349 finished with value: 0.3715849864272783 and parameters: {'n_1': 0.5191743913928322, 'n_2': 0.0001301779343045005, 'n_3': 0.5049277651988572}. Best is trial 341 with value: 0.369709391948425.\u001b[0m\n",
      "\u001b[32m[I 2021-06-23 19:14:41,436]\u001b[0m Trial 350 finished with value: 0.37043429799745764 and parameters: {'n_1': 0.4883273052141737, 'n_2': 0.00043496044326269204, 'n_3': 0.5246033524107012}. Best is trial 341 with value: 0.369709391948425.\u001b[0m\n",
      "\u001b[32m[I 2021-06-23 19:14:41,447]\u001b[0m Trial 351 finished with value: 0.37814812820001337 and parameters: {'n_1': 0.4925274970841346, 'n_2': 0.03461146293581603, 'n_3': 0.5221538026415542}. Best is trial 341 with value: 0.369709391948425.\u001b[0m\n",
      "\u001b[32m[I 2021-06-23 19:14:41,462]\u001b[0m Trial 352 finished with value: 0.37949402957458117 and parameters: {'n_1': 0.4829171581734925, 'n_2': 0.001401494743001915, 'n_3': 0.45069722078322016}. Best is trial 341 with value: 0.369709391948425.\u001b[0m\n",
      "\u001b[32m[I 2021-06-23 19:14:41,474]\u001b[0m Trial 353 finished with value: 0.3868692548721497 and parameters: {'n_1': 0.5636130987010032, 'n_2': 0.021725763156529732, 'n_3': 0.49386218519791325}. Best is trial 341 with value: 0.369709391948425.\u001b[0m\n",
      "\u001b[32m[I 2021-06-23 19:14:41,486]\u001b[0m Trial 354 finished with value: 0.36991712228418067 and parameters: {'n_1': 0.4622959686898316, 'n_2': 0.0003180925842734092, 'n_3': 0.5413227568873754}. Best is trial 341 with value: 0.369709391948425.\u001b[0m\n",
      "\u001b[32m[I 2021-06-23 19:14:41,497]\u001b[0m Trial 355 finished with value: 0.3751700466632117 and parameters: {'n_1': 0.5113273661303122, 'n_2': 0.04867380573406238, 'n_3': 0.472949816797128}. Best is trial 341 with value: 0.369709391948425.\u001b[0m\n",
      "\u001b[32m[I 2021-06-23 19:14:41,508]\u001b[0m Trial 356 finished with value: 0.42650222067765053 and parameters: {'n_1': 0.6059571648493618, 'n_2': 0.03372679929857642, 'n_3': 0.5133340835883511}. Best is trial 341 with value: 0.369709391948425.\u001b[0m\n",
      "\u001b[32m[I 2021-06-23 19:14:41,519]\u001b[0m Trial 357 finished with value: 0.3721017678687767 and parameters: {'n_1': 0.4662520341539206, 'n_2': 0.001530130503679775, 'n_3': 0.49762858046553043}. Best is trial 341 with value: 0.369709391948425.\u001b[0m\n",
      "\u001b[32m[I 2021-06-23 19:14:41,529]\u001b[0m Trial 358 finished with value: 0.384133529591082 and parameters: {'n_1': 0.5285571159545849, 'n_2': 4.158387831502638e-05, 'n_3': 0.544272572021677}. Best is trial 341 with value: 0.369709391948425.\u001b[0m\n",
      "\u001b[32m[I 2021-06-23 19:14:41,541]\u001b[0m Trial 359 finished with value: 0.37348174792550587 and parameters: {'n_1': 0.4941836245719351, 'n_2': 0.01678725293976266, 'n_3': 0.5202092370803861}. Best is trial 341 with value: 0.369709391948425.\u001b[0m\n",
      "\u001b[32m[I 2021-06-23 19:14:41,553]\u001b[0m Trial 360 finished with value: 0.370425426569921 and parameters: {'n_1': 0.4642637328603479, 'n_2': 0.0009446400384276169, 'n_3': 0.5461412288793116}. Best is trial 341 with value: 0.369709391948425.\u001b[0m\n",
      "\u001b[32m[I 2021-06-23 19:14:41,565]\u001b[0m Trial 361 finished with value: 0.3700610949634258 and parameters: {'n_1': 0.46108695417912027, 'n_2': 0.0009964609366188717, 'n_3': 0.5438191711603264}. Best is trial 341 with value: 0.369709391948425.\u001b[0m\n",
      "\u001b[32m[I 2021-06-23 19:14:41,576]\u001b[0m Trial 362 finished with value: 0.3707797827652516 and parameters: {'n_1': 0.5397521853941907, 'n_2': 0.0006388436956234491, 'n_3': 0.47602446208986454}. Best is trial 341 with value: 0.369709391948425.\u001b[0m\n",
      "\u001b[32m[I 2021-06-23 19:14:41,588]\u001b[0m Trial 363 finished with value: 0.3828973190775983 and parameters: {'n_1': 0.5097450121681375, 'n_2': 0.054514013850101045, 'n_3': 0.4994645681920411}. Best is trial 341 with value: 0.369709391948425.\u001b[0m\n",
      "\u001b[32m[I 2021-06-23 19:14:41,599]\u001b[0m Trial 364 finished with value: 0.3813051408977669 and parameters: {'n_1': 0.454881319049034, 'n_2': 0.03496481402496099, 'n_3': 0.44585134489103434}. Best is trial 341 with value: 0.369709391948425.\u001b[0m\n",
      "\u001b[32m[I 2021-06-23 19:14:41,610]\u001b[0m Trial 365 finished with value: 0.3712559373748413 and parameters: {'n_1': 0.4763283536209034, 'n_2': 5.924809868986447e-05, 'n_3': 0.5439648121442578}. Best is trial 341 with value: 0.369709391948425.\u001b[0m\n",
      "\u001b[32m[I 2021-06-23 19:14:41,622]\u001b[0m Trial 366 finished with value: 0.3720492095584275 and parameters: {'n_1': 0.5129669444195006, 'n_2': 0.02169849503192686, 'n_3': 0.48506979325983063}. Best is trial 341 with value: 0.369709391948425.\u001b[0m\n",
      "\u001b[32m[I 2021-06-23 19:14:41,634]\u001b[0m Trial 367 finished with value: 0.37165729920124885 and parameters: {'n_1': 0.45646266299106225, 'n_2': 4.0148338286949935e-06, 'n_3': 0.5109881681332166}. Best is trial 341 with value: 0.369709391948425.\u001b[0m\n",
      "\u001b[32m[I 2021-06-23 19:14:41,645]\u001b[0m Trial 368 finished with value: 0.37630144321247716 and parameters: {'n_1': 0.5469179382855857, 'n_2': 0.032103456819718997, 'n_3': 0.4637989102813433}. Best is trial 341 with value: 0.369709391948425.\u001b[0m\n",
      "\u001b[32m[I 2021-06-23 19:14:41,657]\u001b[0m Trial 369 finished with value: 0.39790032971485495 and parameters: {'n_1': 0.48012119939552667, 'n_2': 0.0846583446402436, 'n_3': 0.5332162673692389}. Best is trial 341 with value: 0.369709391948425.\u001b[0m\n",
      "\u001b[32m[I 2021-06-23 19:14:41,669]\u001b[0m Trial 370 finished with value: 0.3699480167435512 and parameters: {'n_1': 0.500707490629647, 'n_2': 8.054751388218695e-05, 'n_3': 0.5062188527434769}. Best is trial 341 with value: 0.369709391948425.\u001b[0m\n",
      "\u001b[32m[I 2021-06-23 19:14:41,682]\u001b[0m Trial 371 finished with value: 0.3750888944162282 and parameters: {'n_1': 0.5055025382353776, 'n_2': 0.021069493257176747, 'n_3': 0.43214747215318594}. Best is trial 341 with value: 0.369709391948425.\u001b[0m\n",
      "\u001b[32m[I 2021-06-23 19:14:41,695]\u001b[0m Trial 372 finished with value: 0.38482367819640073 and parameters: {'n_1': 0.46533388026562833, 'n_2': 0.055030320114332315, 'n_3': 0.5471818235066161}. Best is trial 341 with value: 0.369709391948425.\u001b[0m\n",
      "\u001b[32m[I 2021-06-23 19:14:41,710]\u001b[0m Trial 373 finished with value: 0.37181426361893904 and parameters: {'n_1': 0.484593121576242, 'n_2': 0.020715658468015187, 'n_3': 0.512308678034924}. Best is trial 341 with value: 0.369709391948425.\u001b[0m\n",
      "\u001b[32m[I 2021-06-23 19:14:41,722]\u001b[0m Trial 374 finished with value: 0.7731166881846256 and parameters: {'n_1': 0.4982905452177312, 'n_2': 0.4746441793903513, 'n_3': 0.5268958424660741}. Best is trial 341 with value: 0.369709391948425.\u001b[0m\n"
     ]
    },
    {
     "name": "stderr",
     "output_type": "stream",
     "text": [
      "\u001b[32m[I 2021-06-23 19:14:41,734]\u001b[0m Trial 375 finished with value: 0.3721801650198405 and parameters: {'n_1': 0.4482143488012996, 'n_2': 0.04178537696759259, 'n_3': 0.4978260695667598}. Best is trial 341 with value: 0.369709391948425.\u001b[0m\n",
      "\u001b[32m[I 2021-06-23 19:14:41,745]\u001b[0m Trial 376 finished with value: 0.36984743498428396 and parameters: {'n_1': 0.4684502625432429, 'n_2': 0.0012867715572894164, 'n_3': 0.5190894517327241}. Best is trial 341 with value: 0.369709391948425.\u001b[0m\n",
      "\u001b[32m[I 2021-06-23 19:14:41,758]\u001b[0m Trial 377 finished with value: 0.3703850737798802 and parameters: {'n_1': 0.46320608274300334, 'n_2': 0.00028507398252782803, 'n_3': 0.5476306986113416}. Best is trial 341 with value: 0.369709391948425.\u001b[0m\n",
      "\u001b[32m[I 2021-06-23 19:14:41,770]\u001b[0m Trial 378 finished with value: 0.3705850339922953 and parameters: {'n_1': 0.46136239962566455, 'n_2': 0.00038869580666224274, 'n_3': 0.5513471521413436}. Best is trial 341 with value: 0.369709391948425.\u001b[0m\n",
      "\u001b[32m[I 2021-06-23 19:14:41,781]\u001b[0m Trial 379 finished with value: 0.370930973617036 and parameters: {'n_1': 0.4408455679491827, 'n_2': 0.02039152951917027, 'n_3': 0.5394917385969671}. Best is trial 341 with value: 0.369709391948425.\u001b[0m\n",
      "\u001b[32m[I 2021-06-23 19:14:41,793]\u001b[0m Trial 380 finished with value: 0.3844138073452067 and parameters: {'n_1': 0.4748177100927516, 'n_2': 0.06270836345632486, 'n_3': 0.5285764378678304}. Best is trial 341 with value: 0.369709391948425.\u001b[0m\n",
      "\u001b[32m[I 2021-06-23 19:14:41,805]\u001b[0m Trial 381 finished with value: 0.37688435192306313 and parameters: {'n_1': 0.45639197103816326, 'n_2': 0.03478249288702341, 'n_3': 0.4606475301036983}. Best is trial 341 with value: 0.369709391948425.\u001b[0m\n",
      "\u001b[32m[I 2021-06-23 19:14:41,817]\u001b[0m Trial 382 finished with value: 0.3715716467814598 and parameters: {'n_1': 0.47370749516486116, 'n_2': 0.0008283278530938386, 'n_3': 0.5477423750487589}. Best is trial 341 with value: 0.369709391948425.\u001b[0m\n",
      "\u001b[32m[I 2021-06-23 19:14:41,829]\u001b[0m Trial 383 finished with value: 0.37511843470801265 and parameters: {'n_1': 0.5601441833582586, 'n_2': 0.0001843571133016039, 'n_3': 0.483212316529474}. Best is trial 341 with value: 0.369709391948425.\u001b[0m\n",
      "\u001b[32m[I 2021-06-23 19:14:41,841]\u001b[0m Trial 384 finished with value: 0.3712507297559172 and parameters: {'n_1': 0.4408953531077483, 'n_2': 0.022101831209755562, 'n_3': 0.5213610080086231}. Best is trial 341 with value: 0.369709391948425.\u001b[0m\n",
      "\u001b[32m[I 2021-06-23 19:14:41,853]\u001b[0m Trial 385 finished with value: 0.3804237869403978 and parameters: {'n_1': 0.48670138385873274, 'n_2': 0.0441959583622684, 'n_3': 0.41189325076777333}. Best is trial 341 with value: 0.369709391948425.\u001b[0m\n",
      "\u001b[32m[I 2021-06-23 19:14:41,865]\u001b[0m Trial 386 finished with value: 0.3721557479584324 and parameters: {'n_1': 0.532076488250191, 'n_2': 5.0423581094182716e-05, 'n_3': 0.49603273051164215}. Best is trial 341 with value: 0.369709391948425.\u001b[0m\n",
      "\u001b[32m[I 2021-06-23 19:14:41,878]\u001b[0m Trial 387 finished with value: 0.374711515571953 and parameters: {'n_1': 0.46105752578372583, 'n_2': 0.02268286983047199, 'n_3': 0.5509421244780074}. Best is trial 341 with value: 0.369709391948425.\u001b[0m\n",
      "\u001b[32m[I 2021-06-23 19:14:41,890]\u001b[0m Trial 388 finished with value: 0.37084892071761083 and parameters: {'n_1': 0.5195401868994532, 'n_2': 0.016300311828913467, 'n_3': 0.4710439072053371}. Best is trial 341 with value: 0.369709391948425.\u001b[0m\n",
      "\u001b[32m[I 2021-06-23 19:14:41,902]\u001b[0m Trial 389 finished with value: 0.3706565726578306 and parameters: {'n_1': 0.48548315220954075, 'n_2': 0.00025422484323307847, 'n_3': 0.5299042261183486}. Best is trial 341 with value: 0.369709391948425.\u001b[0m\n",
      "\u001b[32m[I 2021-06-23 19:14:41,914]\u001b[0m Trial 390 finished with value: 0.3716383894811818 and parameters: {'n_1': 0.4483445269143897, 'n_2': 0.03571952685510837, 'n_3': 0.5102230048456218}. Best is trial 341 with value: 0.369709391948425.\u001b[0m\n",
      "\u001b[32m[I 2021-06-23 19:14:41,926]\u001b[0m Trial 391 finished with value: 0.3740171141079972 and parameters: {'n_1': 0.4756010240074114, 'n_2': 0.07204912112600656, 'n_3': 0.44216740011521694}. Best is trial 341 with value: 0.369709391948425.\u001b[0m\n",
      "\u001b[32m[I 2021-06-23 19:14:41,938]\u001b[0m Trial 392 finished with value: 0.3786628520933741 and parameters: {'n_1': 0.4992699692604627, 'n_2': 1.520865460184111e-05, 'n_3': 0.5563785934061831}. Best is trial 341 with value: 0.369709391948425.\u001b[0m\n",
      "\u001b[32m[I 2021-06-23 19:14:41,950]\u001b[0m Trial 393 finished with value: 0.3825809106856927 and parameters: {'n_1': 0.5215980033217389, 'n_2': 0.04765682942954782, 'n_3': 0.4945811955909923}. Best is trial 341 with value: 0.369709391948425.\u001b[0m\n",
      "\u001b[32m[I 2021-06-23 19:14:41,962]\u001b[0m Trial 394 finished with value: 0.37153232319841234 and parameters: {'n_1': 0.4309589566962523, 'n_2': 0.017590414252844886, 'n_3': 0.5289359154595156}. Best is trial 341 with value: 0.369709391948425.\u001b[0m\n",
      "\u001b[32m[I 2021-06-23 19:14:41,975]\u001b[0m Trial 395 finished with value: 0.37427169169761004 and parameters: {'n_1': 0.5466065755923851, 'n_2': 0.01923617900688919, 'n_3': 0.46960697094316295}. Best is trial 341 with value: 0.369709391948425.\u001b[0m\n",
      "\u001b[32m[I 2021-06-23 19:14:41,987]\u001b[0m Trial 396 finished with value: 0.3713245334241607 and parameters: {'n_1': 0.46250455287782294, 'n_2': 0.030398619784890495, 'n_3': 0.5006782310120859}. Best is trial 341 with value: 0.369709391948425.\u001b[0m\n",
      "\u001b[32m[I 2021-06-23 19:14:41,999]\u001b[0m Trial 397 finished with value: 0.3700727098666726 and parameters: {'n_1': 0.48848269089409424, 'n_2': 0.0013407187564751406, 'n_3': 0.5181499820806873}. Best is trial 341 with value: 0.369709391948425.\u001b[0m\n",
      "\u001b[32m[I 2021-06-23 19:14:42,012]\u001b[0m Trial 398 finished with value: 0.38213179380931095 and parameters: {'n_1': 0.49964174489863294, 'n_2': 0.0459824168526573, 'n_3': 0.5163273513964814}. Best is trial 341 with value: 0.369709391948425.\u001b[0m\n",
      "\u001b[32m[I 2021-06-23 19:14:42,024]\u001b[0m Trial 399 finished with value: 0.3715534451745308 and parameters: {'n_1': 0.5176164680389563, 'n_2': 0.015462740985657917, 'n_3': 0.48474574794813385}. Best is trial 341 with value: 0.369709391948425.\u001b[0m\n",
      "\u001b[32m[I 2021-06-23 19:14:42,036]\u001b[0m Trial 400 finished with value: 0.37579020743420655 and parameters: {'n_1': 0.5880423562019453, 'n_2': 0.001474623405960869, 'n_3': 0.45614896191763044}. Best is trial 341 with value: 0.369709391948425.\u001b[0m\n",
      "\u001b[32m[I 2021-06-23 19:14:42,048]\u001b[0m Trial 401 finished with value: 0.3884838797006254 and parameters: {'n_1': 0.4871775144055723, 'n_2': 0.06044014150898939, 'n_3': 0.5304618731685266}. Best is trial 341 with value: 0.369709391948425.\u001b[0m\n",
      "\u001b[32m[I 2021-06-23 19:14:42,061]\u001b[0m Trial 402 finished with value: 0.3732569554942519 and parameters: {'n_1': 0.4372740787636881, 'n_2': 0.01882023403204287, 'n_3': 0.5081092546697421}. Best is trial 341 with value: 0.369709391948425.\u001b[0m\n",
      "\u001b[32m[I 2021-06-23 19:14:42,073]\u001b[0m Trial 403 finished with value: 0.37145538860446864 and parameters: {'n_1': 0.4794619103023753, 'n_2': 0.03146223256039874, 'n_3': 0.48087681927996395}. Best is trial 341 with value: 0.369709391948425.\u001b[0m\n",
      "\u001b[32m[I 2021-06-23 19:14:42,086]\u001b[0m Trial 404 finished with value: 0.3939973834081795 and parameters: {'n_1': 0.5394804224926824, 'n_2': 0.0003906673857479351, 'n_3': 0.556308799604443}. Best is trial 341 with value: 0.369709391948425.\u001b[0m\n",
      "\u001b[32m[I 2021-06-23 19:14:42,098]\u001b[0m Trial 405 finished with value: 0.37528579879712837 and parameters: {'n_1': 0.5039588627316648, 'n_2': 0.017624267702824783, 'n_3': 0.5189340269770644}. Best is trial 341 with value: 0.369709391948425.\u001b[0m\n",
      "\u001b[32m[I 2021-06-23 19:14:42,110]\u001b[0m Trial 406 finished with value: 0.372556416053703 and parameters: {'n_1': 0.45048657477847553, 'n_2': 0.04091412150253662, 'n_3': 0.4899157347780059}. Best is trial 341 with value: 0.369709391948425.\u001b[0m\n",
      "\u001b[32m[I 2021-06-23 19:14:42,122]\u001b[0m Trial 407 finished with value: 0.7381447063995132 and parameters: {'n_1': 0.5225463628491979, 'n_2': 0.5258200220482954, 'n_3': 0.4236468819929079}. Best is trial 341 with value: 0.369709391948425.\u001b[0m\n",
      "\u001b[32m[I 2021-06-23 19:14:42,135]\u001b[0m Trial 408 finished with value: 0.37407414056375343 and parameters: {'n_1': 0.4765838314883275, 'n_2': 0.019359156376541127, 'n_3': 0.5371034571019687}. Best is trial 341 with value: 0.369709391948425.\u001b[0m\n"
     ]
    },
    {
     "name": "stderr",
     "output_type": "stream",
     "text": [
      "\u001b[32m[I 2021-06-23 19:14:42,148]\u001b[0m Trial 409 finished with value: 0.38649499101495205 and parameters: {'n_1': 0.5737064282437684, 'n_2': 0.0005912852714347979, 'n_3': 0.5056735295927334}. Best is trial 341 with value: 0.369709391948425.\u001b[0m\n",
      "\u001b[32m[I 2021-06-23 19:14:42,160]\u001b[0m Trial 410 finished with value: 0.3715230348971473 and parameters: {'n_1': 0.4967927010007473, 'n_2': 0.0009544979369558626, 'n_3': 0.4730883755928863}. Best is trial 341 with value: 0.369709391948425.\u001b[0m\n",
      "\u001b[32m[I 2021-06-23 19:14:42,176]\u001b[0m Trial 411 finished with value: 0.3760596400086262 and parameters: {'n_1': 0.46018445527986307, 'n_2': 0.053949216690737274, 'n_3': 0.44812951189478467}. Best is trial 341 with value: 0.369709391948425.\u001b[0m\n",
      "\u001b[32m[I 2021-06-23 19:14:42,192]\u001b[0m Trial 412 finished with value: 0.37237697318952845 and parameters: {'n_1': 0.44052499275036344, 'n_2': 0.03650098021847061, 'n_3': 0.5352247041809295}. Best is trial 341 with value: 0.369709391948425.\u001b[0m\n",
      "\u001b[32m[I 2021-06-23 19:14:42,204]\u001b[0m Trial 413 finished with value: 0.4102904963542075 and parameters: {'n_1': 0.550286342029225, 'n_2': 0.016618871497181293, 'n_3': 0.559376123667741}. Best is trial 341 with value: 0.369709391948425.\u001b[0m\n",
      "\u001b[32m[I 2021-06-23 19:14:42,217]\u001b[0m Trial 414 finished with value: 0.3724485158083555 and parameters: {'n_1': 0.5130440676906214, 'n_2': 0.0005370224542881616, 'n_3': 0.5161281263104175}. Best is trial 341 with value: 0.369709391948425.\u001b[0m\n",
      "\u001b[32m[I 2021-06-23 19:14:42,229]\u001b[0m Trial 415 finished with value: 0.37109716252236935 and parameters: {'n_1': 0.4859839708735821, 'n_2': 9.854659174571853e-05, 'n_3': 0.4868464455305208}. Best is trial 341 with value: 0.369709391948425.\u001b[0m\n",
      "\u001b[32m[I 2021-06-23 19:14:42,240]\u001b[0m Trial 416 finished with value: 0.37021673835046776 and parameters: {'n_1': 0.4714283145236844, 'n_2': 0.00013483984034482654, 'n_3': 0.5383080491723234}. Best is trial 341 with value: 0.369709391948425.\u001b[0m\n",
      "\u001b[32m[I 2021-06-23 19:14:42,252]\u001b[0m Trial 417 finished with value: 0.370845938186581 and parameters: {'n_1': 0.4724889168278764, 'n_2': 0.00015582818429114246, 'n_3': 0.501748335845904}. Best is trial 341 with value: 0.369709391948425.\u001b[0m\n",
      "\u001b[32m[I 2021-06-23 19:14:42,268]\u001b[0m Trial 418 finished with value: 0.4470234392503834 and parameters: {'n_1': 0.5308222482851594, 'n_2': 0.09078399748467493, 'n_3': 0.5570958596376288}. Best is trial 341 with value: 0.369709391948425.\u001b[0m\n",
      "\u001b[32m[I 2021-06-23 19:14:42,288]\u001b[0m Trial 419 finished with value: 0.3714977454922031 and parameters: {'n_1': 0.500138330153263, 'n_2': 0.03269586591341227, 'n_3': 0.46699529001971946}. Best is trial 341 with value: 0.369709391948425.\u001b[0m\n",
      "\u001b[32m[I 2021-06-23 19:14:42,306]\u001b[0m Trial 420 finished with value: 0.3928703711528736 and parameters: {'n_1': 0.4811678900295347, 'n_2': 0.06691024047527773, 'n_3': 0.5399105848349628}. Best is trial 341 with value: 0.369709391948425.\u001b[0m\n",
      "\u001b[32m[I 2021-06-23 19:14:42,319]\u001b[0m Trial 421 finished with value: 0.37770493072779615 and parameters: {'n_1': 0.5127030092046245, 'n_2': 0.02105526303778278, 'n_3': 0.5164948166278645}. Best is trial 341 with value: 0.369709391948425.\u001b[0m\n",
      "\u001b[32m[I 2021-06-23 19:14:42,331]\u001b[0m Trial 422 finished with value: 0.37952165119721226 and parameters: {'n_1': 0.4343272855767186, 'n_2': 0.0005196260113433265, 'n_3': 0.49779676128254075}. Best is trial 341 with value: 0.369709391948425.\u001b[0m\n",
      "\u001b[32m[I 2021-06-23 19:14:42,343]\u001b[0m Trial 423 finished with value: 0.3700153394645921 and parameters: {'n_1': 0.46533956226788703, 'n_2': 0.0001720394982369579, 'n_3': 0.5407722662629163}. Best is trial 341 with value: 0.369709391948425.\u001b[0m\n",
      "\u001b[32m[I 2021-06-23 19:14:42,356]\u001b[0m Trial 424 finished with value: 0.38119784381822924 and parameters: {'n_1': 0.46085636305275735, 'n_2': 0.035584988516135306, 'n_3': 0.5617452859847001}. Best is trial 341 with value: 0.369709391948425.\u001b[0m\n",
      "\u001b[32m[I 2021-06-23 19:14:42,369]\u001b[0m Trial 425 finished with value: 0.37263909304350096 and parameters: {'n_1': 0.4718565099576509, 'n_2': 0.01877621994900817, 'n_3': 0.5336498202943296}. Best is trial 341 with value: 0.369709391948425.\u001b[0m\n",
      "\u001b[32m[I 2021-06-23 19:14:42,381]\u001b[0m Trial 426 finished with value: 0.37474205140665695 and parameters: {'n_1': 0.42814590931008845, 'n_2': 0.05108150027714167, 'n_3': 0.5461147121786972}. Best is trial 341 with value: 0.369709391948425.\u001b[0m\n",
      "\u001b[32m[I 2021-06-23 19:14:42,393]\u001b[0m Trial 427 finished with value: 0.6267753585207679 and parameters: {'n_1': 0.45477246308514485, 'n_2': 0.3524257658038158, 'n_3': 0.5600612213757667}. Best is trial 341 with value: 0.369709391948425.\u001b[0m\n",
      "\u001b[32m[I 2021-06-23 19:14:42,405]\u001b[0m Trial 428 finished with value: 0.3790645449134749 and parameters: {'n_1': 0.48407854388855726, 'n_2': 0.01742822995482944, 'n_3': 0.43885411759754284}. Best is trial 341 with value: 0.369709391948425.\u001b[0m\n",
      "\u001b[32m[I 2021-06-23 19:14:42,417]\u001b[0m Trial 429 finished with value: 0.370209813300304 and parameters: {'n_1': 0.5334165407841126, 'n_2': 0.0011663555274840699, 'n_3': 0.47390105995061693}. Best is trial 341 with value: 0.369709391948425.\u001b[0m\n",
      "\u001b[32m[I 2021-06-23 19:14:42,429]\u001b[0m Trial 430 finished with value: 0.3728794744368407 and parameters: {'n_1': 0.5664612165531873, 'n_2': 0.0011282290817496961, 'n_3': 0.4639520801235082}. Best is trial 341 with value: 0.369709391948425.\u001b[0m\n",
      "\u001b[32m[I 2021-06-23 19:14:42,442]\u001b[0m Trial 431 finished with value: 0.38040343936078536 and parameters: {'n_1': 0.5428377460308258, 'n_2': 0.03467585167404525, 'n_3': 0.48114614066347866}. Best is trial 341 with value: 0.369709391948425.\u001b[0m\n",
      "\u001b[32m[I 2021-06-23 19:14:42,454]\u001b[0m Trial 432 finished with value: 0.3710140879036861 and parameters: {'n_1': 0.5261645664970536, 'n_2': 0.00071165365207402, 'n_3': 0.45101076897238646}. Best is trial 341 with value: 0.369709391948425.\u001b[0m\n",
      "\u001b[32m[I 2021-06-23 19:14:42,473]\u001b[0m Trial 433 finished with value: 0.38266728845669934 and parameters: {'n_1': 0.5113099630086693, 'n_2': 0.01994092124141042, 'n_3': 0.40034431113157837}. Best is trial 341 with value: 0.369709391948425.\u001b[0m\n",
      "\u001b[32m[I 2021-06-23 19:14:42,488]\u001b[0m Trial 434 finished with value: 0.5566651885052781 and parameters: {'n_1': 0.7562665315678792, 'n_2': 0.050860328442840406, 'n_3': 0.49854693835901903}. Best is trial 341 with value: 0.369709391948425.\u001b[0m\n",
      "\u001b[32m[I 2021-06-23 19:14:42,502]\u001b[0m Trial 435 finished with value: 0.6482831196277156 and parameters: {'n_1': 0.5485284127386162, 'n_2': 0.00020215513533760235, 'n_3': 0.07046173482341567}. Best is trial 341 with value: 0.369709391948425.\u001b[0m\n",
      "\u001b[32m[I 2021-06-23 19:14:42,515]\u001b[0m Trial 436 finished with value: 0.3709637217717496 and parameters: {'n_1': 0.4943050556690125, 'n_2': 0.020838573123051478, 'n_3': 0.47514555623739146}. Best is trial 341 with value: 0.369709391948425.\u001b[0m\n",
      "\u001b[32m[I 2021-06-23 19:14:42,535]\u001b[0m Trial 437 finished with value: 0.40726391490664027 and parameters: {'n_1': 0.605240266195463, 'n_2': 0.0002857453747134209, 'n_3': 0.5174428659256549}. Best is trial 341 with value: 0.369709391948425.\u001b[0m\n",
      "\u001b[32m[I 2021-06-23 19:14:42,553]\u001b[0m Trial 438 finished with value: 0.39435936350381456 and parameters: {'n_1': 0.5271008417776878, 'n_2': 0.0738343441659936, 'n_3': 0.4917131953595871}. Best is trial 341 with value: 0.369709391948425.\u001b[0m\n",
      "\u001b[32m[I 2021-06-23 19:14:42,566]\u001b[0m Trial 439 finished with value: 0.37075076968739856 and parameters: {'n_1': 0.4749601714984387, 'n_2': 0.0006450202279874302, 'n_3': 0.5401484421541778}. Best is trial 341 with value: 0.369709391948425.\u001b[0m\n",
      "\u001b[32m[I 2021-06-23 19:14:42,579]\u001b[0m Trial 440 finished with value: 0.37313227673423394 and parameters: {'n_1': 0.5079514760779974, 'n_2': 0.035579155768594696, 'n_3': 0.43324552869832283}. Best is trial 341 with value: 0.369709391948425.\u001b[0m\n",
      "\u001b[32m[I 2021-06-23 19:14:42,592]\u001b[0m Trial 441 finished with value: 0.3755581935104035 and parameters: {'n_1': 0.561621222957098, 'n_2': 0.018591091220972706, 'n_3': 0.46169597748641494}. Best is trial 341 with value: 0.369709391948425.\u001b[0m\n",
      "\u001b[32m[I 2021-06-23 19:14:42,605]\u001b[0m Trial 442 finished with value: 0.3805590749487582 and parameters: {'n_1': 0.49057168102670323, 'n_2': 0.04619854289812007, 'n_3': 0.5196211407199309}. Best is trial 341 with value: 0.369709391948425.\u001b[0m\n"
     ]
    },
    {
     "name": "stderr",
     "output_type": "stream",
     "text": [
      "\u001b[32m[I 2021-06-23 19:14:42,618]\u001b[0m Trial 443 finished with value: 0.7924245599280678 and parameters: {'n_1': 0.46115859549109506, 'n_2': 0.5554809015095994, 'n_3': 0.4996268949501851}. Best is trial 341 with value: 0.369709391948425.\u001b[0m\n",
      "\u001b[32m[I 2021-06-23 19:14:42,630]\u001b[0m Trial 444 finished with value: 0.3701640958513647 and parameters: {'n_1': 0.528815511566496, 'n_2': 0.00022214670548030953, 'n_3': 0.48009434841096243}. Best is trial 341 with value: 0.369709391948425.\u001b[0m\n",
      "\u001b[32m[I 2021-06-23 19:14:42,643]\u001b[0m Trial 445 finished with value: 0.3764972698239464 and parameters: {'n_1': 0.539000337520415, 'n_2': 0.029668068118156837, 'n_3': 0.4755972695932166}. Best is trial 341 with value: 0.369709391948425.\u001b[0m\n",
      "\u001b[32m[I 2021-06-23 19:14:42,656]\u001b[0m Trial 446 finished with value: 0.37043556743241834 and parameters: {'n_1': 0.5314796830014437, 'n_2': 4.417596716694118e-05, 'n_3': 0.4530038039734704}. Best is trial 341 with value: 0.369709391948425.\u001b[0m\n",
      "\u001b[32m[I 2021-06-23 19:14:42,671]\u001b[0m Trial 447 finished with value: 0.3699214052261213 and parameters: {'n_1': 0.4337956477545972, 'n_2': 0.0007264553257702541, 'n_3': 0.560837131737388}. Best is trial 341 with value: 0.369709391948425.\u001b[0m\n",
      "\u001b[32m[I 2021-06-23 19:14:42,684]\u001b[0m Trial 448 finished with value: 0.3721540311035904 and parameters: {'n_1': 0.4321042760343966, 'n_2': 0.019766604704896294, 'n_3': 0.5647201793277142}. Best is trial 341 with value: 0.369709391948425.\u001b[0m\n",
      "\u001b[32m[I 2021-06-23 19:14:42,696]\u001b[0m Trial 449 finished with value: 0.39500532436808505 and parameters: {'n_1': 0.4286117976468893, 'n_2': 0.05173122842830397, 'n_3': 0.42252000735733886}. Best is trial 341 with value: 0.369709391948425.\u001b[0m\n",
      "\u001b[32m[I 2021-06-23 19:14:42,708]\u001b[0m Trial 450 finished with value: 0.3835104586481376 and parameters: {'n_1': 0.44582393188618963, 'n_2': 0.00014909068679711175, 'n_3': 0.47531703960279925}. Best is trial 341 with value: 0.369709391948425.\u001b[0m\n",
      "\u001b[32m[I 2021-06-23 19:14:42,720]\u001b[0m Trial 451 finished with value: 0.3991997409608714 and parameters: {'n_1': 0.5827477458416078, 'n_2': 0.034263236359143134, 'n_3': 0.4893722712891108}. Best is trial 341 with value: 0.369709391948425.\u001b[0m\n",
      "\u001b[32m[I 2021-06-23 19:14:42,732]\u001b[0m Trial 452 finished with value: 0.5141610634341199 and parameters: {'n_1': 0.5152904191528502, 'n_2': 0.21633831302092532, 'n_3': 0.525669983415039}. Best is trial 341 with value: 0.369709391948425.\u001b[0m\n",
      "\u001b[32m[I 2021-06-23 19:14:42,745]\u001b[0m Trial 453 finished with value: 0.8007453579636739 and parameters: {'n_1': 0.5535362049911378, 'n_2': 0.41616234011834125, 'n_3': 0.5540154109209113}. Best is trial 341 with value: 0.369709391948425.\u001b[0m\n",
      "\u001b[32m[I 2021-06-23 19:14:42,757]\u001b[0m Trial 454 finished with value: 0.37233297760153666 and parameters: {'n_1': 0.4943344817552186, 'n_2': 0.020337469735897826, 'n_3': 0.45913275935455955}. Best is trial 341 with value: 0.369709391948425.\u001b[0m\n",
      "\u001b[32m[I 2021-06-23 19:14:42,769]\u001b[0m Trial 455 finished with value: 0.37192450945379735 and parameters: {'n_1': 0.45728678784284515, 'n_2': 0.0006070526855164892, 'n_3': 0.5080123949474353}. Best is trial 341 with value: 0.369709391948425.\u001b[0m\n",
      "\u001b[32m[I 2021-06-23 19:14:42,782]\u001b[0m Trial 456 finished with value: 0.38946025381410204 and parameters: {'n_1': 0.47345996283763575, 'n_2': 0.06407507834369186, 'n_3': 0.5420940173112566}. Best is trial 341 with value: 0.369709391948425.\u001b[0m\n",
      "\u001b[32m[I 2021-06-23 19:14:42,794]\u001b[0m Trial 457 finished with value: 0.37309281798358224 and parameters: {'n_1': 0.5211100061858284, 'n_2': 0.017873809756891717, 'n_3': 0.49006158201935096}. Best is trial 341 with value: 0.369709391948425.\u001b[0m\n",
      "\u001b[32m[I 2021-06-23 19:14:42,807]\u001b[0m Trial 458 finished with value: 0.3766585316004155 and parameters: {'n_1': 0.44037309393382473, 'n_2': 0.03469951752851713, 'n_3': 0.5650046107735465}. Best is trial 341 with value: 0.369709391948425.\u001b[0m\n",
      "\u001b[32m[I 2021-06-23 19:14:42,818]\u001b[0m Trial 459 finished with value: 0.369995166083123 and parameters: {'n_1': 0.4860075623439368, 'n_2': 0.001435428237533845, 'n_3': 0.5189947208056657}. Best is trial 341 with value: 0.369709391948425.\u001b[0m\n",
      "\u001b[32m[I 2021-06-23 19:14:42,831]\u001b[0m Trial 460 finished with value: 0.37510175196872525 and parameters: {'n_1': 0.48983549158386275, 'n_2': 0.018950894955702874, 'n_3': 0.44796081506577184}. Best is trial 341 with value: 0.369709391948425.\u001b[0m\n",
      "\u001b[32m[I 2021-06-23 19:14:42,842]\u001b[0m Trial 461 finished with value: 0.3864731990496036 and parameters: {'n_1': 0.5125018816468071, 'n_2': 0.04479798479211888, 'n_3': 0.517778499028059}. Best is trial 341 with value: 0.369709391948425.\u001b[0m\n",
      "\u001b[32m[I 2021-06-23 19:14:42,861]\u001b[0m Trial 462 finished with value: 0.628552906719855 and parameters: {'n_1': 0.8966228227282806, 'n_2': 0.0005052304554724316, 'n_3': 0.4771867502168854}. Best is trial 341 with value: 0.369709391948425.\u001b[0m\n",
      "\u001b[32m[I 2021-06-23 19:14:42,875]\u001b[0m Trial 463 finished with value: 0.37761830614076386 and parameters: {'n_1': 0.5341904422660981, 'n_2': 0.01870291675108871, 'n_3': 0.4978329440919039}. Best is trial 341 with value: 0.369709391948425.\u001b[0m\n",
      "\u001b[32m[I 2021-06-23 19:14:42,888]\u001b[0m Trial 464 finished with value: 0.3930921240647675 and parameters: {'n_1': 0.5716003712010814, 'n_2': 0.0014935626812033792, 'n_3': 0.5220299988117791}. Best is trial 341 with value: 0.369709391948425.\u001b[0m\n",
      "\u001b[32m[I 2021-06-23 19:14:42,901]\u001b[0m Trial 465 finished with value: 0.3875588725138925 and parameters: {'n_1': 0.48724582935978333, 'n_2': 0.0007348380797061022, 'n_3': 0.4252353367568959}. Best is trial 341 with value: 0.369709391948425.\u001b[0m\n",
      "\u001b[32m[I 2021-06-23 19:14:42,913]\u001b[0m Trial 466 finished with value: 0.37186043168346905 and parameters: {'n_1': 0.470769914737542, 'n_2': 0.034465109531232836, 'n_3': 0.5041170977852099}. Best is trial 341 with value: 0.369709391948425.\u001b[0m\n",
      "\u001b[32m[I 2021-06-23 19:14:42,926]\u001b[0m Trial 467 finished with value: 0.37027281947038726 and parameters: {'n_1': 0.5077089272838908, 'n_2': 0.0007243939271926519, 'n_3': 0.475125324520829}. Best is trial 341 with value: 0.369709391948425.\u001b[0m\n",
      "\u001b[32m[I 2021-06-23 19:14:42,938]\u001b[0m Trial 468 finished with value: 0.42154891300438135 and parameters: {'n_1': 0.5526130344660074, 'n_2': 0.06509710492310383, 'n_3': 0.5258428626707226}. Best is trial 341 with value: 0.369709391948425.\u001b[0m\n",
      "\u001b[32m[I 2021-06-23 19:14:42,950]\u001b[0m Trial 469 finished with value: 0.37889546378627004 and parameters: {'n_1': 0.49640601097449955, 'n_2': 0.0006797832580727138, 'n_3': 0.559141200395118}. Best is trial 341 with value: 0.369709391948425.\u001b[0m\n",
      "\u001b[32m[I 2021-06-23 19:14:42,962]\u001b[0m Trial 470 finished with value: 0.3714143496759074 and parameters: {'n_1': 0.5307783201077947, 'n_2': 0.00022453655887278334, 'n_3': 0.49182143728776817}. Best is trial 341 with value: 0.369709391948425.\u001b[0m\n",
      "\u001b[32m[I 2021-06-23 19:14:42,975]\u001b[0m Trial 471 finished with value: 0.377670207263144 and parameters: {'n_1': 0.47793924186954867, 'n_2': 0.022693898449972966, 'n_3': 0.4457249459390386}. Best is trial 341 with value: 0.369709391948425.\u001b[0m\n",
      "\u001b[32m[I 2021-06-23 19:14:42,987]\u001b[0m Trial 472 finished with value: 0.3775322452772583 and parameters: {'n_1': 0.45617222163020527, 'n_2': 0.04563466556574401, 'n_3': 0.541400256089732}. Best is trial 341 with value: 0.369709391948425.\u001b[0m\n",
      "\u001b[32m[I 2021-06-23 19:14:42,999]\u001b[0m Trial 473 finished with value: 0.5109093983604142 and parameters: {'n_1': 0.5124809179004371, 'n_2': 0.019161631989523382, 'n_3': 0.21612000477849913}. Best is trial 341 with value: 0.369709391948425.\u001b[0m\n",
      "\u001b[32m[I 2021-06-23 19:14:43,012]\u001b[0m Trial 474 finished with value: 0.3861897876564851 and parameters: {'n_1': 0.4220382389320394, 'n_2': 0.033825943707432304, 'n_3': 0.4642031220268545}. Best is trial 341 with value: 0.369709391948425.\u001b[0m\n",
      "\u001b[32m[I 2021-06-23 19:14:43,025]\u001b[0m Trial 475 finished with value: 0.37063215909014363 and parameters: {'n_1': 0.47033901519122046, 'n_2': 0.018413736117947277, 'n_3': 0.5080290606492756}. Best is trial 341 with value: 0.369709391948425.\u001b[0m\n",
      "\u001b[32m[I 2021-06-23 19:14:43,038]\u001b[0m Trial 476 finished with value: 0.38752619455097376 and parameters: {'n_1': 0.4938561160509905, 'n_2': 0.054287052771240234, 'n_3': 0.5282315219058592}. Best is trial 341 with value: 0.369709391948425.\u001b[0m\n"
     ]
    },
    {
     "name": "stderr",
     "output_type": "stream",
     "text": [
      "\u001b[32m[I 2021-06-23 19:14:43,051]\u001b[0m Trial 477 finished with value: 0.36982363097959936 and parameters: {'n_1': 0.5186759753332028, 'n_2': 8.954494881868263e-05, 'n_3': 0.4830637362974387}. Best is trial 341 with value: 0.369709391948425.\u001b[0m\n",
      "\u001b[32m[I 2021-06-23 19:14:43,064]\u001b[0m Trial 478 finished with value: 0.380705983922723 and parameters: {'n_1': 0.45274221721227437, 'n_2': 0.08698958296107684, 'n_3': 0.5094140726664277}. Best is trial 341 with value: 0.369709391948425.\u001b[0m\n",
      "\u001b[32m[I 2021-06-23 19:14:43,076]\u001b[0m Trial 479 finished with value: 0.389446482015648 and parameters: {'n_1': 0.4824028194577179, 'n_2': 0.03470304235093722, 'n_3': 0.5648745094724542}. Best is trial 341 with value: 0.369709391948425.\u001b[0m\n",
      "\u001b[32m[I 2021-06-23 19:14:43,089]\u001b[0m Trial 480 finished with value: 0.3837380780360082 and parameters: {'n_1': 0.5075210989368247, 'n_2': 0.01755123506298559, 'n_3': 0.5446304566624784}. Best is trial 341 with value: 0.369709391948425.\u001b[0m\n",
      "\u001b[32m[I 2021-06-23 19:14:43,101]\u001b[0m Trial 481 finished with value: 0.37421683993014043 and parameters: {'n_1': 0.46263116635206, 'n_2': 0.0005017385524676283, 'n_3': 0.4904550046178222}. Best is trial 341 with value: 0.369709391948425.\u001b[0m\n",
      "\u001b[32m[I 2021-06-23 19:14:43,113]\u001b[0m Trial 482 finished with value: 0.3750193507441277 and parameters: {'n_1': 0.5197089061121051, 'n_2': 0.0012134464089244683, 'n_3': 0.521700239982916}. Best is trial 341 with value: 0.369709391948425.\u001b[0m\n",
      "\u001b[32m[I 2021-06-23 19:14:43,125]\u001b[0m Trial 483 finished with value: 0.38743506986213316 and parameters: {'n_1': 0.4217018138905175, 'n_2': 0.00038363287653843045, 'n_3': 0.48843884689094036}. Best is trial 341 with value: 0.369709391948425.\u001b[0m\n",
      "\u001b[32m[I 2021-06-23 19:14:43,137]\u001b[0m Trial 484 finished with value: 0.3839218867497714 and parameters: {'n_1': 0.4902860985482647, 'n_2': 0.035122307086584065, 'n_3': 0.5425986170336313}. Best is trial 341 with value: 0.369709391948425.\u001b[0m\n",
      "\u001b[32m[I 2021-06-23 19:14:43,150]\u001b[0m Trial 485 finished with value: 0.38473747569034206 and parameters: {'n_1': 0.5447065802362937, 'n_2': 0.017891445300895096, 'n_3': 0.5109586254063896}. Best is trial 341 with value: 0.369709391948425.\u001b[0m\n",
      "\u001b[32m[I 2021-06-23 19:14:43,162]\u001b[0m Trial 486 finished with value: 0.38752698093329696 and parameters: {'n_1': 0.4454034372878856, 'n_2': 0.0004490197133040015, 'n_3': 0.46529760383419705}. Best is trial 341 with value: 0.369709391948425.\u001b[0m\n",
      "\u001b[32m[I 2021-06-23 19:14:43,174]\u001b[0m Trial 487 finished with value: 0.38059295841668617 and parameters: {'n_1': 0.47135067804316344, 'n_2': 0.05676760094089043, 'n_3': 0.5261411851008957}. Best is trial 341 with value: 0.369709391948425.\u001b[0m\n",
      "\u001b[32m[I 2021-06-23 19:14:43,187]\u001b[0m Trial 488 finished with value: 0.3794913608139318 and parameters: {'n_1': 0.4988296449780562, 'n_2': 0.0007061399262818267, 'n_3': 0.5587202974015868}. Best is trial 341 with value: 0.369709391948425.\u001b[0m\n",
      "\u001b[32m[I 2021-06-23 19:14:43,199]\u001b[0m Trial 489 finished with value: 0.3726606003762231 and parameters: {'n_1': 0.516064672004894, 'n_2': 0.020410961976767884, 'n_3': 0.43708136336707865}. Best is trial 341 with value: 0.369709391948425.\u001b[0m\n",
      "\u001b[32m[I 2021-06-23 19:14:43,212]\u001b[0m Trial 490 finished with value: 0.3723708834217414 and parameters: {'n_1': 0.4782688704621754, 'n_2': 0.03821526267021079, 'n_3': 0.4976514037045003}. Best is trial 341 with value: 0.369709391948425.\u001b[0m\n",
      "\u001b[32m[I 2021-06-23 19:14:43,224]\u001b[0m Trial 491 finished with value: 0.37435865353701575 and parameters: {'n_1': 0.4564541686121427, 'n_2': 0.019292416458718927, 'n_3': 0.4829213329510504}. Best is trial 341 with value: 0.369709391948425.\u001b[0m\n",
      "\u001b[32m[I 2021-06-23 19:14:43,236]\u001b[0m Trial 492 finished with value: 0.3787377068275654 and parameters: {'n_1': 0.4354985307906207, 'n_2': 0.07440974154995987, 'n_3': 0.5320550224776359}. Best is trial 341 with value: 0.369709391948425.\u001b[0m\n",
      "\u001b[32m[I 2021-06-23 19:14:43,249]\u001b[0m Trial 493 finished with value: 0.40569599590531286 and parameters: {'n_1': 0.5581190816831569, 'n_2': 0.050557816748998494, 'n_3': 0.5088820461725214}. Best is trial 341 with value: 0.369709391948425.\u001b[0m\n",
      "\u001b[32m[I 2021-06-23 19:14:43,262]\u001b[0m Trial 494 finished with value: 0.3934610176606637 and parameters: {'n_1': 0.5012628305691427, 'n_2': 0.019580881692796908, 'n_3': 0.5718636528742554}. Best is trial 341 with value: 0.369709391948425.\u001b[0m\n",
      "\u001b[32m[I 2021-06-23 19:14:43,275]\u001b[0m Trial 495 finished with value: 0.38805005774706863 and parameters: {'n_1': 0.5327988397059318, 'n_2': 0.0011270220501949225, 'n_3': 0.3813550749628901}. Best is trial 341 with value: 0.369709391948425.\u001b[0m\n",
      "\u001b[32m[I 2021-06-23 19:14:43,288]\u001b[0m Trial 496 finished with value: 0.3778918127169986 and parameters: {'n_1': 0.48602227498031014, 'n_2': 0.00013844401143013867, 'n_3': 0.45402640566928987}. Best is trial 341 with value: 0.369709391948425.\u001b[0m\n",
      "\u001b[32m[I 2021-06-23 19:14:43,301]\u001b[0m Trial 497 finished with value: 0.37065873561757023 and parameters: {'n_1': 0.4692352421745715, 'n_2': 0.0006665308742448817, 'n_3': 0.5445229409028307}. Best is trial 341 with value: 0.369709391948425.\u001b[0m\n",
      "\u001b[32m[I 2021-06-23 19:14:43,314]\u001b[0m Trial 498 finished with value: 0.37280986919301073 and parameters: {'n_1': 0.5194527774159691, 'n_2': 0.0004650640039761737, 'n_3': 0.5120233424305397}. Best is trial 341 with value: 0.369709391948425.\u001b[0m\n",
      "\u001b[32m[I 2021-06-23 19:14:43,327]\u001b[0m Trial 499 finished with value: 0.7145559447263131 and parameters: {'n_1': 0.4258759291324845, 'n_2': 0.6133397167128378, 'n_3': 0.40946923554983994}. Best is trial 341 with value: 0.369709391948425.\u001b[0m\n",
      "\u001b[32m[I 2021-06-23 19:14:43,339]\u001b[0m Trial 500 finished with value: 0.7469270533078066 and parameters: {'n_1': 0.5006900343023386, 'n_2': 0.03519724759395372, 'n_3': 0.0003313373671006148}. Best is trial 341 with value: 0.369709391948425.\u001b[0m\n",
      "\u001b[32m[I 2021-06-23 19:14:43,352]\u001b[0m Trial 501 finished with value: 0.3752447966910026 and parameters: {'n_1': 0.4523128135980389, 'n_2': 0.019104706227968244, 'n_3': 0.4827262090084102}. Best is trial 341 with value: 0.369709391948425.\u001b[0m\n",
      "\u001b[32m[I 2021-06-23 19:14:43,364]\u001b[0m Trial 502 finished with value: 0.3723428328654136 and parameters: {'n_1': 0.47811998907629294, 'n_2': 0.0005442239961187395, 'n_3': 0.5489933199707797}. Best is trial 341 with value: 0.369709391948425.\u001b[0m\n",
      "\u001b[32m[I 2021-06-23 19:14:43,377]\u001b[0m Trial 503 finished with value: 0.3931484752170403 and parameters: {'n_1': 0.5309183940671284, 'n_2': 0.037852543499434614, 'n_3': 0.5235146099217758}. Best is trial 341 with value: 0.369709391948425.\u001b[0m\n",
      "\u001b[32m[I 2021-06-23 19:14:43,389]\u001b[0m Trial 504 finished with value: 0.3716003297424759 and parameters: {'n_1': 0.46030056548028275, 'n_2': 0.01924410961995757, 'n_3': 0.49809103730349064}. Best is trial 341 with value: 0.369709391948425.\u001b[0m\n",
      "\u001b[32m[I 2021-06-23 19:14:43,402]\u001b[0m Trial 505 finished with value: 0.41873254460697834 and parameters: {'n_1': 0.5679121406550154, 'n_2': 0.10698143711305506, 'n_3': 0.4634437708340951}. Best is trial 341 with value: 0.369709391948425.\u001b[0m\n",
      "\u001b[32m[I 2021-06-23 19:14:43,415]\u001b[0m Trial 506 finished with value: 0.41526139096409304 and parameters: {'n_1': 0.5021991442435306, 'n_2': 0.058806370447976465, 'n_3': 0.5707442156762614}. Best is trial 341 with value: 0.369709391948425.\u001b[0m\n",
      "\u001b[32m[I 2021-06-23 19:14:43,427]\u001b[0m Trial 507 finished with value: 0.9823105463676822 and parameters: {'n_1': 0.44376361366275763, 'n_2': 0.7084703552135424, 'n_3': 0.5218328943494933}. Best is trial 341 with value: 0.369709391948425.\u001b[0m\n",
      "\u001b[32m[I 2021-06-23 19:14:43,440]\u001b[0m Trial 508 finished with value: 0.5375040104876792 and parameters: {'n_1': 0.483373625183791, 'n_2': 0.3076323209819077, 'n_3': 0.4901151843267874}. Best is trial 341 with value: 0.369709391948425.\u001b[0m\n",
      "\u001b[32m[I 2021-06-23 19:14:43,452]\u001b[0m Trial 509 finished with value: 0.3775559191652685 and parameters: {'n_1': 0.5065919195753609, 'n_2': 0.0004312378017066283, 'n_3': 0.5451312740062146}. Best is trial 341 with value: 0.369709391948425.\u001b[0m\n",
      "\u001b[32m[I 2021-06-23 19:14:43,465]\u001b[0m Trial 510 finished with value: 1.327741000550846 and parameters: {'n_1': 0.5469151242156057, 'n_2': 0.9740097634574483, 'n_3': 0.43404582444589573}. Best is trial 341 with value: 0.369709391948425.\u001b[0m\n"
     ]
    },
    {
     "name": "stderr",
     "output_type": "stream",
     "text": [
      "\u001b[32m[I 2021-06-23 19:14:43,478]\u001b[0m Trial 511 finished with value: 0.3735381510362095 and parameters: {'n_1': 0.5217331041859149, 'n_2': 0.03547733293339472, 'n_3': 0.4690845166037113}. Best is trial 341 with value: 0.369709391948425.\u001b[0m\n",
      "\u001b[32m[I 2021-06-23 19:14:43,491]\u001b[0m Trial 512 finished with value: 0.37875170774791606 and parameters: {'n_1': 0.42423979454615257, 'n_2': 0.0008638148271055166, 'n_3': 0.5098914842005042}. Best is trial 341 with value: 0.369709391948425.\u001b[0m\n",
      "\u001b[32m[I 2021-06-23 19:14:43,504]\u001b[0m Trial 513 finished with value: 0.3716509966148016 and parameters: {'n_1': 0.4622875776756905, 'n_2': 0.02016946336058943, 'n_3': 0.5324820516115751}. Best is trial 341 with value: 0.369709391948425.\u001b[0m\n",
      "\u001b[32m[I 2021-06-23 19:14:43,516]\u001b[0m Trial 514 finished with value: 0.3706677406626662 and parameters: {'n_1': 0.48996424515837456, 'n_2': 0.018582919817561213, 'n_3': 0.48746251238458993}. Best is trial 341 with value: 0.369709391948425.\u001b[0m\n",
      "\u001b[32m[I 2021-06-23 19:14:43,529]\u001b[0m Trial 515 finished with value: 0.4284023129390381 and parameters: {'n_1': 0.5963596618440714, 'n_2': 0.0001483810951193879, 'n_3': 0.5593150919208482}. Best is trial 341 with value: 0.369709391948425.\u001b[0m\n",
      "\u001b[32m[I 2021-06-23 19:14:43,543]\u001b[0m Trial 516 finished with value: 0.3760312248098259 and parameters: {'n_1': 0.4744451729396546, 'n_2': 0.05587989379206065, 'n_3': 0.5047037469297471}. Best is trial 341 with value: 0.369709391948425.\u001b[0m\n",
      "\u001b[32m[I 2021-06-23 19:14:43,557]\u001b[0m Trial 517 finished with value: 1.058921317745797 and parameters: {'n_1': 0.43826677685598725, 'n_2': 0.8515328363349723, 'n_3': 0.4485465737338344}. Best is trial 341 with value: 0.369709391948425.\u001b[0m\n",
      "\u001b[32m[I 2021-06-23 19:14:43,570]\u001b[0m Trial 518 finished with value: 0.3824185903729025 and parameters: {'n_1': 0.5390993595365724, 'n_2': 7.846656616604039e-05, 'n_3': 0.5293174385275569}. Best is trial 341 with value: 0.369709391948425.\u001b[0m\n",
      "\u001b[32m[I 2021-06-23 19:14:43,583]\u001b[0m Trial 519 finished with value: 0.3735343430075737 and parameters: {'n_1': 0.5134976910439685, 'n_2': 0.03500851942827183, 'n_3': 0.47802599624895065}. Best is trial 341 with value: 0.369709391948425.\u001b[0m\n",
      "\u001b[32m[I 2021-06-23 19:14:43,596]\u001b[0m Trial 520 finished with value: 0.3872572193521297 and parameters: {'n_1': 0.49308364884962536, 'n_2': 0.016500036503790047, 'n_3': 0.5687074440389919}. Best is trial 341 with value: 0.369709391948425.\u001b[0m\n",
      "\u001b[32m[I 2021-06-23 19:14:43,609]\u001b[0m Trial 521 finished with value: 0.3703801934669177 and parameters: {'n_1': 0.46197442679343215, 'n_2': 0.0005371739760307919, 'n_3': 0.5165895441373198}. Best is trial 341 with value: 0.369709391948425.\u001b[0m\n",
      "\u001b[32m[I 2021-06-23 19:14:43,621]\u001b[0m Trial 522 finished with value: 0.3718171452554297 and parameters: {'n_1': 0.41593788656383557, 'n_2': 0.034681623050822626, 'n_3': 0.5463128772709439}. Best is trial 341 with value: 0.369709391948425.\u001b[0m\n",
      "\u001b[32m[I 2021-06-23 19:14:43,634]\u001b[0m Trial 523 finished with value: 0.37062233759079155 and parameters: {'n_1': 0.48292256918338716, 'n_2': 0.0179642149383013, 'n_3': 0.4985956215323278}. Best is trial 341 with value: 0.369709391948425.\u001b[0m\n",
      "\u001b[32m[I 2021-06-23 19:14:43,647]\u001b[0m Trial 524 finished with value: 0.37413480942886024 and parameters: {'n_1': 0.44759131274950203, 'n_2': 0.07599841582492879, 'n_3': 0.4666289405103268}. Best is trial 341 with value: 0.369709391948425.\u001b[0m\n",
      "\u001b[32m[I 2021-06-23 19:14:43,660]\u001b[0m Trial 525 finished with value: 0.40017394054498057 and parameters: {'n_1': 0.522678601024288, 'n_2': 0.0483699680332269, 'n_3': 0.53505284770445}. Best is trial 341 with value: 0.369709391948425.\u001b[0m\n",
      "\u001b[32m[I 2021-06-23 19:14:43,673]\u001b[0m Trial 526 finished with value: 0.41608938423760256 and parameters: {'n_1': 0.632129048177693, 'n_2': 0.0007827750833193101, 'n_3': 0.50516747954734}. Best is trial 341 with value: 0.369709391948425.\u001b[0m\n",
      "\u001b[32m[I 2021-06-23 19:14:43,687]\u001b[0m Trial 527 finished with value: 0.3721090780384096 and parameters: {'n_1': 0.5017013876521378, 'n_2': 0.0006411877414648512, 'n_3': 0.5249568566740649}. Best is trial 341 with value: 0.369709391948425.\u001b[0m\n",
      "\u001b[32m[I 2021-06-23 19:14:43,700]\u001b[0m Trial 528 finished with value: 0.3786302710765866 and parameters: {'n_1': 0.5517178770033495, 'n_2': 0.020032630174065296, 'n_3': 0.48271287233358123}. Best is trial 341 with value: 0.369709391948425.\u001b[0m\n",
      "\u001b[32m[I 2021-06-23 19:14:43,713]\u001b[0m Trial 529 finished with value: 1.136446031248579 and parameters: {'n_1': 0.4732040813659155, 'n_2': 0.7629199354404644, 'n_3': 0.5618925821692182}. Best is trial 341 with value: 0.369709391948425.\u001b[0m\n",
      "\u001b[32m[I 2021-06-23 19:14:43,727]\u001b[0m Trial 530 finished with value: 0.38001006858346 and parameters: {'n_1': 0.45134088067185785, 'n_2': 0.03750282374961309, 'n_3': 0.4515974345576391}. Best is trial 341 with value: 0.369709391948425.\u001b[0m\n",
      "\u001b[32m[I 2021-06-23 19:14:43,740]\u001b[0m Trial 531 finished with value: 0.3801078402281036 and parameters: {'n_1': 0.515168221684196, 'n_2': 0.0009680396562837439, 'n_3': 0.5447052541751142}. Best is trial 341 with value: 0.369709391948425.\u001b[0m\n",
      "\u001b[32m[I 2021-06-23 19:14:43,752]\u001b[0m Trial 532 finished with value: 0.386065605434673 and parameters: {'n_1': 0.5779912013409769, 'n_2': 0.0004897318725338645, 'n_3': 0.5004632573332137}. Best is trial 341 with value: 0.369709391948425.\u001b[0m\n",
      "\u001b[32m[I 2021-06-23 19:14:43,766]\u001b[0m Trial 533 finished with value: 0.3731804602733921 and parameters: {'n_1': 0.48721378850866615, 'n_2': 0.019451758773000084, 'n_3': 0.5217591055979613}. Best is trial 341 with value: 0.369709391948425.\u001b[0m\n",
      "\u001b[32m[I 2021-06-23 19:14:43,779]\u001b[0m Trial 534 finished with value: 0.3766326138354462 and parameters: {'n_1': 0.43340190282145374, 'n_2': 0.04770023288656637, 'n_3': 0.4750431408285456}. Best is trial 341 with value: 0.369709391948425.\u001b[0m\n",
      "\u001b[32m[I 2021-06-23 19:14:43,792]\u001b[0m Trial 535 finished with value: 0.38709648240075145 and parameters: {'n_1': 0.47334329608956205, 'n_2': 0.019204364019517705, 'n_3': 0.42457178419497554}. Best is trial 341 with value: 0.369709391948425.\u001b[0m\n",
      "\u001b[32m[I 2021-06-23 19:14:43,805]\u001b[0m Trial 536 finished with value: 0.41993968807152804 and parameters: {'n_1': 0.5304590731328007, 'n_2': 0.03742954147800826, 'n_3': 0.5728099857598927}. Best is trial 341 with value: 0.369709391948425.\u001b[0m\n",
      "\u001b[32m[I 2021-06-23 19:14:43,818]\u001b[0m Trial 537 finished with value: 0.37152147039200295 and parameters: {'n_1': 0.5013767683126609, 'n_2': 0.019631953597817334, 'n_3': 0.4944825672583742}. Best is trial 341 with value: 0.369709391948425.\u001b[0m\n",
      "\u001b[32m[I 2021-06-23 19:14:43,831]\u001b[0m Trial 538 finished with value: 0.3720540273867279 and parameters: {'n_1': 0.4593975061862267, 'n_2': 0.01893160197439794, 'n_3': 0.5405903034238991}. Best is trial 341 with value: 0.369709391948425.\u001b[0m\n",
      "\u001b[32m[I 2021-06-23 19:14:43,843]\u001b[0m Trial 539 finished with value: 0.3875890852095229 and parameters: {'n_1': 0.4901075698484235, 'n_2': 0.06682177363355263, 'n_3': 0.51840812770431}. Best is trial 341 with value: 0.369709391948425.\u001b[0m\n",
      "\u001b[32m[I 2021-06-23 19:14:43,857]\u001b[0m Trial 540 finished with value: 0.3812969438785298 and parameters: {'n_1': 0.5585648709472358, 'n_2': 0.03777630931446315, 'n_3': 0.4650046167996332}. Best is trial 341 with value: 0.369709391948425.\u001b[0m\n",
      "\u001b[32m[I 2021-06-23 19:14:43,870]\u001b[0m Trial 541 finished with value: 0.40392996335770115 and parameters: {'n_1': 0.41609752532526395, 'n_2': 0.18478766684623604, 'n_3': 0.5003257237949469}. Best is trial 341 with value: 0.369709391948425.\u001b[0m\n",
      "\u001b[32m[I 2021-06-23 19:14:43,882]\u001b[0m Trial 542 finished with value: 0.3891057504515805 and parameters: {'n_1': 0.5363460006883767, 'n_2': 0.00014958548966974424, 'n_3': 0.548887425746673}. Best is trial 341 with value: 0.369709391948425.\u001b[0m\n",
      "\u001b[32m[I 2021-06-23 19:14:43,895]\u001b[0m Trial 543 finished with value: 0.3898006652756463 and parameters: {'n_1': 0.4650470425923917, 'n_2': 0.0012114661941015025, 'n_3': 0.4406394153218491}. Best is trial 341 with value: 0.369709391948425.\u001b[0m\n",
      "\u001b[32m[I 2021-06-23 19:14:43,909]\u001b[0m Trial 544 finished with value: 0.3723175409266654 and parameters: {'n_1': 0.44052268972272224, 'n_2': 0.0006733053815946585, 'n_3': 0.521946586866339}. Best is trial 341 with value: 0.369709391948425.\u001b[0m\n"
     ]
    },
    {
     "name": "stderr",
     "output_type": "stream",
     "text": [
      "\u001b[32m[I 2021-06-23 19:14:43,927]\u001b[0m Trial 545 finished with value: 0.3697857745291412 and parameters: {'n_1': 0.5136561520159892, 'n_2': 0.0006699000876942164, 'n_3': 0.48383079099274645}. Best is trial 341 with value: 0.369709391948425.\u001b[0m\n",
      "\u001b[32m[I 2021-06-23 19:14:43,944]\u001b[0m Trial 546 finished with value: 0.36985269545692506 and parameters: {'n_1': 0.5055892436477362, 'n_2': 8.719225160295965e-05, 'n_3': 0.48437650206776034}. Best is trial 341 with value: 0.369709391948425.\u001b[0m\n",
      "\u001b[32m[I 2021-06-23 19:14:43,956]\u001b[0m Trial 547 finished with value: 0.3729282820526254 and parameters: {'n_1': 0.5129440994377751, 'n_2': 0.029158249558363724, 'n_3': 0.4820088722518205}. Best is trial 341 with value: 0.369709391948425.\u001b[0m\n",
      "\u001b[32m[I 2021-06-23 19:14:43,970]\u001b[0m Trial 548 finished with value: 0.3733453356247082 and parameters: {'n_1': 0.48008874774839977, 'n_2': 0.05334723577780669, 'n_3': 0.4830199020352235}. Best is trial 341 with value: 0.369709391948425.\u001b[0m\n",
      "\u001b[32m[I 2021-06-23 19:14:43,983]\u001b[0m Trial 549 finished with value: 0.3709320043744943 and parameters: {'n_1': 0.5068121643110036, 'n_2': 0.00044855341318542313, 'n_3': 0.5115191005843127}. Best is trial 341 with value: 0.369709391948425.\u001b[0m\n",
      "\u001b[32m[I 2021-06-23 19:14:43,996]\u001b[0m Trial 550 finished with value: 0.3697851577326653 and parameters: {'n_1': 0.46445870489449614, 'n_2': 0.0006726066074422244, 'n_3': 0.5351488284616981}. Best is trial 341 with value: 0.369709391948425.\u001b[0m\n",
      "\u001b[32m[I 2021-06-23 19:14:44,010]\u001b[0m Trial 551 finished with value: 0.3751584803503885 and parameters: {'n_1': 0.44655334756392057, 'n_2': 0.018660326548661836, 'n_3': 0.5712610698815049}. Best is trial 341 with value: 0.369709391948425.\u001b[0m\n",
      "\u001b[32m[I 2021-06-23 19:14:44,024]\u001b[0m Trial 552 finished with value: 0.3708035368954281 and parameters: {'n_1': 0.46258973703749307, 'n_2': 0.0001965579773557173, 'n_3': 0.5526529160644734}. Best is trial 341 with value: 0.369709391948425.\u001b[0m\n",
      "\u001b[32m[I 2021-06-23 19:14:44,036]\u001b[0m Trial 553 finished with value: 0.371809344815675 and parameters: {'n_1': 0.4224542196671497, 'n_2': 0.03223184173878592, 'n_3': 0.5315792214355226}. Best is trial 341 with value: 0.369709391948425.\u001b[0m\n",
      "\u001b[32m[I 2021-06-23 19:14:44,051]\u001b[0m Trial 554 finished with value: 0.3789391024807093 and parameters: {'n_1': 0.4776097005885631, 'n_2': 0.018350428684973698, 'n_3': 0.5575739444001483}. Best is trial 341 with value: 0.369709391948425.\u001b[0m\n",
      "\u001b[32m[I 2021-06-23 19:14:44,065]\u001b[0m Trial 555 finished with value: 0.49243267764851373 and parameters: {'n_1': 0.44362100721869685, 'n_2': 0.25321457611859666, 'n_3': 0.5332012187614246}. Best is trial 341 with value: 0.369709391948425.\u001b[0m\n",
      "\u001b[32m[I 2021-06-23 19:14:44,080]\u001b[0m Trial 556 finished with value: 0.3938303064128474 and parameters: {'n_1': 0.4634547559386393, 'n_2': 0.05087019650570124, 'n_3': 0.5757892012165996}. Best is trial 341 with value: 0.369709391948425.\u001b[0m\n",
      "\u001b[32m[I 2021-06-23 19:14:44,094]\u001b[0m Trial 557 finished with value: 0.3698008359402936 and parameters: {'n_1': 0.48854111502291414, 'n_2': 0.000871463055147926, 'n_3': 0.5132200096001618}. Best is trial 341 with value: 0.369709391948425.\u001b[0m\n",
      "\u001b[32m[I 2021-06-23 19:14:44,108]\u001b[0m Trial 558 finished with value: 0.37112517817784835 and parameters: {'n_1': 0.48850618266550083, 'n_2': 0.01777718227311893, 'n_3': 0.5053427828007891}. Best is trial 341 with value: 0.369709391948425.\u001b[0m\n",
      "\u001b[32m[I 2021-06-23 19:14:44,121]\u001b[0m Trial 559 finished with value: 0.3980770731179376 and parameters: {'n_1': 0.5002447753626614, 'n_2': 0.0837600923649635, 'n_3': 0.5152674793325424}. Best is trial 341 with value: 0.369709391948425.\u001b[0m\n",
      "\u001b[32m[I 2021-06-23 19:14:44,134]\u001b[0m Trial 560 finished with value: 0.37208017355572337 and parameters: {'n_1': 0.48516708191290553, 'n_2': 0.03371271733601138, 'n_3': 0.49467977462972923}. Best is trial 341 with value: 0.369709391948425.\u001b[0m\n",
      "\u001b[32m[I 2021-06-23 19:14:44,148]\u001b[0m Trial 561 finished with value: 0.37849419322268835 and parameters: {'n_1': 0.5159365011016661, 'n_2': 6.265988537246443e-05, 'n_3': 0.5397719394740638}. Best is trial 341 with value: 0.369709391948425.\u001b[0m\n",
      "\u001b[32m[I 2021-06-23 19:14:44,162]\u001b[0m Trial 562 finished with value: 0.3710757969959404 and parameters: {'n_1': 0.47354903964509987, 'n_2': 0.016554084585000975, 'n_3': 0.5210153184702138}. Best is trial 341 with value: 0.369709391948425.\u001b[0m\n",
      "\u001b[32m[I 2021-06-23 19:14:44,175]\u001b[0m Trial 563 finished with value: 1.2383256541426564 and parameters: {'n_1': 0.5042990773678216, 'n_2': 0.887089754016875, 'n_3': 0.49054720613268166}. Best is trial 341 with value: 0.369709391948425.\u001b[0m\n",
      "\u001b[32m[I 2021-06-23 19:14:44,188]\u001b[0m Trial 564 finished with value: 0.38546623258522483 and parameters: {'n_1': 0.46779656756350996, 'n_2': 0.05284772812120048, 'n_3': 0.549046408487899}. Best is trial 341 with value: 0.369709391948425.\u001b[0m\n",
      "\u001b[32m[I 2021-06-23 19:14:44,201]\u001b[0m Trial 565 finished with value: 0.3757920708228227 and parameters: {'n_1': 0.48868615540958205, 'n_2': 0.0008815364298951887, 'n_3': 0.45873578915791996}. Best is trial 341 with value: 0.369709391948425.\u001b[0m\n",
      "\u001b[32m[I 2021-06-23 19:14:44,215]\u001b[0m Trial 566 finished with value: 0.37332217288782604 and parameters: {'n_1': 0.42982249493457286, 'n_2': 0.032154326332762606, 'n_3': 0.5073359348320747}. Best is trial 341 with value: 0.369709391948425.\u001b[0m\n",
      "\u001b[32m[I 2021-06-23 19:14:44,228]\u001b[0m Trial 567 finished with value: 0.3703809910561506 and parameters: {'n_1': 0.4534078455315149, 'n_2': 0.00045673192476919713, 'n_3': 0.5251699154739881}. Best is trial 341 with value: 0.369709391948425.\u001b[0m\n",
      "\u001b[32m[I 2021-06-23 19:14:44,241]\u001b[0m Trial 568 finished with value: 0.3843318951748025 and parameters: {'n_1': 0.5135930226824315, 'n_2': 0.0009377466606701617, 'n_3': 0.5582440825726069}. Best is trial 341 with value: 0.369709391948425.\u001b[0m\n",
      "\u001b[32m[I 2021-06-23 19:14:44,255]\u001b[0m Trial 569 finished with value: 0.3751342079129077 and parameters: {'n_1': 0.4901335833297082, 'n_2': 0.06679717776232265, 'n_3': 0.4695822641854304}. Best is trial 341 with value: 0.369709391948425.\u001b[0m\n",
      "\u001b[32m[I 2021-06-23 19:14:44,272]\u001b[0m Trial 570 finished with value: 0.9312001062383999 and parameters: {'n_1': 0.4682512272064246, 'n_2': 0.6730249413350402, 'n_3': 0.4919978155717625}. Best is trial 341 with value: 0.369709391948425.\u001b[0m\n",
      "\u001b[32m[I 2021-06-23 19:14:44,288]\u001b[0m Trial 571 finished with value: 0.37350671519437767 and parameters: {'n_1': 0.4993517039355328, 'n_2': 0.0006542378137345132, 'n_3': 0.5350376821005861}. Best is trial 341 with value: 0.369709391948425.\u001b[0m\n",
      "\u001b[32m[I 2021-06-23 19:14:44,303]\u001b[0m Trial 572 finished with value: 0.37347062110920065 and parameters: {'n_1': 0.5188500923481025, 'n_2': 0.000277978311016577, 'n_3': 0.516391237027776}. Best is trial 341 with value: 0.369709391948425.\u001b[0m\n",
      "\u001b[32m[I 2021-06-23 19:14:44,325]\u001b[0m Trial 573 finished with value: 0.3804386485476251 and parameters: {'n_1': 0.445165642700618, 'n_2': 0.032610771543711656, 'n_3': 0.5771899926790443}. Best is trial 341 with value: 0.369709391948425.\u001b[0m\n",
      "\u001b[32m[I 2021-06-23 19:14:44,346]\u001b[0m Trial 574 finished with value: 0.3708486607815145 and parameters: {'n_1': 0.4756290433251541, 'n_2': 0.01968886474072817, 'n_3': 0.49420399525935277}. Best is trial 341 with value: 0.369709391948425.\u001b[0m\n",
      "\u001b[32m[I 2021-06-23 19:14:44,361]\u001b[0m Trial 575 finished with value: 0.4033639258323398 and parameters: {'n_1': 0.5465452823940325, 'n_2': 0.021345032258987196, 'n_3': 0.5460336610601064}. Best is trial 341 with value: 0.369709391948425.\u001b[0m\n",
      "\u001b[32m[I 2021-06-23 19:14:44,375]\u001b[0m Trial 576 finished with value: 0.3834275705168909 and parameters: {'n_1': 0.41314570798729816, 'n_2': 0.047774533102211615, 'n_3': 0.4696329923952357}. Best is trial 341 with value: 0.369709391948425.\u001b[0m\n",
      "\u001b[32m[I 2021-06-23 19:14:44,391]\u001b[0m Trial 577 finished with value: 0.37214393298207094 and parameters: {'n_1': 0.4901582625331489, 'n_2': 0.017173739316223572, 'n_3': 0.5147365472036771}. Best is trial 341 with value: 0.369709391948425.\u001b[0m\n",
      "\u001b[32m[I 2021-06-23 19:14:44,406]\u001b[0m Trial 578 finished with value: 0.3750130183768201 and parameters: {'n_1': 0.4641292418648576, 'n_2': 0.03538817416437619, 'n_3': 0.5342754565097388}. Best is trial 341 with value: 0.369709391948425.\u001b[0m\n"
     ]
    },
    {
     "name": "stderr",
     "output_type": "stream",
     "text": [
      "\u001b[32m[I 2021-06-23 19:14:44,421]\u001b[0m Trial 579 finished with value: 0.37110075910116624 and parameters: {'n_1': 0.5212104722859361, 'n_2': 0.001870962810702607, 'n_3': 0.4966174446405022}. Best is trial 341 with value: 0.369709391948425.\u001b[0m\n",
      "\u001b[32m[I 2021-06-23 19:14:44,436]\u001b[0m Trial 580 finished with value: 0.37201743605330656 and parameters: {'n_1': 0.43711993164220014, 'n_2': 0.019995654250075087, 'n_3': 0.5588099415308769}. Best is trial 341 with value: 0.369709391948425.\u001b[0m\n",
      "\u001b[32m[I 2021-06-23 19:14:44,449]\u001b[0m Trial 581 finished with value: 0.6998221280283434 and parameters: {'n_1': 0.501562028688172, 'n_2': 0.4850857873844166, 'n_3': 0.45047972475099846}. Best is trial 341 with value: 0.369709391948425.\u001b[0m\n",
      "\u001b[32m[I 2021-06-23 19:14:44,463]\u001b[0m Trial 582 finished with value: 0.37401464665717554 and parameters: {'n_1': 0.474052936332655, 'n_2': 0.0009178928539367805, 'n_3': 0.48020135711222506}. Best is trial 341 with value: 0.369709391948425.\u001b[0m\n",
      "\u001b[32m[I 2021-06-23 19:14:44,479]\u001b[0m Trial 583 finished with value: 0.3756187053474181 and parameters: {'n_1': 0.5343967450376655, 'n_2': 0.0004915649006391688, 'n_3': 0.5106738642621995}. Best is trial 341 with value: 0.369709391948425.\u001b[0m\n",
      "\u001b[32m[I 2021-06-23 19:14:44,493]\u001b[0m Trial 584 finished with value: 0.6137384235052856 and parameters: {'n_1': 0.45260436751786237, 'n_2': 0.048065714397431285, 'n_3': 0.14812755945046363}. Best is trial 341 with value: 0.369709391948425.\u001b[0m\n",
      "\u001b[32m[I 2021-06-23 19:14:44,508]\u001b[0m Trial 585 finished with value: 0.37104685637497326 and parameters: {'n_1': 0.4887455760695404, 'n_2': 0.0006745036752096648, 'n_3': 0.5297272975748337}. Best is trial 341 with value: 0.369709391948425.\u001b[0m\n",
      "\u001b[32m[I 2021-06-23 19:14:44,522]\u001b[0m Trial 586 finished with value: 0.3959714742110818 and parameters: {'n_1': 0.5098138173067143, 'n_2': 0.018306130667253707, 'n_3': 0.570258801585469}. Best is trial 341 with value: 0.369709391948425.\u001b[0m\n",
      "\u001b[32m[I 2021-06-23 19:14:44,537]\u001b[0m Trial 587 finished with value: 0.3727298956649767 and parameters: {'n_1': 0.45964292219644926, 'n_2': 0.000558986118655673, 'n_3': 0.5008521810058879}. Best is trial 341 with value: 0.369709391948425.\u001b[0m\n",
      "\u001b[32m[I 2021-06-23 19:14:44,551]\u001b[0m Trial 588 finished with value: 0.37277816095524113 and parameters: {'n_1': 0.4314776986600089, 'n_2': 0.03625427575086223, 'n_3': 0.547780311834374}. Best is trial 341 with value: 0.369709391948425.\u001b[0m\n",
      "\u001b[32m[I 2021-06-23 19:14:44,566]\u001b[0m Trial 589 finished with value: 0.3746369167150233 and parameters: {'n_1': 0.48153724402380166, 'n_2': 0.07013918523419965, 'n_3': 0.4690213838559967}. Best is trial 341 with value: 0.369709391948425.\u001b[0m\n",
      "\u001b[32m[I 2021-06-23 19:14:44,581]\u001b[0m Trial 590 finished with value: 0.3770614066316306 and parameters: {'n_1': 0.5250985392164529, 'n_2': 2.910706104459126e-05, 'n_3': 0.5259120858785791}. Best is trial 341 with value: 0.369709391948425.\u001b[0m\n",
      "\u001b[32m[I 2021-06-23 19:14:44,596]\u001b[0m Trial 591 finished with value: 0.3708063556450459 and parameters: {'n_1': 0.49746234539206735, 'n_2': 0.01807012713602865, 'n_3': 0.4901714822146204}. Best is trial 341 with value: 0.369709391948425.\u001b[0m\n",
      "\u001b[32m[I 2021-06-23 19:14:44,611]\u001b[0m Trial 592 finished with value: 0.371889623533135 and parameters: {'n_1': 0.45267316514953115, 'n_2': 0.03931312431315409, 'n_3': 0.5108121689879037}. Best is trial 341 with value: 0.369709391948425.\u001b[0m\n",
      "\u001b[32m[I 2021-06-23 19:14:44,626]\u001b[0m Trial 593 finished with value: 1.263935609542528 and parameters: {'n_1': 0.5500277561121414, 'n_2': 0.8100811108603179, 'n_3': 0.5409268989967886}. Best is trial 341 with value: 0.369709391948425.\u001b[0m\n",
      "\u001b[32m[I 2021-06-23 19:14:44,640]\u001b[0m Trial 594 finished with value: 0.3831415153374756 and parameters: {'n_1': 0.47396622859071674, 'n_2': 0.018801996731234432, 'n_3': 0.43474666928157385}. Best is trial 341 with value: 0.369709391948425.\u001b[0m\n",
      "\u001b[32m[I 2021-06-23 19:14:44,654]\u001b[0m Trial 595 finished with value: 0.3769481523090414 and parameters: {'n_1': 0.5055873802385039, 'n_2': 0.057502401463345745, 'n_3': 0.47721139070823926}. Best is trial 341 with value: 0.369709391948425.\u001b[0m\n",
      "\u001b[32m[I 2021-06-23 19:14:44,668]\u001b[0m Trial 596 finished with value: 0.37009213905366345 and parameters: {'n_1': 0.4178843097271431, 'n_2': 0.0009031807083558582, 'n_3': 0.5738215742479669}. Best is trial 341 with value: 0.369709391948425.\u001b[0m\n",
      "\u001b[32m[I 2021-06-23 19:14:44,683]\u001b[0m Trial 597 finished with value: 0.3698945462045365 and parameters: {'n_1': 0.48240149375786323, 'n_2': 0.0009371499733296712, 'n_3': 0.521388496494305}. Best is trial 341 with value: 0.369709391948425.\u001b[0m\n",
      "\u001b[32m[I 2021-06-23 19:14:44,699]\u001b[0m Trial 598 finished with value: 0.3702421555877333 and parameters: {'n_1': 0.43772163983553497, 'n_2': 0.0004951415706580327, 'n_3': 0.5434016402298966}. Best is trial 341 with value: 0.369709391948425.\u001b[0m\n",
      "\u001b[32m[I 2021-06-23 19:14:44,715]\u001b[0m Trial 599 finished with value: 0.3767370393207888 and parameters: {'n_1': 0.468889158635581, 'n_2': 0.03268644859192462, 'n_3': 0.45087464587520176}. Best is trial 341 with value: 0.369709391948425.\u001b[0m\n",
      "\u001b[32m[I 2021-06-23 19:14:44,730]\u001b[0m Trial 600 finished with value: 0.4479350651222009 and parameters: {'n_1': 0.5235283728442632, 'n_2': 0.0971759907521507, 'n_3': 0.5588800315175942}. Best is trial 341 with value: 0.369709391948425.\u001b[0m\n",
      "\u001b[32m[I 2021-06-23 19:14:44,745]\u001b[0m Trial 601 finished with value: 0.3720172659006084 and parameters: {'n_1': 0.45304544980998024, 'n_2': 0.023126034474883244, 'n_3': 0.49950388541961066}. Best is trial 341 with value: 0.369709391948425.\u001b[0m\n",
      "\u001b[32m[I 2021-06-23 19:14:44,760]\u001b[0m Trial 602 finished with value: 0.373818507619806 and parameters: {'n_1': 0.48651849823124527, 'n_2': 0.01756007776347158, 'n_3': 0.5284891268568292}. Best is trial 341 with value: 0.369709391948425.\u001b[0m\n",
      "\u001b[32m[I 2021-06-23 19:14:44,775]\u001b[0m Trial 603 finished with value: 0.36989969754450486 and parameters: {'n_1': 0.5081924941819023, 'n_2': 0.0005599590872843781, 'n_3': 0.48125924903398876}. Best is trial 341 with value: 0.369709391948425.\u001b[0m\n",
      "\u001b[32m[I 2021-06-23 19:14:44,790]\u001b[0m Trial 604 finished with value: 0.3896438033989577 and parameters: {'n_1': 0.5732668530919767, 'n_2': 0.04468293153200164, 'n_3': 0.4665209408198381}. Best is trial 341 with value: 0.369709391948425.\u001b[0m\n",
      "\u001b[32m[I 2021-06-23 19:14:44,805]\u001b[0m Trial 605 finished with value: 0.39758882566013154 and parameters: {'n_1': 0.5375648890129944, 'n_2': 0.00024649242433796647, 'n_3': 0.35727738413147037}. Best is trial 341 with value: 0.369709391948425.\u001b[0m\n",
      "\u001b[32m[I 2021-06-23 19:14:44,820]\u001b[0m Trial 606 finished with value: 0.3698015677622119 and parameters: {'n_1': 0.51723308983516, 'n_2': 0.0004236423263517783, 'n_3': 0.48191208809478314}. Best is trial 341 with value: 0.369709391948425.\u001b[0m\n",
      "\u001b[32m[I 2021-06-23 19:14:44,833]\u001b[0m Trial 607 finished with value: 0.41807122041896844 and parameters: {'n_1': 0.5528955412061839, 'n_2': 0.019408039631065594, 'n_3': 0.29166954041496074}. Best is trial 341 with value: 0.369709391948425.\u001b[0m\n",
      "\u001b[32m[I 2021-06-23 19:14:44,848]\u001b[0m Trial 608 finished with value: 0.38261293724197476 and parameters: {'n_1': 0.5236011510050311, 'n_2': 0.00042857531695153093, 'n_3': 0.40431133448551043}. Best is trial 341 with value: 0.369709391948425.\u001b[0m\n",
      "\u001b[32m[I 2021-06-23 19:14:44,871]\u001b[0m Trial 609 finished with value: 0.3720784658259854 and parameters: {'n_1': 0.5370013718652724, 'n_2': 0.03429918579411847, 'n_3': 0.4229144271822969}. Best is trial 341 with value: 0.369709391948425.\u001b[0m\n",
      "\u001b[32m[I 2021-06-23 19:14:44,889]\u001b[0m Trial 610 finished with value: 0.3750163056780953 and parameters: {'n_1': 0.5085510258727147, 'n_2': 0.06507580574617153, 'n_3': 0.45260771617360407}. Best is trial 341 with value: 0.369709391948425.\u001b[0m\n",
      "\u001b[32m[I 2021-06-23 19:14:44,904]\u001b[0m Trial 611 finished with value: 0.5231383007702832 and parameters: {'n_1': 0.5163580730504725, 'n_2': 0.27856572933600804, 'n_3': 0.47225857834912494}. Best is trial 341 with value: 0.369709391948425.\u001b[0m\n",
      "\u001b[32m[I 2021-06-23 19:14:44,918]\u001b[0m Trial 612 finished with value: 0.3703918409686946 and parameters: {'n_1': 0.5639433705058116, 'n_2': 0.0002513084931703571, 'n_3': 0.4416924359589702}. Best is trial 341 with value: 0.369709391948425.\u001b[0m\n"
     ]
    },
    {
     "name": "stderr",
     "output_type": "stream",
     "text": [
      "\u001b[32m[I 2021-06-23 19:14:44,934]\u001b[0m Trial 613 finished with value: 0.3822472495658006 and parameters: {'n_1': 0.5428491051602837, 'n_2': 0.03306136628307594, 'n_3': 0.48895026307668554}. Best is trial 341 with value: 0.369709391948425.\u001b[0m\n",
      "\u001b[32m[I 2021-06-23 19:14:44,949]\u001b[0m Trial 614 finished with value: 0.37035029600582114 and parameters: {'n_1': 0.5035943855402512, 'n_2': 0.0003808494792017851, 'n_3': 0.47784622348259553}. Best is trial 341 with value: 0.369709391948425.\u001b[0m\n",
      "\u001b[32m[I 2021-06-23 19:14:44,965]\u001b[0m Trial 615 finished with value: 0.3707134270297299 and parameters: {'n_1': 0.521484700564441, 'n_2': 0.00022867052020897783, 'n_3': 0.45815922401438136}. Best is trial 341 with value: 0.369709391948425.\u001b[0m\n",
      "\u001b[32m[I 2021-06-23 19:14:44,983]\u001b[0m Trial 616 finished with value: 0.37096996616231404 and parameters: {'n_1': 0.5010779607346344, 'n_2': 0.018166634184114863, 'n_3': 0.48965383252584244}. Best is trial 341 with value: 0.369709391948425.\u001b[0m\n",
      "\u001b[32m[I 2021-06-23 19:14:44,998]\u001b[0m Trial 617 finished with value: 0.37209677668250574 and parameters: {'n_1': 0.4834267047119233, 'n_2': 0.04288831970600825, 'n_3': 0.4670377925096033}. Best is trial 341 with value: 0.369709391948425.\u001b[0m\n",
      "\u001b[32m[I 2021-06-23 19:14:45,013]\u001b[0m Trial 618 finished with value: 0.37970211683236393 and parameters: {'n_1': 0.5339291771606716, 'n_2': 0.019428887882054165, 'n_3': 0.504729910118939}. Best is trial 341 with value: 0.369709391948425.\u001b[0m\n",
      "\u001b[32m[I 2021-06-23 19:14:45,029]\u001b[0m Trial 619 finished with value: 0.37867466950727346 and parameters: {'n_1': 0.5112684704481748, 'n_2': 0.05579692517783369, 'n_3': 0.48145129010564847}. Best is trial 341 with value: 0.369709391948425.\u001b[0m\n",
      "\u001b[32m[I 2021-06-23 19:14:45,044]\u001b[0m Trial 620 finished with value: 0.3806234888007342 and parameters: {'n_1': 0.4785566336916446, 'n_2': 0.017611595958980607, 'n_3': 0.4388204061999975}. Best is trial 341 with value: 0.369709391948425.\u001b[0m\n",
      "\u001b[32m[I 2021-06-23 19:14:45,059]\u001b[0m Trial 621 finished with value: 0.3733470138242258 and parameters: {'n_1': 0.490776800474479, 'n_2': 0.032529139132900765, 'n_3': 0.5024485859536048}. Best is trial 341 with value: 0.369709391948425.\u001b[0m\n",
      "\u001b[32m[I 2021-06-23 19:14:45,074]\u001b[0m Trial 622 finished with value: 0.3704922203147392 and parameters: {'n_1': 0.5509990977867403, 'n_2': 0.0011587825469033227, 'n_3': 0.4587243667532046}. Best is trial 341 with value: 0.369709391948425.\u001b[0m\n",
      "\u001b[32m[I 2021-06-23 19:14:45,089]\u001b[0m Trial 623 finished with value: 0.3749157455437908 and parameters: {'n_1': 0.46492399936103856, 'n_2': 0.0007511171111352876, 'n_3': 0.48496380845016945}. Best is trial 341 with value: 0.369709391948425.\u001b[0m\n",
      "\u001b[32m[I 2021-06-23 19:14:45,105]\u001b[0m Trial 624 finished with value: 0.3734173021833017 and parameters: {'n_1': 0.5175268324024439, 'n_2': 0.000641933381307201, 'n_3': 0.5169736901332457}. Best is trial 341 with value: 0.369709391948425.\u001b[0m\n",
      "\u001b[32m[I 2021-06-23 19:14:45,119]\u001b[0m Trial 625 finished with value: 0.3698765384302787 and parameters: {'n_1': 0.4977204829262176, 'n_2': 0.0001236248007913279, 'n_3': 0.507692686053806}. Best is trial 341 with value: 0.369709391948425.\u001b[0m\n",
      "\u001b[32m[I 2021-06-23 19:14:45,134]\u001b[0m Trial 626 finished with value: 0.37609028101237146 and parameters: {'n_1': 0.5377055012516399, 'n_2': 0.01791895041943751, 'n_3': 0.48903793440403337}. Best is trial 341 with value: 0.369709391948425.\u001b[0m\n",
      "\u001b[32m[I 2021-06-23 19:14:45,149]\u001b[0m Trial 627 finished with value: 0.3727838582013987 and parameters: {'n_1': 0.5016810515624839, 'n_2': 0.04696425558284877, 'n_3': 0.46480365833000775}. Best is trial 341 with value: 0.369709391948425.\u001b[0m\n",
      "\u001b[32m[I 2021-06-23 19:14:45,165]\u001b[0m Trial 628 finished with value: 0.3827561812757943 and parameters: {'n_1': 0.5654791962873806, 'n_2': 0.0002457890282852584, 'n_3': 0.5042162660320378}. Best is trial 341 with value: 0.369709391948425.\u001b[0m\n",
      "\u001b[32m[I 2021-06-23 19:14:45,181]\u001b[0m Trial 629 finished with value: 0.374495072295872 and parameters: {'n_1': 0.5248444078070981, 'n_2': 0.07334526016143361, 'n_3': 0.41604400606509273}. Best is trial 341 with value: 0.369709391948425.\u001b[0m\n",
      "\u001b[32m[I 2021-06-23 19:14:45,197]\u001b[0m Trial 630 finished with value: 0.3697944761485584 and parameters: {'n_1': 0.5064390993846877, 'n_2': 0.00021252157169113177, 'n_3': 0.48552650290137533}. Best is trial 341 with value: 0.369709391948425.\u001b[0m\n",
      "\u001b[32m[I 2021-06-23 19:14:45,213]\u001b[0m Trial 631 finished with value: 0.44355602809714173 and parameters: {'n_1': 0.5084406266055288, 'n_2': 0.1489516700355861, 'n_3': 0.5152327320997765}. Best is trial 341 with value: 0.369709391948425.\u001b[0m\n",
      "\u001b[32m[I 2021-06-23 19:14:45,230]\u001b[0m Trial 632 finished with value: 0.3707142583669606 and parameters: {'n_1': 0.5396495182007268, 'n_2': 0.0002907114881204653, 'n_3': 0.47593850985496594}. Best is trial 341 with value: 0.369709391948425.\u001b[0m\n",
      "\u001b[32m[I 2021-06-23 19:14:45,250]\u001b[0m Trial 633 finished with value: 0.3733488527779776 and parameters: {'n_1': 0.4866138908031837, 'n_2': 0.029467081431700282, 'n_3': 0.45405258534937587}. Best is trial 341 with value: 0.369709391948425.\u001b[0m\n",
      "\u001b[32m[I 2021-06-23 19:14:45,279]\u001b[0m Trial 634 finished with value: 0.37411331686603666 and parameters: {'n_1': 0.5198611206693383, 'n_2': 0.01845120118835115, 'n_3': 0.4965797037187726}. Best is trial 341 with value: 0.369709391948425.\u001b[0m\n",
      "\u001b[32m[I 2021-06-23 19:14:45,297]\u001b[0m Trial 635 finished with value: 0.42650039629662695 and parameters: {'n_1': 0.587557027550552, 'n_2': 0.04667635745214068, 'n_3': 0.5181506579452635}. Best is trial 341 with value: 0.369709391948425.\u001b[0m\n",
      "\u001b[32m[I 2021-06-23 19:14:45,313]\u001b[0m Trial 636 finished with value: 0.37541444391763623 and parameters: {'n_1': 0.49671495872902033, 'n_2': 0.018754129721818467, 'n_3': 0.44027699643915436}. Best is trial 341 with value: 0.369709391948425.\u001b[0m\n",
      "\u001b[32m[I 2021-06-23 19:14:45,329]\u001b[0m Trial 637 finished with value: 0.37138594022679017 and parameters: {'n_1': 0.47227511116003273, 'n_2': 0.0002738372225113612, 'n_3': 0.49749447059422996}. Best is trial 341 with value: 0.369709391948425.\u001b[0m\n",
      "\u001b[32m[I 2021-06-23 19:14:45,344]\u001b[0m Trial 638 finished with value: 0.37302629243154756 and parameters: {'n_1': 0.5577572277987745, 'n_2': 0.0005321419073100308, 'n_3': 0.4746280335869499}. Best is trial 341 with value: 0.369709391948425.\u001b[0m\n",
      "\u001b[32m[I 2021-06-23 19:14:45,358]\u001b[0m Trial 639 finished with value: 0.37163289236686314 and parameters: {'n_1': 0.4392802332794227, 'n_2': 0.0348313514559449, 'n_3': 0.5198478522415245}. Best is trial 341 with value: 0.369709391948425.\u001b[0m\n",
      "\u001b[32m[I 2021-06-23 19:14:45,374]\u001b[0m Trial 640 finished with value: 0.38586007926053845 and parameters: {'n_1': 0.5263099464867975, 'n_2': 0.019232803105088573, 'n_3': 0.5303879010995012}. Best is trial 341 with value: 0.369709391948425.\u001b[0m\n",
      "\u001b[32m[I 2021-06-23 19:14:45,389]\u001b[0m Trial 641 finished with value: 0.36981497987697837 and parameters: {'n_1': 0.4862015649791214, 'n_2': 0.0003320720084699516, 'n_3': 0.5023697835256798}. Best is trial 341 with value: 0.369709391948425.\u001b[0m\n",
      "\u001b[32m[I 2021-06-23 19:14:45,404]\u001b[0m Trial 642 finished with value: 0.3750967736768599 and parameters: {'n_1': 0.5052719895441578, 'n_2': 0.061959507093489956, 'n_3': 0.46088602993285666}. Best is trial 341 with value: 0.369709391948425.\u001b[0m\n",
      "\u001b[32m[I 2021-06-23 19:14:45,420]\u001b[0m Trial 643 finished with value: 0.37155246386477214 and parameters: {'n_1': 0.4830167871069922, 'n_2': 0.03448801355665881, 'n_3': 0.48403002099676046}. Best is trial 341 with value: 0.369709391948425.\u001b[0m\n",
      "\u001b[32m[I 2021-06-23 19:14:45,439]\u001b[0m Trial 644 finished with value: 0.3713973379035969 and parameters: {'n_1': 0.4601057769398264, 'n_2': 0.01822114308664861, 'n_3': 0.5008271788238946}. Best is trial 341 with value: 0.369709391948425.\u001b[0m\n",
      "\u001b[32m[I 2021-06-23 19:14:45,456]\u001b[0m Trial 645 finished with value: 0.7199578033771087 and parameters: {'n_1': 0.5381036206948601, 'n_2': 0.44120649718896904, 'n_3': 0.4760755299949415}. Best is trial 341 with value: 0.369709391948425.\u001b[0m\n",
      "\u001b[32m[I 2021-06-23 19:14:45,472]\u001b[0m Trial 646 finished with value: 0.4233765358580163 and parameters: {'n_1': 0.4157311047402006, 'n_2': 0.00013057881029407615, 'n_3': 0.42937876255067875}. Best is trial 341 with value: 0.369709391948425.\u001b[0m\n"
     ]
    },
    {
     "name": "stderr",
     "output_type": "stream",
     "text": [
      "\u001b[32m[I 2021-06-23 19:14:45,487]\u001b[0m Trial 647 finished with value: 0.3800586347611501 and parameters: {'n_1': 0.5054266980033713, 'n_2': 0.05058399509688817, 'n_3': 0.4985399157527544}. Best is trial 341 with value: 0.369709391948425.\u001b[0m\n",
      "\u001b[32m[I 2021-06-23 19:14:45,502]\u001b[0m Trial 648 finished with value: 0.389065309098806 and parameters: {'n_1': 0.4486916841521056, 'n_2': 0.0006562825859112305, 'n_3': 0.458368763151984}. Best is trial 341 with value: 0.369709391948425.\u001b[0m\n",
      "\u001b[32m[I 2021-06-23 19:14:45,517]\u001b[0m Trial 649 finished with value: 0.37138910165371974 and parameters: {'n_1': 0.48276346776213924, 'n_2': 0.01969314802926589, 'n_3': 0.5111302709893673}. Best is trial 341 with value: 0.369709391948425.\u001b[0m\n",
      "\u001b[32m[I 2021-06-23 19:14:45,532]\u001b[0m Trial 650 finished with value: 0.3945540767069415 and parameters: {'n_1': 0.5193746308636835, 'n_2': 0.08512932959452243, 'n_3': 0.48758001407994134}. Best is trial 341 with value: 0.369709391948425.\u001b[0m\n",
      "\u001b[32m[I 2021-06-23 19:14:45,547]\u001b[0m Trial 651 finished with value: 0.37598454365490686 and parameters: {'n_1': 0.4738040209121255, 'n_2': 0.03449369020500374, 'n_3': 0.5310395524476936}. Best is trial 341 with value: 0.369709391948425.\u001b[0m\n",
      "\u001b[32m[I 2021-06-23 19:14:45,563]\u001b[0m Trial 652 finished with value: 0.373427238094691 and parameters: {'n_1': 0.4985091100729828, 'n_2': 0.02135090000389442, 'n_3': 0.4472666144821328}. Best is trial 341 with value: 0.369709391948425.\u001b[0m\n",
      "\u001b[32m[I 2021-06-23 19:14:45,578]\u001b[0m Trial 653 finished with value: 0.37235008783094664 and parameters: {'n_1': 0.5534623413315767, 'n_2': 0.00032729146879189393, 'n_3': 0.4751194915491538}. Best is trial 341 with value: 0.369709391948425.\u001b[0m\n",
      "\u001b[32m[I 2021-06-23 19:14:45,593]\u001b[0m Trial 654 finished with value: 0.37332251325652577 and parameters: {'n_1': 0.45094846172671194, 'n_2': 7.433149706144774e-05, 'n_3': 0.5064116165203469}. Best is trial 341 with value: 0.369709391948425.\u001b[0m\n",
      "\u001b[32m[I 2021-06-23 19:14:45,608]\u001b[0m Trial 655 finished with value: 0.3789143367686067 and parameters: {'n_1': 0.5243602563963662, 'n_2': 0.000165516228873052, 'n_3': 0.5329020771863948}. Best is trial 341 with value: 0.369709391948425.\u001b[0m\n",
      "\u001b[32m[I 2021-06-23 19:14:45,623]\u001b[0m Trial 656 finished with value: 0.36992540293235465 and parameters: {'n_1': 0.43115735339402295, 'n_2': 0.00025050746003049186, 'n_3': 0.5596028948298704}. Best is trial 341 with value: 0.369709391948425.\u001b[0m\n",
      "\u001b[32m[I 2021-06-23 19:14:45,638]\u001b[0m Trial 657 finished with value: 0.3749572949240758 and parameters: {'n_1': 0.4049777292042078, 'n_2': 0.04975838050631571, 'n_3': 0.5696836398735527}. Best is trial 341 with value: 0.369709391948425.\u001b[0m\n",
      "\u001b[32m[I 2021-06-23 19:14:45,652]\u001b[0m Trial 658 finished with value: 0.37410065844560647 and parameters: {'n_1': 0.4336479537229864, 'n_2': 0.01847950001144153, 'n_3': 0.5779169236815993}. Best is trial 341 with value: 0.369709391948425.\u001b[0m\n",
      "\u001b[32m[I 2021-06-23 19:14:45,667]\u001b[0m Trial 659 finished with value: 0.37209443370907275 and parameters: {'n_1': 0.4144311317586198, 'n_2': 0.034631345190710754, 'n_3': 0.5558355220109776}. Best is trial 341 with value: 0.369709391948425.\u001b[0m\n",
      "\u001b[32m[I 2021-06-23 19:14:45,682]\u001b[0m Trial 660 finished with value: 0.37091959341537706 and parameters: {'n_1': 0.42744265913843343, 'n_2': 0.018771760419454313, 'n_3': 0.552307016401057}. Best is trial 341 with value: 0.369709391948425.\u001b[0m\n",
      "\u001b[32m[I 2021-06-23 19:14:45,698]\u001b[0m Trial 661 finished with value: 0.36976490845906873 and parameters: {'n_1': 0.45188458252473945, 'n_2': 0.000492033643444293, 'n_3': 0.541073523994292}. Best is trial 341 with value: 0.369709391948425.\u001b[0m\n",
      "\u001b[32m[I 2021-06-23 19:14:45,714]\u001b[0m Trial 662 finished with value: 0.3769345194865518 and parameters: {'n_1': 0.4271934937331147, 'n_2': 0.035311560922846014, 'n_3': 0.5775338817533587}. Best is trial 341 with value: 0.369709391948425.\u001b[0m\n",
      "\u001b[32m[I 2021-06-23 19:14:45,731]\u001b[0m Trial 663 finished with value: 0.3720930144699413 and parameters: {'n_1': 0.4083170231996572, 'n_2': 0.01774870045456094, 'n_3': 0.5871017550712894}. Best is trial 341 with value: 0.369709391948425.\u001b[0m\n",
      "\u001b[32m[I 2021-06-23 19:14:45,747]\u001b[0m Trial 664 finished with value: 0.3800564323080892 and parameters: {'n_1': 0.4428296831595235, 'n_2': 0.05628714166162065, 'n_3': 0.5515506956737461}. Best is trial 341 with value: 0.369709391948425.\u001b[0m\n",
      "\u001b[32m[I 2021-06-23 19:14:45,764]\u001b[0m Trial 665 finished with value: 0.36988241158219753 and parameters: {'n_1': 0.4486082434915598, 'n_2': 0.0008091676000376959, 'n_3': 0.5391649667938109}. Best is trial 341 with value: 0.369709391948425.\u001b[0m\n",
      "\u001b[32m[I 2021-06-23 19:14:45,780]\u001b[0m Trial 666 finished with value: 0.37042556358656026 and parameters: {'n_1': 0.41574516932662353, 'n_2': 0.0004776800546684502, 'n_3': 0.564978031624409}. Best is trial 341 with value: 0.369709391948425.\u001b[0m\n",
      "\u001b[32m[I 2021-06-23 19:14:45,796]\u001b[0m Trial 667 finished with value: 0.3709724604165788 and parameters: {'n_1': 0.43623260061026525, 'n_2': 0.020500652021487646, 'n_3': 0.5438549459346668}. Best is trial 341 with value: 0.369709391948425.\u001b[0m\n",
      "\u001b[32m[I 2021-06-23 19:14:45,812]\u001b[0m Trial 668 finished with value: 0.3710197305255307 and parameters: {'n_1': 0.45285975727790645, 'n_2': 0.0003098463198746109, 'n_3': 0.563201911564904}. Best is trial 341 with value: 0.369709391948425.\u001b[0m\n",
      "\u001b[32m[I 2021-06-23 19:14:45,827]\u001b[0m Trial 669 finished with value: 0.37182499630308297 and parameters: {'n_1': 0.42854540941502584, 'n_2': 0.035621432286128525, 'n_3': 0.5370975634138415}. Best is trial 341 with value: 0.369709391948425.\u001b[0m\n",
      "\u001b[32m[I 2021-06-23 19:14:45,842]\u001b[0m Trial 670 finished with value: 0.37547103791193837 and parameters: {'n_1': 0.4548017620378067, 'n_2': 0.0007647201953088805, 'n_3': 0.5856499755141412}. Best is trial 341 with value: 0.369709391948425.\u001b[0m\n",
      "\u001b[32m[I 2021-06-23 19:14:45,858]\u001b[0m Trial 671 finished with value: 0.37922219530199114 and parameters: {'n_1': 0.44314679215776576, 'n_2': 0.06684447530530897, 'n_3': 0.5359085798188873}. Best is trial 341 with value: 0.369709391948425.\u001b[0m\n",
      "\u001b[32m[I 2021-06-23 19:14:45,873]\u001b[0m Trial 672 finished with value: 0.6026230786321053 and parameters: {'n_1': 0.40924769921490667, 'n_2': 0.3834232405760637, 'n_3': 0.5502786651579687}. Best is trial 341 with value: 0.369709391948425.\u001b[0m\n",
      "\u001b[32m[I 2021-06-23 19:14:45,889]\u001b[0m Trial 673 finished with value: 0.3697033316667104 and parameters: {'n_1': 0.4656857402797396, 'n_2': 0.0005329632215674054, 'n_3': 0.5291647789594291}. Best is trial 673 with value: 0.3697033316667104.\u001b[0m\n",
      "\u001b[32m[I 2021-06-23 19:14:45,904]\u001b[0m Trial 674 finished with value: 0.3751007087739593 and parameters: {'n_1': 0.4542282689504989, 'n_2': 0.018214993703447355, 'n_3': 0.564446084594899}. Best is trial 673 with value: 0.3697033316667104.\u001b[0m\n",
      "\u001b[32m[I 2021-06-23 19:14:45,919]\u001b[0m Trial 675 finished with value: 0.37194039501388604 and parameters: {'n_1': 0.43048665888507887, 'n_2': 0.03801907608083952, 'n_3': 0.5331233689326252}. Best is trial 673 with value: 0.3697033316667104.\u001b[0m\n",
      "\u001b[32m[I 2021-06-23 19:14:45,934]\u001b[0m Trial 676 finished with value: 0.3791542497590562 and parameters: {'n_1': 0.46456680140302065, 'n_2': 0.0011851840484566497, 'n_3': 0.5894412793345795}. Best is trial 673 with value: 0.3697033316667104.\u001b[0m\n",
      "\u001b[32m[I 2021-06-23 19:14:45,950]\u001b[0m Trial 677 finished with value: 0.37664835133179686 and parameters: {'n_1': 0.46380963623947136, 'n_2': 0.02147026483108122, 'n_3': 0.558496395075406}. Best is trial 673 with value: 0.3697033316667104.\u001b[0m\n",
      "\u001b[32m[I 2021-06-23 19:14:45,967]\u001b[0m Trial 678 finished with value: 0.372870853501282 and parameters: {'n_1': 0.4363680365877994, 'n_2': 0.049015701277440045, 'n_3': 0.5247548871343147}. Best is trial 673 with value: 0.3697033316667104.\u001b[0m\n",
      "\u001b[32m[I 2021-06-23 19:14:45,983]\u001b[0m Trial 679 finished with value: 0.37335694323800256 and parameters: {'n_1': 0.4149429458258935, 'n_2': 0.00013507970301184546, 'n_3': 0.5419497100229068}. Best is trial 673 with value: 0.3697033316667104.\u001b[0m\n",
      "\u001b[32m[I 2021-06-23 19:14:45,997]\u001b[0m Trial 680 finished with value: 0.3707930274245846 and parameters: {'n_1': 0.46479299289785075, 'n_2': 0.01888521136257388, 'n_3': 0.519660745871528}. Best is trial 673 with value: 0.3697033316667104.\u001b[0m\n"
     ]
    },
    {
     "name": "stderr",
     "output_type": "stream",
     "text": [
      "\u001b[32m[I 2021-06-23 19:14:46,020]\u001b[0m Trial 681 finished with value: 0.38338728549522666 and parameters: {'n_1': 0.4471937757574971, 'n_2': 0.03419663766436404, 'n_3': 0.5826899982874695}. Best is trial 673 with value: 0.3697033316667104.\u001b[0m\n",
      "\u001b[32m[I 2021-06-23 19:14:46,038]\u001b[0m Trial 682 finished with value: 0.37221971195404585 and parameters: {'n_1': 0.4745215709940535, 'n_2': 0.0004810434872591619, 'n_3': 0.5516974594928238}. Best is trial 673 with value: 0.3697033316667104.\u001b[0m\n",
      "\u001b[32m[I 2021-06-23 19:14:46,055]\u001b[0m Trial 683 finished with value: 0.37135765653456465 and parameters: {'n_1': 0.44310408798002787, 'n_2': 0.02053249527258328, 'n_3': 0.5176464828389052}. Best is trial 673 with value: 0.3697033316667104.\u001b[0m\n",
      "\u001b[32m[I 2021-06-23 19:14:46,071]\u001b[0m Trial 684 finished with value: 0.38101118720005117 and parameters: {'n_1': 0.46928950313890083, 'n_2': 0.055752316548705695, 'n_3': 0.5307061764782476}. Best is trial 673 with value: 0.3697033316667104.\u001b[0m\n",
      "\u001b[32m[I 2021-06-23 19:14:46,087]\u001b[0m Trial 685 finished with value: 0.37381076084145964 and parameters: {'n_1': 0.4366919684344502, 'n_2': 0.017442691672885383, 'n_3': 0.506290650468395}. Best is trial 673 with value: 0.3697033316667104.\u001b[0m\n",
      "\u001b[32m[I 2021-06-23 19:14:46,101]\u001b[0m Trial 686 finished with value: 0.37135800993809753 and parameters: {'n_1': 0.40935883829678227, 'n_2': 0.0009802825206568465, 'n_3': 0.5607803920646978}. Best is trial 673 with value: 0.3697033316667104.\u001b[0m\n",
      "\u001b[32m[I 2021-06-23 19:14:46,117]\u001b[0m Trial 687 finished with value: 0.3699448214863828 and parameters: {'n_1': 0.46818733527778905, 'n_2': 0.00017254875085815778, 'n_3': 0.5369758918162689}. Best is trial 673 with value: 0.3697033316667104.\u001b[0m\n",
      "\u001b[32m[I 2021-06-23 19:14:46,133]\u001b[0m Trial 688 finished with value: 0.3712765877982047 and parameters: {'n_1': 0.45424443745983806, 'n_2': 0.0010122357414327232, 'n_3': 0.5631415181936117}. Best is trial 673 with value: 0.3697033316667104.\u001b[0m\n",
      "\u001b[32m[I 2021-06-23 19:14:46,148]\u001b[0m Trial 689 finished with value: 0.37036298411802154 and parameters: {'n_1': 0.42095136588183996, 'n_2': 0.0006301091505610222, 'n_3': 0.5820791402215884}. Best is trial 673 with value: 0.3697033316667104.\u001b[0m\n",
      "\u001b[32m[I 2021-06-23 19:14:46,163]\u001b[0m Trial 690 finished with value: 0.37905825796584497 and parameters: {'n_1': 0.47157558635465124, 'n_2': 0.03673410666779112, 'n_3': 0.5430907324063734}. Best is trial 673 with value: 0.3697033316667104.\u001b[0m\n",
      "\u001b[32m[I 2021-06-23 19:14:46,180]\u001b[0m Trial 691 finished with value: 0.3865313955842761 and parameters: {'n_1': 0.4525853660315594, 'n_2': 0.08004672982768407, 'n_3': 0.5367396882204422}. Best is trial 673 with value: 0.3697033316667104.\u001b[0m\n",
      "\u001b[32m[I 2021-06-23 19:14:46,195]\u001b[0m Trial 692 finished with value: 0.3729320952181232 and parameters: {'n_1': 0.42855815161626065, 'n_2': 0.02089388026115703, 'n_3': 0.5723489535756657}. Best is trial 673 with value: 0.3697033316667104.\u001b[0m\n",
      "\u001b[32m[I 2021-06-23 19:14:46,210]\u001b[0m Trial 693 finished with value: 0.379296646527901 and parameters: {'n_1': 0.4795842556524219, 'n_2': 0.04424207915641423, 'n_3': 0.52785183760868}. Best is trial 673 with value: 0.3697033316667104.\u001b[0m\n",
      "\u001b[32m[I 2021-06-23 19:14:46,226]\u001b[0m Trial 694 finished with value: 0.3705115234375604 and parameters: {'n_1': 0.4626170881988116, 'n_2': 6.52639236200427e-05, 'n_3': 0.549911705179385}. Best is trial 673 with value: 0.3697033316667104.\u001b[0m\n",
      "\u001b[32m[I 2021-06-23 19:14:46,242]\u001b[0m Trial 695 finished with value: 0.3710409508153069 and parameters: {'n_1': 0.48182538052978, 'n_2': 0.018513162891347232, 'n_3': 0.5093446435380213}. Best is trial 673 with value: 0.3697033316667104.\u001b[0m\n",
      "\u001b[32m[I 2021-06-23 19:14:46,257]\u001b[0m Trial 696 finished with value: 0.37159006782863857 and parameters: {'n_1': 0.44301157066679747, 'n_2': 0.030499588378455445, 'n_3': 0.5316406819794993}. Best is trial 673 with value: 0.3697033316667104.\u001b[0m\n",
      "\u001b[32m[I 2021-06-23 19:14:46,278]\u001b[0m Trial 697 finished with value: 0.389245397607512 and parameters: {'n_1': 0.4657785252504948, 'n_2': 0.057603954727758346, 'n_3': 0.5557649830059873}. Best is trial 673 with value: 0.3697033316667104.\u001b[0m\n",
      "\u001b[32m[I 2021-06-23 19:14:46,297]\u001b[0m Trial 698 finished with value: 0.3832751086816553 and parameters: {'n_1': 0.4089110424145007, 'n_2': 0.0005629061409440806, 'n_3': 0.5114752281613016}. Best is trial 673 with value: 0.3697033316667104.\u001b[0m\n",
      "\u001b[32m[I 2021-06-23 19:14:46,313]\u001b[0m Trial 699 finished with value: 0.39055434718888005 and parameters: {'n_1': 0.4852079404720244, 'n_2': 0.017797530825951684, 'n_3': 0.5825953155077013}. Best is trial 673 with value: 0.3697033316667104.\u001b[0m\n",
      "\u001b[32m[I 2021-06-23 19:14:46,329]\u001b[0m Trial 700 finished with value: 0.37451459378167656 and parameters: {'n_1': 0.42792927693668636, 'n_2': 0.03981803142119669, 'n_3': 0.49682522982570015}. Best is trial 673 with value: 0.3697033316667104.\u001b[0m\n",
      "\u001b[32m[I 2021-06-23 19:14:46,345]\u001b[0m Trial 701 finished with value: 0.37347235603149787 and parameters: {'n_1': 0.4940674505964026, 'n_2': 0.00023950986391985953, 'n_3': 0.5404223001118168}. Best is trial 673 with value: 0.3697033316667104.\u001b[0m\n",
      "\u001b[32m[I 2021-06-23 19:14:46,360]\u001b[0m Trial 702 finished with value: 0.3712332123075026 and parameters: {'n_1': 0.45009251353752733, 'n_2': 0.0004939204116643312, 'n_3': 0.5201692202796441}. Best is trial 673 with value: 0.3697033316667104.\u001b[0m\n",
      "\u001b[32m[I 2021-06-23 19:14:46,376]\u001b[0m Trial 703 finished with value: 0.3714982230218394 and parameters: {'n_1': 0.46434016417055457, 'n_2': 0.016798572075593717, 'n_3': 0.49616998227659603}. Best is trial 673 with value: 0.3697033316667104.\u001b[0m\n",
      "\u001b[32m[I 2021-06-23 19:14:46,392]\u001b[0m Trial 704 finished with value: 0.3784145335796159 and parameters: {'n_1': 0.48869215997238225, 'n_2': 0.0004951425110017056, 'n_3': 0.5650834296519816}. Best is trial 673 with value: 0.3697033316667104.\u001b[0m\n",
      "\u001b[32m[I 2021-06-23 19:14:46,407]\u001b[0m Trial 705 finished with value: 0.3718686267228068 and parameters: {'n_1': 0.44278797253782676, 'n_2': 0.03639283199545976, 'n_3': 0.5255199704718209}. Best is trial 673 with value: 0.3697033316667104.\u001b[0m\n",
      "\u001b[32m[I 2021-06-23 19:14:46,423]\u001b[0m Trial 706 finished with value: 0.37069509116667626 and parameters: {'n_1': 0.46881772744592093, 'n_2': 4.353237027701516e-05, 'n_3': 0.5461544180276667}. Best is trial 673 with value: 0.3697033316667104.\u001b[0m\n",
      "\u001b[32m[I 2021-06-23 19:14:46,438]\u001b[0m Trial 707 finished with value: 0.37413073568380983 and parameters: {'n_1': 0.42419659113553765, 'n_2': 0.06561174951189853, 'n_3': 0.4909526397810021}. Best is trial 673 with value: 0.3697033316667104.\u001b[0m\n",
      "\u001b[32m[I 2021-06-23 19:14:46,454]\u001b[0m Trial 708 finished with value: 0.38647189052711 and parameters: {'n_1': 0.4025711159029397, 'n_2': 0.00031996569347516376, 'n_3': 0.5095082194838948}. Best is trial 673 with value: 0.3697033316667104.\u001b[0m\n",
      "\u001b[32m[I 2021-06-23 19:14:46,471]\u001b[0m Trial 709 finished with value: 0.3998906601119547 and parameters: {'n_1': 0.49621340527052094, 'n_2': 0.018902330487855556, 'n_3': 0.5903224138798367}. Best is trial 673 with value: 0.3697033316667104.\u001b[0m\n",
      "\u001b[32m[I 2021-06-23 19:14:46,486]\u001b[0m Trial 710 finished with value: 0.3758514552722573 and parameters: {'n_1': 0.47389515437106106, 'n_2': 0.033097340162964166, 'n_3': 0.5319909044795063}. Best is trial 673 with value: 0.3697033316667104.\u001b[0m\n",
      "\u001b[32m[I 2021-06-23 19:14:46,502]\u001b[0m Trial 711 finished with value: 0.8715538630399421 and parameters: {'n_1': 0.44180030243118373, 'n_2': 0.5773354357219104, 'n_3': 0.5621771110675108}. Best is trial 673 with value: 0.3697033316667104.\u001b[0m\n",
      "\u001b[32m[I 2021-06-23 19:14:46,517]\u001b[0m Trial 712 finished with value: 0.37062871071041986 and parameters: {'n_1': 0.49443586334903145, 'n_2': 0.017737086789148683, 'n_3': 0.48661009315889686}. Best is trial 673 with value: 0.3697033316667104.\u001b[0m\n",
      "\u001b[32m[I 2021-06-23 19:14:46,534]\u001b[0m Trial 713 finished with value: 0.5566659572093712 and parameters: {'n_1': 0.46188324347939586, 'n_2': 0.3289079144018826, 'n_3': 0.5091659440468559}. Best is trial 673 with value: 0.3697033316667104.\u001b[0m\n",
      "\u001b[32m[I 2021-06-23 19:14:46,550]\u001b[0m Trial 714 finished with value: 0.3766766335799827 and parameters: {'n_1': 0.5038252223740542, 'n_2': 0.00012003501740460141, 'n_3': 0.5449434493583205}. Best is trial 673 with value: 0.3697033316667104.\u001b[0m\n"
     ]
    },
    {
     "name": "stderr",
     "output_type": "stream",
     "text": [
      "\u001b[32m[I 2021-06-23 19:14:46,566]\u001b[0m Trial 715 finished with value: 0.37999086459046 and parameters: {'n_1': 0.48263917003017975, 'n_2': 0.05005188521145384, 'n_3': 0.520858430547376}. Best is trial 673 with value: 0.3697033316667104.\u001b[0m\n",
      "\u001b[32m[I 2021-06-23 19:14:46,582]\u001b[0m Trial 716 finished with value: 0.7477637768417107 and parameters: {'n_1': 0.44821237268066516, 'n_2': 0.018053977947424325, 'n_3': 0.9935617259225864}. Best is trial 673 with value: 0.3697033316667104.\u001b[0m\n",
      "\u001b[32m[I 2021-06-23 19:14:46,598]\u001b[0m Trial 717 finished with value: 0.37565063626358736 and parameters: {'n_1': 0.4250928346776161, 'n_2': 0.03612643611299217, 'n_3': 0.5725277055390776}. Best is trial 673 with value: 0.3697033316667104.\u001b[0m\n",
      "\u001b[32m[I 2021-06-23 19:14:46,613]\u001b[0m Trial 718 finished with value: 0.3698524673498913 and parameters: {'n_1': 0.5138538993625203, 'n_2': 0.00041257452825005565, 'n_3': 0.4781312382641706}. Best is trial 673 with value: 0.3697033316667104.\u001b[0m\n",
      "\u001b[32m[I 2021-06-23 19:14:46,629]\u001b[0m Trial 719 finished with value: 0.3709603884082419 and parameters: {'n_1': 0.5227193377196017, 'n_2': 0.01720542013944497, 'n_3': 0.46797002318073844}. Best is trial 673 with value: 0.3697033316667104.\u001b[0m\n",
      "\u001b[32m[I 2021-06-23 19:14:46,645]\u001b[0m Trial 720 finished with value: 0.3851619686079649 and parameters: {'n_1': 0.5145657557805795, 'n_2': 0.07230552038846513, 'n_3': 0.48187984105073484}. Best is trial 673 with value: 0.3697033316667104.\u001b[0m\n",
      "\u001b[32m[I 2021-06-23 19:14:46,660]\u001b[0m Trial 721 finished with value: 0.39776905069202156 and parameters: {'n_1': 0.5408399651319408, 'n_2': 0.10625907244816357, 'n_3': 0.4511908198760626}. Best is trial 673 with value: 0.3697033316667104.\u001b[0m\n",
      "\u001b[32m[I 2021-06-23 19:14:46,676]\u001b[0m Trial 722 finished with value: 0.3702359506816163 and parameters: {'n_1': 0.5052529198082677, 'n_2': 4.717574095485053e-05, 'n_3': 0.4779179474077802}. Best is trial 673 with value: 0.3697033316667104.\u001b[0m\n",
      "\u001b[32m[I 2021-06-23 19:14:46,693]\u001b[0m Trial 723 finished with value: 0.3824326199317231 and parameters: {'n_1': 0.5740367227054619, 'n_2': 0.00033999768317074353, 'n_3': 0.49471123672496686}. Best is trial 673 with value: 0.3697033316667104.\u001b[0m\n",
      "\u001b[32m[I 2021-06-23 19:14:46,708]\u001b[0m Trial 724 finished with value: 0.37199364303151705 and parameters: {'n_1': 0.509985583819109, 'n_2': 0.0340785452530239, 'n_3': 0.46749195127273224}. Best is trial 673 with value: 0.3697033316667104.\u001b[0m\n",
      "\u001b[32m[I 2021-06-23 19:14:46,726]\u001b[0m Trial 725 finished with value: 0.3743491693241539 and parameters: {'n_1': 0.5253054439046915, 'n_2': 0.017959927137454694, 'n_3': 0.49304179423385086}. Best is trial 673 with value: 0.3697033316667104.\u001b[0m\n",
      "\u001b[32m[I 2021-06-23 19:14:46,748]\u001b[0m Trial 726 finished with value: 0.37876759613200867 and parameters: {'n_1': 0.49103809324991293, 'n_2': 0.05189379398221769, 'n_3': 0.506066077727306}. Best is trial 673 with value: 0.3697033316667104.\u001b[0m\n",
      "\u001b[32m[I 2021-06-23 19:14:46,764]\u001b[0m Trial 727 finished with value: 0.38223051349589154 and parameters: {'n_1': 0.4769209786435842, 'n_2': 0.018301458074107983, 'n_3': 0.4349671541074673}. Best is trial 673 with value: 0.3697033316667104.\u001b[0m\n",
      "\u001b[32m[I 2021-06-23 19:14:46,779]\u001b[0m Trial 728 finished with value: 0.3705707040148119 and parameters: {'n_1': 0.5455258840094508, 'n_2': 0.000490966637372471, 'n_3': 0.4673986980126722}. Best is trial 673 with value: 0.3697033316667104.\u001b[0m\n",
      "\u001b[32m[I 2021-06-23 19:14:46,796]\u001b[0m Trial 729 finished with value: 0.5756072467308264 and parameters: {'n_1': 0.8331497608632554, 'n_2': 0.00029798882614398233, 'n_3': 0.49078106750225364}. Best is trial 673 with value: 0.3697033316667104.\u001b[0m\n",
      "\u001b[32m[I 2021-06-23 19:14:46,812]\u001b[0m Trial 730 finished with value: 0.524266520924049 and parameters: {'n_1': 0.5153794537587425, 'n_2': 0.23643157647171376, 'n_3': 0.5163865270670648}. Best is trial 673 with value: 0.3697033316667104.\u001b[0m\n",
      "\u001b[32m[I 2021-06-23 19:14:46,828]\u001b[0m Trial 731 finished with value: 0.3724856521961932 and parameters: {'n_1': 0.49347035785444104, 'n_2': 0.03655953033815363, 'n_3': 0.451762041878161}. Best is trial 673 with value: 0.3697033316667104.\u001b[0m\n",
      "\u001b[32m[I 2021-06-23 19:14:46,844]\u001b[0m Trial 732 finished with value: 0.38031768531469357 and parameters: {'n_1': 0.45259028537585194, 'n_2': 0.0006318198428925548, 'n_3': 0.4775815681738317}. Best is trial 673 with value: 0.3697033316667104.\u001b[0m\n",
      "\u001b[32m[I 2021-06-23 19:14:46,860]\u001b[0m Trial 733 finished with value: 0.3699569978222298 and parameters: {'n_1': 0.4812509495916316, 'n_2': 0.00019066653915728087, 'n_3': 0.5039902098326455}. Best is trial 673 with value: 0.3697033316667104.\u001b[0m\n",
      "\u001b[32m[I 2021-06-23 19:14:46,875]\u001b[0m Trial 734 finished with value: 0.38575854770243007 and parameters: {'n_1': 0.510739367489721, 'n_2': 0.03185322755467724, 'n_3': 0.5315730148828789}. Best is trial 673 with value: 0.3697033316667104.\u001b[0m\n",
      "\u001b[32m[I 2021-06-23 19:14:46,891]\u001b[0m Trial 735 finished with value: 0.39278369809097663 and parameters: {'n_1': 0.5322375402349975, 'n_2': 0.05356192006754265, 'n_3': 0.5047546982613272}. Best is trial 673 with value: 0.3697033316667104.\u001b[0m\n",
      "\u001b[32m[I 2021-06-23 19:14:46,907]\u001b[0m Trial 736 finished with value: 0.3746587858590672 and parameters: {'n_1': 0.4554957856131921, 'n_2': 0.01724466566650412, 'n_3': 0.48371201591611096}. Best is trial 673 with value: 0.3697033316667104.\u001b[0m\n",
      "\u001b[32m[I 2021-06-23 19:14:46,924]\u001b[0m Trial 737 finished with value: 1.2042660172183413 and parameters: {'n_1': 0.4052254422055224, 'n_2': 0.9297951484556548, 'n_3': 0.5175948395114673}. Best is trial 673 with value: 0.3697033316667104.\u001b[0m\n",
      "\u001b[32m[I 2021-06-23 19:14:46,940]\u001b[0m Trial 738 finished with value: 0.37741965672958633 and parameters: {'n_1': 0.4926909003109031, 'n_2': 0.0006679425853340904, 'n_3': 0.5576662074871741}. Best is trial 673 with value: 0.3697033316667104.\u001b[0m\n",
      "\u001b[32m[I 2021-06-23 19:14:46,956]\u001b[0m Trial 739 finished with value: 0.3831890418719092 and parameters: {'n_1': 0.43250240433679693, 'n_2': 0.03191976486956285, 'n_3': 0.4639132712369636}. Best is trial 673 with value: 0.3697033316667104.\u001b[0m\n",
      "\u001b[32m[I 2021-06-23 19:14:46,973]\u001b[0m Trial 740 finished with value: 0.3703750952576397 and parameters: {'n_1': 0.5612499223169792, 'n_2': 0.0007040042005022214, 'n_3': 0.4334866610919625}. Best is trial 673 with value: 0.3697033316667104.\u001b[0m\n",
      "\u001b[32m[I 2021-06-23 19:14:46,990]\u001b[0m Trial 741 finished with value: 0.3697498922878471 and parameters: {'n_1': 0.4703937102914514, 'n_2': 0.0003882650906900203, 'n_3': 0.5296582922092419}. Best is trial 673 with value: 0.3697033316667104.\u001b[0m\n",
      "\u001b[32m[I 2021-06-23 19:14:47,006]\u001b[0m Trial 742 finished with value: 0.3708717610991673 and parameters: {'n_1': 0.47851903407126994, 'n_2': 0.00030647560303018943, 'n_3': 0.49569361554802455}. Best is trial 673 with value: 0.3697033316667104.\u001b[0m\n",
      "\u001b[32m[I 2021-06-23 19:14:47,022]\u001b[0m Trial 743 finished with value: 0.376321750606806 and parameters: {'n_1': 0.5030076497887644, 'n_2': 0.019171798264226943, 'n_3': 0.5225592285702304}. Best is trial 673 with value: 0.3697033316667104.\u001b[0m\n",
      "\u001b[32m[I 2021-06-23 19:14:47,037]\u001b[0m Trial 744 finished with value: 0.3746975790829817 and parameters: {'n_1': 0.4706034172128876, 'n_2': 0.051428069981029854, 'n_3': 0.506116626175301}. Best is trial 673 with value: 0.3697033316667104.\u001b[0m\n",
      "\u001b[32m[I 2021-06-23 19:14:47,053]\u001b[0m Trial 745 finished with value: 0.38503379747215083 and parameters: {'n_1': 0.512433317568168, 'n_2': 0.030634358311075905, 'n_3': 0.5293104911087579}. Best is trial 673 with value: 0.3697033316667104.\u001b[0m\n",
      "\u001b[32m[I 2021-06-23 19:14:47,070]\u001b[0m Trial 746 finished with value: 0.37177483204445405 and parameters: {'n_1': 0.4916515082854449, 'n_2': 0.0004667469586616552, 'n_3': 0.47635925281230396}. Best is trial 673 with value: 0.3697033316667104.\u001b[0m\n",
      "\u001b[32m[I 2021-06-23 19:14:47,087]\u001b[0m Trial 747 finished with value: 0.40397039716684235 and parameters: {'n_1': 0.5296455448536118, 'n_2': 0.08558718632065034, 'n_3': 0.49681857603712803}. Best is trial 673 with value: 0.3697033316667104.\u001b[0m\n",
      "\u001b[32m[I 2021-06-23 19:14:47,104]\u001b[0m Trial 748 finished with value: 0.37796871421982564 and parameters: {'n_1': 0.4694987336256624, 'n_2': 0.018342062320738147, 'n_3': 0.45577224579009995}. Best is trial 673 with value: 0.3697033316667104.\u001b[0m\n"
     ]
    },
    {
     "name": "stderr",
     "output_type": "stream",
     "text": [
      "\u001b[32m[I 2021-06-23 19:14:47,120]\u001b[0m Trial 749 finished with value: 0.37018425474371264 and parameters: {'n_1': 0.49232679150675585, 'n_2': 0.00048121466821122744, 'n_3': 0.5175837896567111}. Best is trial 673 with value: 0.3697033316667104.\u001b[0m\n",
      "\u001b[32m[I 2021-06-23 19:14:47,136]\u001b[0m Trial 750 finished with value: 0.36973038408038955 and parameters: {'n_1': 0.4566030266739478, 'n_2': 6.183580239571063e-05, 'n_3': 0.5403098202912036}. Best is trial 673 with value: 0.3697033316667104.\u001b[0m\n",
      "\u001b[32m[I 2021-06-23 19:14:47,151]\u001b[0m Trial 751 finished with value: 0.3851134660530049 and parameters: {'n_1': 0.48099600041507967, 'n_2': 0.0471480474931181, 'n_3': 0.5417349759301017}. Best is trial 673 with value: 0.3697033316667104.\u001b[0m\n",
      "\u001b[32m[I 2021-06-23 19:14:47,167]\u001b[0m Trial 752 finished with value: 0.37126033120665214 and parameters: {'n_1': 0.507856167865598, 'n_2': 0.01949579114748792, 'n_3': 0.4848531812933142}. Best is trial 673 with value: 0.3697033316667104.\u001b[0m\n",
      "\u001b[32m[I 2021-06-23 19:14:47,186]\u001b[0m Trial 753 finished with value: 0.3701033645348524 and parameters: {'n_1': 0.4668718109265271, 'n_2': 0.0001382317137435837, 'n_3': 0.5155280212562698}. Best is trial 673 with value: 0.3697033316667104.\u001b[0m\n",
      "\u001b[32m[I 2021-06-23 19:14:47,205]\u001b[0m Trial 754 finished with value: 0.4043231433258812 and parameters: {'n_1': 0.5443115096101157, 'n_2': 0.035021708306501816, 'n_3': 0.5358475861929317}. Best is trial 673 with value: 0.3697033316667104.\u001b[0m\n",
      "\u001b[32m[I 2021-06-23 19:14:47,223]\u001b[0m Trial 755 finished with value: 0.3750066117262018 and parameters: {'n_1': 0.45665396755048127, 'n_2': 0.06825870247477889, 'n_3': 0.49888570969239854}. Best is trial 673 with value: 0.3697033316667104.\u001b[0m\n",
      "\u001b[32m[I 2021-06-23 19:14:47,242]\u001b[0m Trial 756 finished with value: 0.3708592979030257 and parameters: {'n_1': 0.5143137127224304, 'n_2': 0.018368706967517218, 'n_3': 0.47218614742754134}. Best is trial 673 with value: 0.3697033316667104.\u001b[0m\n",
      "\u001b[32m[I 2021-06-23 19:14:47,259]\u001b[0m Trial 757 finished with value: 0.3698646964430466 and parameters: {'n_1': 0.481635738845036, 'n_2': 0.0003588659913659005, 'n_3': 0.5226588957130827}. Best is trial 673 with value: 0.3697033316667104.\u001b[0m\n",
      "\u001b[32m[I 2021-06-23 19:14:47,279]\u001b[0m Trial 758 finished with value: 0.37056259744429754 and parameters: {'n_1': 0.5274753436708879, 'n_2': 0.0001422617528293559, 'n_3': 0.48731966885519246}. Best is trial 673 with value: 0.3697033316667104.\u001b[0m\n",
      "\u001b[32m[I 2021-06-23 19:14:47,296]\u001b[0m Trial 759 finished with value: 0.37454627478395486 and parameters: {'n_1': 0.49329559290846864, 'n_2': 0.03158780583307462, 'n_3': 0.5086630304986667}. Best is trial 673 with value: 0.3697033316667104.\u001b[0m\n",
      "\u001b[32m[I 2021-06-23 19:14:47,314]\u001b[0m Trial 760 finished with value: 0.4262307236099669 and parameters: {'n_1': 0.6920971768932804, 'n_2': 0.018119814756969214, 'n_3': 0.4437175530626803}. Best is trial 673 with value: 0.3697033316667104.\u001b[0m\n",
      "\u001b[32m[I 2021-06-23 19:14:47,331]\u001b[0m Trial 761 finished with value: 0.3820938215158969 and parameters: {'n_1': 0.4862897075654084, 'n_2': 0.046328951453782984, 'n_3': 0.4051871883462748}. Best is trial 673 with value: 0.3697033316667104.\u001b[0m\n",
      "\u001b[32m[I 2021-06-23 19:14:47,349]\u001b[0m Trial 762 finished with value: 0.3765572905374934 and parameters: {'n_1': 0.5123619790810343, 'n_2': 0.01868189051848856, 'n_3': 0.5150372687295819}. Best is trial 673 with value: 0.3697033316667104.\u001b[0m\n",
      "\u001b[32m[I 2021-06-23 19:14:47,366]\u001b[0m Trial 763 finished with value: 0.3722684604030749 and parameters: {'n_1': 0.5521474304887953, 'n_2': 0.0004121616062707405, 'n_3': 0.47582507480299424}. Best is trial 673 with value: 0.3697033316667104.\u001b[0m\n",
      "\u001b[32m[I 2021-06-23 19:14:47,384]\u001b[0m Trial 764 finished with value: 0.3836440404036631 and parameters: {'n_1': 0.4793395520105621, 'n_2': 0.061351551355516336, 'n_3': 0.5234419716360048}. Best is trial 673 with value: 0.3697033316667104.\u001b[0m\n",
      "\u001b[32m[I 2021-06-23 19:14:47,402]\u001b[0m Trial 765 finished with value: 0.37161787403311175 and parameters: {'n_1': 0.5248148052858145, 'n_2': 0.0002537333486317933, 'n_3': 0.499361829134787}. Best is trial 673 with value: 0.3697033316667104.\u001b[0m\n",
      "\u001b[32m[I 2021-06-23 19:14:47,421]\u001b[0m Trial 766 finished with value: 0.37286942399738493 and parameters: {'n_1': 0.4970042900068066, 'n_2': 0.018056333343196968, 'n_3': 0.45408208993430926}. Best is trial 673 with value: 0.3697033316667104.\u001b[0m\n",
      "\u001b[32m[I 2021-06-23 19:14:47,438]\u001b[0m Trial 767 finished with value: 0.3697782115906699 and parameters: {'n_1': 0.45842186122638723, 'n_2': 8.03620612204128e-05, 'n_3': 0.5310644647085929}. Best is trial 673 with value: 0.3697033316667104.\u001b[0m\n",
      "\u001b[32m[I 2021-06-23 19:14:47,456]\u001b[0m Trial 768 finished with value: 0.36975753609653617 and parameters: {'n_1': 0.45579691177402704, 'n_2': 0.00021995852620088747, 'n_3': 0.5419244909838974}. Best is trial 673 with value: 0.3697033316667104.\u001b[0m\n",
      "\u001b[32m[I 2021-06-23 19:14:47,474]\u001b[0m Trial 769 finished with value: 0.6834650228580109 and parameters: {'n_1': 0.45208502108162973, 'n_2': 0.42091773300895824, 'n_3': 0.546463982518669}. Best is trial 673 with value: 0.3697033316667104.\u001b[0m\n",
      "\u001b[32m[I 2021-06-23 19:14:47,492]\u001b[0m Trial 770 finished with value: 0.3751724156036391 and parameters: {'n_1': 0.45142216434893695, 'n_2': 0.03804372922001457, 'n_3': 0.543720531169055}. Best is trial 673 with value: 0.3697033316667104.\u001b[0m\n",
      "\u001b[32m[I 2021-06-23 19:14:47,510]\u001b[0m Trial 771 finished with value: 0.3704866534987448 and parameters: {'n_1': 0.4465689599436003, 'n_2': 0.0003226600743784072, 'n_3': 0.5309064591015438}. Best is trial 673 with value: 0.3697033316667104.\u001b[0m\n",
      "\u001b[32m[I 2021-06-23 19:14:47,528]\u001b[0m Trial 772 finished with value: 0.42441398634619076 and parameters: {'n_1': 0.4609474677930292, 'n_2': 0.13234158768470844, 'n_3': 0.5495369247967953}. Best is trial 673 with value: 0.3697033316667104.\u001b[0m\n",
      "\u001b[32m[I 2021-06-23 19:14:47,546]\u001b[0m Trial 773 finished with value: 0.3697357038070765 and parameters: {'n_1': 0.4686707604923862, 'n_2': 0.0004350094530025908, 'n_3': 0.5303889766995474}. Best is trial 673 with value: 0.3697033316667104.\u001b[0m\n",
      "\u001b[32m[I 2021-06-23 19:14:47,563]\u001b[0m Trial 774 finished with value: 0.3760292477670505 and parameters: {'n_1': 0.4321559008205545, 'n_2': 0.032797448540578915, 'n_3': 0.5718963524053894}. Best is trial 673 with value: 0.3697033316667104.\u001b[0m\n",
      "\u001b[32m[I 2021-06-23 19:14:47,580]\u001b[0m Trial 775 finished with value: 0.37216247764207416 and parameters: {'n_1': 0.4549226543973829, 'n_2': 0.01772261411867306, 'n_3': 0.5472029407597745}. Best is trial 673 with value: 0.3697033316667104.\u001b[0m\n",
      "\u001b[32m[I 2021-06-23 19:14:47,597]\u001b[0m Trial 776 finished with value: 0.3742753713743442 and parameters: {'n_1': 0.44199139411962235, 'n_2': 0.050319520665849785, 'n_3': 0.5313538016013922}. Best is trial 673 with value: 0.3697033316667104.\u001b[0m\n",
      "\u001b[32m[I 2021-06-23 19:14:47,615]\u001b[0m Trial 777 finished with value: 0.3774536497336268 and parameters: {'n_1': 0.46712450371873876, 'n_2': 0.02317002343956237, 'n_3': 0.5566430118303936}. Best is trial 673 with value: 0.3697033316667104.\u001b[0m\n",
      "\u001b[32m[I 2021-06-23 19:14:47,632]\u001b[0m Trial 778 finished with value: 0.3718195235573863 and parameters: {'n_1': 0.46813412059133946, 'n_2': 0.017446539968720354, 'n_3': 0.532570041760317}. Best is trial 673 with value: 0.3697033316667104.\u001b[0m\n",
      "\u001b[32m[I 2021-06-23 19:14:47,649]\u001b[0m Trial 779 finished with value: 0.38142720717493966 and parameters: {'n_1': 0.4456924259623257, 'n_2': 0.04200100857980976, 'n_3': 0.5695703233822315}. Best is trial 673 with value: 0.3697033316667104.\u001b[0m\n",
      "\u001b[32m[I 2021-06-23 19:14:47,667]\u001b[0m Trial 780 finished with value: 0.37368672361398564 and parameters: {'n_1': 0.4275086562023157, 'n_2': 0.00043624385937081616, 'n_3': 0.527394290362439}. Best is trial 673 with value: 0.3697033316667104.\u001b[0m\n",
      "\u001b[32m[I 2021-06-23 19:14:47,684]\u001b[0m Trial 781 finished with value: 0.3715129277077813 and parameters: {'n_1': 0.47330477298831747, 'n_2': 0.00034489654198656633, 'n_3': 0.5483249757244064}. Best is trial 673 with value: 0.3697033316667104.\u001b[0m\n",
      "\u001b[32m[I 2021-06-23 19:14:47,703]\u001b[0m Trial 782 finished with value: 0.3709742365276295 and parameters: {'n_1': 0.45861796209747563, 'n_2': 0.0004395998550836036, 'n_3': 0.5139472317309273}. Best is trial 673 with value: 0.3697033316667104.\u001b[0m\n"
     ]
    },
    {
     "name": "stderr",
     "output_type": "stream",
     "text": [
      "\u001b[32m[I 2021-06-23 19:14:47,721]\u001b[0m Trial 783 finished with value: 0.37533663432326975 and parameters: {'n_1': 0.41509973683847645, 'n_2': 0.03225690335712158, 'n_3': 0.5844913616469166}. Best is trial 673 with value: 0.3697033316667104.\u001b[0m\n",
      "\u001b[32m[I 2021-06-23 19:14:47,741]\u001b[0m Trial 784 finished with value: 0.47614575146617805 and parameters: {'n_1': 0.47448440818817633, 'n_2': 0.20289388425780214, 'n_3': 0.5350785420522705}. Best is trial 673 with value: 0.3697033316667104.\u001b[0m\n",
      "\u001b[32m[I 2021-06-23 19:14:47,761]\u001b[0m Trial 785 finished with value: 0.3723223440676208 and parameters: {'n_1': 0.44961926939712676, 'n_2': 1.6380779278136353e-05, 'n_3': 0.5133500613530619}. Best is trial 673 with value: 0.3697033316667104.\u001b[0m\n",
      "\u001b[32m[I 2021-06-23 19:14:47,779]\u001b[0m Trial 786 finished with value: 0.40087405148532823 and parameters: {'n_1': 0.481724350244015, 'n_2': 0.07597818430761864, 'n_3': 0.546887421436156}. Best is trial 673 with value: 0.3697033316667104.\u001b[0m\n",
      "\u001b[32m[I 2021-06-23 19:14:47,797]\u001b[0m Trial 787 finished with value: 0.767489222763587 and parameters: {'n_1': 0.4618755116679928, 'n_2': 0.5114085719230613, 'n_3': 0.5210432285952686}. Best is trial 673 with value: 0.3697033316667104.\u001b[0m\n",
      "\u001b[32m[I 2021-06-23 19:14:47,816]\u001b[0m Trial 788 finished with value: 0.3706378905659662 and parameters: {'n_1': 0.44278550666152533, 'n_2': 1.5864973575249047e-05, 'n_3': 0.5688418230522806}. Best is trial 673 with value: 0.3697033316667104.\u001b[0m\n",
      "\u001b[32m[I 2021-06-23 19:14:47,834]\u001b[0m Trial 789 finished with value: 0.37068179378877913 and parameters: {'n_1': 0.4817004042186241, 'n_2': 0.01907364609505129, 'n_3': 0.49876587125567096}. Best is trial 673 with value: 0.3697033316667104.\u001b[0m\n",
      "\u001b[32m[I 2021-06-23 19:14:47,851]\u001b[0m Trial 790 finished with value: 0.37425935976024166 and parameters: {'n_1': 0.4240275408962204, 'n_2': 0.06043744720335569, 'n_3': 0.5333707506370665}. Best is trial 673 with value: 0.3697033316667104.\u001b[0m\n",
      "\u001b[32m[I 2021-06-23 19:14:47,869]\u001b[0m Trial 791 finished with value: 0.37496527171248284 and parameters: {'n_1': 0.49314100624846935, 'n_2': 0.0004342409218766754, 'n_3': 0.5479780152950154}. Best is trial 673 with value: 0.3697033316667104.\u001b[0m\n",
      "\u001b[32m[I 2021-06-23 19:14:47,888]\u001b[0m Trial 792 finished with value: 0.3721161743050757 and parameters: {'n_1': 0.4689236575911114, 'n_2': 0.03428008595294884, 'n_3': 0.5098022174863066}. Best is trial 673 with value: 0.3697033316667104.\u001b[0m\n",
      "\u001b[32m[I 2021-06-23 19:14:47,905]\u001b[0m Trial 793 finished with value: 0.37248995496047593 and parameters: {'n_1': 0.44101316483436925, 'n_2': 0.017651505548524505, 'n_3': 0.5623378723254523}. Best is trial 673 with value: 0.3697033316667104.\u001b[0m\n",
      "\u001b[32m[I 2021-06-23 19:14:47,922]\u001b[0m Trial 794 finished with value: 0.36997410884939225 and parameters: {'n_1': 0.4591238583375971, 'n_2': 1.154705830220626e-05, 'n_3': 0.5254615316646257}. Best is trial 673 with value: 0.3697033316667104.\u001b[0m\n",
      "\u001b[32m[I 2021-06-23 19:14:47,939]\u001b[0m Trial 795 finished with value: 0.37621890888200926 and parameters: {'n_1': 0.4929209073293544, 'n_2': 0.04747141646872661, 'n_3': 0.49824513144073446}. Best is trial 673 with value: 0.3697033316667104.\u001b[0m\n",
      "\u001b[32m[I 2021-06-23 19:14:47,957]\u001b[0m Trial 796 finished with value: 0.37590015464064186 and parameters: {'n_1': 0.4344274704473382, 'n_2': 0.018441986658751963, 'n_3': 0.5859270153268128}. Best is trial 673 with value: 0.3697033316667104.\u001b[0m\n",
      "\u001b[32m[I 2021-06-23 19:14:47,975]\u001b[0m Trial 797 finished with value: 0.37187396753632873 and parameters: {'n_1': 0.47859904752819105, 'n_2': 0.01909876806567397, 'n_3': 0.5208968490297458}. Best is trial 673 with value: 0.3697033316667104.\u001b[0m\n",
      "\u001b[32m[I 2021-06-23 19:14:47,993]\u001b[0m Trial 798 finished with value: 1.0065924718153536 and parameters: {'n_1': 0.49772653164520486, 'n_2': 0.6461583152292414, 'n_3': 0.550036099545279}. Best is trial 673 with value: 0.3697033316667104.\u001b[0m\n",
      "\u001b[32m[I 2021-06-23 19:14:48,010]\u001b[0m Trial 799 finished with value: 0.5209995846229241 and parameters: {'n_1': 0.40235298568629035, 'n_2': 0.3515180057191023, 'n_3': 0.5059499713451827}. Best is trial 673 with value: 0.3697033316667104.\u001b[0m\n",
      "\u001b[32m[I 2021-06-23 19:14:48,028]\u001b[0m Trial 800 finished with value: 0.37487365906078035 and parameters: {'n_1': 0.46161980213720705, 'n_2': 0.0375104480361678, 'n_3': 0.5332724363548683}. Best is trial 673 with value: 0.3697033316667104.\u001b[0m\n",
      "\u001b[32m[I 2021-06-23 19:14:48,046]\u001b[0m Trial 801 finished with value: 0.3708842431155478 and parameters: {'n_1': 0.474389103351882, 'n_2': 0.01618713768137073, 'n_3': 0.4942565395926826}. Best is trial 673 with value: 0.3697033316667104.\u001b[0m\n",
      "\u001b[32m[I 2021-06-23 19:14:48,064]\u001b[0m Trial 802 finished with value: 0.6286359524539782 and parameters: {'n_1': 0.00397155150770051, 'n_2': 0.05547338741874354, 'n_3': 0.5622006790356189}. Best is trial 673 with value: 0.3697033316667104.\u001b[0m\n",
      "\u001b[32m[I 2021-06-23 19:14:48,081]\u001b[0m Trial 803 finished with value: 1.1367900871845076 and parameters: {'n_1': 0.4380377765258836, 'n_2': 0.8221457290255261, 'n_3': 0.5383592597834825}. Best is trial 673 with value: 0.3697033316667104.\u001b[0m\n",
      "\u001b[32m[I 2021-06-23 19:14:48,099]\u001b[0m Trial 804 finished with value: 0.37333567487619873 and parameters: {'n_1': 0.4190280076738583, 'n_2': 0.033836331266151334, 'n_3': 0.5172331969620803}. Best is trial 673 with value: 0.3697033316667104.\u001b[0m\n",
      "\u001b[32m[I 2021-06-23 19:14:48,116]\u001b[0m Trial 805 finished with value: 0.37182522036198734 and parameters: {'n_1': 0.4998623889556424, 'n_2': 0.016421718896804913, 'n_3': 0.5037002906600829}. Best is trial 673 with value: 0.3697033316667104.\u001b[0m\n",
      "\u001b[32m[I 2021-06-23 19:14:48,136]\u001b[0m Trial 806 finished with value: 0.37028535299005655 and parameters: {'n_1': 0.4552717010196545, 'n_2': 0.000843052985884667, 'n_3': 0.5525562071435994}. Best is trial 673 with value: 0.3697033316667104.\u001b[0m\n",
      "\u001b[32m[I 2021-06-23 19:14:48,154]\u001b[0m Trial 807 finished with value: 0.3705774840181247 and parameters: {'n_1': 0.4858601748517627, 'n_2': 0.0008982737575603184, 'n_3': 0.5278088275461603}. Best is trial 673 with value: 0.3697033316667104.\u001b[0m\n",
      "\u001b[32m[I 2021-06-23 19:14:48,172]\u001b[0m Trial 808 finished with value: 0.7492876785809095 and parameters: {'n_1': 0.47280860527155083, 'n_2': 0.03126460493650928, 'n_3': 0.9590613649656463}. Best is trial 673 with value: 0.3697033316667104.\u001b[0m\n",
      "\u001b[32m[I 2021-06-23 19:14:48,197]\u001b[0m Trial 809 finished with value: 0.3698902360521454 and parameters: {'n_1': 0.5038194836646427, 'n_2': 0.000226764337514197, 'n_3': 0.4849963150814907}. Best is trial 673 with value: 0.3697033316667104.\u001b[0m\n",
      "\u001b[32m[I 2021-06-23 19:14:48,220]\u001b[0m Trial 810 finished with value: 0.3942164057320215 and parameters: {'n_1': 0.44626671551870467, 'n_2': 0.07288076851417276, 'n_3': 0.5696597437515951}. Best is trial 673 with value: 0.3697033316667104.\u001b[0m\n",
      "\u001b[32m[I 2021-06-23 19:14:48,238]\u001b[0m Trial 811 finished with value: 0.370805694176354 and parameters: {'n_1': 0.4815835376437387, 'n_2': 0.017954012814396184, 'n_3': 0.506398466572845}. Best is trial 673 with value: 0.3697033316667104.\u001b[0m\n",
      "\u001b[32m[I 2021-06-23 19:14:48,256]\u001b[0m Trial 812 finished with value: 0.37836830370129937 and parameters: {'n_1': 0.460531572443437, 'n_2': 0.04684081011005256, 'n_3': 0.5393532210666786}. Best is trial 673 with value: 0.3697033316667104.\u001b[0m\n",
      "\u001b[32m[I 2021-06-23 19:14:48,276]\u001b[0m Trial 813 finished with value: 0.47719621646492855 and parameters: {'n_1': 0.7263150012991306, 'n_2': 0.0003483537394070866, 'n_3': 0.49390619213105236}. Best is trial 673 with value: 0.3697033316667104.\u001b[0m\n",
      "\u001b[32m[I 2021-06-23 19:14:48,293]\u001b[0m Trial 814 finished with value: 0.41164000131240797 and parameters: {'n_1': 0.503982446302792, 'n_2': 0.02989111800156965, 'n_3': 0.5925180240289011}. Best is trial 673 with value: 0.3697033316667104.\u001b[0m\n",
      "\u001b[32m[I 2021-06-23 19:14:48,311]\u001b[0m Trial 815 finished with value: 0.3722385641640911 and parameters: {'n_1': 0.42658079537846005, 'n_2': 0.015870385150553844, 'n_3': 0.5276471899458228}. Best is trial 673 with value: 0.3697033316667104.\u001b[0m\n",
      "\u001b[32m[I 2021-06-23 19:14:48,329]\u001b[0m Trial 816 finished with value: 0.37127574282929876 and parameters: {'n_1': 0.448500152082592, 'n_2': 0.016422090156450405, 'n_3': 0.5143209444686948}. Best is trial 673 with value: 0.3697033316667104.\u001b[0m\n"
     ]
    },
    {
     "name": "stderr",
     "output_type": "stream",
     "text": [
      "\u001b[32m[I 2021-06-23 19:14:48,346]\u001b[0m Trial 817 finished with value: 0.3740098913393582 and parameters: {'n_1': 0.485057364166756, 'n_2': 0.0009128852562154031, 'n_3': 0.5508094924822423}. Best is trial 673 with value: 0.3697033316667104.\u001b[0m\n",
      "\u001b[32m[I 2021-06-23 19:14:48,364]\u001b[0m Trial 818 finished with value: 0.3697645913474773 and parameters: {'n_1': 0.5150836340737099, 'n_2': 5.6732292823514715e-05, 'n_3': 0.4839113378700874}. Best is trial 673 with value: 0.3697033316667104.\u001b[0m\n",
      "\u001b[32m[I 2021-06-23 19:14:48,381]\u001b[0m Trial 819 finished with value: 0.3699068477832229 and parameters: {'n_1': 0.5225541774539199, 'n_2': 0.0004497754271887022, 'n_3': 0.4702285349263392}. Best is trial 673 with value: 0.3697033316667104.\u001b[0m\n",
      "\u001b[32m[I 2021-06-23 19:14:48,397]\u001b[0m Trial 820 finished with value: 0.3775342409821445 and parameters: {'n_1': 0.5197398417058715, 'n_2': 0.04684627205080308, 'n_3': 0.4788610522861452}. Best is trial 673 with value: 0.3697033316667104.\u001b[0m\n",
      "\u001b[32m[I 2021-06-23 19:14:48,415]\u001b[0m Trial 821 finished with value: 0.37440284361627185 and parameters: {'n_1': 0.5122322474591791, 'n_2': 0.03372747650397989, 'n_3': 0.4866232962386656}. Best is trial 673 with value: 0.3697033316667104.\u001b[0m\n",
      "\u001b[32m[I 2021-06-23 19:14:48,433]\u001b[0m Trial 822 finished with value: 0.38706115777996203 and parameters: {'n_1': 0.5465932810287939, 'n_2': 0.0631184245233235, 'n_3': 0.4660604273861357}. Best is trial 673 with value: 0.3697033316667104.\u001b[0m\n",
      "\u001b[32m[I 2021-06-23 19:14:48,452]\u001b[0m Trial 823 finished with value: 0.37593699742359027 and parameters: {'n_1': 0.5311914452210307, 'n_2': 0.021050384021089105, 'n_3': 0.49112876831632546}. Best is trial 673 with value: 0.3697033316667104.\u001b[0m\n",
      "\u001b[32m[I 2021-06-23 19:14:48,470]\u001b[0m Trial 824 finished with value: 0.3696754822311988 and parameters: {'n_1': 0.4957796898371655, 'n_2': 8.992617273846838e-05, 'n_3': 0.5016586246194995}. Best is trial 824 with value: 0.3696754822311988.\u001b[0m\n",
      "\u001b[32m[I 2021-06-23 19:14:48,489]\u001b[0m Trial 825 finished with value: 0.38081808562488667 and parameters: {'n_1': 0.5077695371524146, 'n_2': 0.08688966580012954, 'n_3': 0.4568831277408179}. Best is trial 824 with value: 0.3696754822311988.\u001b[0m\n",
      "\u001b[32m[I 2021-06-23 19:14:48,506]\u001b[0m Trial 826 finished with value: 0.370556608116915 and parameters: {'n_1': 0.4923134441637204, 'n_2': 0.0162209287146295, 'n_3': 0.48646216954349886}. Best is trial 824 with value: 0.3696754822311988.\u001b[0m\n",
      "\u001b[32m[I 2021-06-23 19:14:48,524]\u001b[0m Trial 827 finished with value: 0.37197896384832624 and parameters: {'n_1': 0.5235937718455244, 'n_2': 0.0003637777274607475, 'n_3': 0.502962847317519}. Best is trial 824 with value: 0.3696754822311988.\u001b[0m\n",
      "\u001b[32m[I 2021-06-23 19:14:48,542]\u001b[0m Trial 828 finished with value: 0.3718257397649197 and parameters: {'n_1': 0.47796117094233115, 'n_2': 0.036575059587315634, 'n_3': 0.4753394652325178}. Best is trial 824 with value: 0.3696754822311988.\u001b[0m\n",
      "\u001b[32m[I 2021-06-23 19:14:48,560]\u001b[0m Trial 829 finished with value: 0.37347500481774576 and parameters: {'n_1': 0.5013910591134232, 'n_2': 0.01808728709494599, 'n_3': 0.5115703404426987}. Best is trial 824 with value: 0.3696754822311988.\u001b[0m\n",
      "\u001b[32m[I 2021-06-23 19:14:48,579]\u001b[0m Trial 830 finished with value: 0.3844642479382924 and parameters: {'n_1': 0.5395172243680443, 'n_2': 0.03811301693583087, 'n_3': 0.4932345740343378}. Best is trial 824 with value: 0.3696754822311988.\u001b[0m\n",
      "\u001b[32m[I 2021-06-23 19:14:48,597]\u001b[0m Trial 831 finished with value: 0.3783925043640831 and parameters: {'n_1': 0.4715663634808825, 'n_2': 0.0005417056385016329, 'n_3': 0.4656828778534914}. Best is trial 824 with value: 0.3696754822311988.\u001b[0m\n",
      "\u001b[32m[I 2021-06-23 19:14:48,615]\u001b[0m Trial 832 finished with value: 0.37340541636381547 and parameters: {'n_1': 0.5164007752382186, 'n_2': 0.0005649683729211423, 'n_3': 0.518107226468051}. Best is trial 824 with value: 0.3696754822311988.\u001b[0m\n",
      "\u001b[32m[I 2021-06-23 19:14:48,632]\u001b[0m Trial 833 finished with value: 0.37914757699193996 and parameters: {'n_1': 0.4941259794655726, 'n_2': 0.0007486396290248355, 'n_3': 0.4417798382977837}. Best is trial 824 with value: 0.3696754822311988.\u001b[0m\n",
      "\u001b[32m[I 2021-06-23 19:14:48,652]\u001b[0m Trial 834 finished with value: 0.37687265650386487 and parameters: {'n_1': 0.48162422948186473, 'n_2': 0.06189068325931439, 'n_3': 0.4947849869382491}. Best is trial 824 with value: 0.3696754822311988.\u001b[0m\n",
      "\u001b[32m[I 2021-06-23 19:14:48,671]\u001b[0m Trial 835 finished with value: 0.36968233508751325 and parameters: {'n_1': 0.46700927681570975, 'n_2': 0.0001442262045833069, 'n_3': 0.5291259721213449}. Best is trial 824 with value: 0.3696754822311988.\u001b[0m\n",
      "\u001b[32m[I 2021-06-23 19:14:48,689]\u001b[0m Trial 836 finished with value: 0.3712800204688417 and parameters: {'n_1': 0.46495238503984804, 'n_2': 0.017800791947225204, 'n_3': 0.5295467659493617}. Best is trial 824 with value: 0.3696754822311988.\u001b[0m\n",
      "\u001b[32m[I 2021-06-23 19:14:48,706]\u001b[0m Trial 837 finished with value: 0.40228313010234956 and parameters: {'n_1': 0.5062816478841334, 'n_2': 0.032969882745079324, 'n_3': 0.5707621529279913}. Best is trial 824 with value: 0.3696754822311988.\u001b[0m\n",
      "\u001b[32m[I 2021-06-23 19:14:48,724]\u001b[0m Trial 838 finished with value: 0.6747501933620978 and parameters: {'n_1': 0.49033060338192935, 'n_2': 0.001127675298224589, 'n_3': 0.10148162507662584}. Best is trial 824 with value: 0.3696754822311988.\u001b[0m\n",
      "\u001b[32m[I 2021-06-23 19:14:48,743]\u001b[0m Trial 839 finished with value: 1.2224370412616392 and parameters: {'n_1': 0.5702573225652061, 'n_2': 0.7470426745612131, 'n_3': 0.5506605893297734}. Best is trial 824 with value: 0.3696754822311988.\u001b[0m\n",
      "\u001b[32m[I 2021-06-23 19:14:48,762]\u001b[0m Trial 840 finished with value: 0.3755000586175546 and parameters: {'n_1': 0.4678180083767445, 'n_2': 0.04655202642677881, 'n_3': 0.5196974515974564}. Best is trial 824 with value: 0.3696754822311988.\u001b[0m\n",
      "\u001b[32m[I 2021-06-23 19:14:48,780]\u001b[0m Trial 841 finished with value: 0.37510198900831754 and parameters: {'n_1': 0.5340973839309917, 'n_2': 0.0003186774186498786, 'n_3': 0.42023754682796366}. Best is trial 824 with value: 0.3696754822311988.\u001b[0m\n",
      "\u001b[32m[I 2021-06-23 19:14:48,799]\u001b[0m Trial 842 finished with value: 0.37170434043473866 and parameters: {'n_1': 0.5156925040836925, 'n_2': 0.01910760094614038, 'n_3': 0.4827581431304853}. Best is trial 824 with value: 0.3696754822311988.\u001b[0m\n",
      "\u001b[32m[I 2021-06-23 19:14:48,818]\u001b[0m Trial 843 finished with value: 0.3697302076304464 and parameters: {'n_1': 0.4565713029039544, 'n_2': 0.00011332534447964078, 'n_3': 0.5358215925928769}. Best is trial 824 with value: 0.3696754822311988.\u001b[0m\n",
      "\u001b[32m[I 2021-06-23 19:14:48,836]\u001b[0m Trial 844 finished with value: 0.37352385976323405 and parameters: {'n_1': 0.4117830231018853, 'n_2': 0.029995996842105306, 'n_3': 0.5794033765773345}. Best is trial 824 with value: 0.3696754822311988.\u001b[0m\n",
      "\u001b[32m[I 2021-06-23 19:14:48,854]\u001b[0m Trial 845 finished with value: 0.3701523977276786 and parameters: {'n_1': 0.4260813596708099, 'n_2': 0.000509957221246624, 'n_3': 0.5581995331608156}. Best is trial 824 with value: 0.3696754822311988.\u001b[0m\n",
      "\u001b[32m[I 2021-06-23 19:14:48,872]\u001b[0m Trial 846 finished with value: 0.370545673360515 and parameters: {'n_1': 0.4374520058043018, 'n_2': 3.573440871729882e-05, 'n_3': 0.5397414184176085}. Best is trial 824 with value: 0.3696754822311988.\u001b[0m\n",
      "\u001b[32m[I 2021-06-23 19:14:48,890]\u001b[0m Trial 847 finished with value: 0.3724285475604208 and parameters: {'n_1': 0.4499344666203385, 'n_2': 0.04795920930205721, 'n_3': 0.5068532053851266}. Best is trial 824 with value: 0.3696754822311988.\u001b[0m\n",
      "\u001b[32m[I 2021-06-23 19:14:48,908]\u001b[0m Trial 848 finished with value: 0.3697365800468769 and parameters: {'n_1': 0.45713124830266516, 'n_2': 0.0004143001020513935, 'n_3': 0.5385854414586904}. Best is trial 824 with value: 0.3696754822311988.\u001b[0m\n",
      "\u001b[32m[I 2021-06-23 19:14:48,926]\u001b[0m Trial 849 finished with value: 0.3737116556801984 and parameters: {'n_1': 0.4390818282712336, 'n_2': 0.021441761830325305, 'n_3': 0.5672249877510461}. Best is trial 824 with value: 0.3696754822311988.\u001b[0m\n",
      "\u001b[32m[I 2021-06-23 19:14:48,942]\u001b[0m Trial 850 finished with value: 0.3721622506769594 and parameters: {'n_1': 0.3957424855072004, 'n_2': 0.01781660407468202, 'n_3': 0.59779351944206}. Best is trial 824 with value: 0.3696754822311988.\u001b[0m\n"
     ]
    },
    {
     "name": "stderr",
     "output_type": "stream",
     "text": [
      "\u001b[32m[I 2021-06-23 19:14:48,959]\u001b[0m Trial 851 finished with value: 0.37199626118869283 and parameters: {'n_1': 0.4148047601585969, 'n_2': 0.0003348872372601513, 'n_3': 0.5503255327514056}. Best is trial 824 with value: 0.3696754822311988.\u001b[0m\n",
      "\u001b[32m[I 2021-06-23 19:14:48,976]\u001b[0m Trial 852 finished with value: 0.3929768920486198 and parameters: {'n_1': 0.4558354972342132, 'n_2': 0.05439695948087563, 'n_3': 0.5773585280717431}. Best is trial 824 with value: 0.3696754822311988.\u001b[0m\n",
      "\u001b[32m[I 2021-06-23 19:14:48,992]\u001b[0m Trial 853 finished with value: 0.3717235659987378 and parameters: {'n_1': 0.43219619809288384, 'n_2': 0.032249558622966495, 'n_3': 0.5395843871508806}. Best is trial 824 with value: 0.3696754822311988.\u001b[0m\n",
      "\u001b[32m[I 2021-06-23 19:14:49,010]\u001b[0m Trial 854 finished with value: 0.37461552980084983 and parameters: {'n_1': 0.4579540956118415, 'n_2': 0.017792499267574438, 'n_3': 0.5591753145481505}. Best is trial 824 with value: 0.3696754822311988.\u001b[0m\n",
      "\u001b[32m[I 2021-06-23 19:14:49,026]\u001b[0m Trial 855 finished with value: 0.3709726788947563 and parameters: {'n_1': 0.43981538258088837, 'n_2': 0.00026078927815004205, 'n_3': 0.5328432514937096}. Best is trial 824 with value: 0.3696754822311988.\u001b[0m\n",
      "\u001b[32m[I 2021-06-23 19:14:49,043]\u001b[0m Trial 856 finished with value: 0.3721212170644727 and parameters: {'n_1': 0.4178603525190196, 'n_2': 0.0007442959176999697, 'n_3': 0.5460579460154169}. Best is trial 824 with value: 0.3696754822311988.\u001b[0m\n",
      "\u001b[32m[I 2021-06-23 19:14:49,060]\u001b[0m Trial 857 finished with value: 0.39216059719376517 and parameters: {'n_1': 0.4650347106429629, 'n_2': 0.030397702325578677, 'n_3': 0.5920538727576186}. Best is trial 824 with value: 0.3696754822311988.\u001b[0m\n",
      "\u001b[32m[I 2021-06-23 19:14:49,078]\u001b[0m Trial 858 finished with value: 0.3697480160133437 and parameters: {'n_1': 0.4597782960654502, 'n_2': 0.0007577945534522409, 'n_3': 0.5322129638841219}. Best is trial 824 with value: 0.3696754822311988.\u001b[0m\n",
      "\u001b[32m[I 2021-06-23 19:14:49,106]\u001b[0m Trial 859 finished with value: 0.37040613072547657 and parameters: {'n_1': 0.4368163778968422, 'n_2': 0.0002373118027441546, 'n_3': 0.57083636586866}. Best is trial 824 with value: 0.3696754822311988.\u001b[0m\n",
      "\u001b[32m[I 2021-06-23 19:14:49,137]\u001b[0m Trial 860 finished with value: 0.3875709508262012 and parameters: {'n_1': 0.4554398214272168, 'n_2': 0.0641202253383565, 'n_3': 0.5542200703085015}. Best is trial 824 with value: 0.3696754822311988.\u001b[0m\n",
      "\u001b[32m[I 2021-06-23 19:14:49,155]\u001b[0m Trial 861 finished with value: 0.3725213440954217 and parameters: {'n_1': 0.40985815768041894, 'n_2': 0.043720610171149026, 'n_3': 0.5331950391774322}. Best is trial 824 with value: 0.3696754822311988.\u001b[0m\n",
      "\u001b[32m[I 2021-06-23 19:14:49,173]\u001b[0m Trial 862 finished with value: 0.372722243493703 and parameters: {'n_1': 0.4293074940321488, 'n_2': 0.017776291216417796, 'n_3': 0.5742273077440223}. Best is trial 824 with value: 0.3696754822311988.\u001b[0m\n",
      "\u001b[32m[I 2021-06-23 19:14:49,192]\u001b[0m Trial 863 finished with value: 0.3945662809699501 and parameters: {'n_1': 0.45896978979237385, 'n_2': 0.09883701279282922, 'n_3': 0.5309123183507494}. Best is trial 824 with value: 0.3696754822311988.\u001b[0m\n",
      "\u001b[32m[I 2021-06-23 19:14:49,209]\u001b[0m Trial 864 finished with value: 0.3725955012170684 and parameters: {'n_1': 0.39754030087224773, 'n_2': 0.018182070484595067, 'n_3': 0.5538341812614976}. Best is trial 824 with value: 0.3696754822311988.\u001b[0m\n",
      "\u001b[32m[I 2021-06-23 19:14:49,226]\u001b[0m Trial 865 finished with value: 0.6954597744479211 and parameters: {'n_1': 0.4478372399128262, 'n_2': 0.4570875162448485, 'n_3': 0.5256037483111049}. Best is trial 824 with value: 0.3696754822311988.\u001b[0m\n",
      "\u001b[32m[I 2021-06-23 19:14:49,243]\u001b[0m Trial 866 finished with value: 0.37797615301653975 and parameters: {'n_1': 0.46799244934305345, 'n_2': 0.033083625357160966, 'n_3': 0.546563761909244}. Best is trial 824 with value: 0.3696754822311988.\u001b[0m\n",
      "\u001b[32m[I 2021-06-23 19:14:49,260]\u001b[0m Trial 867 finished with value: 0.37538038253695327 and parameters: {'n_1': 0.4307494850687899, 'n_2': 0.0159814073442238, 'n_3': 0.5897894693528085}. Best is trial 824 with value: 0.3696754822311988.\u001b[0m\n",
      "\u001b[32m[I 2021-06-23 19:14:49,278]\u001b[0m Trial 868 finished with value: 0.371560427084038 and parameters: {'n_1': 0.4480715994066921, 'n_2': 0.0008538451697067469, 'n_3': 0.5194570379180836}. Best is trial 824 with value: 0.3696754822311988.\u001b[0m\n",
      "\u001b[32m[I 2021-06-23 19:14:49,294]\u001b[0m Trial 869 finished with value: 0.3725342692497254 and parameters: {'n_1': 0.4728276139726374, 'n_2': 0.000371661877383648, 'n_3': 0.5552878756013737}. Best is trial 824 with value: 0.3696754822311988.\u001b[0m\n",
      "\u001b[32m[I 2021-06-23 19:14:49,311]\u001b[0m Trial 870 finished with value: 0.37284537961351627 and parameters: {'n_1': 0.4168407930108823, 'n_2': 0.05105852094026649, 'n_3': 0.5363154736633307}. Best is trial 824 with value: 0.3696754822311988.\u001b[0m\n",
      "\u001b[32m[I 2021-06-23 19:14:49,329]\u001b[0m Trial 871 finished with value: 0.3700461445002794 and parameters: {'n_1': 0.46390204666805446, 'n_2': 0.00040426551906714593, 'n_3': 0.5193444596479561}. Best is trial 824 with value: 0.3696754822311988.\u001b[0m\n",
      "\u001b[32m[I 2021-06-23 19:14:49,346]\u001b[0m Trial 872 finished with value: 0.5626079153981485 and parameters: {'n_1': 0.44207956530211623, 'n_2': 0.2904373324101375, 'n_3': 0.5720757159246833}. Best is trial 824 with value: 0.3696754822311988.\u001b[0m\n",
      "\u001b[32m[I 2021-06-23 19:14:49,364]\u001b[0m Trial 873 finished with value: 0.3701051515426222 and parameters: {'n_1': 0.47328205922055605, 'n_2': 0.00010447885885471843, 'n_3': 0.5092443557968905}. Best is trial 824 with value: 0.3696754822311988.\u001b[0m\n",
      "\u001b[32m[I 2021-06-23 19:14:49,381]\u001b[0m Trial 874 finished with value: 0.38008789254644604 and parameters: {'n_1': 0.47928096495140105, 'n_2': 0.031134779688424867, 'n_3': 0.5456623053068355}. Best is trial 824 with value: 0.3696754822311988.\u001b[0m\n",
      "\u001b[32m[I 2021-06-23 19:14:49,398]\u001b[0m Trial 875 finished with value: 0.3813878498554862 and parameters: {'n_1': 0.44998857928738173, 'n_2': 0.07354215259182534, 'n_3': 0.5300957960681328}. Best is trial 824 with value: 0.3696754822311988.\u001b[0m\n",
      "\u001b[32m[I 2021-06-23 19:14:49,415]\u001b[0m Trial 876 finished with value: 0.37903289617603775 and parameters: {'n_1': 0.42670794270062407, 'n_2': 6.16123388899198e-05, 'n_3': 0.507163273679012}. Best is trial 824 with value: 0.3696754822311988.\u001b[0m\n",
      "\u001b[32m[I 2021-06-23 19:14:49,433]\u001b[0m Trial 877 finished with value: 0.38297579276855875 and parameters: {'n_1': 0.485747793336213, 'n_2': 0.019681185433440863, 'n_3': 0.5609714308977644}. Best is trial 824 with value: 0.3696754822311988.\u001b[0m\n",
      "\u001b[32m[I 2021-06-23 19:14:49,450]\u001b[0m Trial 878 finished with value: 0.3771447263323476 and parameters: {'n_1': 0.4595779385734604, 'n_2': 0.04526579235013757, 'n_3': 0.5369675896878618}. Best is trial 824 with value: 0.3696754822311988.\u001b[0m\n",
      "\u001b[32m[I 2021-06-23 19:14:49,468]\u001b[0m Trial 879 finished with value: 0.3796441983608518 and parameters: {'n_1': 0.40293929386223537, 'n_2': 0.019269008869209975, 'n_3': 0.5137019200533439}. Best is trial 824 with value: 0.3696754822311988.\u001b[0m\n",
      "\u001b[32m[I 2021-06-23 19:14:49,487]\u001b[0m Trial 880 finished with value: 0.3830859967229018 and parameters: {'n_1': 0.4866180184298919, 'n_2': 0.0007650263172205803, 'n_3': 0.5807913850495595}. Best is trial 824 with value: 0.3696754822311988.\u001b[0m\n",
      "\u001b[32m[I 2021-06-23 19:14:49,503]\u001b[0m Trial 881 finished with value: 0.3718763726324712 and parameters: {'n_1': 0.442215600083255, 'n_2': 0.03608779934415873, 'n_3': 0.5268153682764255}. Best is trial 824 with value: 0.3696754822311988.\u001b[0m\n",
      "\u001b[32m[I 2021-06-23 19:14:49,520]\u001b[0m Trial 882 finished with value: 0.3777951409652673 and parameters: {'n_1': 0.4651310984467136, 'n_2': 0.021870301621621485, 'n_3': 0.5612784581274516}. Best is trial 824 with value: 0.3696754822311988.\u001b[0m\n",
      "\u001b[32m[I 2021-06-23 19:14:49,537]\u001b[0m Trial 883 finished with value: 0.3779721964416596 and parameters: {'n_1': 0.4836493243767986, 'n_2': 0.054150373545959946, 'n_3': 0.5072569358896887}. Best is trial 824 with value: 0.3696754822311988.\u001b[0m\n",
      "\u001b[32m[I 2021-06-23 19:14:49,555]\u001b[0m Trial 884 finished with value: 0.3721422403727837 and parameters: {'n_1': 0.42225284988733147, 'n_2': 0.0003630665129666178, 'n_3': 0.5416488579872442}. Best is trial 824 with value: 0.3696754822311988.\u001b[0m\n"
     ]
    },
    {
     "name": "stderr",
     "output_type": "stream",
     "text": [
      "\u001b[32m[I 2021-06-23 19:14:49,572]\u001b[0m Trial 885 finished with value: 0.4093711219835244 and parameters: {'n_1': 0.4505525382604519, 'n_2': 0.1644968388306406, 'n_3': 0.5002469639548969}. Best is trial 824 with value: 0.3696754822311988.\u001b[0m\n",
      "\u001b[32m[I 2021-06-23 19:14:49,590]\u001b[0m Trial 886 finished with value: 0.3697462655900753 and parameters: {'n_1': 0.4657937469387582, 'n_2': 0.00036376711305743676, 'n_3': 0.5245629900330634}. Best is trial 824 with value: 0.3696754822311988.\u001b[0m\n",
      "\u001b[32m[I 2021-06-23 19:14:49,607]\u001b[0m Trial 887 finished with value: 0.37158136657847357 and parameters: {'n_1': 0.43691263531098923, 'n_2': 0.017668055847538108, 'n_3': 0.5580652922755988}. Best is trial 824 with value: 0.3696754822311988.\u001b[0m\n",
      "\u001b[32m[I 2021-06-23 19:14:49,624]\u001b[0m Trial 888 finished with value: 0.4025546777544875 and parameters: {'n_1': 0.4881436625382765, 'n_2': 0.03428023283705205, 'n_3': 0.5871920685814466}. Best is trial 824 with value: 0.3696754822311988.\u001b[0m\n",
      "\u001b[32m[I 2021-06-23 19:14:49,642]\u001b[0m Trial 889 finished with value: 0.3715563952146391 and parameters: {'n_1': 0.4535673279951658, 'n_2': 0.02166576615172896, 'n_3': 0.5371192863404182}. Best is trial 824 with value: 0.3696754822311988.\u001b[0m\n",
      "\u001b[32m[I 2021-06-23 19:14:49,660]\u001b[0m Trial 890 finished with value: 0.369731796503876 and parameters: {'n_1': 0.47043793260141, 'n_2': 0.0008365209002977172, 'n_3': 0.5210728134161333}. Best is trial 824 with value: 0.3696754822311988.\u001b[0m\n",
      "\u001b[32m[I 2021-06-23 19:14:49,678]\u001b[0m Trial 891 finished with value: 0.3705370801488587 and parameters: {'n_1': 0.46317671836613994, 'n_2': 9.607248548453128e-05, 'n_3': 0.5496327813180746}. Best is trial 824 with value: 0.3696754822311988.\u001b[0m\n",
      "\u001b[32m[I 2021-06-23 19:14:49,696]\u001b[0m Trial 892 finished with value: 0.37225822377456025 and parameters: {'n_1': 0.4218420569121699, 'n_2': 0.03937578947479134, 'n_3': 0.524134876597824}. Best is trial 824 with value: 0.3696754822311988.\u001b[0m\n",
      "\u001b[32m[I 2021-06-23 19:14:49,715]\u001b[0m Trial 893 finished with value: 0.37038860065163315 and parameters: {'n_1': 0.43657644171495286, 'n_2': 2.8187488850003168e-05, 'n_3': 0.5711333982539384}. Best is trial 824 with value: 0.3696754822311988.\u001b[0m\n",
      "\u001b[32m[I 2021-06-23 19:14:49,733]\u001b[0m Trial 894 finished with value: 0.3700406434918058 and parameters: {'n_1': 0.46716789546272763, 'n_2': 0.0003337765421859382, 'n_3': 0.5392728814159774}. Best is trial 824 with value: 0.3696754822311988.\u001b[0m\n",
      "\u001b[32m[I 2021-06-23 19:14:49,752]\u001b[0m Trial 895 finished with value: 0.8663499445105513 and parameters: {'n_1': 0.9845849859104482, 'n_2': 0.06977575903883221, 'n_3': 0.5248645122068925}. Best is trial 824 with value: 0.3696754822311988.\u001b[0m\n",
      "\u001b[32m[I 2021-06-23 19:14:49,770]\u001b[0m Trial 896 finished with value: 0.3726424872990437 and parameters: {'n_1': 0.47116070522662074, 'n_2': 0.000498042911560593, 'n_3': 0.557308555067783}. Best is trial 824 with value: 0.3696754822311988.\u001b[0m\n",
      "\u001b[32m[I 2021-06-23 19:14:49,790]\u001b[0m Trial 897 finished with value: 0.3712192415401873 and parameters: {'n_1': 0.448452452178732, 'n_2': 0.01979916005987996, 'n_3': 0.5142668343675245}. Best is trial 824 with value: 0.3696754822311988.\u001b[0m\n",
      "\u001b[32m[I 2021-06-23 19:14:49,808]\u001b[0m Trial 898 finished with value: 0.3789716707948015 and parameters: {'n_1': 0.4030152454417305, 'n_2': 0.04841683689663164, 'n_3': 0.5927388540227095}. Best is trial 824 with value: 0.3696754822311988.\u001b[0m\n",
      "\u001b[32m[I 2021-06-23 19:14:49,825]\u001b[0m Trial 899 finished with value: 0.37556283489955467 and parameters: {'n_1': 0.4810969156984228, 'n_2': 0.01913591649180533, 'n_3': 0.5403074444707666}. Best is trial 824 with value: 0.3696754822311988.\u001b[0m\n",
      "\u001b[32m[I 2021-06-23 19:14:49,843]\u001b[0m Trial 900 finished with value: 0.3771960101912998 and parameters: {'n_1': 0.4381813939870702, 'n_2': 0.03294221458859118, 'n_3': 0.5713347860420229}. Best is trial 824 with value: 0.3696754822311988.\u001b[0m\n",
      "\u001b[32m[I 2021-06-23 19:14:49,862]\u001b[0m Trial 901 finished with value: 0.3724441294928243 and parameters: {'n_1': 0.4558008068733449, 'n_2': 0.00012391893286028445, 'n_3': 0.5065101337455145}. Best is trial 824 with value: 0.3696754822311988.\u001b[0m\n",
      "\u001b[32m[I 2021-06-23 19:14:49,880]\u001b[0m Trial 902 finished with value: 0.3748237689256468 and parameters: {'n_1': 0.48769151095172486, 'n_2': 0.022507315578487813, 'n_3': 0.526578609388869}. Best is trial 824 with value: 0.3696754822311988.\u001b[0m\n",
      "\u001b[32m[I 2021-06-23 19:14:49,896]\u001b[0m Trial 903 finished with value: 0.3758780490372706 and parameters: {'n_1': 0.4188558420136823, 'n_2': 0.05518939245772004, 'n_3': 0.5562056109660475}. Best is trial 824 with value: 0.3696754822311988.\u001b[0m\n",
      "\u001b[32m[I 2021-06-23 19:14:49,916]\u001b[0m Trial 904 finished with value: 0.37077270307097604 and parameters: {'n_1': 0.47095445774305267, 'n_2': 0.017517281180107265, 'n_3': 0.49970370686647364}. Best is trial 824 with value: 0.3696754822311988.\u001b[0m\n",
      "\u001b[32m[I 2021-06-23 19:14:49,933]\u001b[0m Trial 905 finished with value: 0.36979637444558083 and parameters: {'n_1': 0.45325345699888514, 'n_2': 0.0012932886867248676, 'n_3': 0.5406092741566562}. Best is trial 824 with value: 0.3696754822311988.\u001b[0m\n",
      "\u001b[32m[I 2021-06-23 19:14:49,952]\u001b[0m Trial 906 finished with value: 0.37073625261468957 and parameters: {'n_1': 0.40250162724853683, 'n_2': 0.00046086371100516864, 'n_3': 0.5755330034575612}. Best is trial 824 with value: 0.3696754822311988.\u001b[0m\n",
      "\u001b[32m[I 2021-06-23 19:14:49,969]\u001b[0m Trial 907 finished with value: 0.37009043175027817 and parameters: {'n_1': 0.4340058011423259, 'n_2': 0.00037361119361645304, 'n_3': 0.5503030573226897}. Best is trial 824 with value: 0.3696754822311988.\u001b[0m\n",
      "\u001b[32m[I 2021-06-23 19:14:49,986]\u001b[0m Trial 908 finished with value: 0.3738864941509088 and parameters: {'n_1': 0.4217498188992275, 'n_2': 0.03620017910199198, 'n_3': 0.5652396504024417}. Best is trial 824 with value: 0.3696754822311988.\u001b[0m\n",
      "\u001b[32m[I 2021-06-23 19:14:50,003]\u001b[0m Trial 909 finished with value: 0.39420769733578553 and parameters: {'n_1': 0.460346130141627, 'n_2': 0.08517008732475749, 'n_3': 0.5433486680985469}. Best is trial 824 with value: 0.3696754822311988.\u001b[0m\n",
      "\u001b[32m[I 2021-06-23 19:14:50,020]\u001b[0m Trial 910 finished with value: 0.3799894683694815 and parameters: {'n_1': 0.4438515997640298, 'n_2': 0.02163631565319193, 'n_3': 0.5890090301141961}. Best is trial 824 with value: 0.3696754822311988.\u001b[0m\n",
      "\u001b[32m[I 2021-06-23 19:14:50,038]\u001b[0m Trial 911 finished with value: 0.36982945213446017 and parameters: {'n_1': 0.4497195664470213, 'n_2': 0.0005835991957520518, 'n_3': 0.5396438779249132}. Best is trial 824 with value: 0.3696754822311988.\u001b[0m\n",
      "\u001b[32m[I 2021-06-23 19:14:50,057]\u001b[0m Trial 912 finished with value: 0.3810566337843138 and parameters: {'n_1': 0.39847948520781606, 'n_2': 0.000379404491542901, 'n_3': 0.5283215474808339}. Best is trial 824 with value: 0.3696754822311988.\u001b[0m\n",
      "\u001b[32m[I 2021-06-23 19:14:50,074]\u001b[0m Trial 913 finished with value: 0.37630879478623597 and parameters: {'n_1': 0.4217037206682015, 'n_2': 0.04672150618257391, 'n_3': 0.5662164758392456}. Best is trial 824 with value: 0.3696754822311988.\u001b[0m\n",
      "\u001b[32m[I 2021-06-23 19:14:50,092]\u001b[0m Trial 914 finished with value: 0.3707292741470998 and parameters: {'n_1': 0.4611675254448707, 'n_2': 0.0004710238760679121, 'n_3': 0.5528522916692694}. Best is trial 824 with value: 0.3696754822311988.\u001b[0m\n",
      "\u001b[32m[I 2021-06-23 19:14:50,109]\u001b[0m Trial 915 finished with value: 0.372880043794858 and parameters: {'n_1': 0.43517831798415413, 'n_2': 0.00024834589212303844, 'n_3': 0.5241986872502744}. Best is trial 824 with value: 0.3696754822311988.\u001b[0m\n",
      "\u001b[32m[I 2021-06-23 19:14:50,126]\u001b[0m Trial 916 finished with value: 0.8535041092887623 and parameters: {'n_1': 0.4739390512066564, 'n_2': 0.5535436517258798, 'n_3': 0.5399155914906554}. Best is trial 824 with value: 0.3696754822311988.\u001b[0m\n",
      "\u001b[32m[I 2021-06-23 19:14:50,144]\u001b[0m Trial 917 finished with value: 0.3915778313848102 and parameters: {'n_1': 0.4527840825264124, 'n_2': 0.03291398314667318, 'n_3': 0.5996110831629494}. Best is trial 824 with value: 0.3696754822311988.\u001b[0m\n",
      "\u001b[32m[I 2021-06-23 19:14:50,161]\u001b[0m Trial 918 finished with value: 0.37109799403856125 and parameters: {'n_1': 0.4978597203924273, 'n_2': 0.00028091689221075203, 'n_3': 0.5219222623842228}. Best is trial 824 with value: 0.3696754822311988.\u001b[0m\n"
     ]
    },
    {
     "name": "stderr",
     "output_type": "stream",
     "text": [
      "\u001b[32m[I 2021-06-23 19:14:50,179]\u001b[0m Trial 919 finished with value: 0.3742601835526943 and parameters: {'n_1': 0.4418779628919359, 'n_2': 0.017535101626658802, 'n_3': 0.572449006432792}. Best is trial 824 with value: 0.3696754822311988.\u001b[0m\n",
      "\u001b[32m[I 2021-06-23 19:14:50,197]\u001b[0m Trial 920 finished with value: 0.39432321727564473 and parameters: {'n_1': 0.4744739935951734, 'n_2': 0.0634995329210108, 'n_3': 0.5531650318033768}. Best is trial 824 with value: 0.3696754822311988.\u001b[0m\n",
      "\u001b[32m[I 2021-06-23 19:14:50,214]\u001b[0m Trial 921 finished with value: 0.37495464183056837 and parameters: {'n_1': 0.416848216458546, 'n_2': 0.0338509146339609, 'n_3': 0.5090459633878675}. Best is trial 824 with value: 0.3696754822311988.\u001b[0m\n",
      "\u001b[32m[I 2021-06-23 19:14:50,232]\u001b[0m Trial 922 finished with value: 0.3710048245041717 and parameters: {'n_1': 0.46015276877218514, 'n_2': 0.018953096354936007, 'n_3': 0.5281124779996502}. Best is trial 824 with value: 0.3696754822311988.\u001b[0m\n",
      "\u001b[32m[I 2021-06-23 19:14:50,249]\u001b[0m Trial 923 finished with value: 0.37824498463377065 and parameters: {'n_1': 0.49205770100877744, 'n_2': 0.016979869121306855, 'n_3': 0.5429596751608629}. Best is trial 824 with value: 0.3696754822311988.\u001b[0m\n",
      "\u001b[32m[I 2021-06-23 19:14:50,271]\u001b[0m Trial 924 finished with value: 0.37193565366921777 and parameters: {'n_1': 0.4393569338831364, 'n_2': 0.040656898489767036, 'n_3': 0.5162596279548163}. Best is trial 824 with value: 0.3696754822311988.\u001b[0m\n",
      "\u001b[32m[I 2021-06-23 19:14:50,292]\u001b[0m Trial 925 finished with value: 0.37134610915166 and parameters: {'n_1': 0.3895993951767882, 'n_2': 0.01801023978395983, 'n_3': 0.5816990903292591}. Best is trial 824 with value: 0.3696754822311988.\u001b[0m\n",
      "\u001b[32m[I 2021-06-23 19:14:50,310]\u001b[0m Trial 926 finished with value: 0.3731338259101124 and parameters: {'n_1': 0.4732955996328329, 'n_2': 0.0007399410937108472, 'n_3': 0.5577142628631746}. Best is trial 824 with value: 0.3696754822311988.\u001b[0m\n",
      "\u001b[32m[I 2021-06-23 19:14:50,329]\u001b[0m Trial 927 finished with value: 0.37349366281014174 and parameters: {'n_1': 0.45383827722819525, 'n_2': 0.0004370017486721373, 'n_3': 0.5024805515486529}. Best is trial 824 with value: 0.3696754822311988.\u001b[0m\n",
      "\u001b[32m[I 2021-06-23 19:14:50,347]\u001b[0m Trial 928 finished with value: 0.390255307579975 and parameters: {'n_1': 0.4952682507720955, 'n_2': 0.05398360430584032, 'n_3': 0.5340499835924574}. Best is trial 824 with value: 0.3696754822311988.\u001b[0m\n",
      "\u001b[32m[I 2021-06-23 19:14:50,366]\u001b[0m Trial 929 finished with value: 0.376792800039903 and parameters: {'n_1': 0.42242917017122633, 'n_2': 0.00036563169914812914, 'n_3': 0.5190121393411127}. Best is trial 824 with value: 0.3696754822311988.\u001b[0m\n",
      "\u001b[32m[I 2021-06-23 19:14:50,385]\u001b[0m Trial 930 finished with value: 0.3834163769410736 and parameters: {'n_1': 0.4691439483784398, 'n_2': 0.033476835458916936, 'n_3': 0.5629918635208349}. Best is trial 824 with value: 0.3696754822311988.\u001b[0m\n",
      "\u001b[32m[I 2021-06-23 19:14:50,404]\u001b[0m Trial 931 finished with value: 0.370979586227848 and parameters: {'n_1': 0.4940009163305926, 'n_2': 0.017939383571169663, 'n_3': 0.49744837912621387}. Best is trial 824 with value: 0.3696754822311988.\u001b[0m\n",
      "\u001b[32m[I 2021-06-23 19:14:50,426]\u001b[0m Trial 932 finished with value: 0.37104574586030203 and parameters: {'n_1': 0.4459214328268056, 'n_2': 0.019299842770482536, 'n_3': 0.5405316390256983}. Best is trial 824 with value: 0.3696754822311988.\u001b[0m\n",
      "\u001b[32m[I 2021-06-23 19:14:50,445]\u001b[0m Trial 933 finished with value: 0.3829043061570687 and parameters: {'n_1': 0.4762375696533811, 'n_2': 0.06625180835544725, 'n_3': 0.5186208831173112}. Best is trial 824 with value: 0.3696754822311988.\u001b[0m\n",
      "\u001b[32m[I 2021-06-23 19:14:50,463]\u001b[0m Trial 934 finished with value: 0.3727478045294803 and parameters: {'n_1': 0.42741435553525914, 'n_2': 0.04030437516467772, 'n_3': 0.5449698188147001}. Best is trial 824 with value: 0.3696754822311988.\u001b[0m\n",
      "\u001b[32m[I 2021-06-23 19:14:50,482]\u001b[0m Trial 935 finished with value: 0.4016500264730404 and parameters: {'n_1': 0.4969388072125429, 'n_2': 0.017937688182190895, 'n_3': 0.593933099124017}. Best is trial 824 with value: 0.3696754822311988.\u001b[0m\n",
      "\u001b[32m[I 2021-06-23 19:14:50,500]\u001b[0m Trial 936 finished with value: 0.3744247583174715 and parameters: {'n_1': 0.45913278619907977, 'n_2': 0.0006050452182544714, 'n_3': 0.49279508103589337}. Best is trial 824 with value: 0.3696754822311988.\u001b[0m\n",
      "\u001b[32m[I 2021-06-23 19:14:50,520]\u001b[0m Trial 937 finished with value: 0.3890861081782832 and parameters: {'n_1': 0.4779336036619567, 'n_2': 0.03490658989574159, 'n_3': 0.5680312885657682}. Best is trial 824 with value: 0.3696754822311988.\u001b[0m\n",
      "\u001b[32m[I 2021-06-23 19:14:50,537]\u001b[0m Trial 938 finished with value: 0.7185419992802675 and parameters: {'n_1': 0.911835852960135, 'n_2': 0.017392049998664304, 'n_3': 0.5246427314686672}. Best is trial 824 with value: 0.3696754822311988.\u001b[0m\n",
      "\u001b[32m[I 2021-06-23 19:14:50,556]\u001b[0m Trial 939 finished with value: 0.3724176553902312 and parameters: {'n_1': 0.4397253550356481, 'n_2': 0.048849639246537756, 'n_3': 0.5048747536927863}. Best is trial 824 with value: 0.3696754822311988.\u001b[0m\n",
      "\u001b[32m[I 2021-06-23 19:14:50,577]\u001b[0m Trial 940 finished with value: 0.3700558781683436 and parameters: {'n_1': 0.45711579989512613, 'n_2': 0.0006442468516163358, 'n_3': 0.5478114798138679}. Best is trial 824 with value: 0.3696754822311988.\u001b[0m\n",
      "\u001b[32m[I 2021-06-23 19:14:50,595]\u001b[0m Trial 941 finished with value: 0.37348660932147687 and parameters: {'n_1': 0.4150830540473022, 'n_2': 0.020431383259175612, 'n_3': 0.527926279549979}. Best is trial 824 with value: 0.3696754822311988.\u001b[0m\n",
      "\u001b[32m[I 2021-06-23 19:14:50,612]\u001b[0m Trial 942 finished with value: 0.4573115217129601 and parameters: {'n_1': 0.49807750939026435, 'n_2': 0.11893946215835582, 'n_3': 0.5734953994089858}. Best is trial 824 with value: 0.3696754822311988.\u001b[0m\n",
      "\u001b[32m[I 2021-06-23 19:14:50,629]\u001b[0m Trial 943 finished with value: 0.3716706301891396 and parameters: {'n_1': 0.4770596600546008, 'n_2': 0.03448745363191282, 'n_3': 0.49427875595785287}. Best is trial 824 with value: 0.3696754822311988.\u001b[0m\n",
      "\u001b[32m[I 2021-06-23 19:14:50,646]\u001b[0m Trial 944 finished with value: 0.37336368456788926 and parameters: {'n_1': 0.43354066007096964, 'n_2': 0.01613203694440211, 'n_3': 0.5128223240947971}. Best is trial 824 with value: 0.3696754822311988.\u001b[0m\n",
      "\u001b[32m[I 2021-06-23 19:14:50,665]\u001b[0m Trial 945 finished with value: 0.3702062284348718 and parameters: {'n_1': 0.4565373602468482, 'n_2': 0.0010699255884690428, 'n_3': 0.5499676805042133}. Best is trial 824 with value: 0.3696754822311988.\u001b[0m\n",
      "\u001b[32m[I 2021-06-23 19:14:50,683]\u001b[0m Trial 946 finished with value: 0.39351046483060204 and parameters: {'n_1': 0.4974221850156733, 'n_2': 0.05658107511451619, 'n_3': 0.5367851186450988}. Best is trial 824 with value: 0.3696754822311988.\u001b[0m\n",
      "\u001b[32m[I 2021-06-23 19:14:50,708]\u001b[0m Trial 947 finished with value: 0.37961375375539724 and parameters: {'n_1': 0.4020239764455603, 'n_2': 0.017799109811504562, 'n_3': 0.5158390128545971}. Best is trial 824 with value: 0.3696754822311988.\u001b[0m\n",
      "\u001b[32m[I 2021-06-23 19:14:50,729]\u001b[0m Trial 948 finished with value: 0.3790395490221491 and parameters: {'n_1': 0.4765227531139507, 'n_2': 0.07903391136418704, 'n_3': 0.48915989874881655}. Best is trial 824 with value: 0.3696754822311988.\u001b[0m\n",
      "\u001b[32m[I 2021-06-23 19:14:50,747]\u001b[0m Trial 949 finished with value: 0.377384148579004 and parameters: {'n_1': 0.44986781990635444, 'n_2': 0.03463830909837007, 'n_3': 0.559377106668095}. Best is trial 824 with value: 0.3696754822311988.\u001b[0m\n",
      "\u001b[32m[I 2021-06-23 19:14:50,765]\u001b[0m Trial 950 finished with value: 0.37797544640313724 and parameters: {'n_1': 0.5048616623420774, 'n_2': 0.015703329870408945, 'n_3': 0.5311530951056765}. Best is trial 824 with value: 0.3696754822311988.\u001b[0m\n",
      "\u001b[32m[I 2021-06-23 19:14:50,783]\u001b[0m Trial 951 finished with value: 0.38152736837870876 and parameters: {'n_1': 0.47111732972011516, 'n_2': 0.002200262131770974, 'n_3': 0.5894690633808425}. Best is trial 824 with value: 0.3696754822311988.\u001b[0m\n",
      "\u001b[32m[I 2021-06-23 19:14:50,802]\u001b[0m Trial 952 finished with value: 0.373822519157166 and parameters: {'n_1': 0.4304259255469404, 'n_2': 0.046732658693445464, 'n_3': 0.49529620759469684}. Best is trial 824 with value: 0.3696754822311988.\u001b[0m\n"
     ]
    },
    {
     "name": "stderr",
     "output_type": "stream",
     "text": [
      "\u001b[32m[I 2021-06-23 19:14:50,819]\u001b[0m Trial 953 finished with value: 0.3701505778275203 and parameters: {'n_1': 0.49215823272323794, 'n_2': 0.0007273506565298749, 'n_3': 0.5168584887553794}. Best is trial 824 with value: 0.3696754822311988.\u001b[0m\n",
      "\u001b[32m[I 2021-06-23 19:14:50,837]\u001b[0m Trial 954 finished with value: 0.3698489111212605 and parameters: {'n_1': 0.46109295417489704, 'n_2': 2.441297176654833e-05, 'n_3': 0.5414128811942347}. Best is trial 824 with value: 0.3696754822311988.\u001b[0m\n",
      "\u001b[32m[I 2021-06-23 19:14:50,855]\u001b[0m Trial 955 finished with value: 0.37089407072809577 and parameters: {'n_1': 0.4445735010925578, 'n_2': 0.0008180398808267485, 'n_3': 0.5687051118695673}. Best is trial 824 with value: 0.3696754822311988.\u001b[0m\n",
      "\u001b[32m[I 2021-06-23 19:14:50,874]\u001b[0m Trial 956 finished with value: 0.38117433392622424 and parameters: {'n_1': 0.5099973474066486, 'n_2': 0.036345472969252314, 'n_3': 0.5139928359478553}. Best is trial 824 with value: 0.3696754822311988.\u001b[0m\n",
      "\u001b[32m[I 2021-06-23 19:14:50,892]\u001b[0m Trial 957 finished with value: 0.3734955419298935 and parameters: {'n_1': 0.4819083326678117, 'n_2': 0.0010940754230992957, 'n_3': 0.5510644412791926}. Best is trial 824 with value: 0.3696754822311988.\u001b[0m\n",
      "\u001b[32m[I 2021-06-23 19:14:50,910]\u001b[0m Trial 958 finished with value: 0.3914456453631859 and parameters: {'n_1': 0.41869178749760505, 'n_2': 0.000671571492171982, 'n_3': 0.4819043534087303}. Best is trial 824 with value: 0.3696754822311988.\u001b[0m\n",
      "\u001b[32m[I 2021-06-23 19:14:50,927]\u001b[0m Trial 959 finished with value: 0.3749552003206478 and parameters: {'n_1': 0.4728956033799757, 'n_2': 0.029649928053342656, 'n_3': 0.5326945898604264}. Best is trial 824 with value: 0.3696754822311988.\u001b[0m\n",
      "\u001b[32m[I 2021-06-23 19:14:50,945]\u001b[0m Trial 960 finished with value: 0.37362973733064153 and parameters: {'n_1': 0.45373820357325956, 'n_2': 0.00033275386485294043, 'n_3': 0.5019658699227787}. Best is trial 824 with value: 0.3696754822311988.\u001b[0m\n",
      "\u001b[32m[I 2021-06-23 19:14:50,962]\u001b[0m Trial 961 finished with value: 0.3890663915312746 and parameters: {'n_1': 0.5090716637649663, 'n_2': 0.00015063321907280564, 'n_3': 0.5749990639625608}. Best is trial 824 with value: 0.3696754822311988.\u001b[0m\n",
      "\u001b[32m[I 2021-06-23 19:14:50,980]\u001b[0m Trial 962 finished with value: 0.37359134880522277 and parameters: {'n_1': 0.39422112935668774, 'n_2': 0.06228710651872671, 'n_3': 0.5336695477191047}. Best is trial 824 with value: 0.3696754822311988.\u001b[0m\n",
      "\u001b[32m[I 2021-06-23 19:14:50,998]\u001b[0m Trial 963 finished with value: 0.3756857153860805 and parameters: {'n_1': 0.4386768135882092, 'n_2': 0.00047556671126685105, 'n_3': 0.5073256895977392}. Best is trial 824 with value: 0.3696754822311988.\u001b[0m\n",
      "\u001b[32m[I 2021-06-23 19:14:51,017]\u001b[0m Trial 964 finished with value: 0.3752002863026983 and parameters: {'n_1': 0.4874543949254485, 'n_2': 4.877476373900099e-07, 'n_3': 0.5548734313892174}. Best is trial 824 with value: 0.3696754822311988.\u001b[0m\n",
      "\u001b[32m[I 2021-06-23 19:14:51,039]\u001b[0m Trial 965 finished with value: 0.3736381148050877 and parameters: {'n_1': 0.46401716935335074, 'n_2': 0.019683961921529554, 'n_3': 0.4793181501143719}. Best is trial 824 with value: 0.3696754822311988.\u001b[0m\n",
      "\u001b[32m[I 2021-06-23 19:14:51,060]\u001b[0m Trial 966 finished with value: 0.39165566170013566 and parameters: {'n_1': 0.4877029752691393, 'n_2': 0.0004625257457849394, 'n_3': 0.6007485963264259}. Best is trial 824 with value: 0.3696754822311988.\u001b[0m\n",
      "\u001b[32m[I 2021-06-23 19:14:51,088]\u001b[0m Trial 967 finished with value: 0.3718055881791945 and parameters: {'n_1': 0.43032588999653815, 'n_2': 0.029298785148855845, 'n_3': 0.5229787353601262}. Best is trial 824 with value: 0.3696754822311988.\u001b[0m\n",
      "\u001b[32m[I 2021-06-23 19:14:51,110]\u001b[0m Trial 968 finished with value: 0.37242941203258373 and parameters: {'n_1': 0.45826743181541557, 'n_2': 0.04972213206732228, 'n_3': 0.4947147498714501}. Best is trial 824 with value: 0.3696754822311988.\u001b[0m\n",
      "\u001b[32m[I 2021-06-23 19:14:51,129]\u001b[0m Trial 969 finished with value: 0.48774251834433907 and parameters: {'n_1': 0.5150278167378141, 'n_2': 0.017890000660945257, 'n_3': 0.23961261841836773}. Best is trial 824 with value: 0.3696754822311988.\u001b[0m\n",
      "\u001b[32m[I 2021-06-23 19:14:51,149]\u001b[0m Trial 970 finished with value: 0.37274984902077324 and parameters: {'n_1': 0.47651694072178585, 'n_2': 0.00042496368297226435, 'n_3': 0.5529957786203419}. Best is trial 824 with value: 0.3696754822311988.\u001b[0m\n",
      "\u001b[32m[I 2021-06-23 19:14:51,168]\u001b[0m Trial 971 finished with value: 0.3703752816216969 and parameters: {'n_1': 0.44792922773302624, 'n_2': 0.0005055969948727533, 'n_3': 0.5308066924476598}. Best is trial 824 with value: 0.3696754822311988.\u001b[0m\n",
      "\u001b[32m[I 2021-06-23 19:14:51,186]\u001b[0m Trial 972 finished with value: 0.37609192283503967 and parameters: {'n_1': 0.5011927573962016, 'n_2': 0.034224162416750706, 'n_3': 0.5055965769473224}. Best is trial 824 with value: 0.3696754822311988.\u001b[0m\n",
      "\u001b[32m[I 2021-06-23 19:14:51,206]\u001b[0m Trial 973 finished with value: 0.3712698163409747 and parameters: {'n_1': 0.40391369305230057, 'n_2': 0.018520494217814203, 'n_3': 0.5777120967693004}. Best is trial 824 with value: 0.3696754822311988.\u001b[0m\n",
      "\u001b[32m[I 2021-06-23 19:14:51,224]\u001b[0m Trial 974 finished with value: 0.37264568240827767 and parameters: {'n_1': 0.4667980109394343, 'n_2': 0.047156788415201926, 'n_3': 0.4718728850726647}. Best is trial 824 with value: 0.3696754822311988.\u001b[0m\n",
      "\u001b[32m[I 2021-06-23 19:14:51,241]\u001b[0m Trial 975 finished with value: 0.3711900435266731 and parameters: {'n_1': 0.42482846514144407, 'n_2': 0.018492870539521457, 'n_3': 0.5399793406099074}. Best is trial 824 with value: 0.3696754822311988.\u001b[0m\n",
      "\u001b[32m[I 2021-06-23 19:14:51,261]\u001b[0m Trial 976 finished with value: 0.4004495756220314 and parameters: {'n_1': 0.5254735152577236, 'n_2': 0.07065159590545467, 'n_3': 0.5096096154271174}. Best is trial 824 with value: 0.3696754822311988.\u001b[0m\n",
      "\u001b[32m[I 2021-06-23 19:14:51,280]\u001b[0m Trial 977 finished with value: 0.3887340527965204 and parameters: {'n_1': 0.486566113051826, 'n_2': 0.032978161871002054, 'n_3': 0.561035617387541}. Best is trial 824 with value: 0.3696754822311988.\u001b[0m\n",
      "\u001b[32m[I 2021-06-23 19:14:51,299]\u001b[0m Trial 978 finished with value: 0.37155052791775117 and parameters: {'n_1': 0.4443506299978594, 'n_2': 0.00031607829778129064, 'n_3': 0.523531695907891}. Best is trial 824 with value: 0.3696754822311988.\u001b[0m\n",
      "\u001b[32m[I 2021-06-23 19:14:51,318]\u001b[0m Trial 979 finished with value: 0.36969010053430224 and parameters: {'n_1': 0.5010439264594535, 'n_2': 6.262931414540356e-05, 'n_3': 0.4963673175772309}. Best is trial 824 with value: 0.3696754822311988.\u001b[0m\n",
      "\u001b[32m[I 2021-06-23 19:14:51,335]\u001b[0m Trial 980 finished with value: 0.37014925280182837 and parameters: {'n_1': 0.4659055718803213, 'n_2': 0.00022400266779641035, 'n_3': 0.5422544053699152}. Best is trial 824 with value: 0.3696754822311988.\u001b[0m\n",
      "\u001b[32m[I 2021-06-23 19:14:51,355]\u001b[0m Trial 981 finished with value: 0.37348403514233697 and parameters: {'n_1': 0.4923738017547839, 'n_2': 0.019383839150261113, 'n_3': 0.5187232701210764}. Best is trial 824 with value: 0.3696754822311988.\u001b[0m\n",
      "\u001b[32m[I 2021-06-23 19:14:51,373]\u001b[0m Trial 982 finished with value: 0.37800825139412214 and parameters: {'n_1': 0.4414213603786987, 'n_2': 0.09670684215045262, 'n_3': 0.49543218668267336}. Best is trial 824 with value: 0.3696754822311988.\u001b[0m\n",
      "\u001b[32m[I 2021-06-23 19:14:51,391]\u001b[0m Trial 983 finished with value: 0.374747306788458 and parameters: {'n_1': 0.47564832952618885, 'n_2': 0.00014281050169030879, 'n_3': 0.5639126175635218}. Best is trial 824 with value: 0.3696754822311988.\u001b[0m\n",
      "\u001b[32m[I 2021-06-23 19:14:51,410]\u001b[0m Trial 984 finished with value: 0.3730468202520957 and parameters: {'n_1': 0.41489933635037674, 'n_2': 0.053497417235997165, 'n_3': 0.5369851123694949}. Best is trial 824 with value: 0.3696754822311988.\u001b[0m\n",
      "\u001b[32m[I 2021-06-23 19:14:51,428]\u001b[0m Trial 985 finished with value: 0.37056572739318694 and parameters: {'n_1': 0.45997997974237154, 'n_2': 0.00029422100328576424, 'n_3': 0.5165703663231277}. Best is trial 824 with value: 0.3696754822311988.\u001b[0m\n",
      "\u001b[32m[I 2021-06-23 19:14:51,446]\u001b[0m Trial 986 finished with value: 0.38722537363692816 and parameters: {'n_1': 0.4987727771624308, 'n_2': 0.029619863627674475, 'n_3': 0.5492457709992922}. Best is trial 824 with value: 0.3696754822311988.\u001b[0m\n"
     ]
    },
    {
     "name": "stderr",
     "output_type": "stream",
     "text": [
      "\u001b[32m[I 2021-06-23 19:14:51,464]\u001b[0m Trial 987 finished with value: 0.38474822008010756 and parameters: {'n_1': 0.4723962118317615, 'n_2': 0.01872101003387765, 'n_3': 0.5795059392731476}. Best is trial 824 with value: 0.3696754822311988.\u001b[0m\n",
      "\u001b[32m[I 2021-06-23 19:14:51,482]\u001b[0m Trial 988 finished with value: 0.3730223683543209 and parameters: {'n_1': 0.43408755247693975, 'n_2': 0.042583270848776826, 'n_3': 0.5006008470953593}. Best is trial 824 with value: 0.3696754822311988.\u001b[0m\n",
      "\u001b[32m[I 2021-06-23 19:14:51,499]\u001b[0m Trial 989 finished with value: 0.3699840069480146 and parameters: {'n_1': 0.4516215906314653, 'n_2': 0.0006077979035086774, 'n_3': 0.5331431423939281}. Best is trial 824 with value: 0.3696754822311988.\u001b[0m\n",
      "\u001b[32m[I 2021-06-23 19:14:51,517]\u001b[0m Trial 990 finished with value: 0.39078146813157666 and parameters: {'n_1': 0.48641349744546253, 'n_2': 0.0001779734890327596, 'n_3': 0.6003530930808797}. Best is trial 824 with value: 0.3696754822311988.\u001b[0m\n",
      "\u001b[32m[I 2021-06-23 19:14:51,536]\u001b[0m Trial 991 finished with value: 0.37734339744780915 and parameters: {'n_1': 0.509125369316142, 'n_2': 0.01855055137280681, 'n_3': 0.5214452339954972}. Best is trial 824 with value: 0.3696754822311988.\u001b[0m\n",
      "\u001b[32m[I 2021-06-23 19:14:51,556]\u001b[0m Trial 992 finished with value: 0.3717515269265322 and parameters: {'n_1': 0.4688881945334106, 'n_2': 0.03255713645522923, 'n_3': 0.48465548749440496}. Best is trial 824 with value: 0.3696754822311988.\u001b[0m\n",
      "\u001b[32m[I 2021-06-23 19:14:51,575]\u001b[0m Trial 993 finished with value: 0.37110542962089355 and parameters: {'n_1': 0.41400236548365754, 'n_2': 0.01985537555697456, 'n_3': 0.5559885602024968}. Best is trial 824 with value: 0.3696754822311988.\u001b[0m\n",
      "\u001b[32m[I 2021-06-23 19:14:51,593]\u001b[0m Trial 994 finished with value: 0.37287983234411 and parameters: {'n_1': 0.45212839594013626, 'n_2': 0.05365195542492559, 'n_3': 0.5024801711590837}. Best is trial 824 with value: 0.3696754822311988.\u001b[0m\n",
      "\u001b[32m[I 2021-06-23 19:14:51,611]\u001b[0m Trial 995 finished with value: 0.37168937430264204 and parameters: {'n_1': 0.4887819913783126, 'n_2': 0.0010834709776365284, 'n_3': 0.5340258594214239}. Best is trial 824 with value: 0.3696754822311988.\u001b[0m\n",
      "\u001b[32m[I 2021-06-23 19:14:51,631]\u001b[0m Trial 996 finished with value: 0.37469748181337575 and parameters: {'n_1': 0.43481150112537587, 'n_2': 8.115835028231026e-05, 'n_3': 0.5156122623933549}. Best is trial 824 with value: 0.3696754822311988.\u001b[0m\n",
      "\u001b[32m[I 2021-06-23 19:14:51,649]\u001b[0m Trial 997 finished with value: 0.39469104350115514 and parameters: {'n_1': 0.5089577991093707, 'n_2': 0.019435963059570197, 'n_3': 0.5672639570179383}. Best is trial 824 with value: 0.3696754822311988.\u001b[0m\n",
      "\u001b[32m[I 2021-06-23 19:14:51,668]\u001b[0m Trial 998 finished with value: 0.37931970676662047 and parameters: {'n_1': 0.47480842635477283, 'n_2': 0.032984450312314506, 'n_3': 0.5451924773289379}. Best is trial 824 with value: 0.3696754822311988.\u001b[0m\n",
      "\u001b[32m[I 2021-06-23 19:14:51,686]\u001b[0m Trial 999 finished with value: 0.37358696977386197 and parameters: {'n_1': 0.45968084168138756, 'n_2': 0.06657872908838117, 'n_3': 0.46365126138393875}. Best is trial 824 with value: 0.3696754822311988.\u001b[0m\n"
     ]
    },
    {
     "name": "stdout",
     "output_type": "stream",
     "text": [
      "Number of finished trials: 1000\n",
      "Best trial:\n",
      "  Value: 0.3696754822311988\n",
      "  Params: \n",
      "    n_1: 0.4957796898371655\n",
      "    n_2: 8.992617273846838e-05\n",
      "    n_3: 0.5016586246194995\n"
     ]
    }
   ],
   "source": [
    "study = optuna.create_study(direction=\"minimize\")\n",
    "study.optimize(objective, n_trials=1000)\n",
    "print(\"Number of finished trials: {}\".format(len(study.trials)))\n",
    "\n",
    "print(\"Best trial:\")\n",
    "trial = study.best_trial\n",
    "\n",
    "print(\"  Value: {}\".format(trial.value))\n",
    "\n",
    "print(\"  Params: \")\n",
    "for key, value in trial.params.items():\n",
    "    print(\"    {}: {}\".format(key, value))"
   ]
  },
  {
   "cell_type": "code",
   "execution_count": 69,
   "id": "10b019f2",
   "metadata": {
    "ExecuteTime": {
     "end_time": "2021-06-23T12:15:18.882245Z",
     "start_time": "2021-06-23T12:15:18.874245Z"
    }
   },
   "outputs": [
    {
     "name": "stdout",
     "output_type": "stream",
     "text": [
      "  Value: 0.3696754822311988\n",
      "  Params: \n",
      "    n_1: 0.4957796898371655\n",
      "    n_2: 8.992617273846838e-05\n",
      "    n_3: 0.5016586246194995\n"
     ]
    }
   ],
   "source": [
    "trial = study.best_trial\n",
    "\n",
    "print(\"  Value: {}\".format(trial.value))\n",
    "\n",
    "print(\"  Params: \")\n",
    "for key, value in trial.params.items():\n",
    "    print(\"    {}: {}\".format(key, value))"
   ]
  },
  {
   "cell_type": "code",
   "execution_count": 70,
   "id": "ce293cab",
   "metadata": {
    "ExecuteTime": {
     "end_time": "2021-06-23T12:16:06.773910Z",
     "start_time": "2021-06-23T12:16:06.757918Z"
    }
   },
   "outputs": [
    {
     "name": "stdout",
     "output_type": "stream",
     "text": [
      "0.3696754822311988\n"
     ]
    }
   ],
   "source": [
    "pred = (0.4957796898371655*pred_1 + 8.992617273846838e-05*pred_2 + 0.5016586246194995*pred_3)\n",
    "print (np.sqrt(mean_squared_error(pred, target)))"
   ]
  },
  {
   "cell_type": "code",
   "execution_count": null,
   "id": "2c243dac",
   "metadata": {},
   "outputs": [],
   "source": []
  }
 ],
 "metadata": {
  "kernelspec": {
   "display_name": "Python 3",
   "language": "python",
   "name": "python3"
  },
  "language_info": {
   "codemirror_mode": {
    "name": "ipython",
    "version": 3
   },
   "file_extension": ".py",
   "mimetype": "text/x-python",
   "name": "python",
   "nbconvert_exporter": "python",
   "pygments_lexer": "ipython3",
   "version": "3.7.3"
  },
  "toc": {
   "base_numbering": 1,
   "nav_menu": {},
   "number_sections": true,
   "sideBar": true,
   "skip_h1_title": false,
   "title_cell": "Table of Contents",
   "title_sidebar": "Contents",
   "toc_cell": false,
   "toc_position": {},
   "toc_section_display": true,
   "toc_window_display": false
  }
 },
 "nbformat": 4,
 "nbformat_minor": 5
}
