{
  "nbformat": 4,
  "nbformat_minor": 5,
  "metadata": {
    "kernelspec": {
      "display_name": "Python 3",
      "language": "python",
      "name": "python3"
    },
    "language_info": {
      "codemirror_mode": {
        "name": "ipython",
        "version": 3
      },
      "file_extension": ".py",
      "mimetype": "text/x-python",
      "name": "python",
      "nbconvert_exporter": "python",
      "pygments_lexer": "ipython3",
      "version": "3.7.3"
    },
    "toc": {
      "base_numbering": 1,
      "nav_menu": {},
      "number_sections": true,
      "sideBar": true,
      "skip_h1_title": false,
      "title_cell": "Table of Contents",
      "title_sidebar": "Contents",
      "toc_cell": false,
      "toc_position": {},
      "toc_section_display": true,
      "toc_window_display": false
    },
    "colab": {
      "name": "Large XX Albert",
      "provenance": [],
      "collapsed_sections": []
    },
    "accelerator": "GPU"
  },
  "cells": [
    {
      "cell_type": "code",
      "metadata": {
        "colab": {
          "base_uri": "https://localhost:8080/"
        },
        "id": "WfhWFhS2chVz",
        "outputId": "32239240-f61f-4ad6-984b-8bfe403258cb"
      },
      "source": [
        "!pip install tensorflow_text\n",
        "!pip install tf-models-official"
      ],
      "id": "WfhWFhS2chVz",
      "execution_count": null,
      "outputs": [
        {
          "output_type": "stream",
          "text": [
            "Requirement already satisfied: tensorflow_text in /usr/local/lib/python3.7/dist-packages (2.5.0)\n",
            "Requirement already satisfied: tensorflow<2.6,>=2.5.0 in /usr/local/lib/python3.7/dist-packages (from tensorflow_text) (2.5.0)\n",
            "Requirement already satisfied: tensorflow-hub>=0.8.0 in /usr/local/lib/python3.7/dist-packages (from tensorflow_text) (0.12.0)\n",
            "Requirement already satisfied: absl-py~=0.10 in /usr/local/lib/python3.7/dist-packages (from tensorflow<2.6,>=2.5.0->tensorflow_text) (0.12.0)\n",
            "Requirement already satisfied: keras-preprocessing~=1.1.2 in /usr/local/lib/python3.7/dist-packages (from tensorflow<2.6,>=2.5.0->tensorflow_text) (1.1.2)\n",
            "Requirement already satisfied: wrapt~=1.12.1 in /usr/local/lib/python3.7/dist-packages (from tensorflow<2.6,>=2.5.0->tensorflow_text) (1.12.1)\n",
            "Requirement already satisfied: six~=1.15.0 in /usr/local/lib/python3.7/dist-packages (from tensorflow<2.6,>=2.5.0->tensorflow_text) (1.15.0)\n",
            "Requirement already satisfied: gast==0.4.0 in /usr/local/lib/python3.7/dist-packages (from tensorflow<2.6,>=2.5.0->tensorflow_text) (0.4.0)\n",
            "Requirement already satisfied: tensorboard~=2.5 in /usr/local/lib/python3.7/dist-packages (from tensorflow<2.6,>=2.5.0->tensorflow_text) (2.5.0)\n",
            "Requirement already satisfied: wheel~=0.35 in /usr/local/lib/python3.7/dist-packages (from tensorflow<2.6,>=2.5.0->tensorflow_text) (0.36.2)\n",
            "Requirement already satisfied: astunparse~=1.6.3 in /usr/local/lib/python3.7/dist-packages (from tensorflow<2.6,>=2.5.0->tensorflow_text) (1.6.3)\n",
            "Requirement already satisfied: grpcio~=1.34.0 in /usr/local/lib/python3.7/dist-packages (from tensorflow<2.6,>=2.5.0->tensorflow_text) (1.34.1)\n",
            "Requirement already satisfied: protobuf>=3.9.2 in /usr/local/lib/python3.7/dist-packages (from tensorflow<2.6,>=2.5.0->tensorflow_text) (3.12.4)\n",
            "Requirement already satisfied: google-pasta~=0.2 in /usr/local/lib/python3.7/dist-packages (from tensorflow<2.6,>=2.5.0->tensorflow_text) (0.2.0)\n",
            "Requirement already satisfied: h5py~=3.1.0 in /usr/local/lib/python3.7/dist-packages (from tensorflow<2.6,>=2.5.0->tensorflow_text) (3.1.0)\n",
            "Requirement already satisfied: numpy~=1.19.2 in /usr/local/lib/python3.7/dist-packages (from tensorflow<2.6,>=2.5.0->tensorflow_text) (1.19.5)\n",
            "Requirement already satisfied: opt-einsum~=3.3.0 in /usr/local/lib/python3.7/dist-packages (from tensorflow<2.6,>=2.5.0->tensorflow_text) (3.3.0)\n",
            "Requirement already satisfied: termcolor~=1.1.0 in /usr/local/lib/python3.7/dist-packages (from tensorflow<2.6,>=2.5.0->tensorflow_text) (1.1.0)\n",
            "Requirement already satisfied: tensorflow-estimator<2.6.0,>=2.5.0rc0 in /usr/local/lib/python3.7/dist-packages (from tensorflow<2.6,>=2.5.0->tensorflow_text) (2.5.0)\n",
            "Requirement already satisfied: keras-nightly~=2.5.0.dev in /usr/local/lib/python3.7/dist-packages (from tensorflow<2.6,>=2.5.0->tensorflow_text) (2.5.0.dev2021032900)\n",
            "Requirement already satisfied: flatbuffers~=1.12.0 in /usr/local/lib/python3.7/dist-packages (from tensorflow<2.6,>=2.5.0->tensorflow_text) (1.12)\n",
            "Requirement already satisfied: typing-extensions~=3.7.4 in /usr/local/lib/python3.7/dist-packages (from tensorflow<2.6,>=2.5.0->tensorflow_text) (3.7.4.3)\n",
            "Requirement already satisfied: google-auth-oauthlib<0.5,>=0.4.1 in /usr/local/lib/python3.7/dist-packages (from tensorboard~=2.5->tensorflow<2.6,>=2.5.0->tensorflow_text) (0.4.4)\n",
            "Requirement already satisfied: google-auth<2,>=1.6.3 in /usr/local/lib/python3.7/dist-packages (from tensorboard~=2.5->tensorflow<2.6,>=2.5.0->tensorflow_text) (1.31.0)\n",
            "Requirement already satisfied: markdown>=2.6.8 in /usr/local/lib/python3.7/dist-packages (from tensorboard~=2.5->tensorflow<2.6,>=2.5.0->tensorflow_text) (3.3.4)\n",
            "Requirement already satisfied: tensorboard-plugin-wit>=1.6.0 in /usr/local/lib/python3.7/dist-packages (from tensorboard~=2.5->tensorflow<2.6,>=2.5.0->tensorflow_text) (1.8.0)\n",
            "Requirement already satisfied: tensorboard-data-server<0.7.0,>=0.6.0 in /usr/local/lib/python3.7/dist-packages (from tensorboard~=2.5->tensorflow<2.6,>=2.5.0->tensorflow_text) (0.6.1)\n",
            "Requirement already satisfied: requests<3,>=2.21.0 in /usr/local/lib/python3.7/dist-packages (from tensorboard~=2.5->tensorflow<2.6,>=2.5.0->tensorflow_text) (2.23.0)\n",
            "Requirement already satisfied: werkzeug>=0.11.15 in /usr/local/lib/python3.7/dist-packages (from tensorboard~=2.5->tensorflow<2.6,>=2.5.0->tensorflow_text) (1.0.1)\n",
            "Requirement already satisfied: setuptools>=41.0.0 in /usr/local/lib/python3.7/dist-packages (from tensorboard~=2.5->tensorflow<2.6,>=2.5.0->tensorflow_text) (57.0.0)\n",
            "Requirement already satisfied: cached-property; python_version < \"3.8\" in /usr/local/lib/python3.7/dist-packages (from h5py~=3.1.0->tensorflow<2.6,>=2.5.0->tensorflow_text) (1.5.2)\n",
            "Requirement already satisfied: requests-oauthlib>=0.7.0 in /usr/local/lib/python3.7/dist-packages (from google-auth-oauthlib<0.5,>=0.4.1->tensorboard~=2.5->tensorflow<2.6,>=2.5.0->tensorflow_text) (1.3.0)\n",
            "Requirement already satisfied: cachetools<5.0,>=2.0.0 in /usr/local/lib/python3.7/dist-packages (from google-auth<2,>=1.6.3->tensorboard~=2.5->tensorflow<2.6,>=2.5.0->tensorflow_text) (4.2.2)\n",
            "Requirement already satisfied: pyasn1-modules>=0.2.1 in /usr/local/lib/python3.7/dist-packages (from google-auth<2,>=1.6.3->tensorboard~=2.5->tensorflow<2.6,>=2.5.0->tensorflow_text) (0.2.8)\n",
            "Requirement already satisfied: rsa<5,>=3.1.4; python_version >= \"3.6\" in /usr/local/lib/python3.7/dist-packages (from google-auth<2,>=1.6.3->tensorboard~=2.5->tensorflow<2.6,>=2.5.0->tensorflow_text) (4.7.2)\n",
            "Requirement already satisfied: importlib-metadata; python_version < \"3.8\" in /usr/local/lib/python3.7/dist-packages (from markdown>=2.6.8->tensorboard~=2.5->tensorflow<2.6,>=2.5.0->tensorflow_text) (4.5.0)\n",
            "Requirement already satisfied: urllib3!=1.25.0,!=1.25.1,<1.26,>=1.21.1 in /usr/local/lib/python3.7/dist-packages (from requests<3,>=2.21.0->tensorboard~=2.5->tensorflow<2.6,>=2.5.0->tensorflow_text) (1.24.3)\n",
            "Requirement already satisfied: idna<3,>=2.5 in /usr/local/lib/python3.7/dist-packages (from requests<3,>=2.21.0->tensorboard~=2.5->tensorflow<2.6,>=2.5.0->tensorflow_text) (2.10)\n",
            "Requirement already satisfied: chardet<4,>=3.0.2 in /usr/local/lib/python3.7/dist-packages (from requests<3,>=2.21.0->tensorboard~=2.5->tensorflow<2.6,>=2.5.0->tensorflow_text) (3.0.4)\n",
            "Requirement already satisfied: certifi>=2017.4.17 in /usr/local/lib/python3.7/dist-packages (from requests<3,>=2.21.0->tensorboard~=2.5->tensorflow<2.6,>=2.5.0->tensorflow_text) (2021.5.30)\n",
            "Requirement already satisfied: oauthlib>=3.0.0 in /usr/local/lib/python3.7/dist-packages (from requests-oauthlib>=0.7.0->google-auth-oauthlib<0.5,>=0.4.1->tensorboard~=2.5->tensorflow<2.6,>=2.5.0->tensorflow_text) (3.1.1)\n",
            "Requirement already satisfied: pyasn1<0.5.0,>=0.4.6 in /usr/local/lib/python3.7/dist-packages (from pyasn1-modules>=0.2.1->google-auth<2,>=1.6.3->tensorboard~=2.5->tensorflow<2.6,>=2.5.0->tensorflow_text) (0.4.8)\n",
            "Requirement already satisfied: zipp>=0.5 in /usr/local/lib/python3.7/dist-packages (from importlib-metadata; python_version < \"3.8\"->markdown>=2.6.8->tensorboard~=2.5->tensorflow<2.6,>=2.5.0->tensorflow_text) (3.4.1)\n",
            "Requirement already satisfied: tf-models-official in /usr/local/lib/python3.7/dist-packages (2.5.0)\n",
            "Requirement already satisfied: tensorflow-datasets in /usr/local/lib/python3.7/dist-packages (from tf-models-official) (4.0.1)\n",
            "Requirement already satisfied: seqeval in /usr/local/lib/python3.7/dist-packages (from tf-models-official) (1.2.2)\n",
            "Requirement already satisfied: opencv-python-headless in /usr/local/lib/python3.7/dist-packages (from tf-models-official) (4.5.2.54)\n",
            "Requirement already satisfied: kaggle>=1.3.9 in /usr/local/lib/python3.7/dist-packages (from tf-models-official) (1.5.12)\n",
            "Requirement already satisfied: Cython in /usr/local/lib/python3.7/dist-packages (from tf-models-official) (0.29.23)\n",
            "Requirement already satisfied: tensorflow-hub>=0.6.0 in /usr/local/lib/python3.7/dist-packages (from tf-models-official) (0.12.0)\n",
            "Requirement already satisfied: pandas>=0.22.0 in /usr/local/lib/python3.7/dist-packages (from tf-models-official) (1.1.5)\n",
            "Requirement already satisfied: google-api-python-client>=1.6.7 in /usr/local/lib/python3.7/dist-packages (from tf-models-official) (1.12.8)\n",
            "Requirement already satisfied: pyyaml>=5.1 in /usr/local/lib/python3.7/dist-packages (from tf-models-official) (5.4.1)\n",
            "Requirement already satisfied: tensorflow-model-optimization>=0.4.1 in /usr/local/lib/python3.7/dist-packages (from tf-models-official) (0.6.0)\n",
            "Requirement already satisfied: gin-config in /usr/local/lib/python3.7/dist-packages (from tf-models-official) (0.4.0)\n",
            "Requirement already satisfied: numpy>=1.15.4 in /usr/local/lib/python3.7/dist-packages (from tf-models-official) (1.19.5)\n",
            "Requirement already satisfied: sentencepiece in /usr/local/lib/python3.7/dist-packages (from tf-models-official) (0.1.96)\n",
            "Requirement already satisfied: six in /usr/local/lib/python3.7/dist-packages (from tf-models-official) (1.15.0)\n",
            "Requirement already satisfied: tensorflow>=2.5.0 in /usr/local/lib/python3.7/dist-packages (from tf-models-official) (2.5.0)\n",
            "Requirement already satisfied: tf-slim>=1.1.0 in /usr/local/lib/python3.7/dist-packages (from tf-models-official) (1.1.0)\n",
            "Requirement already satisfied: pycocotools in /usr/local/lib/python3.7/dist-packages (from tf-models-official) (2.0.2)\n",
            "Requirement already satisfied: Pillow in /usr/local/lib/python3.7/dist-packages (from tf-models-official) (7.1.2)\n",
            "Requirement already satisfied: tensorflow-addons in /usr/local/lib/python3.7/dist-packages (from tf-models-official) (0.13.0)\n",
            "Requirement already satisfied: psutil>=5.4.3 in /usr/local/lib/python3.7/dist-packages (from tf-models-official) (5.4.8)\n",
            "Requirement already satisfied: oauth2client in /usr/local/lib/python3.7/dist-packages (from tf-models-official) (4.1.3)\n",
            "Requirement already satisfied: scipy>=0.19.1 in /usr/local/lib/python3.7/dist-packages (from tf-models-official) (1.4.1)\n",
            "Requirement already satisfied: sacrebleu in /usr/local/lib/python3.7/dist-packages (from tf-models-official) (1.5.1)\n",
            "Requirement already satisfied: matplotlib in /usr/local/lib/python3.7/dist-packages (from tf-models-official) (3.2.2)\n",
            "Requirement already satisfied: py-cpuinfo>=3.3.0 in /usr/local/lib/python3.7/dist-packages (from tf-models-official) (8.0.0)\n",
            "Requirement already satisfied: google-cloud-bigquery>=0.31.0 in /usr/local/lib/python3.7/dist-packages (from tf-models-official) (1.21.0)\n",
            "Requirement already satisfied: importlib-resources; python_version < \"3.9\" in /usr/local/lib/python3.7/dist-packages (from tensorflow-datasets->tf-models-official) (5.1.4)\n",
            "Requirement already satisfied: tensorflow-metadata in /usr/local/lib/python3.7/dist-packages (from tensorflow-datasets->tf-models-official) (1.0.0)\n",
            "Requirement already satisfied: termcolor in /usr/local/lib/python3.7/dist-packages (from tensorflow-datasets->tf-models-official) (1.1.0)\n",
            "Requirement already satisfied: attrs>=18.1.0 in /usr/local/lib/python3.7/dist-packages (from tensorflow-datasets->tf-models-official) (21.2.0)\n",
            "Requirement already satisfied: requests>=2.19.0 in /usr/local/lib/python3.7/dist-packages (from tensorflow-datasets->tf-models-official) (2.23.0)\n",
            "Requirement already satisfied: dm-tree in /usr/local/lib/python3.7/dist-packages (from tensorflow-datasets->tf-models-official) (0.1.6)\n",
            "Requirement already satisfied: promise in /usr/local/lib/python3.7/dist-packages (from tensorflow-datasets->tf-models-official) (2.3)\n",
            "Requirement already satisfied: tqdm in /usr/local/lib/python3.7/dist-packages (from tensorflow-datasets->tf-models-official) (4.41.1)\n",
            "Requirement already satisfied: protobuf>=3.6.1 in /usr/local/lib/python3.7/dist-packages (from tensorflow-datasets->tf-models-official) (3.12.4)\n",
            "Requirement already satisfied: absl-py in /usr/local/lib/python3.7/dist-packages (from tensorflow-datasets->tf-models-official) (0.12.0)\n",
            "Requirement already satisfied: dill in /usr/local/lib/python3.7/dist-packages (from tensorflow-datasets->tf-models-official) (0.3.4)\n",
            "Requirement already satisfied: future in /usr/local/lib/python3.7/dist-packages (from tensorflow-datasets->tf-models-official) (0.16.0)\n",
            "Requirement already satisfied: scikit-learn>=0.21.3 in /usr/local/lib/python3.7/dist-packages (from seqeval->tf-models-official) (0.22.2.post1)\n",
            "Requirement already satisfied: certifi in /usr/local/lib/python3.7/dist-packages (from kaggle>=1.3.9->tf-models-official) (2021.5.30)\n",
            "Requirement already satisfied: python-dateutil in /usr/local/lib/python3.7/dist-packages (from kaggle>=1.3.9->tf-models-official) (2.8.1)\n",
            "Requirement already satisfied: python-slugify in /usr/local/lib/python3.7/dist-packages (from kaggle>=1.3.9->tf-models-official) (5.0.2)\n",
            "Requirement already satisfied: urllib3 in /usr/local/lib/python3.7/dist-packages (from kaggle>=1.3.9->tf-models-official) (1.24.3)\n",
            "Requirement already satisfied: pytz>=2017.2 in /usr/local/lib/python3.7/dist-packages (from pandas>=0.22.0->tf-models-official) (2018.9)\n",
            "Requirement already satisfied: uritemplate<4dev,>=3.0.0 in /usr/local/lib/python3.7/dist-packages (from google-api-python-client>=1.6.7->tf-models-official) (3.0.1)\n",
            "Requirement already satisfied: google-api-core<2dev,>=1.21.0 in /usr/local/lib/python3.7/dist-packages (from google-api-python-client>=1.6.7->tf-models-official) (1.26.3)\n",
            "Requirement already satisfied: google-auth-httplib2>=0.0.3 in /usr/local/lib/python3.7/dist-packages (from google-api-python-client>=1.6.7->tf-models-official) (0.0.4)\n",
            "Requirement already satisfied: httplib2<1dev,>=0.15.0 in /usr/local/lib/python3.7/dist-packages (from google-api-python-client>=1.6.7->tf-models-official) (0.17.4)\n",
            "Requirement already satisfied: google-auth>=1.16.0 in /usr/local/lib/python3.7/dist-packages (from google-api-python-client>=1.6.7->tf-models-official) (1.31.0)\n",
            "Requirement already satisfied: tensorflow-estimator<2.6.0,>=2.5.0rc0 in /usr/local/lib/python3.7/dist-packages (from tensorflow>=2.5.0->tf-models-official) (2.5.0)\n",
            "Requirement already satisfied: opt-einsum~=3.3.0 in /usr/local/lib/python3.7/dist-packages (from tensorflow>=2.5.0->tf-models-official) (3.3.0)\n",
            "Requirement already satisfied: keras-nightly~=2.5.0.dev in /usr/local/lib/python3.7/dist-packages (from tensorflow>=2.5.0->tf-models-official) (2.5.0.dev2021032900)\n",
            "Requirement already satisfied: flatbuffers~=1.12.0 in /usr/local/lib/python3.7/dist-packages (from tensorflow>=2.5.0->tf-models-official) (1.12)\n",
            "Requirement already satisfied: h5py~=3.1.0 in /usr/local/lib/python3.7/dist-packages (from tensorflow>=2.5.0->tf-models-official) (3.1.0)\n",
            "Requirement already satisfied: astunparse~=1.6.3 in /usr/local/lib/python3.7/dist-packages (from tensorflow>=2.5.0->tf-models-official) (1.6.3)\n",
            "Requirement already satisfied: google-pasta~=0.2 in /usr/local/lib/python3.7/dist-packages (from tensorflow>=2.5.0->tf-models-official) (0.2.0)\n",
            "Requirement already satisfied: grpcio~=1.34.0 in /usr/local/lib/python3.7/dist-packages (from tensorflow>=2.5.0->tf-models-official) (1.34.1)\n",
            "Requirement already satisfied: gast==0.4.0 in /usr/local/lib/python3.7/dist-packages (from tensorflow>=2.5.0->tf-models-official) (0.4.0)\n",
            "Requirement already satisfied: keras-preprocessing~=1.1.2 in /usr/local/lib/python3.7/dist-packages (from tensorflow>=2.5.0->tf-models-official) (1.1.2)\n",
            "Requirement already satisfied: typing-extensions~=3.7.4 in /usr/local/lib/python3.7/dist-packages (from tensorflow>=2.5.0->tf-models-official) (3.7.4.3)\n",
            "Requirement already satisfied: wrapt~=1.12.1 in /usr/local/lib/python3.7/dist-packages (from tensorflow>=2.5.0->tf-models-official) (1.12.1)\n",
            "Requirement already satisfied: tensorboard~=2.5 in /usr/local/lib/python3.7/dist-packages (from tensorflow>=2.5.0->tf-models-official) (2.5.0)\n",
            "Requirement already satisfied: wheel~=0.35 in /usr/local/lib/python3.7/dist-packages (from tensorflow>=2.5.0->tf-models-official) (0.36.2)\n",
            "Requirement already satisfied: setuptools>=18.0 in /usr/local/lib/python3.7/dist-packages (from pycocotools->tf-models-official) (57.0.0)\n",
            "Requirement already satisfied: typeguard>=2.7 in /usr/local/lib/python3.7/dist-packages (from tensorflow-addons->tf-models-official) (2.7.1)\n",
            "Requirement already satisfied: rsa>=3.1.4 in /usr/local/lib/python3.7/dist-packages (from oauth2client->tf-models-official) (4.7.2)\n",
            "Requirement already satisfied: pyasn1>=0.1.7 in /usr/local/lib/python3.7/dist-packages (from oauth2client->tf-models-official) (0.4.8)\n",
            "Requirement already satisfied: pyasn1-modules>=0.0.5 in /usr/local/lib/python3.7/dist-packages (from oauth2client->tf-models-official) (0.2.8)\n",
            "Requirement already satisfied: portalocker==2.0.0 in /usr/local/lib/python3.7/dist-packages (from sacrebleu->tf-models-official) (2.0.0)\n",
            "Requirement already satisfied: kiwisolver>=1.0.1 in /usr/local/lib/python3.7/dist-packages (from matplotlib->tf-models-official) (1.3.1)\n",
            "Requirement already satisfied: pyparsing!=2.0.4,!=2.1.2,!=2.1.6,>=2.0.1 in /usr/local/lib/python3.7/dist-packages (from matplotlib->tf-models-official) (2.4.7)\n",
            "Requirement already satisfied: cycler>=0.10 in /usr/local/lib/python3.7/dist-packages (from matplotlib->tf-models-official) (0.10.0)\n",
            "Requirement already satisfied: google-cloud-core<2.0dev,>=1.0.3 in /usr/local/lib/python3.7/dist-packages (from google-cloud-bigquery>=0.31.0->tf-models-official) (1.0.3)\n",
            "Requirement already satisfied: google-resumable-media!=0.4.0,<0.5.0dev,>=0.3.1 in /usr/local/lib/python3.7/dist-packages (from google-cloud-bigquery>=0.31.0->tf-models-official) (0.4.1)\n",
            "Requirement already satisfied: zipp>=3.1.0; python_version < \"3.10\" in /usr/local/lib/python3.7/dist-packages (from importlib-resources; python_version < \"3.9\"->tensorflow-datasets->tf-models-official) (3.4.1)\n",
            "Requirement already satisfied: googleapis-common-protos<2,>=1.52.0 in /usr/local/lib/python3.7/dist-packages (from tensorflow-metadata->tensorflow-datasets->tf-models-official) (1.53.0)\n",
            "Requirement already satisfied: idna<3,>=2.5 in /usr/local/lib/python3.7/dist-packages (from requests>=2.19.0->tensorflow-datasets->tf-models-official) (2.10)\n",
            "Requirement already satisfied: chardet<4,>=3.0.2 in /usr/local/lib/python3.7/dist-packages (from requests>=2.19.0->tensorflow-datasets->tf-models-official) (3.0.4)\n",
            "Requirement already satisfied: joblib>=0.11 in /usr/local/lib/python3.7/dist-packages (from scikit-learn>=0.21.3->seqeval->tf-models-official) (1.0.1)\n",
            "Requirement already satisfied: text-unidecode>=1.3 in /usr/local/lib/python3.7/dist-packages (from python-slugify->kaggle>=1.3.9->tf-models-official) (1.3)\n",
            "Requirement already satisfied: packaging>=14.3 in /usr/local/lib/python3.7/dist-packages (from google-api-core<2dev,>=1.21.0->google-api-python-client>=1.6.7->tf-models-official) (20.9)\n",
            "Requirement already satisfied: cachetools<5.0,>=2.0.0 in /usr/local/lib/python3.7/dist-packages (from google-auth>=1.16.0->google-api-python-client>=1.6.7->tf-models-official) (4.2.2)\n",
            "Requirement already satisfied: cached-property; python_version < \"3.8\" in /usr/local/lib/python3.7/dist-packages (from h5py~=3.1.0->tensorflow>=2.5.0->tf-models-official) (1.5.2)\n",
            "Requirement already satisfied: google-auth-oauthlib<0.5,>=0.4.1 in /usr/local/lib/python3.7/dist-packages (from tensorboard~=2.5->tensorflow>=2.5.0->tf-models-official) (0.4.4)\n",
            "Requirement already satisfied: tensorboard-data-server<0.7.0,>=0.6.0 in /usr/local/lib/python3.7/dist-packages (from tensorboard~=2.5->tensorflow>=2.5.0->tf-models-official) (0.6.1)\n",
            "Requirement already satisfied: tensorboard-plugin-wit>=1.6.0 in /usr/local/lib/python3.7/dist-packages (from tensorboard~=2.5->tensorflow>=2.5.0->tf-models-official) (1.8.0)\n",
            "Requirement already satisfied: markdown>=2.6.8 in /usr/local/lib/python3.7/dist-packages (from tensorboard~=2.5->tensorflow>=2.5.0->tf-models-official) (3.3.4)\n",
            "Requirement already satisfied: werkzeug>=0.11.15 in /usr/local/lib/python3.7/dist-packages (from tensorboard~=2.5->tensorflow>=2.5.0->tf-models-official) (1.0.1)\n",
            "Requirement already satisfied: requests-oauthlib>=0.7.0 in /usr/local/lib/python3.7/dist-packages (from google-auth-oauthlib<0.5,>=0.4.1->tensorboard~=2.5->tensorflow>=2.5.0->tf-models-official) (1.3.0)\n",
            "Requirement already satisfied: importlib-metadata; python_version < \"3.8\" in /usr/local/lib/python3.7/dist-packages (from markdown>=2.6.8->tensorboard~=2.5->tensorflow>=2.5.0->tf-models-official) (4.5.0)\n",
            "Requirement already satisfied: oauthlib>=3.0.0 in /usr/local/lib/python3.7/dist-packages (from requests-oauthlib>=0.7.0->google-auth-oauthlib<0.5,>=0.4.1->tensorboard~=2.5->tensorflow>=2.5.0->tf-models-official) (3.1.1)\n"
          ],
          "name": "stdout"
        }
      ]
    },
    {
      "cell_type": "code",
      "metadata": {
        "ExecuteTime": {
          "end_time": "2021-06-23T06:35:11.153195Z",
          "start_time": "2021-06-23T06:35:11.148194Z"
        },
        "id": "29b46fcf"
      },
      "source": [
        "import tensorflow as tf \n",
        "import tensorflow_hub as hub\n",
        "import tensorflow_text\n",
        "\n",
        "import pandas as pd\n",
        "import numpy as np\n",
        "\n",
        "\n",
        "from sklearn.model_selection import KFold\n",
        "from sklearn.model_selection import train_test_split, StratifiedKFold\n",
        "from sklearn.metrics import r2_score, mean_squared_error\n",
        "\n",
        "from official.nlp import optimization\n",
        "\n",
        "import matplotlib.pyplot as plt"
      ],
      "id": "29b46fcf",
      "execution_count": null,
      "outputs": []
    },
    {
      "cell_type": "code",
      "metadata": {
        "ExecuteTime": {
          "end_time": "2021-06-23T06:39:40.545302Z",
          "start_time": "2021-06-23T06:39:40.486161Z"
        },
        "id": "fb09c83e"
      },
      "source": [
        "path =  \"/content/\"\n",
        "train = pd.read_csv(path + 'train.csv')\n",
        "test = pd.read_csv(path + 'test.csv')\n",
        "sample_submission = pd.read_csv(path + 'sample_submission.csv')"
      ],
      "id": "fb09c83e",
      "execution_count": null,
      "outputs": []
    },
    {
      "cell_type": "code",
      "metadata": {
        "ExecuteTime": {
          "end_time": "2021-06-23T06:41:32.746416Z",
          "start_time": "2021-06-23T06:41:28.861382Z"
        },
        "colab": {
          "base_uri": "https://localhost:8080/",
          "height": 203
        },
        "id": "63d5a3ae",
        "outputId": "17a3c203-3521-4979-9bd3-63509990fa72"
      },
      "source": [
        "train.head()"
      ],
      "id": "63d5a3ae",
      "execution_count": null,
      "outputs": [
        {
          "output_type": "execute_result",
          "data": {
            "text/html": [
              "<div>\n",
              "<style scoped>\n",
              "    .dataframe tbody tr th:only-of-type {\n",
              "        vertical-align: middle;\n",
              "    }\n",
              "\n",
              "    .dataframe tbody tr th {\n",
              "        vertical-align: top;\n",
              "    }\n",
              "\n",
              "    .dataframe thead th {\n",
              "        text-align: right;\n",
              "    }\n",
              "</style>\n",
              "<table border=\"1\" class=\"dataframe\">\n",
              "  <thead>\n",
              "    <tr style=\"text-align: right;\">\n",
              "      <th></th>\n",
              "      <th>id</th>\n",
              "      <th>url_legal</th>\n",
              "      <th>license</th>\n",
              "      <th>excerpt</th>\n",
              "      <th>target</th>\n",
              "      <th>standard_error</th>\n",
              "    </tr>\n",
              "  </thead>\n",
              "  <tbody>\n",
              "    <tr>\n",
              "      <th>0</th>\n",
              "      <td>c12129c31</td>\n",
              "      <td>NaN</td>\n",
              "      <td>NaN</td>\n",
              "      <td>When the young people returned to the ballroom...</td>\n",
              "      <td>-0.340259</td>\n",
              "      <td>0.464009</td>\n",
              "    </tr>\n",
              "    <tr>\n",
              "      <th>1</th>\n",
              "      <td>85aa80a4c</td>\n",
              "      <td>NaN</td>\n",
              "      <td>NaN</td>\n",
              "      <td>All through dinner time, Mrs. Fayre was somewh...</td>\n",
              "      <td>-0.315372</td>\n",
              "      <td>0.480805</td>\n",
              "    </tr>\n",
              "    <tr>\n",
              "      <th>2</th>\n",
              "      <td>b69ac6792</td>\n",
              "      <td>NaN</td>\n",
              "      <td>NaN</td>\n",
              "      <td>As Roger had predicted, the snow departed as q...</td>\n",
              "      <td>-0.580118</td>\n",
              "      <td>0.476676</td>\n",
              "    </tr>\n",
              "    <tr>\n",
              "      <th>3</th>\n",
              "      <td>dd1000b26</td>\n",
              "      <td>NaN</td>\n",
              "      <td>NaN</td>\n",
              "      <td>And outside before the palace a great garden w...</td>\n",
              "      <td>-1.054013</td>\n",
              "      <td>0.450007</td>\n",
              "    </tr>\n",
              "    <tr>\n",
              "      <th>4</th>\n",
              "      <td>37c1b32fb</td>\n",
              "      <td>NaN</td>\n",
              "      <td>NaN</td>\n",
              "      <td>Once upon a time there were Three Bears who li...</td>\n",
              "      <td>0.247197</td>\n",
              "      <td>0.510845</td>\n",
              "    </tr>\n",
              "  </tbody>\n",
              "</table>\n",
              "</div>"
            ],
            "text/plain": [
              "          id url_legal  ...    target standard_error\n",
              "0  c12129c31       NaN  ... -0.340259       0.464009\n",
              "1  85aa80a4c       NaN  ... -0.315372       0.480805\n",
              "2  b69ac6792       NaN  ... -0.580118       0.476676\n",
              "3  dd1000b26       NaN  ... -1.054013       0.450007\n",
              "4  37c1b32fb       NaN  ...  0.247197       0.510845\n",
              "\n",
              "[5 rows x 6 columns]"
            ]
          },
          "metadata": {
            "tags": []
          },
          "execution_count": 4
        }
      ]
    },
    {
      "cell_type": "code",
      "metadata": {
        "id": "7uLhT3RfNMBy"
      },
      "source": [
        "train_x, test_x, train_y, test_y = train_test_split(train.excerpt.to_numpy(), train.target.to_numpy(), test_size=0.2, shuffle=True, random_state=42)"
      ],
      "id": "7uLhT3RfNMBy",
      "execution_count": null,
      "outputs": []
    },
    {
      "cell_type": "code",
      "metadata": {
        "ExecuteTime": {
          "end_time": "2021-06-23T06:41:44.423259Z",
          "start_time": "2021-06-23T06:41:44.405281Z"
        },
        "id": "5df951a4"
      },
      "source": [
        "def create_folds(data, target=\"target\", num_splits = 5): \n",
        "    data[\"kfold\"] = -1 \n",
        "    data = data.sample(frac=1).reset_index(drop=True)\n",
        "    \n",
        "    # Applying Sturg's rule to calculate the no. of bins for target\n",
        "    num_bins = int(1 + np.log2(len(data))) \n",
        "\n",
        "    data.loc[:, \"bins\"] = pd.cut(data[target], bins=num_bins, labels=False) \n",
        "    \n",
        "    kf = StratifiedKFold(n_splits=num_splits)\n",
        "    \n",
        "    for f, (t_, v_) in enumerate(kf.split(X=data, y=data.bins.values)): \n",
        "        data.loc[v_, 'kfold'] = f\n",
        "        \n",
        "    data = data.drop([\"bins\"], axis = 1)         \n",
        "    return data "
      ],
      "id": "5df951a4",
      "execution_count": null,
      "outputs": []
    },
    {
      "cell_type": "code",
      "metadata": {
        "ExecuteTime": {
          "end_time": "2021-06-23T06:41:44.748887Z",
          "start_time": "2021-06-23T06:41:44.721697Z"
        },
        "colab": {
          "base_uri": "https://localhost:8080/"
        },
        "id": "fdac7fe0",
        "outputId": "3c178a4b-fd09-4d4c-ec7a-0c2126c13b69"
      },
      "source": [
        "cv_data_df = create_folds(train, target = 'target', num_splits = 5)\n",
        "cv_data_df.kfold.value_counts()"
      ],
      "id": "fdac7fe0",
      "execution_count": null,
      "outputs": [
        {
          "output_type": "execute_result",
          "data": {
            "text/plain": [
              "3    567\n",
              "1    567\n",
              "2    567\n",
              "0    567\n",
              "4    566\n",
              "Name: kfold, dtype: int64"
            ]
          },
          "metadata": {
            "tags": []
          },
          "execution_count": 7
        }
      ]
    },
    {
      "cell_type": "code",
      "metadata": {
        "id": "wDNtH2BEsMka"
      },
      "source": [
        "text_input = tf.keras.layers.Input(shape=(), dtype=tf.string)\n",
        "preprocessor = hub.KerasLayer(\n",
        "    \"http://tfhub.dev/tensorflow/albert_en_preprocess/3\")\n",
        "encoder_inputs = preprocessor(text_input)\n",
        "encoder = hub.KerasLayer(\n",
        "    \"https://tfhub.dev/tensorflow/albert_en_large/3\",\n",
        "    trainable=False)\n",
        "outputs = encoder(encoder_inputs)\n",
        "pooled_output = outputs[\"pooled_output\"]      # [batch_size, 1024].\n",
        "sequence_output = outputs[\"sequence_output\"]  # [batch_size, seq_length, 1024]."
      ],
      "id": "wDNtH2BEsMka",
      "execution_count": null,
      "outputs": []
    },
    {
      "cell_type": "code",
      "metadata": {
        "colab": {
          "base_uri": "https://localhost:8080/"
        },
        "id": "We_ILm7muNQQ",
        "outputId": "6d053de5-248d-4abf-89d8-20b8d1deb5df"
      },
      "source": [
        "embedding_model = tf.keras.Model(text_input, outputs)\n",
        "sentences = tf.constant([\"(your text here)\", \"thor is just myth\", \"how are you?\"])\n",
        "rslt = embedding_model(sentences)\n",
        "pool = rslt[\"pooled_output\"]\n",
        "seq = rslt[\"sequence_output\"]\n",
        "print (type(pool), pool.numpy().shape, seq.shape)\n",
        "pool = tf.keras.layers.Reshape((-1, 1024))(pool)\n",
        "cf = tf.keras.layers.Concatenate(axis=1)([pool, seq])\n",
        "att = tf.keras.layers.Attention()([pool, seq])\n",
        "cnv = tf.keras.layers.MultiHeadAttention(num_heads=5, key_dim=5)\n",
        "output_tensor, weights = cnv(pool, seq,\n",
        "                               return_attention_scores=True)\n",
        "print (pool.shape)\n",
        "print (seq.shape)\n",
        "#print (cf.shape)\n",
        "print (output_tensor.shape)"
      ],
      "id": "We_ILm7muNQQ",
      "execution_count": null,
      "outputs": [
        {
          "output_type": "stream",
          "text": [
            "<class 'tensorflow.python.framework.ops.EagerTensor'> (3, 1024) (3, 128, 1024)\n",
            "(3, 1, 1024)\n",
            "(3, 128, 1024)\n",
            "(3, 1, 1024)\n"
          ],
          "name": "stdout"
        }
      ]
    },
    {
      "cell_type": "code",
      "metadata": {
        "id": "MEBe4Mnc4Afg"
      },
      "source": [
        "import tensorflow as tf\n",
        "import tensorflow_addons as tfa\n",
        "import tensorflow.keras.backend as K\n",
        "from tensorflow import keras\n",
        "from tensorflow.keras import layers\n",
        "from tensorflow.keras import activations,callbacks\n",
        "from tensorflow.keras.optimizers import Adam\n",
        "from tensorflow.keras.metrics import categorical_crossentropy\n",
        "from tensorflow.keras.utils import to_categorical\n",
        "from tensorflow.keras import initializers"
      ],
      "id": "MEBe4Mnc4Afg",
      "execution_count": null,
      "outputs": []
    },
    {
      "cell_type": "code",
      "metadata": {
        "ExecuteTime": {
          "end_time": "2021-06-23T06:49:34.220351Z",
          "start_time": "2021-06-23T06:49:34.206386Z"
        },
        "id": "d0406dde"
      },
      "source": [
        "def albert_model():\n",
        "    text_input = tf.keras.layers.Input(shape=(), dtype=tf.string)\n",
        "    embedding_model_result = embedding_model(text_input)\n",
        "    pool = embedding_model_result[\"pooled_output\"]\n",
        "    seq = embedding_model_result[\"sequence_output\"]\n",
        "    pool = tf.keras.layers.Reshape((-1, 1024))(pool)\n",
        "    #att = tf.keras.layers.Attention()([pool, seq])\n",
        "    #lstm = tf.keras.layers.LSTM(16, activation='relu')(pool)\n",
        "    matt = tf.keras.layers.MultiHeadAttention(num_heads=16, key_dim=16,  dropout=0.1)\n",
        "    net = matt(pool, seq,return_attention_scores=False)\n",
        "    net = tf.keras.layers.Dense(1, name='regressor')(net)\n",
        "    model = tf.keras.models.Model(inputs=text_input, outputs=net, name=\"albert_model\")\n",
        "    return model"
      ],
      "id": "d0406dde",
      "execution_count": null,
      "outputs": []
    },
    {
      "cell_type": "code",
      "metadata": {
        "id": "FvzGaeNMdiun"
      },
      "source": [
        "text_input = tf.keras.layers.Input(shape=(), dtype=tf.string)\n",
        "preprocessor = hub.KerasLayer(\n",
        "    \"http://tfhub.dev/tensorflow/albert_en_preprocess/3\")\n",
        "encoder_inputs = preprocessor(text_input)\n",
        "encoder = hub.KerasLayer(\n",
        "    \"https://tfhub.dev/tensorflow/albert_en_xxlarge/3\",\n",
        "    trainable=False)\n",
        "\n",
        "def albert_large_xx():\n",
        "    text_input = tf.keras.layers.Input(shape=(), dtype=tf.string)\n",
        "    encoder_inputs = preprocessor(text_input)\n",
        "    embedding_model_result = encoder(encoder_inputs)\n",
        "    pool = embedding_model_result[\"pooled_output\"]\n",
        "    seq = embedding_model_result[\"sequence_output\"]\n",
        "    pool = tf.keras.layers.Reshape((-1, 4096))(pool)\n",
        "    #att = tf.keras.layers.Attention()([pool, seq])\n",
        "    #lstm = tf.keras.layers.LSTM(16, activation='relu')(pool)\n",
        "    matt = tf.keras.layers.MultiHeadAttention(num_heads=16, key_dim=16,  dropout=0.1)\n",
        "    net = matt(pool, seq,return_attention_scores=False)\n",
        "    net = tf.keras.layers.Flatten()(net)\n",
        "    net = tf.keras.layers.Dense(2048, activation=\"relu\", input_shape=(None, 4096))(net)\n",
        "    net = tf.keras.layers.Dense(1028, activation=\"relu\")(net)\n",
        "    net = tf.keras.layers.Dense(514, activation=\"relu\")(net)\n",
        "    net = tf.keras.layers.Dense(257, activation=\"relu\")(net)\n",
        "    net = tf.keras.layers.Dense(1, name='regressor')(net)\n",
        "    model = tf.keras.models.Model(inputs=text_input, outputs=net, name=\"albert_model\")\n",
        "    return model"
      ],
      "id": "FvzGaeNMdiun",
      "execution_count": null,
      "outputs": []
    },
    {
      "cell_type": "code",
      "metadata": {
        "ExecuteTime": {
          "end_time": "2021-06-23T06:49:34.392173Z",
          "start_time": "2021-06-23T06:49:34.222364Z"
        },
        "colab": {
          "base_uri": "https://localhost:8080/"
        },
        "id": "f3279c61",
        "outputId": "bdd3246c-8eb9-4826-fbc0-447db36fafd2"
      },
      "source": [
        "model_base = albert_large_xx()\n",
        "model_base.summary()"
      ],
      "id": "f3279c61",
      "execution_count": null,
      "outputs": [
        {
          "output_type": "stream",
          "text": [
            "Model: \"albert_model\"\n",
            "__________________________________________________________________________________________________\n",
            "Layer (type)                    Output Shape         Param #     Connected to                     \n",
            "==================================================================================================\n",
            "input_3 (InputLayer)            [(None,)]            0                                            \n",
            "__________________________________________________________________________________________________\n",
            "keras_layer_2 (KerasLayer)      {'input_word_ids': ( 0           input_3[0][0]                    \n",
            "__________________________________________________________________________________________________\n",
            "keras_layer_3 (KerasLayer)      {'encoder_outputs':  222595584   keras_layer_2[1][0]              \n",
            "                                                                 keras_layer_2[1][1]              \n",
            "                                                                 keras_layer_2[1][2]              \n",
            "__________________________________________________________________________________________________\n",
            "reshape_1 (Reshape)             (None, 1, 4096)      0           keras_layer_3[0][13]             \n",
            "__________________________________________________________________________________________________\n",
            "multi_head_attention_1 (MultiHe (None, 1, 4096)      4199168     reshape_1[0][0]                  \n",
            "                                                                 keras_layer_3[0][14]             \n",
            "__________________________________________________________________________________________________\n",
            "flatten (Flatten)               (None, 4096)         0           multi_head_attention_1[0][0]     \n",
            "__________________________________________________________________________________________________\n",
            "dense (Dense)                   (None, 2048)         8390656     flatten[0][0]                    \n",
            "__________________________________________________________________________________________________\n",
            "dense_1 (Dense)                 (None, 1028)         2106372     dense[0][0]                      \n",
            "__________________________________________________________________________________________________\n",
            "dense_2 (Dense)                 (None, 514)          528906      dense_1[0][0]                    \n",
            "__________________________________________________________________________________________________\n",
            "dense_3 (Dense)                 (None, 257)          132355      dense_2[0][0]                    \n",
            "__________________________________________________________________________________________________\n",
            "regressor (Dense)               (None, 1)            258         dense_3[0][0]                    \n",
            "==================================================================================================\n",
            "Total params: 237,953,299\n",
            "Trainable params: 15,357,715\n",
            "Non-trainable params: 222,595,584\n",
            "__________________________________________________________________________________________________\n"
          ],
          "name": "stdout"
        }
      ]
    },
    {
      "cell_type": "code",
      "metadata": {
        "ExecuteTime": {
          "end_time": "2021-06-23T06:43:26.934857Z",
          "start_time": "2021-06-23T06:43:26.915856Z"
        },
        "id": "62e16b51"
      },
      "source": [
        "epochs = 10\n",
        "batch_size = 8\n",
        "steps_per_epoch = round(len(train.index)//batch_size)\n",
        "num_train_steps = steps_per_epoch * epochs\n",
        "num_warmup_steps = int(0.1*num_train_steps)\n",
        "\n",
        "init_lr = 3e-5\n",
        "optimizer = optimization.create_optimizer(init_lr=init_lr,\n",
        "                                          num_train_steps=num_train_steps,\n",
        "                                          num_warmup_steps=num_warmup_steps,\n",
        "                                          optimizer_type='adamw')"
      ],
      "id": "62e16b51",
      "execution_count": null,
      "outputs": []
    },
    {
      "cell_type": "code",
      "metadata": {
        "ExecuteTime": {
          "end_time": "2021-06-23T06:39:02.194746Z",
          "start_time": "2021-06-23T06:39:02.176890Z"
        },
        "id": "c401a0b9"
      },
      "source": [
        "callbacks = tf.keras.callbacks.EarlyStopping(\n",
        "    monitor='val_root_mean_squared_error', min_delta=0.0001, patience=2, verbose=2,\n",
        "    mode='min')\n",
        "\n",
        "checkpoint_filepath = '/content/checkpoint'\n",
        "model_checkpoint_callback = tf.keras.callbacks.ModelCheckpoint(\n",
        "    filepath=checkpoint_filepath,\n",
        "    save_weights_only=False,\n",
        "    monitor='val_root_mean_squared_error',\n",
        "    mode='min',\n",
        "    save_best_only=True)\n",
        "\n",
        "import tensorflow.keras.backend as K\n",
        "def root_mean_squared_error(y_true, y_pred):\n",
        "    return K.sqrt(K.mean(K.square(y_pred - y_true))) "
      ],
      "id": "c401a0b9",
      "execution_count": null,
      "outputs": []
    },
    {
      "cell_type": "code",
      "metadata": {
        "ExecuteTime": {
          "end_time": "2021-06-23T06:39:02.927482Z",
          "start_time": "2021-06-23T06:39:02.915426Z"
        },
        "id": "2848de9b"
      },
      "source": [
        "model_base.compile(optimizer=optimizer,\n",
        "                         loss=root_mean_squared_error,\n",
        "                         metrics=tf.keras.metrics.RootMeanSquaredError())"
      ],
      "id": "2848de9b",
      "execution_count": null,
      "outputs": []
    },
    {
      "cell_type": "code",
      "metadata": {
        "colab": {
          "base_uri": "https://localhost:8080/"
        },
        "id": "B4EpTKN2OEL4",
        "outputId": "ad50c81e-f06e-4ba6-d433-520a4107b5a7"
      },
      "source": [
        "history = model_base.fit(x=np.array(train_x),\n",
        "                y=train_y,\n",
        "                validation_data=(np.array(test_x), test_y),\n",
        "                epochs=epochs,\n",
        "                batch_size= batch_size,\n",
        "                callbacks = [callbacks, model_checkpoint_callback])"
      ],
      "id": "B4EpTKN2OEL4",
      "execution_count": null,
      "outputs": [
        {
          "output_type": "stream",
          "text": [
            "Epoch 1/10\n",
            "284/284 [==============================] - 497s 2s/step - loss: 1.0375 - root_mean_squared_error: 1.0875 - val_loss: 0.6289 - val_root_mean_squared_error: 0.6506\n"
          ],
          "name": "stdout"
        },
        {
          "output_type": "stream",
          "text": [
            "WARNING:absl:Found untraced functions such as query_layer_call_fn, query_layer_call_and_return_conditional_losses, key_layer_call_fn, key_layer_call_and_return_conditional_losses, value_layer_call_fn while saving (showing 5 of 120). These functions will not be directly callable after loading.\n"
          ],
          "name": "stderr"
        },
        {
          "output_type": "stream",
          "text": [
            "INFO:tensorflow:Assets written to: /content/checkpoint/assets\n"
          ],
          "name": "stdout"
        },
        {
          "output_type": "stream",
          "text": [
            "INFO:tensorflow:Assets written to: /content/checkpoint/assets\n"
          ],
          "name": "stderr"
        },
        {
          "output_type": "stream",
          "text": [
            "Epoch 2/10\n",
            "284/284 [==============================] - 494s 2s/step - loss: 0.6285 - root_mean_squared_error: 0.6498 - val_loss: 0.5973 - val_root_mean_squared_error: 0.6198\n"
          ],
          "name": "stdout"
        },
        {
          "output_type": "stream",
          "text": [
            "WARNING:absl:Found untraced functions such as query_layer_call_fn, query_layer_call_and_return_conditional_losses, key_layer_call_fn, key_layer_call_and_return_conditional_losses, value_layer_call_fn while saving (showing 5 of 120). These functions will not be directly callable after loading.\n"
          ],
          "name": "stderr"
        },
        {
          "output_type": "stream",
          "text": [
            "INFO:tensorflow:Assets written to: /content/checkpoint/assets\n"
          ],
          "name": "stdout"
        },
        {
          "output_type": "stream",
          "text": [
            "INFO:tensorflow:Assets written to: /content/checkpoint/assets\n"
          ],
          "name": "stderr"
        },
        {
          "output_type": "stream",
          "text": [
            "Epoch 3/10\n",
            "284/284 [==============================] - 494s 2s/step - loss: 0.5784 - root_mean_squared_error: 0.6000 - val_loss: 0.5431 - val_root_mean_squared_error: 0.5621\n"
          ],
          "name": "stdout"
        },
        {
          "output_type": "stream",
          "text": [
            "WARNING:absl:Found untraced functions such as query_layer_call_fn, query_layer_call_and_return_conditional_losses, key_layer_call_fn, key_layer_call_and_return_conditional_losses, value_layer_call_fn while saving (showing 5 of 120). These functions will not be directly callable after loading.\n"
          ],
          "name": "stderr"
        },
        {
          "output_type": "stream",
          "text": [
            "INFO:tensorflow:Assets written to: /content/checkpoint/assets\n"
          ],
          "name": "stdout"
        },
        {
          "output_type": "stream",
          "text": [
            "INFO:tensorflow:Assets written to: /content/checkpoint/assets\n"
          ],
          "name": "stderr"
        },
        {
          "output_type": "stream",
          "text": [
            "Epoch 4/10\n",
            "284/284 [==============================] - 494s 2s/step - loss: 0.5399 - root_mean_squared_error: 0.5603 - val_loss: 0.5439 - val_root_mean_squared_error: 0.5629\n",
            "Epoch 5/10\n",
            "284/284 [==============================] - 495s 2s/step - loss: 0.5271 - root_mean_squared_error: 0.5437 - val_loss: 0.5364 - val_root_mean_squared_error: 0.5564\n"
          ],
          "name": "stdout"
        },
        {
          "output_type": "stream",
          "text": [
            "WARNING:absl:Found untraced functions such as query_layer_call_fn, query_layer_call_and_return_conditional_losses, key_layer_call_fn, key_layer_call_and_return_conditional_losses, value_layer_call_fn while saving (showing 5 of 120). These functions will not be directly callable after loading.\n"
          ],
          "name": "stderr"
        },
        {
          "output_type": "stream",
          "text": [
            "INFO:tensorflow:Assets written to: /content/checkpoint/assets\n"
          ],
          "name": "stdout"
        },
        {
          "output_type": "stream",
          "text": [
            "INFO:tensorflow:Assets written to: /content/checkpoint/assets\n"
          ],
          "name": "stderr"
        },
        {
          "output_type": "stream",
          "text": [
            "Epoch 6/10\n",
            "250/284 [=========================>....] - ETA: 47s - loss: 0.4950 - root_mean_squared_error: 0.5138"
          ],
          "name": "stdout"
        }
      ]
    },
    {
      "cell_type": "code",
      "metadata": {
        "colab": {
          "base_uri": "https://localhost:8080/"
        },
        "id": "aBFmDNqt8s4R",
        "outputId": "0201724b-57ce-4584-b81b-8467c4351218"
      },
      "source": [
        "!zip -r /content/saved_model.zip /content/checkpoint"
      ],
      "id": "aBFmDNqt8s4R",
      "execution_count": null,
      "outputs": [
        {
          "output_type": "stream",
          "text": [
            "WARNING:absl:Found untraced functions such as query_layer_call_and_return_conditional_losses, query_layer_call_fn, key_layer_call_and_return_conditional_losses, key_layer_call_fn, value_layer_call_and_return_conditional_losses while saving (showing 5 of 120). These functions will not be directly callable after loading.\n"
          ],
          "name": "stderr"
        },
        {
          "output_type": "stream",
          "text": [
            "INFO:tensorflow:Assets written to: saved_model/base/assets\n"
          ],
          "name": "stdout"
        },
        {
          "output_type": "stream",
          "text": [
            "INFO:tensorflow:Assets written to: saved_model/base/assets\n"
          ],
          "name": "stderr"
        }
      ]
    },
    {
      "cell_type": "code",
      "metadata": {
        "id": "Uc4bZYilQdkF"
      },
      "source": [
        "pred = model_base.predict(np.array(train_x))"
      ],
      "id": "Uc4bZYilQdkF",
      "execution_count": null,
      "outputs": []
    },
    {
      "cell_type": "code",
      "metadata": {
        "colab": {
          "base_uri": "https://localhost:8080/",
          "height": 417
        },
        "id": "YIF_r-yB_UHs",
        "outputId": "9fa80b8c-fcc1-43be-e0f6-fb857f95e81d"
      },
      "source": [
        "pred = np.reshape(pred, (pred.shape[0]))\n",
        "sqrt = abs(abs(pred) - abs(train_y))\n",
        "df = pd.DataFrame({\"true\": train_y,\n",
        "                   \"predicted\": pred,\n",
        "                   \"loss\":sqrt})\n",
        "df"
      ],
      "id": "YIF_r-yB_UHs",
      "execution_count": null,
      "outputs": [
        {
          "output_type": "execute_result",
          "data": {
            "text/html": [
              "<div>\n",
              "<style scoped>\n",
              "    .dataframe tbody tr th:only-of-type {\n",
              "        vertical-align: middle;\n",
              "    }\n",
              "\n",
              "    .dataframe tbody tr th {\n",
              "        vertical-align: top;\n",
              "    }\n",
              "\n",
              "    .dataframe thead th {\n",
              "        text-align: right;\n",
              "    }\n",
              "</style>\n",
              "<table border=\"1\" class=\"dataframe\">\n",
              "  <thead>\n",
              "    <tr style=\"text-align: right;\">\n",
              "      <th></th>\n",
              "      <th>true</th>\n",
              "      <th>predicted</th>\n",
              "      <th>loss</th>\n",
              "    </tr>\n",
              "  </thead>\n",
              "  <tbody>\n",
              "    <tr>\n",
              "      <th>0</th>\n",
              "      <td>-1.518350</td>\n",
              "      <td>-1.913984</td>\n",
              "      <td>0.395634</td>\n",
              "    </tr>\n",
              "    <tr>\n",
              "      <th>1</th>\n",
              "      <td>-0.548807</td>\n",
              "      <td>-0.626918</td>\n",
              "      <td>0.078111</td>\n",
              "    </tr>\n",
              "    <tr>\n",
              "      <th>2</th>\n",
              "      <td>-0.193262</td>\n",
              "      <td>-1.096326</td>\n",
              "      <td>0.903064</td>\n",
              "    </tr>\n",
              "    <tr>\n",
              "      <th>3</th>\n",
              "      <td>-1.033799</td>\n",
              "      <td>-0.405483</td>\n",
              "      <td>0.628316</td>\n",
              "    </tr>\n",
              "    <tr>\n",
              "      <th>4</th>\n",
              "      <td>-1.725606</td>\n",
              "      <td>-1.337326</td>\n",
              "      <td>0.388280</td>\n",
              "    </tr>\n",
              "    <tr>\n",
              "      <th>...</th>\n",
              "      <td>...</td>\n",
              "      <td>...</td>\n",
              "      <td>...</td>\n",
              "    </tr>\n",
              "    <tr>\n",
              "      <th>2262</th>\n",
              "      <td>-3.309178</td>\n",
              "      <td>-2.146888</td>\n",
              "      <td>1.162290</td>\n",
              "    </tr>\n",
              "    <tr>\n",
              "      <th>2263</th>\n",
              "      <td>-0.216738</td>\n",
              "      <td>-0.230652</td>\n",
              "      <td>0.013914</td>\n",
              "    </tr>\n",
              "    <tr>\n",
              "      <th>2264</th>\n",
              "      <td>-1.584384</td>\n",
              "      <td>-2.196375</td>\n",
              "      <td>0.611991</td>\n",
              "    </tr>\n",
              "    <tr>\n",
              "      <th>2265</th>\n",
              "      <td>-2.034688</td>\n",
              "      <td>-2.149682</td>\n",
              "      <td>0.114994</td>\n",
              "    </tr>\n",
              "    <tr>\n",
              "      <th>2266</th>\n",
              "      <td>-0.605216</td>\n",
              "      <td>1.281777</td>\n",
              "      <td>0.676561</td>\n",
              "    </tr>\n",
              "  </tbody>\n",
              "</table>\n",
              "<p>2267 rows × 3 columns</p>\n",
              "</div>"
            ],
            "text/plain": [
              "          true  predicted      loss\n",
              "0    -1.518350  -1.913984  0.395634\n",
              "1    -0.548807  -0.626918  0.078111\n",
              "2    -0.193262  -1.096326  0.903064\n",
              "3    -1.033799  -0.405483  0.628316\n",
              "4    -1.725606  -1.337326  0.388280\n",
              "...        ...        ...       ...\n",
              "2262 -3.309178  -2.146888  1.162290\n",
              "2263 -0.216738  -0.230652  0.013914\n",
              "2264 -1.584384  -2.196375  0.611991\n",
              "2265 -2.034688  -2.149682  0.114994\n",
              "2266 -0.605216   1.281777  0.676561\n",
              "\n",
              "[2267 rows x 3 columns]"
            ]
          },
          "metadata": {
            "tags": []
          },
          "execution_count": 26
        }
      ]
    },
    {
      "cell_type": "code",
      "metadata": {
        "colab": {
          "base_uri": "https://localhost:8080/"
        },
        "id": "SkDzP7plMllU",
        "outputId": "8e684ad3-5c44-4e09-bf33-9a0f8e53c99d"
      },
      "source": [
        "root_mean_squared_error(df.loc[(df.loss >= 0.001) & (df.loss <= 0.01), \"true\"].values,df.loc[(df.loss >= 0.001) & (df.loss <= 0.01), \"predicted\"].values)"
      ],
      "id": "SkDzP7plMllU",
      "execution_count": null,
      "outputs": [
        {
          "output_type": "execute_result",
          "data": {
            "text/plain": [
              "<tf.Tensor: shape=(), dtype=float64, numpy=0.09114875463687887>"
            ]
          },
          "metadata": {
            "tags": []
          },
          "execution_count": 37
        }
      ]
    },
    {
      "cell_type": "code",
      "metadata": {
        "colab": {
          "base_uri": "https://localhost:8080/"
        },
        "id": "iRth58V6BPN0",
        "outputId": "97455b7c-3f0c-403d-a5a5-c2a574f832d2"
      },
      "source": [
        "lose_idx = df.loc[(df.loss >= 0.001) & (df.loss <= 0.01)].index.values\n",
        "lose_idx"
      ],
      "id": "iRth58V6BPN0",
      "execution_count": null,
      "outputs": [
        {
          "output_type": "execute_result",
          "data": {
            "text/plain": [
              "array([  15,   72,  120,  190,  194,  390,  396,  400,  446,  447,  468,\n",
              "        516,  524,  543,  812,  892,  900,  931,  938,  958,  968, 1007,\n",
              "       1210, 1303, 1329, 1347, 1375, 1443, 1487, 1532, 1553, 1572, 1626,\n",
              "       1632, 1808, 1900, 2019, 2024, 2187, 2197])"
            ]
          },
          "metadata": {
            "tags": []
          },
          "execution_count": 52
        }
      ]
    },
    {
      "cell_type": "code",
      "metadata": {
        "id": "ZtMjcPPxETXU"
      },
      "source": [
        "def detect_best_loss(model, predictor, values, data_past):\n",
        "  pred = model.predict(predictor)\n",
        "  pred = np.reshape(pred, (pred.shape[0]))\n",
        "  sqrt = abs(abs(pred) - abs(values))\n",
        "  df = pd.DataFrame({\"true\": values,\n",
        "                   \"predicted\": pred,\n",
        "                   \"loss\":sqrt})\n",
        "  lose_idx = df.loc[(df.loss >= 0.001) & (df.loss <= 0.01)].index.values\n",
        "  return data_past."
      ],
      "id": "ZtMjcPPxETXU",
      "execution_count": null,
      "outputs": []
    },
    {
      "cell_type": "code",
      "metadata": {
        "colab": {
          "base_uri": "https://localhost:8080/",
          "height": 417
        },
        "id": "u98S-HhzCRRB",
        "outputId": "dd05157e-1f58-4678-ba38-4934d8ebc1ba"
      },
      "source": [
        "trainc = pd.DataFrame({\"x\":train_x, \"y\":train_y})\n",
        "trainc"
      ],
      "id": "u98S-HhzCRRB",
      "execution_count": null,
      "outputs": [
        {
          "output_type": "execute_result",
          "data": {
            "text/html": [
              "<div>\n",
              "<style scoped>\n",
              "    .dataframe tbody tr th:only-of-type {\n",
              "        vertical-align: middle;\n",
              "    }\n",
              "\n",
              "    .dataframe tbody tr th {\n",
              "        vertical-align: top;\n",
              "    }\n",
              "\n",
              "    .dataframe thead th {\n",
              "        text-align: right;\n",
              "    }\n",
              "</style>\n",
              "<table border=\"1\" class=\"dataframe\">\n",
              "  <thead>\n",
              "    <tr style=\"text-align: right;\">\n",
              "      <th></th>\n",
              "      <th>x</th>\n",
              "      <th>y</th>\n",
              "    </tr>\n",
              "  </thead>\n",
              "  <tbody>\n",
              "    <tr>\n",
              "      <th>0</th>\n",
              "      <td>The building of rotary presses for printing il...</td>\n",
              "      <td>-1.518350</td>\n",
              "    </tr>\n",
              "    <tr>\n",
              "      <th>1</th>\n",
              "      <td>The idea of a trip on Bob's yacht suited every...</td>\n",
              "      <td>-0.548807</td>\n",
              "    </tr>\n",
              "    <tr>\n",
              "      <th>2</th>\n",
              "      <td>Seeing the front door wide open, the enchanter...</td>\n",
              "      <td>-0.193262</td>\n",
              "    </tr>\n",
              "    <tr>\n",
              "      <th>3</th>\n",
              "      <td>The widow she cried over me, and called me a p...</td>\n",
              "      <td>-1.033799</td>\n",
              "    </tr>\n",
              "    <tr>\n",
              "      <th>4</th>\n",
              "      <td>Jacobitism was (and, to a much smaller extent,...</td>\n",
              "      <td>-1.725606</td>\n",
              "    </tr>\n",
              "    <tr>\n",
              "      <th>...</th>\n",
              "      <td>...</td>\n",
              "      <td>...</td>\n",
              "    </tr>\n",
              "    <tr>\n",
              "      <th>2262</th>\n",
              "      <td>The steam is supplied by two circular return t...</td>\n",
              "      <td>-3.309178</td>\n",
              "    </tr>\n",
              "    <tr>\n",
              "      <th>2263</th>\n",
              "      <td>Living things are different from things that a...</td>\n",
              "      <td>-0.216738</td>\n",
              "    </tr>\n",
              "    <tr>\n",
              "      <th>2264</th>\n",
              "      <td>I'd always longed for adventures. You see, my ...</td>\n",
              "      <td>-1.584384</td>\n",
              "    </tr>\n",
              "    <tr>\n",
              "      <th>2265</th>\n",
              "      <td>In these times one dread lies heavy on heart a...</td>\n",
              "      <td>-2.034688</td>\n",
              "    </tr>\n",
              "    <tr>\n",
              "      <th>2266</th>\n",
              "      <td>Dog is in his house. Dog is sitting in his hou...</td>\n",
              "      <td>-0.605216</td>\n",
              "    </tr>\n",
              "  </tbody>\n",
              "</table>\n",
              "<p>2267 rows × 2 columns</p>\n",
              "</div>"
            ],
            "text/plain": [
              "                                                      x         y\n",
              "0     The building of rotary presses for printing il... -1.518350\n",
              "1     The idea of a trip on Bob's yacht suited every... -0.548807\n",
              "2     Seeing the front door wide open, the enchanter... -0.193262\n",
              "3     The widow she cried over me, and called me a p... -1.033799\n",
              "4     Jacobitism was (and, to a much smaller extent,... -1.725606\n",
              "...                                                 ...       ...\n",
              "2262  The steam is supplied by two circular return t... -3.309178\n",
              "2263  Living things are different from things that a... -0.216738\n",
              "2264  I'd always longed for adventures. You see, my ... -1.584384\n",
              "2265  In these times one dread lies heavy on heart a... -2.034688\n",
              "2266  Dog is in his house. Dog is sitting in his hou... -0.605216\n",
              "\n",
              "[2267 rows x 2 columns]"
            ]
          },
          "metadata": {
            "tags": []
          },
          "execution_count": 60
        }
      ]
    },
    {
      "cell_type": "code",
      "metadata": {
        "colab": {
          "base_uri": "https://localhost:8080/",
          "height": 357
        },
        "id": "MkGaZL-RWsAU",
        "outputId": "6f5f584f-eb0c-433c-ee4d-9fc2d3d9d069"
      },
      "source": [
        "tr_1 = trainc.drop(lose_idx)\n",
        "tr_1[10:20]"
      ],
      "id": "MkGaZL-RWsAU",
      "execution_count": null,
      "outputs": [
        {
          "output_type": "execute_result",
          "data": {
            "text/html": [
              "<div>\n",
              "<style scoped>\n",
              "    .dataframe tbody tr th:only-of-type {\n",
              "        vertical-align: middle;\n",
              "    }\n",
              "\n",
              "    .dataframe tbody tr th {\n",
              "        vertical-align: top;\n",
              "    }\n",
              "\n",
              "    .dataframe thead th {\n",
              "        text-align: right;\n",
              "    }\n",
              "</style>\n",
              "<table border=\"1\" class=\"dataframe\">\n",
              "  <thead>\n",
              "    <tr style=\"text-align: right;\">\n",
              "      <th></th>\n",
              "      <th>x</th>\n",
              "      <th>y</th>\n",
              "    </tr>\n",
              "  </thead>\n",
              "  <tbody>\n",
              "    <tr>\n",
              "      <th>10</th>\n",
              "      <td>There are two types of lithosphere:\\nOceanic l...</td>\n",
              "      <td>-2.366802</td>\n",
              "    </tr>\n",
              "    <tr>\n",
              "      <th>11</th>\n",
              "      <td>In those terms I was informed of what my perso...</td>\n",
              "      <td>-1.585193</td>\n",
              "    </tr>\n",
              "    <tr>\n",
              "      <th>12</th>\n",
              "      <td>The three brothers left the empty house, and w...</td>\n",
              "      <td>-1.556398</td>\n",
              "    </tr>\n",
              "    <tr>\n",
              "      <th>13</th>\n",
              "      <td>At the end of the last century Humphry Davy ob...</td>\n",
              "      <td>-2.953939</td>\n",
              "    </tr>\n",
              "    <tr>\n",
              "      <th>14</th>\n",
              "      <td>If any of our boys and girls have found their ...</td>\n",
              "      <td>-1.519120</td>\n",
              "    </tr>\n",
              "    <tr>\n",
              "      <th>16</th>\n",
              "      <td>Mayday festivals were not confined to the Brit...</td>\n",
              "      <td>-0.561084</td>\n",
              "    </tr>\n",
              "    <tr>\n",
              "      <th>17</th>\n",
              "      <td>They were seated along the edge of the lake, s...</td>\n",
              "      <td>-0.509804</td>\n",
              "    </tr>\n",
              "    <tr>\n",
              "      <th>18</th>\n",
              "      <td>Sometimes, bacteria swim or float freely in li...</td>\n",
              "      <td>-0.573611</td>\n",
              "    </tr>\n",
              "    <tr>\n",
              "      <th>19</th>\n",
              "      <td>To produce the electric current, all that is n...</td>\n",
              "      <td>-2.177340</td>\n",
              "    </tr>\n",
              "    <tr>\n",
              "      <th>20</th>\n",
              "      <td>The priest, smiling at this speech, answered: ...</td>\n",
              "      <td>-1.972671</td>\n",
              "    </tr>\n",
              "  </tbody>\n",
              "</table>\n",
              "</div>"
            ],
            "text/plain": [
              "                                                    x         y\n",
              "10  There are two types of lithosphere:\\nOceanic l... -2.366802\n",
              "11  In those terms I was informed of what my perso... -1.585193\n",
              "12  The three brothers left the empty house, and w... -1.556398\n",
              "13  At the end of the last century Humphry Davy ob... -2.953939\n",
              "14  If any of our boys and girls have found their ... -1.519120\n",
              "16  Mayday festivals were not confined to the Brit... -0.561084\n",
              "17  They were seated along the edge of the lake, s... -0.509804\n",
              "18  Sometimes, bacteria swim or float freely in li... -0.573611\n",
              "19  To produce the electric current, all that is n... -2.177340\n",
              "20  The priest, smiling at this speech, answered: ... -1.972671"
            ]
          },
          "metadata": {
            "tags": []
          },
          "execution_count": 64
        }
      ]
    },
    {
      "cell_type": "code",
      "metadata": {
        "id": "sh4MlhX2oo8b"
      },
      "source": [
        "model_dif_1 = albert_model()\n",
        "epochs = 10\n",
        "batch_size = 32\n",
        "steps_per_epoch = round(len(tr_1.index)//batch_size)\n",
        "num_train_steps = steps_per_epoch * epochs\n",
        "num_warmup_steps = int(0.1*num_train_steps)\n",
        "\n",
        "init_lr = 3e-5\n",
        "optimizer = optimization.create_optimizer(init_lr=init_lr,\n",
        "                                          num_train_steps=num_train_steps,\n",
        "                                          num_warmup_steps=num_warmup_steps,\n",
        "                                          optimizer_type='adamw')\n",
        "model_dif_1.compile(optimizer=optimizer,\n",
        "                         loss=root_mean_squared_error,\n",
        "                         metrics=tf.keras.metrics.RootMeanSquaredError())"
      ],
      "id": "sh4MlhX2oo8b",
      "execution_count": null,
      "outputs": []
    },
    {
      "cell_type": "code",
      "metadata": {
        "colab": {
          "base_uri": "https://localhost:8080/"
        },
        "id": "xsOtunjwpUeS",
        "outputId": "b6383111-a755-45d5-9592-c5c1915c2f6d"
      },
      "source": [
        "history_diff_1 = model_dif_1.fit(x=tr_1.x.to_numpy(),\n",
        "                y=tr_1.y.to_numpy(),\n",
        "                validation_data=(np.array(test_x), test_y),\n",
        "                epochs=epochs,\n",
        "                batch_size= batch_size,\n",
        "                callbacks = [callbacks])"
      ],
      "id": "xsOtunjwpUeS",
      "execution_count": null,
      "outputs": [
        {
          "output_type": "stream",
          "text": [
            "Epoch 1/10\n",
            "70/70 [==============================] - 88s 1s/step - loss: 1.0123 - root_mean_squared_error: 1.0275 - val_loss: 0.8683 - val_root_mean_squared_error: 0.8719\n",
            "Epoch 2/10\n",
            "70/70 [==============================] - 84s 1s/step - loss: 0.8284 - root_mean_squared_error: 0.8339 - val_loss: 0.7725 - val_root_mean_squared_error: 0.7774\n",
            "Epoch 3/10\n",
            "70/70 [==============================] - 83s 1s/step - loss: 0.7854 - root_mean_squared_error: 0.7903 - val_loss: 0.7643 - val_root_mean_squared_error: 0.7694\n",
            "Epoch 4/10\n",
            "70/70 [==============================] - 83s 1s/step - loss: 0.7820 - root_mean_squared_error: 0.7886 - val_loss: 0.7643 - val_root_mean_squared_error: 0.7694\n",
            "Epoch 5/10\n",
            "70/70 [==============================] - 83s 1s/step - loss: 0.7831 - root_mean_squared_error: 0.7884 - val_loss: 0.7643 - val_root_mean_squared_error: 0.7694\n",
            "Epoch 6/10\n",
            "70/70 [==============================] - 83s 1s/step - loss: 0.7829 - root_mean_squared_error: 0.7887 - val_loss: 0.7643 - val_root_mean_squared_error: 0.7694\n",
            "Epoch 00006: early stopping\n"
          ],
          "name": "stdout"
        }
      ]
    },
    {
      "cell_type": "code",
      "metadata": {
        "ExecuteTime": {
          "end_time": "2021-06-23T08:33:35.885493Z",
          "start_time": "2021-06-23T06:49:43.591548Z"
        },
        "colab": {
          "base_uri": "https://localhost:8080/"
        },
        "id": "8afc2f1f",
        "outputId": "1cdd0ec6-06bb-4995-d73b-2a56159603e1"
      },
      "source": [
        "pred_test = model_base.predict(test_x)\n",
        "pred_test_d1 = model_dif_1.predict(test_x)\n",
        "root_mean_squared_error((pred_test + pred_test_d1)/2, test_y).numpy()"
      ],
      "id": "8afc2f1f",
      "execution_count": null,
      "outputs": [
        {
          "output_type": "execute_result",
          "data": {
            "text/plain": [
              "1.201863799235557"
            ]
          },
          "metadata": {
            "tags": []
          },
          "execution_count": 67
        }
      ]
    },
    {
      "cell_type": "code",
      "metadata": {
        "id": "weMeJf_XFfbI"
      },
      "source": [
        "def bag_data(data, n):\n",
        "  list_idx = []\n",
        "  for x in range(n):\n",
        "    data = train.sample(frac=0.8,  replace=True, random_state=1)\n",
        "    list_idx.append(data.index.values)\n",
        "  return list_idx"
      ],
      "id": "weMeJf_XFfbI",
      "execution_count": null,
      "outputs": []
    },
    {
      "cell_type": "code",
      "metadata": {
        "id": "JFVbnGy3FnHd"
      },
      "source": [
        "idx = bag_data(train, 5)\n",
        "epochs = 10\n",
        "batch_size = 32"
      ],
      "id": "JFVbnGy3FnHd",
      "execution_count": null,
      "outputs": []
    },
    {
      "cell_type": "code",
      "metadata": {
        "colab": {
          "base_uri": "https://localhost:8080/"
        },
        "id": "IYY34XavFoX7",
        "outputId": "120c98f9-1dd9-449a-d51b-932e1bf8fcce"
      },
      "source": [
        "for d in range(len(idx)):\n",
        "  print (d)\n",
        "  x = train.loc[idx[d], \"excerpt\"].to_numpy()\n",
        "  y = train.loc[idx[d], \"target\"].to_numpy()\n",
        "\n",
        "  val_x = train.drop(idx[d]).excerpt.to_numpy()\n",
        "  val_y = train.drop(idx[d]).target.to_numpy()\n",
        "\n",
        "  model_albert =  albert_model()\n",
        "  steps_per_epoch = round(len(x)//batch_size)\n",
        "  num_train_steps = steps_per_epoch * epochs\n",
        "  num_warmup_steps = int(0.1*num_train_steps)\n",
        "\n",
        "  init_lr = 3e-5\n",
        "  optimizer = optimization.create_optimizer(init_lr=init_lr,\n",
        "                                            num_train_steps=num_train_steps,\n",
        "                                            num_warmup_steps=num_warmup_steps,\n",
        "                                            optimizer_type='adamw')\n",
        "  \n",
        "  model_albert.compile(optimizer=optimizer,\n",
        "                         loss=root_mean_squared_error,\n",
        "                         metrics=tf.keras.metrics.RootMeanSquaredError())\n",
        "  history = model_albert.fit(x=x,\n",
        "                y=y,\n",
        "                validation_data=(val_x, val_y),\n",
        "                epochs=epochs,\n",
        "                batch_size= batch_size,\n",
        "                callbacks = [callbacks])\n",
        "  name = \"saved_model_bag/\" + str(d)\n",
        "  model_albert.save(name)"
      ],
      "id": "IYY34XavFoX7",
      "execution_count": null,
      "outputs": [
        {
          "output_type": "stream",
          "text": [
            "0\n",
            "Epoch 1/10\n",
            "71/71 [==============================] - 111s 2s/step - loss: 1.1561 - root_mean_squared_error: 1.1768 - val_loss: 0.8802 - val_root_mean_squared_error: 0.8940\n",
            "Epoch 2/10\n",
            "71/71 [==============================] - 106s 1s/step - loss: 0.7062 - root_mean_squared_error: 0.7176 - val_loss: 0.6568 - val_root_mean_squared_error: 0.6611\n",
            "Epoch 3/10\n",
            "71/71 [==============================] - 105s 1s/step - loss: 0.6112 - root_mean_squared_error: 0.6168 - val_loss: 0.6044 - val_root_mean_squared_error: 0.6082\n",
            "Epoch 4/10\n",
            "71/71 [==============================] - 105s 1s/step - loss: 0.5760 - root_mean_squared_error: 0.5800 - val_loss: 0.5918 - val_root_mean_squared_error: 0.5956\n",
            "Epoch 5/10\n",
            "71/71 [==============================] - 105s 1s/step - loss: 0.5609 - root_mean_squared_error: 0.5653 - val_loss: 0.5992 - val_root_mean_squared_error: 0.6042\n",
            "Epoch 6/10\n",
            "71/71 [==============================] - 105s 1s/step - loss: 0.5486 - root_mean_squared_error: 0.5537 - val_loss: 0.5846 - val_root_mean_squared_error: 0.5888\n",
            "Epoch 7/10\n",
            "71/71 [==============================] - 105s 1s/step - loss: 0.5374 - root_mean_squared_error: 0.5419 - val_loss: 0.5827 - val_root_mean_squared_error: 0.5868\n",
            "Epoch 8/10\n",
            "71/71 [==============================] - 105s 1s/step - loss: 0.5279 - root_mean_squared_error: 0.5319 - val_loss: 0.5811 - val_root_mean_squared_error: 0.5859\n",
            "Epoch 9/10\n",
            "71/71 [==============================] - 105s 1s/step - loss: 0.5218 - root_mean_squared_error: 0.5250 - val_loss: 0.5794 - val_root_mean_squared_error: 0.5840\n",
            "Epoch 10/10\n",
            "71/71 [==============================] - 105s 1s/step - loss: 0.5182 - root_mean_squared_error: 0.5217 - val_loss: 0.5805 - val_root_mean_squared_error: 0.5853\n"
          ],
          "name": "stdout"
        },
        {
          "output_type": "stream",
          "text": [
            "WARNING:absl:Found untraced functions such as query_layer_call_and_return_conditional_losses, query_layer_call_fn, key_layer_call_and_return_conditional_losses, key_layer_call_fn, value_layer_call_and_return_conditional_losses while saving (showing 5 of 120). These functions will not be directly callable after loading.\n"
          ],
          "name": "stderr"
        },
        {
          "output_type": "stream",
          "text": [
            "INFO:tensorflow:Assets written to: saved_model_bag/0/assets\n"
          ],
          "name": "stdout"
        },
        {
          "output_type": "stream",
          "text": [
            "INFO:tensorflow:Assets written to: saved_model_bag/0/assets\n"
          ],
          "name": "stderr"
        },
        {
          "output_type": "stream",
          "text": [
            "1\n",
            "Epoch 1/10\n",
            "71/71 [==============================] - 110s 2s/step - loss: 1.1339 - root_mean_squared_error: 1.1533 - val_loss: 0.8923 - val_root_mean_squared_error: 0.9077\n",
            "Epoch 2/10\n",
            "71/71 [==============================] - 106s 1s/step - loss: 0.7082 - root_mean_squared_error: 0.7179 - val_loss: 0.6352 - val_root_mean_squared_error: 0.6392\n",
            "Epoch 3/10\n",
            "71/71 [==============================] - 105s 1s/step - loss: 0.5987 - root_mean_squared_error: 0.6051 - val_loss: 0.6066 - val_root_mean_squared_error: 0.6103\n",
            "Epoch 4/10\n",
            "71/71 [==============================] - 105s 1s/step - loss: 0.5783 - root_mean_squared_error: 0.5827 - val_loss: 0.5930 - val_root_mean_squared_error: 0.5966\n",
            "Epoch 5/10\n",
            "71/71 [==============================] - 105s 1s/step - loss: 0.5547 - root_mean_squared_error: 0.5594 - val_loss: 0.5945 - val_root_mean_squared_error: 0.5996\n",
            "Epoch 6/10\n",
            "71/71 [==============================] - 105s 1s/step - loss: 0.5399 - root_mean_squared_error: 0.5446 - val_loss: 0.5808 - val_root_mean_squared_error: 0.5851\n",
            "Epoch 7/10\n",
            "71/71 [==============================] - 105s 1s/step - loss: 0.5274 - root_mean_squared_error: 0.5323 - val_loss: 0.5823 - val_root_mean_squared_error: 0.5872\n",
            "Epoch 8/10\n",
            "71/71 [==============================] - 105s 1s/step - loss: 0.5216 - root_mean_squared_error: 0.5257 - val_loss: 0.5805 - val_root_mean_squared_error: 0.5855\n",
            "Epoch 9/10\n",
            "71/71 [==============================] - 105s 1s/step - loss: 0.5155 - root_mean_squared_error: 0.5187 - val_loss: 0.5848 - val_root_mean_squared_error: 0.5902\n",
            "Epoch 00009: early stopping\n"
          ],
          "name": "stdout"
        },
        {
          "output_type": "stream",
          "text": [
            "WARNING:absl:Found untraced functions such as query_layer_call_and_return_conditional_losses, query_layer_call_fn, key_layer_call_and_return_conditional_losses, key_layer_call_fn, value_layer_call_and_return_conditional_losses while saving (showing 5 of 120). These functions will not be directly callable after loading.\n"
          ],
          "name": "stderr"
        },
        {
          "output_type": "stream",
          "text": [
            "INFO:tensorflow:Assets written to: saved_model_bag/1/assets\n"
          ],
          "name": "stdout"
        },
        {
          "output_type": "stream",
          "text": [
            "INFO:tensorflow:Assets written to: saved_model_bag/1/assets\n"
          ],
          "name": "stderr"
        },
        {
          "output_type": "stream",
          "text": [
            "2\n",
            "Epoch 1/10\n",
            "71/71 [==============================] - 111s 2s/step - loss: 1.1672 - root_mean_squared_error: 1.1872 - val_loss: 0.9123 - val_root_mean_squared_error: 0.9296\n",
            "Epoch 2/10\n",
            "71/71 [==============================] - 106s 1s/step - loss: 0.7341 - root_mean_squared_error: 0.7453 - val_loss: 0.6480 - val_root_mean_squared_error: 0.6537\n",
            "Epoch 3/10\n",
            "71/71 [==============================] - 106s 1s/step - loss: 0.5960 - root_mean_squared_error: 0.6012 - val_loss: 0.5971 - val_root_mean_squared_error: 0.6010\n",
            "Epoch 4/10\n",
            "71/71 [==============================] - 106s 1s/step - loss: 0.5688 - root_mean_squared_error: 0.5720 - val_loss: 0.5903 - val_root_mean_squared_error: 0.5944\n",
            "Epoch 5/10\n",
            "71/71 [==============================] - 105s 1s/step - loss: 0.5536 - root_mean_squared_error: 0.5579 - val_loss: 0.5822 - val_root_mean_squared_error: 0.5864\n",
            "Epoch 6/10\n",
            "71/71 [==============================] - 105s 1s/step - loss: 0.5380 - root_mean_squared_error: 0.5418 - val_loss: 0.5904 - val_root_mean_squared_error: 0.5959\n",
            "Epoch 7/10\n",
            "71/71 [==============================] - 105s 1s/step - loss: 0.5283 - root_mean_squared_error: 0.5332 - val_loss: 0.5805 - val_root_mean_squared_error: 0.5857\n",
            "Epoch 8/10\n",
            "71/71 [==============================] - 106s 1s/step - loss: 0.5223 - root_mean_squared_error: 0.5265 - val_loss: 0.5761 - val_root_mean_squared_error: 0.5808\n",
            "Epoch 9/10\n",
            "71/71 [==============================] - 105s 1s/step - loss: 0.5134 - root_mean_squared_error: 0.5185 - val_loss: 0.5768 - val_root_mean_squared_error: 0.5816\n",
            "Epoch 10/10\n",
            "71/71 [==============================] - 105s 1s/step - loss: 0.5130 - root_mean_squared_error: 0.5168 - val_loss: 0.5780 - val_root_mean_squared_error: 0.5830\n"
          ],
          "name": "stdout"
        },
        {
          "output_type": "stream",
          "text": [
            "WARNING:absl:Found untraced functions such as query_layer_call_and_return_conditional_losses, query_layer_call_fn, key_layer_call_and_return_conditional_losses, key_layer_call_fn, value_layer_call_and_return_conditional_losses while saving (showing 5 of 120). These functions will not be directly callable after loading.\n"
          ],
          "name": "stderr"
        },
        {
          "output_type": "stream",
          "text": [
            "INFO:tensorflow:Assets written to: saved_model_bag/2/assets\n"
          ],
          "name": "stdout"
        },
        {
          "output_type": "stream",
          "text": [
            "INFO:tensorflow:Assets written to: saved_model_bag/2/assets\n"
          ],
          "name": "stderr"
        },
        {
          "output_type": "stream",
          "text": [
            "3\n",
            "Epoch 1/10\n",
            "71/71 [==============================] - 110s 2s/step - loss: 1.1574 - root_mean_squared_error: 1.1760 - val_loss: 0.8964 - val_root_mean_squared_error: 0.9115\n",
            "Epoch 2/10\n",
            "71/71 [==============================] - 106s 1s/step - loss: 0.7120 - root_mean_squared_error: 0.7237 - val_loss: 0.6402 - val_root_mean_squared_error: 0.6449\n",
            "Epoch 3/10\n",
            "71/71 [==============================] - 105s 1s/step - loss: 0.6075 - root_mean_squared_error: 0.6134 - val_loss: 0.6076 - val_root_mean_squared_error: 0.6114\n",
            "Epoch 4/10\n",
            "71/71 [==============================] - 105s 1s/step - loss: 0.5748 - root_mean_squared_error: 0.5800 - val_loss: 0.5988 - val_root_mean_squared_error: 0.6027\n",
            "Epoch 5/10\n",
            "71/71 [==============================] - 105s 1s/step - loss: 0.5613 - root_mean_squared_error: 0.5660 - val_loss: 0.5851 - val_root_mean_squared_error: 0.5890\n",
            "Epoch 6/10\n",
            "71/71 [==============================] - 105s 1s/step - loss: 0.5451 - root_mean_squared_error: 0.5497 - val_loss: 0.5827 - val_root_mean_squared_error: 0.5872\n",
            "Epoch 7/10\n",
            "71/71 [==============================] - 106s 1s/step - loss: 0.5356 - root_mean_squared_error: 0.5400 - val_loss: 0.5803 - val_root_mean_squared_error: 0.5847\n",
            "Epoch 8/10\n",
            "71/71 [==============================] - 105s 1s/step - loss: 0.5251 - root_mean_squared_error: 0.5301 - val_loss: 0.5795 - val_root_mean_squared_error: 0.5841\n",
            "Epoch 9/10\n",
            "71/71 [==============================] - 105s 1s/step - loss: 0.5216 - root_mean_squared_error: 0.5257 - val_loss: 0.5780 - val_root_mean_squared_error: 0.5828\n",
            "Epoch 10/10\n",
            "71/71 [==============================] - 106s 1s/step - loss: 0.5175 - root_mean_squared_error: 0.5217 - val_loss: 0.5792 - val_root_mean_squared_error: 0.5842\n"
          ],
          "name": "stdout"
        },
        {
          "output_type": "stream",
          "text": [
            "WARNING:absl:Found untraced functions such as query_layer_call_and_return_conditional_losses, query_layer_call_fn, key_layer_call_and_return_conditional_losses, key_layer_call_fn, value_layer_call_and_return_conditional_losses while saving (showing 5 of 120). These functions will not be directly callable after loading.\n"
          ],
          "name": "stderr"
        },
        {
          "output_type": "stream",
          "text": [
            "INFO:tensorflow:Assets written to: saved_model_bag/3/assets\n"
          ],
          "name": "stdout"
        },
        {
          "output_type": "stream",
          "text": [
            "INFO:tensorflow:Assets written to: saved_model_bag/3/assets\n"
          ],
          "name": "stderr"
        },
        {
          "output_type": "stream",
          "text": [
            "4\n",
            "Epoch 1/10\n",
            "71/71 [==============================] - 110s 2s/step - loss: 1.1778 - root_mean_squared_error: 1.1990 - val_loss: 0.8886 - val_root_mean_squared_error: 0.9031\n",
            "Epoch 2/10\n",
            "71/71 [==============================] - 106s 1s/step - loss: 0.7141 - root_mean_squared_error: 0.7229 - val_loss: 0.6394 - val_root_mean_squared_error: 0.6442\n",
            "Epoch 3/10\n",
            "71/71 [==============================] - 105s 1s/step - loss: 0.5989 - root_mean_squared_error: 0.6048 - val_loss: 0.6032 - val_root_mean_squared_error: 0.6071\n",
            "Epoch 4/10\n",
            "71/71 [==============================] - 105s 1s/step - loss: 0.5722 - root_mean_squared_error: 0.5773 - val_loss: 0.5972 - val_root_mean_squared_error: 0.6008\n",
            "Epoch 5/10\n",
            "71/71 [==============================] - 106s 1s/step - loss: 0.5530 - root_mean_squared_error: 0.5584 - val_loss: 0.5842 - val_root_mean_squared_error: 0.5884\n",
            "Epoch 6/10\n",
            "71/71 [==============================] - 106s 1s/step - loss: 0.5364 - root_mean_squared_error: 0.5410 - val_loss: 0.5830 - val_root_mean_squared_error: 0.5870\n",
            "Epoch 7/10\n",
            "71/71 [==============================] - 105s 1s/step - loss: 0.5261 - root_mean_squared_error: 0.5304 - val_loss: 0.5811 - val_root_mean_squared_error: 0.5855\n",
            "Epoch 8/10\n",
            "71/71 [==============================] - 105s 1s/step - loss: 0.5204 - root_mean_squared_error: 0.5236 - val_loss: 0.5847 - val_root_mean_squared_error: 0.5901\n",
            "Epoch 9/10\n",
            "71/71 [==============================] - 105s 1s/step - loss: 0.5120 - root_mean_squared_error: 0.5164 - val_loss: 0.5808 - val_root_mean_squared_error: 0.5858\n",
            "Epoch 10/10\n",
            "71/71 [==============================] - 106s 1s/step - loss: 0.5116 - root_mean_squared_error: 0.5146 - val_loss: 0.5817 - val_root_mean_squared_error: 0.5869\n",
            "Epoch 00010: early stopping\n"
          ],
          "name": "stdout"
        },
        {
          "output_type": "stream",
          "text": [
            "WARNING:absl:Found untraced functions such as query_layer_call_and_return_conditional_losses, query_layer_call_fn, key_layer_call_and_return_conditional_losses, key_layer_call_fn, value_layer_call_and_return_conditional_losses while saving (showing 5 of 120). These functions will not be directly callable after loading.\n"
          ],
          "name": "stderr"
        },
        {
          "output_type": "stream",
          "text": [
            "INFO:tensorflow:Assets written to: saved_model_bag/4/assets\n"
          ],
          "name": "stdout"
        },
        {
          "output_type": "stream",
          "text": [
            "INFO:tensorflow:Assets written to: saved_model_bag/4/assets\n"
          ],
          "name": "stderr"
        }
      ]
    },
    {
      "cell_type": "code",
      "metadata": {
        "colab": {
          "base_uri": "https://localhost:8080/",
          "height": 35
        },
        "id": "n8iEa1LoGUBD",
        "outputId": "358aae90-a58e-4a76-b11a-3a55829b8ec4"
      },
      "source": [
        "name = \"saved_model_bag/\" + \"1\"\n",
        "name"
      ],
      "id": "n8iEa1LoGUBD",
      "execution_count": null,
      "outputs": [
        {
          "output_type": "execute_result",
          "data": {
            "application/vnd.google.colaboratory.intrinsic+json": {
              "type": "string"
            },
            "text/plain": [
              "'saved_model/1'"
            ]
          },
          "metadata": {
            "tags": []
          },
          "execution_count": 101
        }
      ]
    },
    {
      "cell_type": "code",
      "metadata": {
        "colab": {
          "base_uri": "https://localhost:8080/"
        },
        "id": "adGUvX4YHGB_",
        "outputId": "4030e975-cf80-497e-f90a-2a978dd466bb"
      },
      "source": [
        "!zip -r /content/bag5.zip /content/saved_model_bag"
      ],
      "id": "adGUvX4YHGB_",
      "execution_count": null,
      "outputs": [
        {
          "output_type": "stream",
          "text": [
            "  adding: content/saved_model_bag/ (stored 0%)\n",
            "  adding: content/saved_model_bag/4/ (stored 0%)\n",
            "  adding: content/saved_model_bag/4/variables/ (stored 0%)\n",
            "  adding: content/saved_model_bag/4/variables/variables.data-00000-of-00001 (deflated 7%)\n",
            "  adding: content/saved_model_bag/4/variables/variables.index (deflated 68%)\n",
            "  adding: content/saved_model_bag/4/assets/ (stored 0%)\n",
            "  adding: content/saved_model_bag/4/assets/30k-clean.model (deflated 49%)\n",
            "  adding: content/saved_model_bag/4/keras_metadata.pb (deflated 90%)\n",
            "  adding: content/saved_model_bag/4/saved_model.pb (deflated 91%)\n",
            "  adding: content/saved_model_bag/1/ (stored 0%)\n",
            "  adding: content/saved_model_bag/1/variables/ (stored 0%)\n",
            "  adding: content/saved_model_bag/1/variables/variables.data-00000-of-00001 (deflated 7%)\n",
            "  adding: content/saved_model_bag/1/variables/variables.index (deflated 68%)\n",
            "  adding: content/saved_model_bag/1/assets/ (stored 0%)\n",
            "  adding: content/saved_model_bag/1/assets/30k-clean.model (deflated 49%)\n",
            "  adding: content/saved_model_bag/1/keras_metadata.pb (deflated 90%)\n",
            "  adding: content/saved_model_bag/1/saved_model.pb (deflated 91%)\n",
            "  adding: content/saved_model_bag/3/ (stored 0%)\n",
            "  adding: content/saved_model_bag/3/variables/ (stored 0%)\n",
            "  adding: content/saved_model_bag/3/variables/variables.data-00000-of-00001 (deflated 7%)\n",
            "  adding: content/saved_model_bag/3/variables/variables.index (deflated 68%)\n",
            "  adding: content/saved_model_bag/3/assets/ (stored 0%)\n",
            "  adding: content/saved_model_bag/3/assets/30k-clean.model (deflated 49%)\n",
            "  adding: content/saved_model_bag/3/keras_metadata.pb (deflated 90%)\n",
            "  adding: content/saved_model_bag/3/saved_model.pb (deflated 91%)\n",
            "  adding: content/saved_model_bag/2/ (stored 0%)\n",
            "  adding: content/saved_model_bag/2/variables/ (stored 0%)\n",
            "  adding: content/saved_model_bag/2/variables/variables.data-00000-of-00001 (deflated 7%)\n",
            "  adding: content/saved_model_bag/2/variables/variables.index (deflated 68%)\n",
            "  adding: content/saved_model_bag/2/assets/ (stored 0%)\n",
            "  adding: content/saved_model_bag/2/assets/30k-clean.model (deflated 49%)\n",
            "  adding: content/saved_model_bag/2/keras_metadata.pb (deflated 90%)\n",
            "  adding: content/saved_model_bag/2/saved_model.pb (deflated 91%)\n",
            "  adding: content/saved_model_bag/0/ (stored 0%)\n",
            "  adding: content/saved_model_bag/0/variables/ (stored 0%)\n",
            "  adding: content/saved_model_bag/0/variables/variables.data-00000-of-00001 (deflated 7%)\n",
            "  adding: content/saved_model_bag/0/variables/variables.index (deflated 68%)\n",
            "  adding: content/saved_model_bag/0/assets/ (stored 0%)\n",
            "  adding: content/saved_model_bag/0/assets/30k-clean.model (deflated 49%)\n",
            "  adding: content/saved_model_bag/0/keras_metadata.pb (deflated 90%)\n",
            "  adding: content/saved_model_bag/0/saved_model.pb (deflated 91%)\n"
          ],
          "name": "stdout"
        }
      ]
    },
    {
      "cell_type": "code",
      "metadata": {
        "id": "HKdQZNQJr234"
      },
      "source": [
        "def netflix(es, ps, e0, l=.0001):\n",
        "    \"\"\"Combine predictions with the optimal weights to minimize RMSE.\n",
        "    Ref: Töscher, A., Jahrer, M., & Bell, R. M. (2009). The bigchaos solution to the netflix grand prize.\n",
        "    Args:\n",
        "        es (list of float): RMSEs of predictions\n",
        "        ps (list of np.array): predictions\n",
        "        e0 (float): RMSE of all zero prediction\n",
        "        l (float): lambda as in the ridge regression\n",
        "    Returns:\n",
        "        (tuple):\n",
        "            - (np.array): ensemble predictions\n",
        "            - (np.array): weights for input predictions\n",
        "    \"\"\"\n",
        "    m = len(es)\n",
        "    n = len(ps[0])\n",
        "\n",
        "    X = np.stack(ps).T\n",
        "    pTy = .5 * (n * e0**2 + (X**2).sum(axis=0) - n * np.array(es)**2)\n",
        "\n",
        "    w = np.linalg.pinv(X.T.dot(X) + l * n * np.eye(m)).dot(pTy)\n",
        "\n",
        "    return X.dot(w), w"
      ],
      "id": "HKdQZNQJr234",
      "execution_count": null,
      "outputs": []
    },
    {
      "cell_type": "code",
      "metadata": {
        "id": "aBYNup4kTJre"
      },
      "source": [
        "model_load_1 = tf.keras.models.load_model(\"/content/saved_model_bag/0\",  compile=False)\n",
        "model_load_2 = tf.keras.models.load_model(\"/content/saved_model_bag/1\",  compile=False)\n",
        "model_load_3 = tf.keras.models.load_model(\"/content/saved_model_bag/2\",  compile=False)\n",
        "model_load_4 = tf.keras.models.load_model(\"/content/saved_model_bag/3\",  compile=False)\n",
        "model_load_5 = tf.keras.models.load_model(\"/content/saved_model_bag/4\",  compile=False)"
      ],
      "id": "aBYNup4kTJre",
      "execution_count": null,
      "outputs": []
    },
    {
      "cell_type": "code",
      "metadata": {
        "id": "0rMdwCzqptmD"
      },
      "source": [
        "pred_1_s = model_load_1.predict(np.array(test_x))\n",
        "pred_2_s = model_load_2.predict(np.array(test_x))\n",
        "pred_3_s = model_load_3.predict(np.array(test_x))\n",
        "pred_4_s = model_load_4.predict(np.array(test_x))\n",
        "pred_5_s = model_load_5.predict(np.array(test_x))\n",
        "pred_1_s = np.reshape(pred_1_s, (pred_1_s.shape[0]))\n",
        "pred_2_s = np.reshape(pred_2_s, (pred_2_s.shape[0]))\n",
        "pred_3_s = np.reshape(pred_3_s, (pred_3_s.shape[0]))\n",
        "pred_4_s = np.reshape(pred_4_s, (pred_4_s.shape[0]))\n",
        "pred_5_s = np.reshape(pred_5_s, (pred_5_s.shape[0]))"
      ],
      "id": "0rMdwCzqptmD",
      "execution_count": null,
      "outputs": []
    },
    {
      "cell_type": "code",
      "metadata": {
        "colab": {
          "base_uri": "https://localhost:8080/"
        },
        "id": "Qzq6a228p-0r",
        "outputId": "79009285-a935-44e8-cb42-fe04e80537fd"
      },
      "source": [
        "a = root_mean_squared_error(pred_1_s, test_y).numpy()\n",
        "b = root_mean_squared_error(pred_2_s, test_y).numpy()\n",
        "c = root_mean_squared_error(pred_3_s, test_y).numpy()\n",
        "d = root_mean_squared_error(pred_4_s, test_y).numpy()\n",
        "e = root_mean_squared_error(pred_5_s, test_y).numpy()\n",
        "f = [a, b, c, d, e]\n",
        "f"
      ],
      "id": "Qzq6a228p-0r",
      "execution_count": null,
      "outputs": [
        {
          "output_type": "execute_result",
          "data": {
            "text/plain": [
              "[0.5429434463848567,\n",
              " 0.5446279706250821,\n",
              " 0.5379367576621794,\n",
              " 0.5418394598622831,\n",
              " 0.5425445277894885]"
            ]
          },
          "metadata": {
            "tags": []
          },
          "execution_count": 122
        }
      ]
    },
    {
      "cell_type": "code",
      "metadata": {
        "id": "fA7Z57GYskAU"
      },
      "source": [
        "e0 = root_mean_squared_error(test_y, np.zeros_like(test_y)).numpy()"
      ],
      "id": "fA7Z57GYskAU",
      "execution_count": null,
      "outputs": []
    },
    {
      "cell_type": "code",
      "metadata": {
        "id": "dG9xJEy3rtTx"
      },
      "source": [
        "p, w = netflix(f, [pred_1_s, pred_2_s, pred_3_s, pred_4_s, pred_5_s], e0, l=0.0001) "
      ],
      "id": "dG9xJEy3rtTx",
      "execution_count": null,
      "outputs": []
    },
    {
      "cell_type": "code",
      "metadata": {
        "colab": {
          "base_uri": "https://localhost:8080/"
        },
        "id": "ds1i8sjEupN0",
        "outputId": "43baeb9f-028f-4f99-a22a-4573b52e1a0f"
      },
      "source": [
        "p[1:10]"
      ],
      "id": "ds1i8sjEupN0",
      "execution_count": null,
      "outputs": [
        {
          "output_type": "execute_result",
          "data": {
            "text/plain": [
              "array([-1.54742703, -1.75596474, -1.12774306, -0.67281782, -3.03414249,\n",
              "       -2.04513398, -2.39564863, -0.66814153, -1.23250397])"
            ]
          },
          "metadata": {
            "tags": []
          },
          "execution_count": 148
        }
      ]
    },
    {
      "cell_type": "code",
      "metadata": {
        "colab": {
          "base_uri": "https://localhost:8080/"
        },
        "id": "M1of8Wa-sbAe",
        "outputId": "7f8d5379-ede6-495a-9954-5ae9a5648d7a"
      },
      "source": [
        "root_mean_squared_error(test_y, p).numpy()"
      ],
      "id": "M1of8Wa-sbAe",
      "execution_count": null,
      "outputs": [
        {
          "output_type": "execute_result",
          "data": {
            "text/plain": [
              "0.5340304066982201"
            ]
          },
          "metadata": {
            "tags": []
          },
          "execution_count": 134
        }
      ]
    },
    {
      "cell_type": "code",
      "metadata": {
        "id": "Km5keN86u2My"
      },
      "source": [
        "g = np.dot(kn,[pred_1_s, pred_2_s, pred_3_s, pred_4_s, pred_5_s])"
      ],
      "id": "Km5keN86u2My",
      "execution_count": null,
      "outputs": []
    },
    {
      "cell_type": "code",
      "metadata": {
        "colab": {
          "base_uri": "https://localhost:8080/"
        },
        "id": "RokLoZ1Qs_gb",
        "outputId": "2cc11441-3c3a-4ce2-fdc3-1640cc162300"
      },
      "source": [
        "sd = (w[0]*pred_1_s + w[1]*pred_2_s + w[2]*pred_3_s + w[3]*pred_4_s + w[4]*pred_5_s)/5\n",
        "sd[1:10]"
      ],
      "id": "RokLoZ1Qs_gb",
      "execution_count": null,
      "outputs": [
        {
          "output_type": "execute_result",
          "data": {
            "text/plain": [
              "array([-0.3094854 , -0.35119295, -0.22554862, -0.13456357, -0.6068285 ,\n",
              "       -0.4090268 , -0.47912973, -0.13362831, -0.2465008 ], dtype=float32)"
            ]
          },
          "metadata": {
            "tags": []
          },
          "execution_count": 151
        }
      ]
    },
    {
      "cell_type": "code",
      "metadata": {
        "colab": {
          "base_uri": "https://localhost:8080/"
        },
        "id": "1lp90z6OtDf9",
        "outputId": "be5db6e2-bb71-409a-ff36-786ddc137c2a"
      },
      "source": [
        "root_mean_squared_error(test_y, g).numpy()"
      ],
      "id": "1lp90z6OtDf9",
      "execution_count": null,
      "outputs": [
        {
          "output_type": "execute_result",
          "data": {
            "text/plain": [
              "0.5340304066982878"
            ]
          },
          "metadata": {
            "tags": []
          },
          "execution_count": 164
        }
      ]
    },
    {
      "cell_type": "code",
      "metadata": {
        "colab": {
          "base_uri": "https://localhost:8080/"
        },
        "id": "JXJvDLUttazN",
        "outputId": "1824c2b8-5c89-4df2-b199-c81d406b294a"
      },
      "source": [
        "np.zeros_like(test_y).shape"
      ],
      "id": "JXJvDLUttazN",
      "execution_count": null,
      "outputs": [
        {
          "output_type": "execute_result",
          "data": {
            "text/plain": [
              "(567,)"
            ]
          },
          "metadata": {
            "tags": []
          },
          "execution_count": 142
        }
      ]
    },
    {
      "cell_type": "code",
      "metadata": {
        "colab": {
          "base_uri": "https://localhost:8080/"
        },
        "id": "1wpuZEGpuD_4",
        "outputId": "db59872b-e107-4ad2-df89-04b2e8d2ca3c"
      },
      "source": [
        "w"
      ],
      "id": "1wpuZEGpuD_4",
      "execution_count": null,
      "outputs": [
        {
          "output_type": "execute_result",
          "data": {
            "text/plain": [
              "array([-0.30335415,  0.39361939,  1.26997993, -0.33299488, -0.08171325])"
            ]
          },
          "metadata": {
            "tags": []
          },
          "execution_count": 158
        }
      ]
    },
    {
      "cell_type": "code",
      "metadata": {
        "id": "NFjBlLhQuK56"
      },
      "source": [
        "kn = np.array([-0.30335415,  0.39361939,  1.26997993, -0.33299488, -0.08171325])"
      ],
      "id": "NFjBlLhQuK56",
      "execution_count": null,
      "outputs": []
    },
    {
      "cell_type": "code",
      "metadata": {
        "colab": {
          "base_uri": "https://localhost:8080/"
        },
        "id": "zRw87PjXxW4H",
        "outputId": "2cd8d32a-3bd9-49c8-92af-87fffeaf01a1"
      },
      "source": [
        "kn.shape"
      ],
      "id": "zRw87PjXxW4H",
      "execution_count": null,
      "outputs": [
        {
          "output_type": "execute_result",
          "data": {
            "text/plain": [
              "(5,)"
            ]
          },
          "metadata": {
            "tags": []
          },
          "execution_count": 161
        }
      ]
    },
    {
      "cell_type": "code",
      "metadata": {
        "id": "-LFjp2vdxazg"
      },
      "source": [
        ""
      ],
      "id": "-LFjp2vdxazg",
      "execution_count": null,
      "outputs": []
    }
  ]
}