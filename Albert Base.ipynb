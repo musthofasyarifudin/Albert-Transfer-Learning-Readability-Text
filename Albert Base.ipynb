{
 "cells": [
  {
   "cell_type": "code",
   "execution_count": 2,
   "id": "29b46fcf",
   "metadata": {
    "ExecuteTime": {
     "end_time": "2021-06-25T03:50:57.305574Z",
     "start_time": "2021-06-25T03:50:57.291573Z"
    }
   },
   "outputs": [],
   "source": [
    "import tensorflow as tf \n",
    "import tensorflow_hub as hub\n",
    "import tensorflow_text\n",
    "\n",
    "import pandas as pd\n",
    "import numpy as np\n",
    "\n",
    "\n",
    "from sklearn.model_selection import KFold\n",
    "from sklearn.model_selection import train_test_split, StratifiedKFold\n",
    "from sklearn.metrics import r2_score, mean_squared_error\n",
    "\n",
    "from official.nlp import optimization\n",
    "\n",
    "import matplotlib.pyplot as plt"
   ]
  },
  {
   "cell_type": "code",
   "execution_count": 3,
   "id": "fb09c83e",
   "metadata": {
    "ExecuteTime": {
     "end_time": "2021-06-25T03:50:58.132782Z",
     "start_time": "2021-06-25T03:50:57.810275Z"
    }
   },
   "outputs": [],
   "source": [
    "path =  \"E:/LOMBA/Kaggle/Comp/Coommon readilbility/\"\n",
    "train = pd.read_csv(path + 'train.csv')\n",
    "test = pd.read_csv(path + 'test.csv')\n",
    "sample_submission = pd.read_csv(path + 'sample_submission.csv')\n"
   ]
  },
  {
   "cell_type": "code",
   "execution_count": 4,
   "id": "63d5a3ae",
   "metadata": {
    "ExecuteTime": {
     "end_time": "2021-06-25T03:50:58.740582Z",
     "start_time": "2021-06-25T03:50:58.682601Z"
    }
   },
   "outputs": [],
   "source": [
    "train.head()\n",
    "text = train.excerpt.to_numpy()\n",
    "target = train.target.to_numpy()"
   ]
  },
  {
   "cell_type": "code",
   "execution_count": 5,
   "id": "5df951a4",
   "metadata": {
    "ExecuteTime": {
     "end_time": "2021-06-25T03:51:00.043573Z",
     "start_time": "2021-06-25T03:51:00.024887Z"
    }
   },
   "outputs": [],
   "source": [
    "def create_folds(data, target=\"target\", num_splits = 5): \n",
    "    data[\"kfold\"] = -1 \n",
    "    data = data.sample(frac=1).reset_index(drop=True)\n",
    "    \n",
    "    # Applying Sturg's rule to calculate the no. of bins for target\n",
    "    num_bins = int(1 + np.log2(len(data))) \n",
    "\n",
    "    data.loc[:, \"bins\"] = pd.cut(data[target], bins=num_bins, labels=False) \n",
    "    \n",
    "    kf = StratifiedKFold(n_splits=num_splits)\n",
    "    \n",
    "    for f, (t_, v_) in enumerate(kf.split(X=data, y=data.bins.values)): \n",
    "        data.loc[v_, 'kfold'] = f\n",
    "        \n",
    "    data = data.drop([\"bins\"], axis = 1)         \n",
    "    return data "
   ]
  },
  {
   "cell_type": "code",
   "execution_count": 7,
   "id": "fdac7fe0",
   "metadata": {
    "ExecuteTime": {
     "end_time": "2021-06-25T03:51:07.137175Z",
     "start_time": "2021-06-25T03:51:07.121177Z"
    }
   },
   "outputs": [
    {
     "data": {
      "text/plain": [
       "0    567\n",
       "2    567\n",
       "1    567\n",
       "3    567\n",
       "4    566\n",
       "Name: kfold, dtype: int64"
      ]
     },
     "execution_count": 7,
     "metadata": {},
     "output_type": "execute_result"
    }
   ],
   "source": [
    "cv_data_df = create_folds(train, target = 'target', num_splits = 5)\n",
    "cv_data_df.kfold.value_counts()"
   ]
  },
  {
   "cell_type": "code",
   "execution_count": 4,
   "id": "7486709e",
   "metadata": {
    "ExecuteTime": {
     "end_time": "2021-06-23T03:47:35.575564Z",
     "start_time": "2021-06-23T03:47:35.531426Z"
    }
   },
   "outputs": [
    {
     "data": {
      "text/plain": [
       "(2267,)"
      ]
     },
     "execution_count": 4,
     "metadata": {},
     "output_type": "execute_result"
    }
   ],
   "source": [
    "train_x, test_x, train_y, test_y = train_test_split(txt_clean, target, test_size=0.2, shuffle=True, random_state=42)\n",
    "np.array(train_x).shape"
   ]
  },
  {
   "cell_type": "code",
   "execution_count": 8,
   "id": "3fddd6d3",
   "metadata": {
    "ExecuteTime": {
     "end_time": "2021-06-25T03:51:18.514637Z",
     "start_time": "2021-06-25T03:51:09.986691Z"
    }
   },
   "outputs": [],
   "source": [
    "text_input = tf.keras.layers.Input(shape=(), dtype=tf.string)\n",
    "preprocessor = hub.KerasLayer(\n",
    "    \"http://tfhub.dev/tensorflow/albert_en_preprocess/3\")\n",
    "encoder_inputs = preprocessor(text_input)\n",
    "encoder = hub.KerasLayer(\n",
    "    \"https://tfhub.dev/tensorflow/albert_en_base/3\",\n",
    "    trainable=True)\n",
    "outputs = encoder(encoder_inputs)\n",
    "pooled_output = outputs[\"pooled_output\"]      # [batch_size, 768].\n",
    "sequence_output = outputs[\"sequence_output\"]"
   ]
  },
  {
   "cell_type": "code",
   "execution_count": 9,
   "id": "66337756",
   "metadata": {
    "ExecuteTime": {
     "end_time": "2021-06-25T03:52:58.776691Z",
     "start_time": "2021-06-25T03:52:58.419715Z"
    }
   },
   "outputs": [
    {
     "ename": "AttributeError",
     "evalue": "module 'tensorflow.keras.layers' has no attribute 'reshape'",
     "output_type": "error",
     "traceback": [
      "\u001b[1;31m---------------------------------------------------------------------------\u001b[0m",
      "\u001b[1;31mAttributeError\u001b[0m                            Traceback (most recent call last)",
      "\u001b[1;32m<ipython-input-9-062f0f044c53>\u001b[0m in \u001b[0;36m<module>\u001b[1;34m\u001b[0m\n\u001b[1;32m----> 1\u001b[1;33m \u001b[0mtf\u001b[0m\u001b[1;33m.\u001b[0m\u001b[0mkeras\u001b[0m\u001b[1;33m.\u001b[0m\u001b[0mlayers\u001b[0m\u001b[1;33m.\u001b[0m\u001b[0mreshape\u001b[0m\u001b[1;33m(\u001b[0m\u001b[1;33m(\u001b[0m\u001b[1;33m-\u001b[0m\u001b[1;36m1\u001b[0m\u001b[1;33m,\u001b[0m \u001b[1;36m768\u001b[0m\u001b[1;33m)\u001b[0m\u001b[1;33m)\u001b[0m\u001b[1;33m\u001b[0m\u001b[1;33m\u001b[0m\u001b[0m\n\u001b[0m",
      "\u001b[1;31mAttributeError\u001b[0m: module 'tensorflow.keras.layers' has no attribute 'reshape'"
     ]
    }
   ],
   "source": [
    "tf.keras.layers.reshape((-1, 768))"
   ]
  },
  {
   "cell_type": "code",
   "execution_count": 43,
   "id": "d0406dde",
   "metadata": {
    "ExecuteTime": {
     "end_time": "2021-06-23T06:49:34.220351Z",
     "start_time": "2021-06-23T06:49:34.206386Z"
    }
   },
   "outputs": [],
   "source": [
    "def albert_base():\n",
    "    text_input = tf.keras.layers.Input(shape=(), dtype=tf.string)\n",
    "    encoder_inputs = preprocessor(text_input)\n",
    "    outputs = encoder(encoder_inputs)\n",
    "    pooled_output = outputs[\"pooled_output\"]   \n",
    "    seq_output = outputs[\"sequence_output\"]  \n",
    "    pooled_output = tf.keras.layers.reshape((-1, 768))(pooled_output)\n",
    "    net = tf.keras.layers.Dropout(0.1)(pooled_output)\n",
    "    net = tf.keras.layers.Dense(10, activation=\"relu\")(net)\n",
    "    net = tf.keras.layers.Dense(1, name='regressor')(net)\n",
    "    model = tf.keras.models.Model(inputs=text_input, outputs=net, name=\"large_albert\")\n",
    "    return model"
   ]
  },
  {
   "cell_type": "code",
   "execution_count": 44,
   "id": "f3279c61",
   "metadata": {
    "ExecuteTime": {
     "end_time": "2021-06-23T06:49:34.392173Z",
     "start_time": "2021-06-23T06:49:34.222364Z"
    }
   },
   "outputs": [
    {
     "name": "stdout",
     "output_type": "stream",
     "text": [
      "Model: \"large_albert\"\n",
      "__________________________________________________________________________________________________\n",
      "Layer (type)                    Output Shape         Param #     Connected to                     \n",
      "==================================================================================================\n",
      "input_10 (InputLayer)           [(None,)]            0                                            \n",
      "__________________________________________________________________________________________________\n",
      "keras_layer_4 (KerasLayer)      {'input_mask': (None 0           input_10[0][0]                   \n",
      "__________________________________________________________________________________________________\n",
      "keras_layer_5 (KerasLayer)      {'default': (None, 7 11683584    keras_layer_4[1][0]              \n",
      "                                                                 keras_layer_4[1][1]              \n",
      "                                                                 keras_layer_4[1][2]              \n",
      "__________________________________________________________________________________________________\n",
      "dropout_6 (Dropout)             (None, 768)          0           keras_layer_5[1][13]             \n",
      "__________________________________________________________________________________________________\n",
      "dense_6 (Dense)                 (None, 10)           7690        dropout_6[0][0]                  \n",
      "__________________________________________________________________________________________________\n",
      "regressor (Dense)               (None, 1)            11          dense_6[0][0]                    \n",
      "==================================================================================================\n",
      "Total params: 11,691,285\n",
      "Trainable params: 11,691,285\n",
      "Non-trainable params: 0\n",
      "__________________________________________________________________________________________________\n"
     ]
    }
   ],
   "source": [
    "large_albert = albert_large_model()\n",
    "large_albert.summary()"
   ]
  },
  {
   "cell_type": "code",
   "execution_count": 38,
   "id": "62e16b51",
   "metadata": {
    "ExecuteTime": {
     "end_time": "2021-06-23T06:43:26.934857Z",
     "start_time": "2021-06-23T06:43:26.915856Z"
    }
   },
   "outputs": [],
   "source": [
    "epochs = 3\n",
    "batch_size = 32\n",
    "steps_per_epoch = round(1889//batch_size)\n",
    "num_train_steps = steps_per_epoch * epochs\n",
    "num_warmup_steps = int(0.1*num_train_steps)\n",
    "\n",
    "init_lr = 3e-5\n",
    "optimizer = optimization.create_optimizer(init_lr=init_lr,\n",
    "                                          num_train_steps=num_train_steps,\n",
    "                                          num_warmup_steps=num_warmup_steps,\n",
    "                                          optimizer_type='adamw')"
   ]
  },
  {
   "cell_type": "code",
   "execution_count": 26,
   "id": "c401a0b9",
   "metadata": {
    "ExecuteTime": {
     "end_time": "2021-06-23T06:39:02.194746Z",
     "start_time": "2021-06-23T06:39:02.176890Z"
    }
   },
   "outputs": [],
   "source": [
    "callbacks = tf.keras.callbacks.EarlyStopping(\n",
    "    monitor='val_root_mean_squared_error', min_delta=0.0001, patience=0, verbose=0,\n",
    "    mode='min')"
   ]
  },
  {
   "cell_type": "code",
   "execution_count": 27,
   "id": "2848de9b",
   "metadata": {
    "ExecuteTime": {
     "end_time": "2021-06-23T06:39:02.927482Z",
     "start_time": "2021-06-23T06:39:02.915426Z"
    }
   },
   "outputs": [],
   "source": [
    "large_albert.compile(optimizer=optimizer,\n",
    "                         loss=\"mean_squared_error\",\n",
    "                         metrics=tf.keras.metrics.RootMeanSquaredError())"
   ]
  },
  {
   "cell_type": "code",
   "execution_count": 45,
   "id": "8afc2f1f",
   "metadata": {
    "ExecuteTime": {
     "end_time": "2021-06-23T08:33:35.885493Z",
     "start_time": "2021-06-23T06:49:43.591548Z"
    }
   },
   "outputs": [
    {
     "name": "stdout",
     "output_type": "stream",
     "text": [
      "0\n",
      "(1889, 8) (945, 8)\n",
      "Epoch 1/2\n",
      "60/60 [==============================] - 940s 16s/step - loss: 0.6148 - root_mean_squared_error: 0.7841 - val_loss: 0.5068 - val_root_mean_squared_error: 0.7119\n",
      "Epoch 2/2\n",
      "60/60 [==============================] - 926s 15s/step - loss: 0.3862 - root_mean_squared_error: 0.6215 - val_loss: 0.3529 - val_root_mean_squared_error: 0.5940\n",
      "30/30 [==============================] - 133s 4s/step - loss: 0.3529 - root_mean_squared_error: 0.5940\n",
      "0.5940473675727844\n"
     ]
    },
    {
     "name": "stderr",
     "output_type": "stream",
     "text": [
      "WARNING:absl:Found untraced functions such as restored_function_body, restored_function_body, restored_function_body, restored_function_body, restored_function_body while saving (showing 5 of 90). These functions will not be directly callable after loading.\n"
     ]
    },
    {
     "name": "stdout",
     "output_type": "stream",
     "text": [
      "INFO:tensorflow:Assets written to: saved_model/4\\assets\n"
     ]
    },
    {
     "name": "stderr",
     "output_type": "stream",
     "text": [
      "INFO:tensorflow:Assets written to: saved_model/4\\assets\n"
     ]
    },
    {
     "name": "stdout",
     "output_type": "stream",
     "text": [
      "Best Iteration With RMSE 0.5940473675727844\n",
      "1\n",
      "(1889, 8) (945, 8)\n",
      "Epoch 1/2\n",
      "60/60 [==============================] - 935s 16s/step - loss: 0.6224 - root_mean_squared_error: 0.7889 - val_loss: 0.3739 - val_root_mean_squared_error: 0.6115\n",
      "Epoch 2/2\n",
      "60/60 [==============================] - 965s 16s/step - loss: 0.3450 - root_mean_squared_error: 0.5873 - val_loss: 0.3289 - val_root_mean_squared_error: 0.5735\n",
      "30/30 [==============================] - 139s 5s/step - loss: 0.3289 - root_mean_squared_error: 0.5735\n",
      "0.5735024809837341\n"
     ]
    },
    {
     "name": "stderr",
     "output_type": "stream",
     "text": [
      "WARNING:absl:Found untraced functions such as restored_function_body, restored_function_body, restored_function_body, restored_function_body, restored_function_body while saving (showing 5 of 90). These functions will not be directly callable after loading.\n"
     ]
    },
    {
     "name": "stdout",
     "output_type": "stream",
     "text": [
      "INFO:tensorflow:Assets written to: saved_model/4\\assets\n"
     ]
    },
    {
     "name": "stderr",
     "output_type": "stream",
     "text": [
      "INFO:tensorflow:Assets written to: saved_model/4\\assets\n"
     ]
    },
    {
     "name": "stdout",
     "output_type": "stream",
     "text": [
      "Best Iteration With RMSE 0.5735024809837341\n",
      "2\n",
      "(1890, 8) (944, 8)\n",
      "Epoch 1/2\n",
      "60/60 [==============================] - 1016s 17s/step - loss: 0.5108 - root_mean_squared_error: 0.7147 - val_loss: 0.3955 - val_root_mean_squared_error: 0.6289\n",
      "Epoch 2/2\n",
      "60/60 [==============================] - 1017s 17s/step - loss: 0.3001 - root_mean_squared_error: 0.5478 - val_loss: 0.2530 - val_root_mean_squared_error: 0.5030\n",
      "30/30 [==============================] - 139s 5s/step - loss: 0.2530 - root_mean_squared_error: 0.5030\n",
      "0.5029637217521667\n"
     ]
    },
    {
     "name": "stderr",
     "output_type": "stream",
     "text": [
      "WARNING:absl:Found untraced functions such as restored_function_body, restored_function_body, restored_function_body, restored_function_body, restored_function_body while saving (showing 5 of 90). These functions will not be directly callable after loading.\n"
     ]
    },
    {
     "name": "stdout",
     "output_type": "stream",
     "text": [
      "INFO:tensorflow:Assets written to: saved_model/4\\assets\n"
     ]
    },
    {
     "name": "stderr",
     "output_type": "stream",
     "text": [
      "INFO:tensorflow:Assets written to: saved_model/4\\assets\n"
     ]
    },
    {
     "name": "stdout",
     "output_type": "stream",
     "text": [
      "Best Iteration With RMSE 0.5029637217521667\n"
     ]
    }
   ],
   "source": [
    "str_score = 5\n",
    "for fold in range(3):\n",
    "    print (fold)\n",
    "    train_df = cv_data_df.loc[cv_data_df.kfold != fold].reset_index(drop = True)\n",
    "    val_df = cv_data_df.loc[cv_data_df.kfold == fold].reset_index(drop = True)\n",
    "    print (train_df.shape, val_df.shape)\n",
    "    \n",
    "    text = train_df.clean_txt\n",
    "    target = train_df.target\n",
    "    \n",
    "    text_val = val_df.clean_txt\n",
    "    target_val = val_df.target\n",
    "    \n",
    "    large_albert = albert_large_model()\n",
    "    \n",
    "    epochs = 2\n",
    "    batch_size = 32\n",
    "    steps_per_epoch = round(1889//batch_size)\n",
    "    num_train_steps = steps_per_epoch * epochs\n",
    "    num_warmup_steps = int(0.1*num_train_steps)\n",
    "\n",
    "    init_lr = 3e-5\n",
    "    optimizer = optimization.create_optimizer(init_lr=init_lr,\n",
    "                                              num_train_steps=num_train_steps,\n",
    "                                              num_warmup_steps=num_warmup_steps,\n",
    "                                              optimizer_type='adamw')\n",
    "    \n",
    "    large_albert.compile(optimizer=optimizer,\n",
    "                         loss=\"mean_squared_error\",\n",
    "                         metrics=tf.keras.metrics.RootMeanSquaredError())\n",
    "    large_albert.fit(x=np.array(text),\n",
    "                y=target,\n",
    "                validation_data=(np.array(text_val), target_val),\n",
    "                epochs=epochs,\n",
    "                batch_size= batch_size)\n",
    "    values_score = large_albert.evaluate(np.array(text_val), target_val)[1]\n",
    "    print (values_score)\n",
    "    if values_score < str_score:\n",
    "        large_albert.save(\"saved_model/4\")\n",
    "        str_score = values_score\n",
    "        print (\"Best Iteration \", fold, \" With RMSE \", values_score)"
   ]
  },
  {
   "cell_type": "code",
   "execution_count": 46,
   "id": "b9a69d29",
   "metadata": {
    "ExecuteTime": {
     "end_time": "2021-06-23T08:35:04.575164Z",
     "start_time": "2021-06-23T08:35:04.481171Z"
    }
   },
   "outputs": [
    {
     "name": "stdout",
     "output_type": "stream",
     "text": [
      "Model: \"large_albert\"\n",
      "__________________________________________________________________________________________________\n",
      "Layer (type)                    Output Shape         Param #     Connected to                     \n",
      "==================================================================================================\n",
      "input_14 (InputLayer)           [(None,)]            0                                            \n",
      "__________________________________________________________________________________________________\n",
      "keras_layer_4 (KerasLayer)      {'input_mask': (None 0           input_14[0][0]                   \n",
      "__________________________________________________________________________________________________\n",
      "keras_layer_5 (KerasLayer)      {'default': (None, 7 11683584    keras_layer_4[5][0]              \n",
      "                                                                 keras_layer_4[5][1]              \n",
      "                                                                 keras_layer_4[5][2]              \n",
      "__________________________________________________________________________________________________\n",
      "dropout_10 (Dropout)            (None, 768)          0           keras_layer_5[5][13]             \n",
      "__________________________________________________________________________________________________\n",
      "dense_10 (Dense)                (None, 10)           7690        dropout_10[0][0]                 \n",
      "__________________________________________________________________________________________________\n",
      "regressor (Dense)               (None, 1)            11          dense_10[0][0]                   \n",
      "==================================================================================================\n",
      "Total params: 11,691,285\n",
      "Trainable params: 11,691,285\n",
      "Non-trainable params: 0\n",
      "__________________________________________________________________________________________________\n"
     ]
    }
   ],
   "source": [
    "import tensorflow.keras.backend as K\n",
    "def root_mean_squared_error(y_true, y_pred):\n",
    "    return K.sqrt(K.mean(K.square(y_pred - y_true))) \n",
    "exp_albert = albert_large_model()\n",
    "epochs = 3\n",
    "batch_size = 32\n",
    "steps_per_epoch = round(1889//batch_size)\n",
    "num_train_steps = steps_per_epoch * epochs\n",
    "num_warmup_steps = int(0.1*num_train_steps)\n",
    "\n",
    "init_lr = 3e-5\n",
    "optimizer = optimization.create_optimizer(init_lr=init_lr,\n",
    "                                          num_train_steps=num_train_steps,\n",
    "                                          num_warmup_steps=num_warmup_steps,\n",
    "                                          optimizer_type='adamw')\n",
    "\n",
    "exp_albert.compile(optimizer=optimizer,\n",
    "                         loss=root_mean_squared_error,\n",
    "                         metrics=tf.keras.metrics.RootMeanSquaredError())\n",
    "exp_albert.summary()"
   ]
  },
  {
   "cell_type": "code",
   "execution_count": 48,
   "id": "3f2ff01b",
   "metadata": {
    "ExecuteTime": {
     "end_time": "2021-06-23T09:27:39.593169Z",
     "start_time": "2021-06-23T08:36:32.644292Z"
    }
   },
   "outputs": [
    {
     "name": "stdout",
     "output_type": "stream",
     "text": [
      "Epoch 1/3\n",
      "60/60 [==============================] - 1010s 17s/step - loss: 0.6286 - root_mean_squared_error: 0.6468 - val_loss: 0.6981 - val_root_mean_squared_error: 0.7029\n",
      "Epoch 2/3\n",
      "60/60 [==============================] - 1019s 17s/step - loss: 0.4852 - root_mean_squared_error: 0.4908 - val_loss: 0.5069 - val_root_mean_squared_error: 0.5137\n",
      "Epoch 3/3\n",
      "60/60 [==============================] - 1038s 17s/step - loss: 0.4003 - root_mean_squared_error: 0.4042 - val_loss: 0.5020 - val_root_mean_squared_error: 0.5082\n"
     ]
    },
    {
     "data": {
      "text/plain": [
       "<tensorflow.python.keras.callbacks.History at 0x1e291d54748>"
      ]
     },
     "execution_count": 48,
     "metadata": {},
     "output_type": "execute_result"
    }
   ],
   "source": [
    "exp_albert.fit(x=np.array(text),\n",
    "                y=target,\n",
    "                validation_data=(np.array(text_val), target_val),\n",
    "                epochs=epochs,\n",
    "                batch_size= batch_size)"
   ]
  },
  {
   "cell_type": "code",
   "execution_count": 50,
   "id": "b237abe2",
   "metadata": {
    "ExecuteTime": {
     "end_time": "2021-06-23T09:31:27.980760Z",
     "start_time": "2021-06-23T09:31:16.023927Z"
    }
   },
   "outputs": [
    {
     "name": "stderr",
     "output_type": "stream",
     "text": [
      "WARNING:absl:Found untraced functions such as restored_function_body, restored_function_body, restored_function_body, restored_function_body, restored_function_body while saving (showing 5 of 90). These functions will not be directly callable after loading.\n"
     ]
    },
    {
     "name": "stdout",
     "output_type": "stream",
     "text": [
      "INFO:tensorflow:Assets written to: saved_model/5\\assets\n"
     ]
    },
    {
     "name": "stderr",
     "output_type": "stream",
     "text": [
      "INFO:tensorflow:Assets written to: saved_model/5\\assets\n"
     ]
    }
   ],
   "source": [
    "exp_albert.save(\"saved_model/5\")"
   ]
  },
  {
   "cell_type": "code",
   "execution_count": 49,
   "id": "bc3160c4",
   "metadata": {
    "ExecuteTime": {
     "end_time": "2021-06-23T09:30:16.221768Z",
     "start_time": "2021-06-23T09:27:53.444803Z"
    }
   },
   "outputs": [
    {
     "name": "stdout",
     "output_type": "stream",
     "text": [
      "30/30 [==============================] - 143s 5s/step - loss: 0.5020 - root_mean_squared_error: 0.5082\n"
     ]
    },
    {
     "data": {
      "text/plain": [
       "[0.5020362138748169, 0.5082021355628967]"
      ]
     },
     "execution_count": 49,
     "metadata": {},
     "output_type": "execute_result"
    }
   ],
   "source": [
    "exp_albert.evaluate(np.array(text_val), target_val)"
   ]
  },
  {
   "cell_type": "code",
   "execution_count": 39,
   "id": "1b741b9f",
   "metadata": {
    "ExecuteTime": {
     "end_time": "2021-06-23T06:26:29.593050Z",
     "start_time": "2021-06-23T06:26:29.579052Z"
    }
   },
   "outputs": [
    {
     "data": {
      "text/plain": [
       "'2.5.0'"
      ]
     },
     "execution_count": 39,
     "metadata": {},
     "output_type": "execute_result"
    }
   ],
   "source": [
    "tf.__version__"
   ]
  },
  {
   "cell_type": "code",
   "execution_count": 43,
   "id": "cf9b8830",
   "metadata": {
    "ExecuteTime": {
     "end_time": "2021-06-23T06:28:09.255576Z",
     "start_time": "2021-06-23T06:28:02.665578Z"
    }
   },
   "outputs": [
    {
     "data": {
      "text/plain": [
       "<tensorflow.python.keras.engine.functional.Functional at 0x2755ea85550>"
      ]
     },
     "execution_count": 43,
     "metadata": {},
     "output_type": "execute_result"
    }
   ],
   "source": [
    "tf.keras.models.load_model(\n",
    "    \"saved_model/3\", custom_objects={\"AdamWeightDecay\": optimizer}\n",
    ")"
   ]
  },
  {
   "cell_type": "code",
   "execution_count": 47,
   "id": "f52d44ff",
   "metadata": {
    "ExecuteTime": {
     "end_time": "2021-06-23T06:30:45.830132Z",
     "start_time": "2021-06-23T06:30:45.807167Z"
    }
   },
   "outputs": [
    {
     "ename": "TypeError",
     "evalue": "load_model() got an unexpected keyword argument 'save_traces'",
     "output_type": "error",
     "traceback": [
      "\u001b[1;31m---------------------------------------------------------------------------\u001b[0m",
      "\u001b[1;31mTypeError\u001b[0m                                 Traceback (most recent call last)",
      "\u001b[1;32m<ipython-input-47-3b87ece7b917>\u001b[0m in \u001b[0;36m<module>\u001b[1;34m\u001b[0m\n\u001b[0;32m      1\u001b[0m tf.keras.models.load_model(\n\u001b[1;32m----> 2\u001b[1;33m    \"saved_model/albert_base.h5\", save_traces=True)\n\u001b[0m",
      "\u001b[1;31mTypeError\u001b[0m: load_model() got an unexpected keyword argument 'save_traces'"
     ]
    }
   ],
   "source": [
    "tf.keras.models.load_model(\n",
    "   \"saved_model/albert_base.h5\")"
   ]
  },
  {
   "cell_type": "code",
   "execution_count": null,
   "id": "a049ed11",
   "metadata": {},
   "outputs": [],
   "source": []
  }
 ],
 "metadata": {
  "kernelspec": {
   "display_name": "Python 3",
   "language": "python",
   "name": "python3"
  },
  "language_info": {
   "codemirror_mode": {
    "name": "ipython",
    "version": 3
   },
   "file_extension": ".py",
   "mimetype": "text/x-python",
   "name": "python",
   "nbconvert_exporter": "python",
   "pygments_lexer": "ipython3",
   "version": "3.7.3"
  },
  "toc": {
   "base_numbering": 1,
   "nav_menu": {},
   "number_sections": true,
   "sideBar": true,
   "skip_h1_title": false,
   "title_cell": "Table of Contents",
   "title_sidebar": "Contents",
   "toc_cell": false,
   "toc_position": {},
   "toc_section_display": true,
   "toc_window_display": false
  }
 },
 "nbformat": 4,
 "nbformat_minor": 5
}
